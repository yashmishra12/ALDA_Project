{
 "cells": [
  {
   "cell_type": "code",
   "execution_count": 1,
   "id": "89b1e912",
   "metadata": {},
   "outputs": [],
   "source": [
    "import numpy as np\n",
    "import pandas as pd\n",
    "import seaborn as sns\n",
    "import missingno as msno\n",
    "\n",
    "# pd.set_option('display.max_columns', None)\n",
    "# pd.set_option('display.max_rows', None)\n",
    "\n",
    "import matplotlib.pyplot as plt\n",
    "%matplotlib inline\n",
    "\n",
    "import warnings\n",
    "warnings.filterwarnings(\"ignore\")\n"
   ]
  },
  {
   "cell_type": "markdown",
   "id": "0dc4fcc3",
   "metadata": {},
   "source": [
    "### Reading CSV files"
   ]
  },
  {
   "cell_type": "code",
   "execution_count": 2,
   "id": "417166b2",
   "metadata": {},
   "outputs": [],
   "source": [
    "df_2014 = pd.read_csv(\"2014_Financial_Data.csv\")\n",
    "df_2015 = pd.read_csv(\"2015_Financial_Data.csv\")\n",
    "df_2016 = pd.read_csv(\"2016_Financial_Data.csv\")\n",
    "df_2017 = pd.read_csv(\"2017_Financial_Data.csv\")\n",
    "df_2018 = pd.read_csv(\"2018_Financial_Data.csv\")"
   ]
  },
  {
   "cell_type": "code",
   "execution_count": 3,
   "id": "6c0b3a05",
   "metadata": {},
   "outputs": [
    {
     "data": {
      "text/plain": [
       "(3808, 225)"
      ]
     },
     "execution_count": 3,
     "metadata": {},
     "output_type": "execute_result"
    }
   ],
   "source": [
    "df_2014.shape"
   ]
  },
  {
   "cell_type": "code",
   "execution_count": 4,
   "id": "7062fe92",
   "metadata": {},
   "outputs": [
    {
     "data": {
      "text/plain": [
       "(4120, 225)"
      ]
     },
     "execution_count": 4,
     "metadata": {},
     "output_type": "execute_result"
    }
   ],
   "source": [
    "df_2015.shape"
   ]
  },
  {
   "cell_type": "code",
   "execution_count": 5,
   "id": "5f6c24cf",
   "metadata": {},
   "outputs": [
    {
     "data": {
      "text/plain": [
       "(4797, 225)"
      ]
     },
     "execution_count": 5,
     "metadata": {},
     "output_type": "execute_result"
    }
   ],
   "source": [
    "df_2016.shape"
   ]
  },
  {
   "cell_type": "code",
   "execution_count": 6,
   "id": "2310974a",
   "metadata": {},
   "outputs": [
    {
     "data": {
      "text/plain": [
       "(4960, 225)"
      ]
     },
     "execution_count": 6,
     "metadata": {},
     "output_type": "execute_result"
    }
   ],
   "source": [
    "df_2017.shape"
   ]
  },
  {
   "cell_type": "code",
   "execution_count": 7,
   "id": "c5bccbe5",
   "metadata": {},
   "outputs": [
    {
     "data": {
      "text/plain": [
       "(4392, 225)"
      ]
     },
     "execution_count": 7,
     "metadata": {},
     "output_type": "execute_result"
    }
   ],
   "source": [
    "df_2018.shape"
   ]
  },
  {
   "cell_type": "code",
   "execution_count": 8,
   "id": "3e7edfe4",
   "metadata": {},
   "outputs": [],
   "source": [
    "df_2014['Year'] = 2014\n",
    "df_2015['Year'] = 2015\n",
    "df_2016['Year'] = 2016\n",
    "df_2017['Year'] = 2017\n",
    "df_2018['Year'] = 2018"
   ]
  },
  {
   "cell_type": "code",
   "execution_count": 11,
   "id": "1e6de3bf",
   "metadata": {},
   "outputs": [
    {
     "data": {
      "text/plain": [
       "Index(['Unnamed: 0', 'Revenue', 'Revenue Growth', 'Cost of Revenue',\n",
       "       'Gross Profit', 'R&D Expenses', 'SG&A Expense', 'Operating Expenses',\n",
       "       'Operating Income', 'Interest Expense',\n",
       "       ...\n",
       "       'Inventory Growth', 'Asset Growth', 'Book Value per Share Growth',\n",
       "       'Debt Growth', 'R&D Expense Growth', 'SG&A Expenses Growth', 'Sector',\n",
       "       '2015 PRICE VAR [%]', 'Class', 'Year'],\n",
       "      dtype='object', length=226)"
      ]
     },
     "execution_count": 11,
     "metadata": {},
     "output_type": "execute_result"
    }
   ],
   "source": [
    "df_2014.columns"
   ]
  },
  {
   "cell_type": "code",
   "execution_count": 12,
   "id": "55f0bb3a",
   "metadata": {},
   "outputs": [],
   "source": [
    "df_2014.rename(columns={'2015 PRICE VAR [%]':'Next_Year_Price_Var[%]'}, inplace=True)\n",
    "df_2015.rename(columns={'2016 PRICE VAR [%]':'Next_Year_Price_Var[%]'}, inplace=True)\n",
    "df_2016.rename(columns={'2017 PRICE VAR [%]':'Next_Year_Price_Var[%]'}, inplace=True)\n",
    "df_2017.rename(columns={'2018 PRICE VAR [%]':'Next_Year_Price_Var[%]'}, inplace=True)\n",
    "df_2018.rename(columns={'2019 PRICE VAR [%]':'Next_Year_Price_Var[%]'}, inplace=True)"
   ]
  },
  {
   "cell_type": "code",
   "execution_count": 13,
   "id": "cb3f64fc",
   "metadata": {},
   "outputs": [],
   "source": [
    "df = pd.concat([df_2014, df_2015, df_2016, df_2017, df_2018], axis = 0)"
   ]
  },
  {
   "cell_type": "code",
   "execution_count": 14,
   "id": "d421f7b4",
   "metadata": {
    "scrolled": true
   },
   "outputs": [
    {
     "data": {
      "text/plain": [
       "(22077, 226)"
      ]
     },
     "execution_count": 14,
     "metadata": {},
     "output_type": "execute_result"
    }
   ],
   "source": [
    "df.shape"
   ]
  },
  {
   "cell_type": "code",
   "execution_count": 15,
   "id": "693d720c",
   "metadata": {},
   "outputs": [
    {
     "data": {
      "text/plain": [
       "Index(['Unnamed: 0', 'Revenue', 'Revenue Growth', 'Cost of Revenue',\n",
       "       'Gross Profit', 'R&D Expenses', 'SG&A Expense', 'Operating Expenses',\n",
       "       'Operating Income', 'Interest Expense',\n",
       "       ...\n",
       "       'Inventory Growth', 'Asset Growth', 'Book Value per Share Growth',\n",
       "       'Debt Growth', 'R&D Expense Growth', 'SG&A Expenses Growth', 'Sector',\n",
       "       'Next_Year_Price_Var[%]', 'Class', 'Year'],\n",
       "      dtype='object', length=226)"
      ]
     },
     "execution_count": 15,
     "metadata": {},
     "output_type": "execute_result"
    }
   ],
   "source": [
    "df.columns"
   ]
  },
  {
   "cell_type": "code",
   "execution_count": null,
   "id": "a2143cbb",
   "metadata": {},
   "outputs": [],
   "source": []
  },
  {
   "cell_type": "code",
   "execution_count": null,
   "id": "dd3cca67",
   "metadata": {},
   "outputs": [],
   "source": []
  },
  {
   "cell_type": "code",
   "execution_count": 16,
   "id": "fecaae92",
   "metadata": {},
   "outputs": [],
   "source": [
    "df.rename(columns={\"Unnamed: 0\":\"Name\"}, inplace=True)"
   ]
  },
  {
   "cell_type": "code",
   "execution_count": null,
   "id": "6b60d0e4",
   "metadata": {},
   "outputs": [],
   "source": [
    "df.shape"
   ]
  },
  {
   "cell_type": "code",
   "execution_count": null,
   "id": "782debd6",
   "metadata": {
    "scrolled": true
   },
   "outputs": [],
   "source": [
    "df.info"
   ]
  },
  {
   "cell_type": "code",
   "execution_count": null,
   "id": "b535ac9b",
   "metadata": {
    "scrolled": true
   },
   "outputs": [],
   "source": [
    "df.describe()"
   ]
  },
  {
   "cell_type": "code",
   "execution_count": null,
   "id": "6425bd68",
   "metadata": {},
   "outputs": [],
   "source": [
    "## Converting \"Year\" in to one-hot encoding\n",
    "\n",
    "Year_status = pd.get_dummies(df.Year, drop_first=True)\n",
    "\n",
    "Year_status\n",
    "#Adding the result to the original housing dataframe\n",
    "\n",
    "df = pd.concat([df, Year_status], axis=1)\n",
    "\n",
    "# Droppig Sector Column\n",
    "# df.drop(\"Year\", axis=1, inplace=True)"
   ]
  },
  {
   "cell_type": "code",
   "execution_count": null,
   "id": "81b0b4a6",
   "metadata": {},
   "outputs": [],
   "source": [
    "df.head(2)"
   ]
  },
  {
   "cell_type": "code",
   "execution_count": null,
   "id": "b97003d6",
   "metadata": {},
   "outputs": [],
   "source": [
    "df.drop(\"Year\", axis=1, inplace=True)"
   ]
  },
  {
   "cell_type": "code",
   "execution_count": null,
   "id": "b3287d5a",
   "metadata": {},
   "outputs": [],
   "source": [
    "df.head()"
   ]
  },
  {
   "cell_type": "markdown",
   "id": "e11df549",
   "metadata": {},
   "source": [
    "### Understanding Null Value Distribution"
   ]
  },
  {
   "cell_type": "code",
   "execution_count": null,
   "id": "74c73038",
   "metadata": {},
   "outputs": [],
   "source": [
    "df.isnull().sum().sort_values(ascending=False)"
   ]
  },
  {
   "cell_type": "code",
   "execution_count": null,
   "id": "11e84870",
   "metadata": {},
   "outputs": [],
   "source": [
    "(df.isnull().sum() * 100 / len(df)).sort_values(ascending=False)"
   ]
  },
  {
   "cell_type": "code",
   "execution_count": null,
   "id": "394d00da",
   "metadata": {},
   "outputs": [],
   "source": [
    "(df.isnull().sum() * 100 / len(df)).sort_values(ascending=True).head(15)"
   ]
  },
  {
   "cell_type": "code",
   "execution_count": null,
   "id": "f7b26553",
   "metadata": {
    "scrolled": false
   },
   "outputs": [],
   "source": [
    "# all cols have some null values\n",
    "len(df.isnull().any())"
   ]
  },
  {
   "cell_type": "code",
   "execution_count": null,
   "id": "d0364177",
   "metadata": {},
   "outputs": [],
   "source": [
    "# No columns with all null values\n",
    "df.columns[df.isnull().all()]"
   ]
  },
  {
   "cell_type": "code",
   "execution_count": null,
   "id": "f4a783e6",
   "metadata": {},
   "outputs": [],
   "source": [
    "# Defining a funtion to add the count/frequency values as annotation to histogram.\n",
    "def annotate_graph(ax):\n",
    "    for bar in ax.patches:         \n",
    "        ax.annotate(format((bar.get_height()), '.0f'),                    \n",
    "                    (bar.get_x() + bar.get_width() / 2,  bar.get_height()),                    \n",
    "                    ha='center', va='center',                    \n",
    "                    size=10, xytext=(0, 8),                    \n",
    "                    textcoords='offset points')\n",
    "    return ax"
   ]
  },
  {
   "cell_type": "code",
   "execution_count": null,
   "id": "a37bf04f",
   "metadata": {},
   "outputs": [],
   "source": [
    "# Plotting histogram for the dataframe and columns having null values.\n",
    "plt.figure(figsize=(28,10))\n",
    "\n",
    "ax = sns.histplot(round((df.isnull().sum()/len(df.index) * 100).sort_values(ascending=False), 2))\n",
    "ax = annotate_graph(ax)\n",
    "\n",
    "ax.set(xticks=np.arange(0,101))\n",
    "ax.set(xlabel='Null value percentage', ylabel='Count of columns with null values')\n",
    "sns.despine()\n",
    "plt.tight_layout()"
   ]
  },
  {
   "cell_type": "code",
   "execution_count": null,
   "id": "5f11363b",
   "metadata": {},
   "outputs": [],
   "source": [
    "msno.matrix(df)"
   ]
  },
  {
   "cell_type": "code",
   "execution_count": null,
   "id": "5facd1e2",
   "metadata": {},
   "outputs": [],
   "source": [
    "# defining a function to get more than cutoff percent missing value\n",
    "\n",
    "def get_missing_value_percentage(cutoff):\n",
    "    y = pd.DataFrame( round((df.isnull().sum()/len(df.index) * 100).sort_values(ascending=False), 2))\n",
    "    y.rename(columns={0:\"Percentage\"}, inplace=True)\n",
    "    y2 = y[y.Percentage>cutoff]\n",
    "    return y2"
   ]
  },
  {
   "cell_type": "code",
   "execution_count": null,
   "id": "c6f68c7d",
   "metadata": {},
   "outputs": [],
   "source": [
    "# get columns with more than 70% missing values\n",
    "greater_than_70 = get_missing_value_percentage(70)"
   ]
  },
  {
   "cell_type": "code",
   "execution_count": null,
   "id": "bd5bca0d",
   "metadata": {},
   "outputs": [],
   "source": [
    "len(greater_than_70)"
   ]
  },
  {
   "cell_type": "code",
   "execution_count": null,
   "id": "a4dcad01",
   "metadata": {},
   "outputs": [],
   "source": [
    "greater_than_70"
   ]
  },
  {
   "cell_type": "code",
   "execution_count": null,
   "id": "fcae318f",
   "metadata": {},
   "outputs": [],
   "source": [
    "# get columns with more than 50% missing values\n",
    "greater_than_50 = get_missing_value_percentage(50)"
   ]
  },
  {
   "cell_type": "code",
   "execution_count": null,
   "id": "242e4d24",
   "metadata": {},
   "outputs": [],
   "source": [
    "greater_than_50"
   ]
  },
  {
   "cell_type": "code",
   "execution_count": null,
   "id": "d3e1e795",
   "metadata": {},
   "outputs": [],
   "source": [
    "# get columns with more than 20% missing values\n",
    "greater_than_20 = get_missing_value_percentage(20)\n",
    "greater_than_20"
   ]
  },
  {
   "cell_type": "markdown",
   "id": "fea906b8",
   "metadata": {},
   "source": [
    "### Removing Null Values"
   ]
  },
  {
   "cell_type": "code",
   "execution_count": null,
   "id": "1c31a6e1",
   "metadata": {},
   "outputs": [],
   "source": [
    "# function to drop cols which have more than 15% null values\n",
    "\n",
    "def remove_cols_with_nulls (df, threshold):\n",
    "    myCol = list(df.columns)\n",
    "    for col in myCol: \n",
    "        percentage = (df[col].isnull().sum()/len(df[col]))*100\n",
    "        if percentage>threshold:\n",
    "            df.drop(col, axis=1, inplace=True)"
   ]
  },
  {
   "cell_type": "code",
   "execution_count": null,
   "id": "9b32e4e5",
   "metadata": {},
   "outputs": [],
   "source": [
    "df.shape"
   ]
  },
  {
   "cell_type": "code",
   "execution_count": null,
   "id": "3799ac82",
   "metadata": {},
   "outputs": [],
   "source": [
    "remove_cols_with_nulls(df, 20)"
   ]
  },
  {
   "cell_type": "code",
   "execution_count": null,
   "id": "e6da6008",
   "metadata": {},
   "outputs": [],
   "source": [
    "df.shape"
   ]
  },
  {
   "cell_type": "code",
   "execution_count": null,
   "id": "9020a307",
   "metadata": {},
   "outputs": [],
   "source": [
    "len(df.columns[(df.isnull().any())])"
   ]
  },
  {
   "cell_type": "code",
   "execution_count": null,
   "id": "cd0fa1f5",
   "metadata": {},
   "outputs": [],
   "source": [
    "df.dropna(how='any',axis=0, inplace=True) "
   ]
  },
  {
   "cell_type": "code",
   "execution_count": null,
   "id": "c4bdaa40",
   "metadata": {},
   "outputs": [],
   "source": [
    "df.shape"
   ]
  },
  {
   "cell_type": "code",
   "execution_count": null,
   "id": "91c61210",
   "metadata": {},
   "outputs": [],
   "source": [
    "df.isnull().any().sum()"
   ]
  },
  {
   "cell_type": "code",
   "execution_count": null,
   "id": "cfd62e9d",
   "metadata": {},
   "outputs": [],
   "source": [
    "df.columns"
   ]
  },
  {
   "cell_type": "code",
   "execution_count": null,
   "id": "36f2efcf",
   "metadata": {},
   "outputs": [],
   "source": [
    "df.select_dtypes('number')"
   ]
  },
  {
   "cell_type": "code",
   "execution_count": null,
   "id": "54c7b349",
   "metadata": {},
   "outputs": [],
   "source": [
    "df['R&D Expenses'].value_counts()"
   ]
  },
  {
   "cell_type": "code",
   "execution_count": null,
   "id": "cae1bcb3",
   "metadata": {},
   "outputs": [],
   "source": [
    "df['R&D Expenses'].value_counts(normalize=True).sort_values(ascending=False)[0]"
   ]
  },
  {
   "cell_type": "code",
   "execution_count": null,
   "id": "f179bac2",
   "metadata": {},
   "outputs": [],
   "source": [
    "# more than 50% value of R&D expense is 0. Remove numeric cols with dominant values"
   ]
  },
  {
   "cell_type": "code",
   "execution_count": null,
   "id": "a7e1d178",
   "metadata": {},
   "outputs": [],
   "source": [
    "counter = 0\n",
    "for col in list(df.select_dtypes('number').columns):\n",
    "    try:  \n",
    "        val = df[col].value_counts(normalize=True).sort_values(ascending=False)[0]\n",
    "        if(val>0.5):\n",
    "            df.drop(col, axis=1, inplace=True)\n",
    "            counter = counter+1\n",
    "    except:\n",
    "        pass\n",
    "    \n",
    "print(\"Total Columns Deleted = \",counter)"
   ]
  },
  {
   "cell_type": "code",
   "execution_count": null,
   "id": "21f645b3",
   "metadata": {},
   "outputs": [],
   "source": [
    "df.shape"
   ]
  },
  {
   "cell_type": "code",
   "execution_count": null,
   "id": "161e56a6",
   "metadata": {},
   "outputs": [],
   "source": [
    "df.columns"
   ]
  },
  {
   "cell_type": "code",
   "execution_count": null,
   "id": "8f12d6ca",
   "metadata": {},
   "outputs": [],
   "source": [
    "df.drop(\"Name\", axis=1, inplace=True)"
   ]
  },
  {
   "cell_type": "code",
   "execution_count": null,
   "id": "0808c568",
   "metadata": {},
   "outputs": [],
   "source": [
    "df.columns"
   ]
  },
  {
   "cell_type": "code",
   "execution_count": null,
   "id": "339057f5",
   "metadata": {},
   "outputs": [],
   "source": [
    "df.select_dtypes(include='number')"
   ]
  },
  {
   "cell_type": "code",
   "execution_count": null,
   "id": "a1379dc9",
   "metadata": {},
   "outputs": [],
   "source": [
    "df.select_dtypes(include='object')"
   ]
  },
  {
   "cell_type": "code",
   "execution_count": null,
   "id": "5c3571e9",
   "metadata": {
    "scrolled": true
   },
   "outputs": [],
   "source": [
    "df.select_dtypes(include='number').shape"
   ]
  },
  {
   "cell_type": "code",
   "execution_count": null,
   "id": "10adb6e9",
   "metadata": {},
   "outputs": [],
   "source": [
    "df.select_dtypes(include='object').shape"
   ]
  },
  {
   "cell_type": "code",
   "execution_count": null,
   "id": "85dff6c1",
   "metadata": {},
   "outputs": [],
   "source": [
    "df.select_dtypes(include='category').shape"
   ]
  },
  {
   "cell_type": "code",
   "execution_count": null,
   "id": "1bb973a6",
   "metadata": {},
   "outputs": [],
   "source": [
    "df.shape"
   ]
  },
  {
   "cell_type": "code",
   "execution_count": null,
   "id": "56c92067",
   "metadata": {},
   "outputs": [],
   "source": [
    "# 155 cols ----> 154 number, 1 string"
   ]
  },
  {
   "cell_type": "code",
   "execution_count": null,
   "id": "ae853304",
   "metadata": {},
   "outputs": [],
   "source": [
    "df.Sector.value_counts()"
   ]
  },
  {
   "cell_type": "code",
   "execution_count": null,
   "id": "50906dd2",
   "metadata": {},
   "outputs": [],
   "source": [
    "sector_list = list(df.Sector.unique())"
   ]
  },
  {
   "cell_type": "code",
   "execution_count": null,
   "id": "a3e86e42",
   "metadata": {},
   "outputs": [],
   "source": [
    "sector_list"
   ]
  },
  {
   "cell_type": "code",
   "execution_count": null,
   "id": "cf81e6cc",
   "metadata": {},
   "outputs": [],
   "source": [
    "pd.get_dummies(df.Sector, drop_first=True)"
   ]
  },
  {
   "cell_type": "code",
   "execution_count": null,
   "id": "28005109",
   "metadata": {},
   "outputs": [],
   "source": [
    "Sector_status = pd.get_dummies(df.Sector, drop_first=True)\n",
    "\n",
    "#Adding the result to the original housing dataframe\n",
    "\n",
    "df = pd.concat([df, Sector_status], axis=1)\n"
   ]
  },
  {
   "cell_type": "code",
   "execution_count": null,
   "id": "a09f957b",
   "metadata": {},
   "outputs": [],
   "source": [
    "df.shape"
   ]
  },
  {
   "cell_type": "code",
   "execution_count": null,
   "id": "1dbf3fc4",
   "metadata": {},
   "outputs": [],
   "source": [
    "df.Energy.value_counts()"
   ]
  },
  {
   "cell_type": "code",
   "execution_count": null,
   "id": "3e31822b",
   "metadata": {},
   "outputs": [],
   "source": [
    "# Droppig Sector Column\n",
    "df.drop(\"Sector\", axis=1, inplace=True)"
   ]
  },
  {
   "cell_type": "markdown",
   "id": "8fa34152",
   "metadata": {},
   "source": [
    "# Removing columns with single value"
   ]
  },
  {
   "cell_type": "code",
   "execution_count": null,
   "id": "ccfbc59f",
   "metadata": {},
   "outputs": [],
   "source": [
    "def removeSingleValue (col):\n",
    "    length = len(df[col].value_counts())\n",
    "    if (length<2):\n",
    "        print(col)\n",
    "        df.drop(col, axis=1, inplace=True)"
   ]
  },
  {
   "cell_type": "code",
   "execution_count": null,
   "id": "c74486e1",
   "metadata": {},
   "outputs": [],
   "source": [
    "for col in df.columns:\n",
    "    removeSingleValue(col)"
   ]
  },
  {
   "cell_type": "code",
   "execution_count": null,
   "id": "591b577b",
   "metadata": {},
   "outputs": [],
   "source": [
    "num_col = list(df.dtypes[df.dtypes !='object'].index)"
   ]
  },
  {
   "cell_type": "code",
   "execution_count": null,
   "id": "930c3eb6",
   "metadata": {},
   "outputs": [],
   "source": [
    "len(num_col)"
   ]
  },
  {
   "cell_type": "code",
   "execution_count": null,
   "id": "9b9d7e73",
   "metadata": {},
   "outputs": [],
   "source": [
    "df.shape\n"
   ]
  },
  {
   "cell_type": "markdown",
   "id": "740d725a",
   "metadata": {},
   "source": [
    "# Outlier Treatment"
   ]
  },
  {
   "cell_type": "code",
   "execution_count": null,
   "id": "2217b3e4",
   "metadata": {},
   "outputs": [],
   "source": [
    "num_col = list(df.dtypes[df.dtypes !='object'].index)\n",
    "\n",
    "\n",
    "def drop_outliers(x, threshold):\n",
    "    list = []\n",
    "    for col in num_col:\n",
    "        Q1 = x[col].quantile(threshold/100)\n",
    "        Q3 = x[col].quantile(1 - threshold/100)\n",
    "        IQR = Q3-Q1\n",
    "        x =  x[(x[col] >= (Q1-(1.5*IQR))) & (x[col] <= (Q3+(1.5*IQR)))] \n",
    "    return x   \n",
    "\n"
   ]
  },
  {
   "cell_type": "code",
   "execution_count": null,
   "id": "477b1e33",
   "metadata": {},
   "outputs": [],
   "source": [
    "top_10_percentile = drop_outliers(df, 10)\n",
    "top_10_percentile.shape"
   ]
  },
  {
   "cell_type": "code",
   "execution_count": null,
   "id": "277fa231",
   "metadata": {},
   "outputs": [],
   "source": [
    "top_5_percentile = drop_outliers(df, 5)\n",
    "top_5_percentile.shape"
   ]
  },
  {
   "cell_type": "code",
   "execution_count": null,
   "id": "438229ce",
   "metadata": {},
   "outputs": [],
   "source": [
    "top_1_percentile = drop_outliers(df, 1)\n",
    "top_1_percentile.shape"
   ]
  },
  {
   "cell_type": "code",
   "execution_count": null,
   "id": "a7bb0d6a",
   "metadata": {},
   "outputs": [],
   "source": [
    "top_01_percentile = drop_outliers(df, 0.5)\n",
    "top_01_percentile.shape"
   ]
  },
  {
   "cell_type": "code",
   "execution_count": null,
   "id": "a4992639",
   "metadata": {},
   "outputs": [],
   "source": [
    "# Moving \"Class\" Column to end\n",
    "df['Result'] = df.Class\n",
    "df.drop(\"Class\", axis=1, inplace=True)\n",
    "df = df.rename(columns={\"Result\":\"Class\"})"
   ]
  },
  {
   "cell_type": "code",
   "execution_count": null,
   "id": "3db46365",
   "metadata": {
    "scrolled": true
   },
   "outputs": [],
   "source": [
    "df.head()"
   ]
  },
  {
   "cell_type": "code",
   "execution_count": null,
   "id": "131dedee",
   "metadata": {},
   "outputs": [],
   "source": []
  }
 ],
 "metadata": {
  "kernelspec": {
   "display_name": "Python 3",
   "language": "python",
   "name": "python3"
  },
  "language_info": {
   "codemirror_mode": {
    "name": "ipython",
    "version": 3
   },
   "file_extension": ".py",
   "mimetype": "text/x-python",
   "name": "python",
   "nbconvert_exporter": "python",
   "pygments_lexer": "ipython3",
   "version": "3.8.8"
  }
 },
 "nbformat": 4,
 "nbformat_minor": 5
}
