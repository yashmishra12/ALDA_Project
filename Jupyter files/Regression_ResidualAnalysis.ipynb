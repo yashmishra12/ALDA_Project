{
 "cells": [
  {
   "cell_type": "code",
   "execution_count": 1,
   "id": "87f7200c",
   "metadata": {
    "id": "87f7200c"
   },
   "outputs": [],
   "source": [
    "import numpy as np\n",
    "import pandas as pd\n",
    "import scipy\n",
    "import seaborn as sns\n",
    "\n",
    "import missingno as msno\n",
    "\n",
    "\n",
    "import matplotlib.pyplot as plt\n",
    "%matplotlib inline\n",
    "\n",
    "import warnings\n",
    "\n",
    "warnings.filterwarnings(\"ignore\")\n",
    "\n",
    "import sklearn.preprocessing\n",
    "from sklearn import metrics\n",
    "from sklearn.metrics import classification_report, confusion_matrix\n",
    "from sklearn.model_selection import KFold\n",
    "from sklearn.model_selection import cross_val_score\n",
    "from sklearn.model_selection import GridSearchCV\n",
    "from sklearn.naive_bayes import GaussianNB\n",
    "from sklearn.tree import DecisionTreeClassifier\n",
    "from sklearn.ensemble import RandomForestClassifier\n",
    "from sklearn.svm import SVC\n",
    "\n",
    "from sklearn.preprocessing import RobustScaler\n",
    "from sklearn.model_selection import train_test_split, GridSearchCV\n",
    "from sklearn.metrics import recall_score, accuracy_score, confusion_matrix, f1_score\n",
    "from sklearn.metrics import precision_score, auc, roc_auc_score, roc_curve, precision_recall_curve\n",
    "\n",
    "from sklearn.decomposition import PCA, IncrementalPCA\n",
    "from sklearn.svm import SVC\n",
    "from sklearn.tree import DecisionTreeClassifier\n",
    "from sklearn.ensemble import RandomForestClassifier, AdaBoostClassifier\n",
    "\n",
    "from sklearn.linear_model import Ridge, Lasso\n",
    "from sklearn.feature_selection import RFE\n",
    "\n",
    "from sklearn.linear_model import LogisticRegression\n",
    "import statsmodels.api as sm\n",
    "from sklearn import metrics\n",
    "\n",
    "from sklearn.metrics import mean_squared_error\n",
    "\n",
    "from sklearn.ensemble import GradientBoostingClassifier  #GBM algorithm\n",
    "# Training the model on the train data\n",
    "from sklearn.linear_model import LogisticRegression\n",
    "import statsmodels.api as sm\n",
    "from sklearn import metrics\n",
    "\n",
    "\n",
    "\n",
    "from scipy.stats.mstats import winsorize\n",
    "\n",
    "from sklearn.preprocessing import MinMaxScaler\n",
    "from sklearn.preprocessing import StandardScaler \n",
    "\n",
    "from sklearn.decomposition import PCA"
   ]
  },
  {
   "cell_type": "code",
   "execution_count": 2,
   "id": "1848b1b5",
   "metadata": {
    "id": "1848b1b5"
   },
   "outputs": [],
   "source": [
    "# !pip install lazypredict"
   ]
  },
  {
   "cell_type": "code",
   "execution_count": 3,
   "id": "2023c59c",
   "metadata": {
    "id": "2023c59c"
   },
   "outputs": [],
   "source": [
    "# !pip uninstall scikit-learn -y\n",
    "# # "
   ]
  },
  {
   "cell_type": "code",
   "execution_count": 4,
   "id": "08b35659",
   "metadata": {
    "id": "08b35659"
   },
   "outputs": [],
   "source": [
    "# !pip install scikit-learn==0.23.1"
   ]
  },
  {
   "cell_type": "markdown",
   "id": "974454cc",
   "metadata": {
    "id": "974454cc"
   },
   "source": [
    "### Reading CSV files"
   ]
  },
  {
   "cell_type": "code",
   "execution_count": 5,
   "id": "417166b2",
   "metadata": {
    "id": "417166b2"
   },
   "outputs": [],
   "source": [
    "df_2014 = pd.read_csv(\"2014_Financial_Data.csv\")\n",
    "df_2015 = pd.read_csv(\"2015_Financial_Data.csv\")\n",
    "df_2016 = pd.read_csv(\"2016_Financial_Data.csv\")\n",
    "df_2017 = pd.read_csv(\"2017_Financial_Data.csv\")\n",
    "df_2018 = pd.read_csv(\"2018_Financial_Data.csv\")"
   ]
  },
  {
   "cell_type": "code",
   "execution_count": 6,
   "id": "36fd4165",
   "metadata": {
    "id": "36fd4165"
   },
   "outputs": [],
   "source": [
    "nasdaq = pd.read_csv(\"nasdaq.csv\")"
   ]
  },
  {
   "cell_type": "code",
   "execution_count": 7,
   "id": "ef776a34",
   "metadata": {
    "colab": {
     "base_uri": "https://localhost:8080/"
    },
    "id": "ef776a34",
    "outputId": "560ed15c-25d2-4f2d-c75a-dca8f94909a7"
   },
   "outputs": [
    {
     "data": {
      "text/plain": [
       "(7998, 3)"
      ]
     },
     "execution_count": 7,
     "metadata": {},
     "output_type": "execute_result"
    }
   ],
   "source": [
    "nasdaq.shape"
   ]
  },
  {
   "cell_type": "code",
   "execution_count": 8,
   "id": "ec8e51af",
   "metadata": {
    "colab": {
     "base_uri": "https://localhost:8080/"
    },
    "id": "ec8e51af",
    "outputId": "e9fa0e56-8419-40a4-f979-2518fd02dc1e"
   },
   "outputs": [
    {
     "data": {
      "text/plain": [
       "Index(['Symbol', 'Name', 'Country'], dtype='object')"
      ]
     },
     "execution_count": 8,
     "metadata": {},
     "output_type": "execute_result"
    }
   ],
   "source": [
    "nasdaq.columns"
   ]
  },
  {
   "cell_type": "code",
   "execution_count": 9,
   "id": "40a61bf8",
   "metadata": {
    "colab": {
     "base_uri": "https://localhost:8080/",
     "height": 200
    },
    "id": "40a61bf8",
    "outputId": "890447c1-f901-4455-fb90-5810a2c7c096"
   },
   "outputs": [
    {
     "data": {
      "text/html": [
       "<div>\n",
       "<style scoped>\n",
       "    .dataframe tbody tr th:only-of-type {\n",
       "        vertical-align: middle;\n",
       "    }\n",
       "\n",
       "    .dataframe tbody tr th {\n",
       "        vertical-align: top;\n",
       "    }\n",
       "\n",
       "    .dataframe thead th {\n",
       "        text-align: right;\n",
       "    }\n",
       "</style>\n",
       "<table border=\"1\" class=\"dataframe\">\n",
       "  <thead>\n",
       "    <tr style=\"text-align: right;\">\n",
       "      <th></th>\n",
       "      <th>Symbol</th>\n",
       "      <th>Name</th>\n",
       "      <th>Country</th>\n",
       "    </tr>\n",
       "  </thead>\n",
       "  <tbody>\n",
       "    <tr>\n",
       "      <th>0</th>\n",
       "      <td>A</td>\n",
       "      <td>Agilent Technologies Inc. Common Stock</td>\n",
       "      <td>United States</td>\n",
       "    </tr>\n",
       "    <tr>\n",
       "      <th>1</th>\n",
       "      <td>AA</td>\n",
       "      <td>Alcoa Corporation Common Stock</td>\n",
       "      <td>NaN</td>\n",
       "    </tr>\n",
       "    <tr>\n",
       "      <th>2</th>\n",
       "      <td>AAC</td>\n",
       "      <td>Ares Acquisition Corporation Class A Ordinary ...</td>\n",
       "      <td>NaN</td>\n",
       "    </tr>\n",
       "    <tr>\n",
       "      <th>3</th>\n",
       "      <td>AACG</td>\n",
       "      <td>ATA Creativity Global American Depositary Shares</td>\n",
       "      <td>China</td>\n",
       "    </tr>\n",
       "    <tr>\n",
       "      <th>4</th>\n",
       "      <td>AACIU</td>\n",
       "      <td>Armada Acquisition Corp. I Unit</td>\n",
       "      <td>United States</td>\n",
       "    </tr>\n",
       "  </tbody>\n",
       "</table>\n",
       "</div>"
      ],
      "text/plain": [
       "  Symbol                                               Name        Country\n",
       "0      A             Agilent Technologies Inc. Common Stock  United States\n",
       "1     AA                    Alcoa Corporation Common Stock             NaN\n",
       "2    AAC  Ares Acquisition Corporation Class A Ordinary ...            NaN\n",
       "3   AACG   ATA Creativity Global American Depositary Shares          China\n",
       "4  AACIU                    Armada Acquisition Corp. I Unit  United States"
      ]
     },
     "execution_count": 9,
     "metadata": {},
     "output_type": "execute_result"
    }
   ],
   "source": [
    "nasdaq.head()"
   ]
  },
  {
   "cell_type": "code",
   "execution_count": 10,
   "id": "64455475",
   "metadata": {
    "id": "64455475"
   },
   "outputs": [],
   "source": [
    "nasdaq.drop('Name', axis=1, inplace=True)"
   ]
  },
  {
   "cell_type": "code",
   "execution_count": 11,
   "id": "6c0b3a05",
   "metadata": {
    "colab": {
     "base_uri": "https://localhost:8080/"
    },
    "id": "6c0b3a05",
    "outputId": "63e4bc3e-443e-442a-aa09-70b7d0434bae"
   },
   "outputs": [
    {
     "data": {
      "text/plain": [
       "(3808, 225)"
      ]
     },
     "execution_count": 11,
     "metadata": {},
     "output_type": "execute_result"
    }
   ],
   "source": [
    "df_2014.shape"
   ]
  },
  {
   "cell_type": "code",
   "execution_count": 12,
   "id": "7062fe92",
   "metadata": {
    "colab": {
     "base_uri": "https://localhost:8080/"
    },
    "id": "7062fe92",
    "outputId": "48652b1c-fba3-4a97-d5d1-e3b6a16f7097"
   },
   "outputs": [
    {
     "data": {
      "text/plain": [
       "(4120, 225)"
      ]
     },
     "execution_count": 12,
     "metadata": {},
     "output_type": "execute_result"
    }
   ],
   "source": [
    "df_2015.shape"
   ]
  },
  {
   "cell_type": "code",
   "execution_count": 13,
   "id": "5f6c24cf",
   "metadata": {
    "colab": {
     "base_uri": "https://localhost:8080/"
    },
    "id": "5f6c24cf",
    "outputId": "3333dd92-e7cc-439b-c3e4-2d158832f246"
   },
   "outputs": [
    {
     "data": {
      "text/plain": [
       "(4797, 225)"
      ]
     },
     "execution_count": 13,
     "metadata": {},
     "output_type": "execute_result"
    }
   ],
   "source": [
    "df_2016.shape"
   ]
  },
  {
   "cell_type": "code",
   "execution_count": 14,
   "id": "2310974a",
   "metadata": {
    "colab": {
     "base_uri": "https://localhost:8080/"
    },
    "id": "2310974a",
    "outputId": "ba89298c-14c2-4db5-fde5-e4421baaa35d"
   },
   "outputs": [
    {
     "data": {
      "text/plain": [
       "(4960, 225)"
      ]
     },
     "execution_count": 14,
     "metadata": {},
     "output_type": "execute_result"
    }
   ],
   "source": [
    "df_2017.shape"
   ]
  },
  {
   "cell_type": "code",
   "execution_count": 15,
   "id": "c5bccbe5",
   "metadata": {
    "colab": {
     "base_uri": "https://localhost:8080/"
    },
    "id": "c5bccbe5",
    "outputId": "e2400142-8573-4ba5-f731-72f2f45557ee"
   },
   "outputs": [
    {
     "data": {
      "text/plain": [
       "(4392, 225)"
      ]
     },
     "execution_count": 15,
     "metadata": {},
     "output_type": "execute_result"
    }
   ],
   "source": [
    "df_2018.shape"
   ]
  },
  {
   "cell_type": "code",
   "execution_count": 16,
   "id": "3e7edfe4",
   "metadata": {
    "id": "3e7edfe4"
   },
   "outputs": [],
   "source": [
    "df_2014['Year'] = 2014\n",
    "df_2015['Year'] = 2015\n",
    "df_2016['Year'] = 2016\n",
    "df_2017['Year'] = 2017\n",
    "df_2018['Year'] = 2018"
   ]
  },
  {
   "cell_type": "code",
   "execution_count": 17,
   "id": "1e6de3bf",
   "metadata": {
    "colab": {
     "base_uri": "https://localhost:8080/"
    },
    "id": "1e6de3bf",
    "outputId": "46ca9b71-bafd-42fb-e853-3daba56a66da"
   },
   "outputs": [
    {
     "data": {
      "text/plain": [
       "Index(['Unnamed: 0', 'Revenue', 'Revenue Growth', 'Cost of Revenue',\n",
       "       'Gross Profit', 'R&D Expenses', 'SG&A Expense', 'Operating Expenses',\n",
       "       'Operating Income', 'Interest Expense',\n",
       "       ...\n",
       "       'Inventory Growth', 'Asset Growth', 'Book Value per Share Growth',\n",
       "       'Debt Growth', 'R&D Expense Growth', 'SG&A Expenses Growth', 'Sector',\n",
       "       '2015 PRICE VAR [%]', 'Class', 'Year'],\n",
       "      dtype='object', length=226)"
      ]
     },
     "execution_count": 17,
     "metadata": {},
     "output_type": "execute_result"
    }
   ],
   "source": [
    "df_2014.columns"
   ]
  },
  {
   "cell_type": "code",
   "execution_count": 18,
   "id": "55f0bb3a",
   "metadata": {
    "id": "55f0bb3a"
   },
   "outputs": [],
   "source": [
    "df_2014.rename(columns={'2015 PRICE VAR [%]':'Next_Year_Price_Var[%]'}, inplace=True)\n",
    "df_2015.rename(columns={'2016 PRICE VAR [%]':'Next_Year_Price_Var[%]'}, inplace=True)\n",
    "df_2016.rename(columns={'2017 PRICE VAR [%]':'Next_Year_Price_Var[%]'}, inplace=True)\n",
    "df_2017.rename(columns={'2018 PRICE VAR [%]':'Next_Year_Price_Var[%]'}, inplace=True)\n",
    "df_2018.rename(columns={'2019 PRICE VAR [%]':'Next_Year_Price_Var[%]'}, inplace=True)"
   ]
  },
  {
   "cell_type": "code",
   "execution_count": 19,
   "id": "cb3f64fc",
   "metadata": {
    "id": "cb3f64fc"
   },
   "outputs": [],
   "source": [
    "df = pd.concat([df_2014, df_2015, df_2016, df_2017, df_2018], axis = 0)"
   ]
  },
  {
   "cell_type": "code",
   "execution_count": 20,
   "id": "d421f7b4",
   "metadata": {
    "colab": {
     "base_uri": "https://localhost:8080/"
    },
    "id": "d421f7b4",
    "outputId": "6994e4cc-62d0-4b5a-f284-396f98fba960",
    "scrolled": true
   },
   "outputs": [
    {
     "data": {
      "text/plain": [
       "(22077, 226)"
      ]
     },
     "execution_count": 20,
     "metadata": {},
     "output_type": "execute_result"
    }
   ],
   "source": [
    "df.shape"
   ]
  },
  {
   "cell_type": "code",
   "execution_count": 21,
   "id": "693d720c",
   "metadata": {
    "colab": {
     "base_uri": "https://localhost:8080/"
    },
    "id": "693d720c",
    "outputId": "684c4549-bf19-44f3-8871-37a0792a41e9"
   },
   "outputs": [
    {
     "data": {
      "text/plain": [
       "Index(['Unnamed: 0', 'Revenue', 'Revenue Growth', 'Cost of Revenue',\n",
       "       'Gross Profit', 'R&D Expenses', 'SG&A Expense', 'Operating Expenses',\n",
       "       'Operating Income', 'Interest Expense',\n",
       "       ...\n",
       "       'Inventory Growth', 'Asset Growth', 'Book Value per Share Growth',\n",
       "       'Debt Growth', 'R&D Expense Growth', 'SG&A Expenses Growth', 'Sector',\n",
       "       'Next_Year_Price_Var[%]', 'Class', 'Year'],\n",
       "      dtype='object', length=226)"
      ]
     },
     "execution_count": 21,
     "metadata": {},
     "output_type": "execute_result"
    }
   ],
   "source": [
    "df.columns"
   ]
  },
  {
   "cell_type": "code",
   "execution_count": 22,
   "id": "3596110b",
   "metadata": {
    "colab": {
     "base_uri": "https://localhost:8080/",
     "height": 426
    },
    "id": "3596110b",
    "outputId": "664c74e8-caf2-45fa-8fd4-cd25c05a4f11"
   },
   "outputs": [
    {
     "data": {
      "text/html": [
       "<div>\n",
       "<style scoped>\n",
       "    .dataframe tbody tr th:only-of-type {\n",
       "        vertical-align: middle;\n",
       "    }\n",
       "\n",
       "    .dataframe tbody tr th {\n",
       "        vertical-align: top;\n",
       "    }\n",
       "\n",
       "    .dataframe thead th {\n",
       "        text-align: right;\n",
       "    }\n",
       "</style>\n",
       "<table border=\"1\" class=\"dataframe\">\n",
       "  <thead>\n",
       "    <tr style=\"text-align: right;\">\n",
       "      <th></th>\n",
       "      <th>Unnamed: 0</th>\n",
       "      <th>Revenue</th>\n",
       "      <th>Revenue Growth</th>\n",
       "      <th>Cost of Revenue</th>\n",
       "      <th>Gross Profit</th>\n",
       "      <th>R&amp;D Expenses</th>\n",
       "      <th>SG&amp;A Expense</th>\n",
       "      <th>Operating Expenses</th>\n",
       "      <th>Operating Income</th>\n",
       "      <th>Interest Expense</th>\n",
       "      <th>...</th>\n",
       "      <th>Inventory Growth</th>\n",
       "      <th>Asset Growth</th>\n",
       "      <th>Book Value per Share Growth</th>\n",
       "      <th>Debt Growth</th>\n",
       "      <th>R&amp;D Expense Growth</th>\n",
       "      <th>SG&amp;A Expenses Growth</th>\n",
       "      <th>Sector</th>\n",
       "      <th>Next_Year_Price_Var[%]</th>\n",
       "      <th>Class</th>\n",
       "      <th>Year</th>\n",
       "    </tr>\n",
       "  </thead>\n",
       "  <tbody>\n",
       "    <tr>\n",
       "      <th>0</th>\n",
       "      <td>PG</td>\n",
       "      <td>7.440100e+10</td>\n",
       "      <td>-0.0713</td>\n",
       "      <td>3.903000e+10</td>\n",
       "      <td>3.537100e+10</td>\n",
       "      <td>0.000000e+00</td>\n",
       "      <td>2.146100e+10</td>\n",
       "      <td>2.146100e+10</td>\n",
       "      <td>1.391000e+10</td>\n",
       "      <td>7.090000e+08</td>\n",
       "      <td>...</td>\n",
       "      <td>-0.0217</td>\n",
       "      <td>0.0359</td>\n",
       "      <td>0.0316</td>\n",
       "      <td>0.1228</td>\n",
       "      <td>0.0000</td>\n",
       "      <td>-0.1746</td>\n",
       "      <td>Consumer Defensive</td>\n",
       "      <td>-9.323276</td>\n",
       "      <td>0</td>\n",
       "      <td>2014</td>\n",
       "    </tr>\n",
       "    <tr>\n",
       "      <th>1</th>\n",
       "      <td>VIPS</td>\n",
       "      <td>3.734148e+09</td>\n",
       "      <td>1.1737</td>\n",
       "      <td>2.805625e+09</td>\n",
       "      <td>9.285226e+08</td>\n",
       "      <td>1.083303e+08</td>\n",
       "      <td>3.441414e+08</td>\n",
       "      <td>7.939267e+08</td>\n",
       "      <td>1.345959e+08</td>\n",
       "      <td>1.214869e+07</td>\n",
       "      <td>...</td>\n",
       "      <td>NaN</td>\n",
       "      <td>NaN</td>\n",
       "      <td>NaN</td>\n",
       "      <td>NaN</td>\n",
       "      <td>1.6484</td>\n",
       "      <td>1.7313</td>\n",
       "      <td>Consumer Defensive</td>\n",
       "      <td>-25.512193</td>\n",
       "      <td>0</td>\n",
       "      <td>2014</td>\n",
       "    </tr>\n",
       "    <tr>\n",
       "      <th>2</th>\n",
       "      <td>KR</td>\n",
       "      <td>9.837500e+10</td>\n",
       "      <td>0.0182</td>\n",
       "      <td>7.813800e+10</td>\n",
       "      <td>2.023700e+10</td>\n",
       "      <td>0.000000e+00</td>\n",
       "      <td>1.519600e+10</td>\n",
       "      <td>1.751200e+10</td>\n",
       "      <td>2.725000e+09</td>\n",
       "      <td>4.430000e+08</td>\n",
       "      <td>...</td>\n",
       "      <td>0.0981</td>\n",
       "      <td>0.1886</td>\n",
       "      <td>0.3268</td>\n",
       "      <td>0.2738</td>\n",
       "      <td>0.0000</td>\n",
       "      <td>0.0234</td>\n",
       "      <td>Consumer Defensive</td>\n",
       "      <td>33.118297</td>\n",
       "      <td>1</td>\n",
       "      <td>2014</td>\n",
       "    </tr>\n",
       "    <tr>\n",
       "      <th>3</th>\n",
       "      <td>RAD</td>\n",
       "      <td>2.552641e+10</td>\n",
       "      <td>0.0053</td>\n",
       "      <td>1.820268e+10</td>\n",
       "      <td>7.323734e+09</td>\n",
       "      <td>0.000000e+00</td>\n",
       "      <td>6.561162e+09</td>\n",
       "      <td>6.586482e+09</td>\n",
       "      <td>7.372520e+08</td>\n",
       "      <td>4.245910e+08</td>\n",
       "      <td>...</td>\n",
       "      <td>-0.0510</td>\n",
       "      <td>-0.0189</td>\n",
       "      <td>0.1963</td>\n",
       "      <td>-0.0458</td>\n",
       "      <td>0.0000</td>\n",
       "      <td>-0.0060</td>\n",
       "      <td>Consumer Defensive</td>\n",
       "      <td>2.752291</td>\n",
       "      <td>1</td>\n",
       "      <td>2014</td>\n",
       "    </tr>\n",
       "    <tr>\n",
       "      <th>4</th>\n",
       "      <td>GIS</td>\n",
       "      <td>1.790960e+10</td>\n",
       "      <td>0.0076</td>\n",
       "      <td>1.153980e+10</td>\n",
       "      <td>6.369800e+09</td>\n",
       "      <td>0.000000e+00</td>\n",
       "      <td>3.474300e+09</td>\n",
       "      <td>3.412400e+09</td>\n",
       "      <td>2.957400e+09</td>\n",
       "      <td>3.024000e+08</td>\n",
       "      <td>...</td>\n",
       "      <td>0.0090</td>\n",
       "      <td>0.0215</td>\n",
       "      <td>0.0274</td>\n",
       "      <td>0.1025</td>\n",
       "      <td>0.0000</td>\n",
       "      <td>-0.0220</td>\n",
       "      <td>Consumer Defensive</td>\n",
       "      <td>12.897715</td>\n",
       "      <td>1</td>\n",
       "      <td>2014</td>\n",
       "    </tr>\n",
       "  </tbody>\n",
       "</table>\n",
       "<p>5 rows × 226 columns</p>\n",
       "</div>"
      ],
      "text/plain": [
       "  Unnamed: 0       Revenue  Revenue Growth  Cost of Revenue  Gross Profit  \\\n",
       "0         PG  7.440100e+10         -0.0713     3.903000e+10  3.537100e+10   \n",
       "1       VIPS  3.734148e+09          1.1737     2.805625e+09  9.285226e+08   \n",
       "2         KR  9.837500e+10          0.0182     7.813800e+10  2.023700e+10   \n",
       "3        RAD  2.552641e+10          0.0053     1.820268e+10  7.323734e+09   \n",
       "4        GIS  1.790960e+10          0.0076     1.153980e+10  6.369800e+09   \n",
       "\n",
       "   R&D Expenses  SG&A Expense  Operating Expenses  Operating Income  \\\n",
       "0  0.000000e+00  2.146100e+10        2.146100e+10      1.391000e+10   \n",
       "1  1.083303e+08  3.441414e+08        7.939267e+08      1.345959e+08   \n",
       "2  0.000000e+00  1.519600e+10        1.751200e+10      2.725000e+09   \n",
       "3  0.000000e+00  6.561162e+09        6.586482e+09      7.372520e+08   \n",
       "4  0.000000e+00  3.474300e+09        3.412400e+09      2.957400e+09   \n",
       "\n",
       "   Interest Expense  ...  Inventory Growth  Asset Growth  \\\n",
       "0      7.090000e+08  ...           -0.0217        0.0359   \n",
       "1      1.214869e+07  ...               NaN           NaN   \n",
       "2      4.430000e+08  ...            0.0981        0.1886   \n",
       "3      4.245910e+08  ...           -0.0510       -0.0189   \n",
       "4      3.024000e+08  ...            0.0090        0.0215   \n",
       "\n",
       "   Book Value per Share Growth  Debt Growth  R&D Expense Growth  \\\n",
       "0                       0.0316       0.1228              0.0000   \n",
       "1                          NaN          NaN              1.6484   \n",
       "2                       0.3268       0.2738              0.0000   \n",
       "3                       0.1963      -0.0458              0.0000   \n",
       "4                       0.0274       0.1025              0.0000   \n",
       "\n",
       "   SG&A Expenses Growth              Sector  Next_Year_Price_Var[%]  Class  \\\n",
       "0               -0.1746  Consumer Defensive               -9.323276      0   \n",
       "1                1.7313  Consumer Defensive              -25.512193      0   \n",
       "2                0.0234  Consumer Defensive               33.118297      1   \n",
       "3               -0.0060  Consumer Defensive                2.752291      1   \n",
       "4               -0.0220  Consumer Defensive               12.897715      1   \n",
       "\n",
       "   Year  \n",
       "0  2014  \n",
       "1  2014  \n",
       "2  2014  \n",
       "3  2014  \n",
       "4  2014  \n",
       "\n",
       "[5 rows x 226 columns]"
      ]
     },
     "execution_count": 22,
     "metadata": {},
     "output_type": "execute_result"
    }
   ],
   "source": [
    "df.head()"
   ]
  },
  {
   "cell_type": "code",
   "execution_count": 23,
   "id": "e1f9c204",
   "metadata": {
    "id": "e1f9c204"
   },
   "outputs": [],
   "source": [
    "df.rename(columns={\"Unnamed: 0\": \"Symbol\"}, inplace=True)\n",
    "# df_2014.rename(columns={'2015 PRICE VAR [%]':'Next_Year_Price_Var[%]'}, inplace=True)"
   ]
  },
  {
   "cell_type": "code",
   "execution_count": 24,
   "id": "a2e90a3b",
   "metadata": {
    "id": "a2e90a3b"
   },
   "outputs": [],
   "source": [
    "df = pd.merge(df, nasdaq, how=\"inner\", on=\"Symbol\")"
   ]
  },
  {
   "cell_type": "code",
   "execution_count": 25,
   "id": "e2a0f5d5",
   "metadata": {
    "colab": {
     "base_uri": "https://localhost:8080/"
    },
    "id": "e2a0f5d5",
    "outputId": "46ca76fa-d196-4b2f-df14-d99cb508d44d"
   },
   "outputs": [
    {
     "data": {
      "text/plain": [
       "(18703, 227)"
      ]
     },
     "execution_count": 25,
     "metadata": {},
     "output_type": "execute_result"
    }
   ],
   "source": [
    "df.shape"
   ]
  },
  {
   "cell_type": "code",
   "execution_count": 26,
   "id": "2eca153a",
   "metadata": {
    "colab": {
     "base_uri": "https://localhost:8080/",
     "height": 426
    },
    "id": "2eca153a",
    "outputId": "fa14c705-69c0-4477-d8d7-811db5e238a9"
   },
   "outputs": [
    {
     "data": {
      "text/html": [
       "<div>\n",
       "<style scoped>\n",
       "    .dataframe tbody tr th:only-of-type {\n",
       "        vertical-align: middle;\n",
       "    }\n",
       "\n",
       "    .dataframe tbody tr th {\n",
       "        vertical-align: top;\n",
       "    }\n",
       "\n",
       "    .dataframe thead th {\n",
       "        text-align: right;\n",
       "    }\n",
       "</style>\n",
       "<table border=\"1\" class=\"dataframe\">\n",
       "  <thead>\n",
       "    <tr style=\"text-align: right;\">\n",
       "      <th></th>\n",
       "      <th>Symbol</th>\n",
       "      <th>Revenue</th>\n",
       "      <th>Revenue Growth</th>\n",
       "      <th>Cost of Revenue</th>\n",
       "      <th>Gross Profit</th>\n",
       "      <th>R&amp;D Expenses</th>\n",
       "      <th>SG&amp;A Expense</th>\n",
       "      <th>Operating Expenses</th>\n",
       "      <th>Operating Income</th>\n",
       "      <th>Interest Expense</th>\n",
       "      <th>...</th>\n",
       "      <th>Asset Growth</th>\n",
       "      <th>Book Value per Share Growth</th>\n",
       "      <th>Debt Growth</th>\n",
       "      <th>R&amp;D Expense Growth</th>\n",
       "      <th>SG&amp;A Expenses Growth</th>\n",
       "      <th>Sector</th>\n",
       "      <th>Next_Year_Price_Var[%]</th>\n",
       "      <th>Class</th>\n",
       "      <th>Year</th>\n",
       "      <th>Country</th>\n",
       "    </tr>\n",
       "  </thead>\n",
       "  <tbody>\n",
       "    <tr>\n",
       "      <th>0</th>\n",
       "      <td>PG</td>\n",
       "      <td>7.440100e+10</td>\n",
       "      <td>-0.0713</td>\n",
       "      <td>3.903000e+10</td>\n",
       "      <td>3.537100e+10</td>\n",
       "      <td>0.0</td>\n",
       "      <td>2.146100e+10</td>\n",
       "      <td>2.146100e+10</td>\n",
       "      <td>1.391000e+10</td>\n",
       "      <td>709000000.0</td>\n",
       "      <td>...</td>\n",
       "      <td>0.0359</td>\n",
       "      <td>0.0316</td>\n",
       "      <td>0.1228</td>\n",
       "      <td>0.0</td>\n",
       "      <td>-0.1746</td>\n",
       "      <td>Consumer Defensive</td>\n",
       "      <td>-9.323276</td>\n",
       "      <td>0</td>\n",
       "      <td>2014</td>\n",
       "      <td>United States</td>\n",
       "    </tr>\n",
       "    <tr>\n",
       "      <th>1</th>\n",
       "      <td>PG</td>\n",
       "      <td>7.074900e+10</td>\n",
       "      <td>-0.0491</td>\n",
       "      <td>3.705600e+10</td>\n",
       "      <td>3.369300e+10</td>\n",
       "      <td>0.0</td>\n",
       "      <td>2.061600e+10</td>\n",
       "      <td>2.264400e+10</td>\n",
       "      <td>1.104900e+10</td>\n",
       "      <td>626000000.0</td>\n",
       "      <td>...</td>\n",
       "      <td>-0.1024</td>\n",
       "      <td>-0.1013</td>\n",
       "      <td>-0.1432</td>\n",
       "      <td>0.0</td>\n",
       "      <td>-0.0394</td>\n",
       "      <td>Consumer Defensive</td>\n",
       "      <td>10.809451</td>\n",
       "      <td>1</td>\n",
       "      <td>2015</td>\n",
       "      <td>United States</td>\n",
       "    </tr>\n",
       "    <tr>\n",
       "      <th>2</th>\n",
       "      <td>PG</td>\n",
       "      <td>6.529900e+10</td>\n",
       "      <td>-0.0770</td>\n",
       "      <td>3.290900e+10</td>\n",
       "      <td>3.239000e+10</td>\n",
       "      <td>0.0</td>\n",
       "      <td>1.894900e+10</td>\n",
       "      <td>1.894900e+10</td>\n",
       "      <td>1.344100e+10</td>\n",
       "      <td>579000000.0</td>\n",
       "      <td>...</td>\n",
       "      <td>-0.0182</td>\n",
       "      <td>-0.0627</td>\n",
       "      <td>0.0083</td>\n",
       "      <td>0.0</td>\n",
       "      <td>-0.0809</td>\n",
       "      <td>Consumer Defensive</td>\n",
       "      <td>12.532463</td>\n",
       "      <td>1</td>\n",
       "      <td>2016</td>\n",
       "      <td>United States</td>\n",
       "    </tr>\n",
       "    <tr>\n",
       "      <th>3</th>\n",
       "      <td>PG</td>\n",
       "      <td>6.505800e+10</td>\n",
       "      <td>-0.0037</td>\n",
       "      <td>3.263800e+10</td>\n",
       "      <td>3.242000e+10</td>\n",
       "      <td>0.0</td>\n",
       "      <td>1.865400e+10</td>\n",
       "      <td>1.865400e+10</td>\n",
       "      <td>1.376600e+10</td>\n",
       "      <td>465000000.0</td>\n",
       "      <td>...</td>\n",
       "      <td>-0.0529</td>\n",
       "      <td>0.0012</td>\n",
       "      <td>0.0325</td>\n",
       "      <td>0.0</td>\n",
       "      <td>-0.0156</td>\n",
       "      <td>Consumer Defensive</td>\n",
       "      <td>4.975151</td>\n",
       "      <td>1</td>\n",
       "      <td>2017</td>\n",
       "      <td>United States</td>\n",
       "    </tr>\n",
       "    <tr>\n",
       "      <th>4</th>\n",
       "      <td>PG</td>\n",
       "      <td>6.683200e+10</td>\n",
       "      <td>0.0273</td>\n",
       "      <td>3.443200e+10</td>\n",
       "      <td>3.240000e+10</td>\n",
       "      <td>0.0</td>\n",
       "      <td>1.903700e+10</td>\n",
       "      <td>1.903700e+10</td>\n",
       "      <td>1.336300e+10</td>\n",
       "      <td>506000000.0</td>\n",
       "      <td>...</td>\n",
       "      <td>-0.0174</td>\n",
       "      <td>-0.0357</td>\n",
       "      <td>-0.0097</td>\n",
       "      <td>0.0</td>\n",
       "      <td>0.0205</td>\n",
       "      <td>Consumer Defensive</td>\n",
       "      <td>40.680273</td>\n",
       "      <td>1</td>\n",
       "      <td>2018</td>\n",
       "      <td>United States</td>\n",
       "    </tr>\n",
       "  </tbody>\n",
       "</table>\n",
       "<p>5 rows × 227 columns</p>\n",
       "</div>"
      ],
      "text/plain": [
       "  Symbol       Revenue  Revenue Growth  Cost of Revenue  Gross Profit  \\\n",
       "0     PG  7.440100e+10         -0.0713     3.903000e+10  3.537100e+10   \n",
       "1     PG  7.074900e+10         -0.0491     3.705600e+10  3.369300e+10   \n",
       "2     PG  6.529900e+10         -0.0770     3.290900e+10  3.239000e+10   \n",
       "3     PG  6.505800e+10         -0.0037     3.263800e+10  3.242000e+10   \n",
       "4     PG  6.683200e+10          0.0273     3.443200e+10  3.240000e+10   \n",
       "\n",
       "   R&D Expenses  SG&A Expense  Operating Expenses  Operating Income  \\\n",
       "0           0.0  2.146100e+10        2.146100e+10      1.391000e+10   \n",
       "1           0.0  2.061600e+10        2.264400e+10      1.104900e+10   \n",
       "2           0.0  1.894900e+10        1.894900e+10      1.344100e+10   \n",
       "3           0.0  1.865400e+10        1.865400e+10      1.376600e+10   \n",
       "4           0.0  1.903700e+10        1.903700e+10      1.336300e+10   \n",
       "\n",
       "   Interest Expense  ...  Asset Growth  Book Value per Share Growth  \\\n",
       "0       709000000.0  ...        0.0359                       0.0316   \n",
       "1       626000000.0  ...       -0.1024                      -0.1013   \n",
       "2       579000000.0  ...       -0.0182                      -0.0627   \n",
       "3       465000000.0  ...       -0.0529                       0.0012   \n",
       "4       506000000.0  ...       -0.0174                      -0.0357   \n",
       "\n",
       "   Debt Growth  R&D Expense Growth  SG&A Expenses Growth              Sector  \\\n",
       "0       0.1228                 0.0               -0.1746  Consumer Defensive   \n",
       "1      -0.1432                 0.0               -0.0394  Consumer Defensive   \n",
       "2       0.0083                 0.0               -0.0809  Consumer Defensive   \n",
       "3       0.0325                 0.0               -0.0156  Consumer Defensive   \n",
       "4      -0.0097                 0.0                0.0205  Consumer Defensive   \n",
       "\n",
       "   Next_Year_Price_Var[%]  Class  Year        Country  \n",
       "0               -9.323276      0  2014  United States  \n",
       "1               10.809451      1  2015  United States  \n",
       "2               12.532463      1  2016  United States  \n",
       "3                4.975151      1  2017  United States  \n",
       "4               40.680273      1  2018  United States  \n",
       "\n",
       "[5 rows x 227 columns]"
      ]
     },
     "execution_count": 26,
     "metadata": {},
     "output_type": "execute_result"
    }
   ],
   "source": [
    "df.head()"
   ]
  },
  {
   "cell_type": "code",
   "execution_count": 27,
   "id": "42dec818",
   "metadata": {
    "colab": {
     "base_uri": "https://localhost:8080/"
    },
    "id": "42dec818",
    "outputId": "8c20ff54-f6fd-4e98-b822-6c780dedf546"
   },
   "outputs": [
    {
     "data": {
      "text/plain": [
       "United States     14964\n",
       "Canada              607\n",
       "China               389\n",
       "Israel              304\n",
       "United Kingdom      190\n",
       "Bermuda             156\n",
       "Netherlands         102\n",
       "Brazil               93\n",
       "Ireland              80\n",
       "Switzerland          76\n",
       "Greece               75\n",
       "Argentina            63\n",
       "Mexico               60\n",
       "India                53\n",
       "France               49\n",
       "Australia            46\n",
       "Taiwan               45\n",
       "South Korea          45\n",
       "Cayman Islands       45\n",
       "Germany              39\n",
       "Hong Kong            37\n",
       "Luxembourg           35\n",
       "South Africa         35\n",
       "Japan                35\n",
       "Chile                30\n",
       "Singapore            30\n",
       "Denmark              23\n",
       "Belgium              20\n",
       "Spain                20\n",
       "Monaco               15\n",
       "Colombia             15\n",
       "Puerto Rico          15\n",
       "Peru                 15\n",
       "Sweden               15\n",
       "Russia               10\n",
       "Curacao              10\n",
       "Italy                10\n",
       "Jersey               10\n",
       "Panama               10\n",
       "Turkey                5\n",
       "Cyprus                5\n",
       "Finland               5\n",
       "Macau                 5\n",
       "Guernsey              5\n",
       "Philippines           5\n",
       "New Zealand           5\n",
       "Indonesia             5\n",
       "Isle of Man           5\n",
       "Name: Country, dtype: int64"
      ]
     },
     "execution_count": 27,
     "metadata": {},
     "output_type": "execute_result"
    }
   ],
   "source": [
    "df.Country.value_counts()"
   ]
  },
  {
   "cell_type": "code",
   "execution_count": 28,
   "id": "68bbe8eb",
   "metadata": {
    "colab": {
     "base_uri": "https://localhost:8080/"
    },
    "id": "68bbe8eb",
    "outputId": "47b46b4f-dc89-4e05-f888-a9aa76ec5742"
   },
   "outputs": [
    {
     "data": {
      "text/plain": [
       "787"
      ]
     },
     "execution_count": 28,
     "metadata": {},
     "output_type": "execute_result"
    }
   ],
   "source": [
    "df.Country.isnull().sum()"
   ]
  },
  {
   "cell_type": "code",
   "execution_count": null,
   "id": "c5be7d19",
   "metadata": {
    "id": "c5be7d19"
   },
   "outputs": [],
   "source": []
  },
  {
   "cell_type": "code",
   "execution_count": 29,
   "id": "0a553415",
   "metadata": {
    "id": "0a553415"
   },
   "outputs": [],
   "source": [
    "#Next_Year_Price_Var[%] +ve ---> class = 1, if -ve -----> class = 0\n",
    "# df.drop('Next_Year_Price_Var[%]', axis=1, inplace=True)"
   ]
  },
  {
   "cell_type": "code",
   "execution_count": 30,
   "id": "fecaae92",
   "metadata": {
    "id": "fecaae92"
   },
   "outputs": [],
   "source": [
    "df.rename(columns={\"Symbol\":\"Name\"}, inplace=True)"
   ]
  },
  {
   "cell_type": "code",
   "execution_count": 31,
   "id": "1de3b4ab",
   "metadata": {
    "colab": {
     "base_uri": "https://localhost:8080/"
    },
    "id": "1de3b4ab",
    "outputId": "032be44a-24a0-4c97-a02b-37209b8a2332"
   },
   "outputs": [
    {
     "data": {
      "text/plain": [
       "4116"
      ]
     },
     "execution_count": 31,
     "metadata": {},
     "output_type": "execute_result"
    }
   ],
   "source": [
    "df.Name.nunique()"
   ]
  },
  {
   "cell_type": "code",
   "execution_count": 32,
   "id": "6b60d0e4",
   "metadata": {
    "colab": {
     "base_uri": "https://localhost:8080/"
    },
    "id": "6b60d0e4",
    "outputId": "b948161b-53d7-4cf1-b9fd-263cbbaa69d4"
   },
   "outputs": [
    {
     "data": {
      "text/plain": [
       "(18703, 227)"
      ]
     },
     "execution_count": 32,
     "metadata": {},
     "output_type": "execute_result"
    }
   ],
   "source": [
    "df.shape"
   ]
  },
  {
   "cell_type": "code",
   "execution_count": 33,
   "id": "782debd6",
   "metadata": {
    "colab": {
     "base_uri": "https://localhost:8080/"
    },
    "id": "782debd6",
    "outputId": "30c18ed8-bbc8-4bd8-e91e-2c942c71671b",
    "scrolled": true
   },
   "outputs": [
    {
     "data": {
      "text/plain": [
       "<bound method DataFrame.info of         Name       Revenue  Revenue Growth  Cost of Revenue  Gross Profit  \\\n",
       "0         PG  7.440100e+10         -0.0713     3.903000e+10  3.537100e+10   \n",
       "1         PG  7.074900e+10         -0.0491     3.705600e+10  3.369300e+10   \n",
       "2         PG  6.529900e+10         -0.0770     3.290900e+10  3.239000e+10   \n",
       "3         PG  6.505800e+10         -0.0037     3.263800e+10  3.242000e+10   \n",
       "4         PG  6.683200e+10          0.0273     3.443200e+10  3.240000e+10   \n",
       "...      ...           ...             ...              ...           ...   \n",
       "18698    BAK  1.494842e+10          0.0047     1.196681e+10  2.981610e+09   \n",
       "18699    DNB  3.011000e+09             NaN     2.325000e+09  6.860000e+08   \n",
       "18700   HYAC           NaN             NaN              NaN           NaN   \n",
       "18701  HYACU           NaN             NaN              NaN           NaN   \n",
       "18702    LCA  0.000000e+00          0.0000     0.000000e+00  0.000000e+00   \n",
       "\n",
       "       R&D Expenses  SG&A Expense  Operating Expenses  Operating Income  \\\n",
       "0      0.000000e+00  2.146100e+10        2.146100e+10      1.391000e+10   \n",
       "1      0.000000e+00  2.061600e+10        2.264400e+10      1.104900e+10   \n",
       "2      0.000000e+00  1.894900e+10        1.894900e+10      1.344100e+10   \n",
       "3      0.000000e+00  1.865400e+10        1.865400e+10      1.376600e+10   \n",
       "4      0.000000e+00  1.903700e+10        1.903700e+10      1.336300e+10   \n",
       "...             ...           ...                 ...               ...   \n",
       "18698  5.150026e+07  8.192193e+08        8.473041e+08      2.134306e+09   \n",
       "18699           NaN  6.230000e+08        6.100000e+08      7.600000e+07   \n",
       "18700           NaN           NaN        5.000000e+06     -5.000000e+06   \n",
       "18701           NaN           NaN        5.000000e+06     -5.000000e+06   \n",
       "18702  0.000000e+00  0.000000e+00        0.000000e+00      0.000000e+00   \n",
       "\n",
       "       Interest Expense  ...  Asset Growth  Book Value per Share Growth  \\\n",
       "0          7.090000e+08  ...        0.0359                       0.0316   \n",
       "1          6.260000e+08  ...       -0.1024                      -0.1013   \n",
       "2          5.790000e+08  ...       -0.0182                      -0.0627   \n",
       "3          4.650000e+08  ...       -0.0529                       0.0012   \n",
       "4          5.060000e+08  ...       -0.0174                      -0.0357   \n",
       "...                 ...  ...           ...                          ...   \n",
       "18698      7.751420e+08  ...       -0.0483                      -0.1154   \n",
       "18699      9.400000e+07  ...           NaN                          NaN   \n",
       "18700               NaN  ...           NaN                          NaN   \n",
       "18701               NaN  ...           NaN                          NaN   \n",
       "18702      0.000000e+00  ...        0.0000                       0.0000   \n",
       "\n",
       "       Debt Growth  R&D Expense Growth  SG&A Expenses Growth  \\\n",
       "0           0.1228              0.0000               -0.1746   \n",
       "1          -0.1432              0.0000               -0.0394   \n",
       "2           0.0083              0.0000               -0.0809   \n",
       "3           0.0325              0.0000               -0.0156   \n",
       "4          -0.0097              0.0000                0.0205   \n",
       "...            ...                 ...                   ...   \n",
       "18698      -0.0796              0.0183               -0.0627   \n",
       "18699          NaN                 NaN                   NaN   \n",
       "18700          NaN                 NaN                   NaN   \n",
       "18701          NaN                 NaN                   NaN   \n",
       "18702       0.0000              0.0000                0.0000   \n",
       "\n",
       "                   Sector  Next_Year_Price_Var[%]  Class  Year        Country  \n",
       "0      Consumer Defensive               -9.323276      0  2014  United States  \n",
       "1      Consumer Defensive               10.809451      1  2015  United States  \n",
       "2      Consumer Defensive               12.532463      1  2016  United States  \n",
       "3      Consumer Defensive                4.975151      1  2017  United States  \n",
       "4      Consumer Defensive               40.680273      1  2018  United States  \n",
       "...                   ...                     ...    ...   ...            ...  \n",
       "18698     Basic Materials              -44.652205      0  2018         Brazil  \n",
       "18699         Industrials                1.123204      1  2018  United States  \n",
       "18700         Industrials                1.525253      1  2018  United States  \n",
       "18701         Industrials                3.960392      1  2018  United States  \n",
       "18702         Industrials                1.333335      1  2018  United States  \n",
       "\n",
       "[18703 rows x 227 columns]>"
      ]
     },
     "execution_count": 33,
     "metadata": {},
     "output_type": "execute_result"
    }
   ],
   "source": [
    "df.info"
   ]
  },
  {
   "cell_type": "code",
   "execution_count": 34,
   "id": "b535ac9b",
   "metadata": {
    "colab": {
     "base_uri": "https://localhost:8080/",
     "height": 436
    },
    "id": "b535ac9b",
    "outputId": "7e9fe037-1506-455c-a46e-ee6afc9d226e",
    "scrolled": true
   },
   "outputs": [
    {
     "data": {
      "text/html": [
       "<div>\n",
       "<style scoped>\n",
       "    .dataframe tbody tr th:only-of-type {\n",
       "        vertical-align: middle;\n",
       "    }\n",
       "\n",
       "    .dataframe tbody tr th {\n",
       "        vertical-align: top;\n",
       "    }\n",
       "\n",
       "    .dataframe thead th {\n",
       "        text-align: right;\n",
       "    }\n",
       "</style>\n",
       "<table border=\"1\" class=\"dataframe\">\n",
       "  <thead>\n",
       "    <tr style=\"text-align: right;\">\n",
       "      <th></th>\n",
       "      <th>Revenue</th>\n",
       "      <th>Revenue Growth</th>\n",
       "      <th>Cost of Revenue</th>\n",
       "      <th>Gross Profit</th>\n",
       "      <th>R&amp;D Expenses</th>\n",
       "      <th>SG&amp;A Expense</th>\n",
       "      <th>Operating Expenses</th>\n",
       "      <th>Operating Income</th>\n",
       "      <th>Interest Expense</th>\n",
       "      <th>Earnings before Tax</th>\n",
       "      <th>...</th>\n",
       "      <th>Receivables growth</th>\n",
       "      <th>Inventory Growth</th>\n",
       "      <th>Asset Growth</th>\n",
       "      <th>Book Value per Share Growth</th>\n",
       "      <th>Debt Growth</th>\n",
       "      <th>R&amp;D Expense Growth</th>\n",
       "      <th>SG&amp;A Expenses Growth</th>\n",
       "      <th>Next_Year_Price_Var[%]</th>\n",
       "      <th>Class</th>\n",
       "      <th>Year</th>\n",
       "    </tr>\n",
       "  </thead>\n",
       "  <tbody>\n",
       "    <tr>\n",
       "      <th>count</th>\n",
       "      <td>1.786500e+04</td>\n",
       "      <td>17335.000000</td>\n",
       "      <td>1.739000e+04</td>\n",
       "      <td>1.784100e+04</td>\n",
       "      <td>1.719400e+04</td>\n",
       "      <td>1.746200e+04</td>\n",
       "      <td>1.740500e+04</td>\n",
       "      <td>1.792300e+04</td>\n",
       "      <td>1.738800e+04</td>\n",
       "      <td>1.778000e+04</td>\n",
       "      <td>...</td>\n",
       "      <td>17283.000000</td>\n",
       "      <td>17015.000000</td>\n",
       "      <td>17053.000000</td>\n",
       "      <td>16664.000000</td>\n",
       "      <td>16865.000000</td>\n",
       "      <td>16999.000000</td>\n",
       "      <td>17053.000000</td>\n",
       "      <td>1.870300e+04</td>\n",
       "      <td>18703.000000</td>\n",
       "      <td>18703.000000</td>\n",
       "    </tr>\n",
       "    <tr>\n",
       "      <th>mean</th>\n",
       "      <td>5.131141e+09</td>\n",
       "      <td>4.044478</td>\n",
       "      <td>3.194422e+09</td>\n",
       "      <td>2.017499e+09</td>\n",
       "      <td>1.099452e+08</td>\n",
       "      <td>9.257510e+08</td>\n",
       "      <td>1.427406e+09</td>\n",
       "      <td>6.293855e+08</td>\n",
       "      <td>9.737632e+07</td>\n",
       "      <td>5.375073e+08</td>\n",
       "      <td>...</td>\n",
       "      <td>12.531312</td>\n",
       "      <td>0.153511</td>\n",
       "      <td>0.829158</td>\n",
       "      <td>0.871056</td>\n",
       "      <td>3.682542</td>\n",
       "      <td>0.296431</td>\n",
       "      <td>0.257921</td>\n",
       "      <td>2.789284e+02</td>\n",
       "      <td>0.563706</td>\n",
       "      <td>2016.085548</td>\n",
       "    </tr>\n",
       "    <tr>\n",
       "      <th>std</th>\n",
       "      <td>2.094265e+10</td>\n",
       "      <td>335.687819</td>\n",
       "      <td>1.515262e+10</td>\n",
       "      <td>8.058267e+09</td>\n",
       "      <td>8.007416e+08</td>\n",
       "      <td>3.954889e+09</td>\n",
       "      <td>5.768307e+09</td>\n",
       "      <td>2.986434e+09</td>\n",
       "      <td>4.666766e+08</td>\n",
       "      <td>2.587647e+09</td>\n",
       "      <td>...</td>\n",
       "      <td>1183.058348</td>\n",
       "      <td>3.057425</td>\n",
       "      <td>43.258736</td>\n",
       "      <td>57.650800</td>\n",
       "      <td>184.199300</td>\n",
       "      <td>13.801622</td>\n",
       "      <td>3.901991</td>\n",
       "      <td>2.087712e+04</td>\n",
       "      <td>0.495938</td>\n",
       "      <td>1.378392</td>\n",
       "    </tr>\n",
       "    <tr>\n",
       "      <th>min</th>\n",
       "      <td>-6.276160e+08</td>\n",
       "      <td>-12.769300</td>\n",
       "      <td>-2.986888e+09</td>\n",
       "      <td>-1.280800e+10</td>\n",
       "      <td>-1.098000e+08</td>\n",
       "      <td>-1.401594e+08</td>\n",
       "      <td>-5.495512e+09</td>\n",
       "      <td>-1.933900e+10</td>\n",
       "      <td>-1.710954e+09</td>\n",
       "      <td>-2.177200e+10</td>\n",
       "      <td>...</td>\n",
       "      <td>-1.000000</td>\n",
       "      <td>-1.000000</td>\n",
       "      <td>-1.000000</td>\n",
       "      <td>-379.478300</td>\n",
       "      <td>-1.051000</td>\n",
       "      <td>-2.662200</td>\n",
       "      <td>-2.369900</td>\n",
       "      <td>-1.003972e+02</td>\n",
       "      <td>0.000000</td>\n",
       "      <td>2014.000000</td>\n",
       "    </tr>\n",
       "    <tr>\n",
       "      <th>25%</th>\n",
       "      <td>6.571986e+07</td>\n",
       "      <td>-0.011300</td>\n",
       "      <td>3.883750e+06</td>\n",
       "      <td>3.512800e+07</td>\n",
       "      <td>0.000000e+00</td>\n",
       "      <td>1.887951e+07</td>\n",
       "      <td>3.835900e+07</td>\n",
       "      <td>-2.692896e+06</td>\n",
       "      <td>0.000000e+00</td>\n",
       "      <td>-6.229009e+06</td>\n",
       "      <td>...</td>\n",
       "      <td>-0.047100</td>\n",
       "      <td>0.000000</td>\n",
       "      <td>-0.025900</td>\n",
       "      <td>-0.093025</td>\n",
       "      <td>-0.064400</td>\n",
       "      <td>0.000000</td>\n",
       "      <td>-0.010900</td>\n",
       "      <td>-1.747184e+01</td>\n",
       "      <td>0.000000</td>\n",
       "      <td>2015.000000</td>\n",
       "    </tr>\n",
       "    <tr>\n",
       "      <th>50%</th>\n",
       "      <td>4.771070e+08</td>\n",
       "      <td>0.058600</td>\n",
       "      <td>1.717705e+08</td>\n",
       "      <td>2.137290e+08</td>\n",
       "      <td>0.000000e+00</td>\n",
       "      <td>8.901150e+07</td>\n",
       "      <td>1.664520e+08</td>\n",
       "      <td>4.391900e+07</td>\n",
       "      <td>3.823064e+06</td>\n",
       "      <td>3.094914e+07</td>\n",
       "      <td>...</td>\n",
       "      <td>0.010900</td>\n",
       "      <td>0.000000</td>\n",
       "      <td>0.049500</td>\n",
       "      <td>0.035300</td>\n",
       "      <td>0.000000</td>\n",
       "      <td>0.000000</td>\n",
       "      <td>0.060500</td>\n",
       "      <td>5.125095e+00</td>\n",
       "      <td>1.000000</td>\n",
       "      <td>2016.000000</td>\n",
       "    </tr>\n",
       "    <tr>\n",
       "      <th>75%</th>\n",
       "      <td>2.565486e+09</td>\n",
       "      <td>0.178700</td>\n",
       "      <td>1.333174e+09</td>\n",
       "      <td>9.678560e+08</td>\n",
       "      <td>1.265675e+07</td>\n",
       "      <td>4.091312e+08</td>\n",
       "      <td>6.747880e+08</td>\n",
       "      <td>2.880000e+08</td>\n",
       "      <td>5.092050e+07</td>\n",
       "      <td>2.287124e+08</td>\n",
       "      <td>...</td>\n",
       "      <td>0.195450</td>\n",
       "      <td>0.064200</td>\n",
       "      <td>0.173500</td>\n",
       "      <td>0.141525</td>\n",
       "      <td>0.150300</td>\n",
       "      <td>0.000000</td>\n",
       "      <td>0.179300</td>\n",
       "      <td>2.872061e+01</td>\n",
       "      <td>1.000000</td>\n",
       "      <td>2017.000000</td>\n",
       "    </tr>\n",
       "    <tr>\n",
       "      <th>max</th>\n",
       "      <td>8.482620e+11</td>\n",
       "      <td>42138.663900</td>\n",
       "      <td>3.861020e+11</td>\n",
       "      <td>4.621600e+11</td>\n",
       "      <td>2.883700e+10</td>\n",
       "      <td>1.856830e+11</td>\n",
       "      <td>3.056050e+11</td>\n",
       "      <td>1.565540e+11</td>\n",
       "      <td>3.152300e+10</td>\n",
       "      <td>8.720500e+10</td>\n",
       "      <td>...</td>\n",
       "      <td>153332.333300</td>\n",
       "      <td>293.473000</td>\n",
       "      <td>5468.426400</td>\n",
       "      <td>7039.325900</td>\n",
       "      <td>17646.823500</td>\n",
       "      <td>1542.611000</td>\n",
       "      <td>324.926800</td>\n",
       "      <td>2.418601e+06</td>\n",
       "      <td>1.000000</td>\n",
       "      <td>2018.000000</td>\n",
       "    </tr>\n",
       "  </tbody>\n",
       "</table>\n",
       "<p>8 rows × 224 columns</p>\n",
       "</div>"
      ],
      "text/plain": [
       "            Revenue  Revenue Growth  Cost of Revenue  Gross Profit  \\\n",
       "count  1.786500e+04    17335.000000     1.739000e+04  1.784100e+04   \n",
       "mean   5.131141e+09        4.044478     3.194422e+09  2.017499e+09   \n",
       "std    2.094265e+10      335.687819     1.515262e+10  8.058267e+09   \n",
       "min   -6.276160e+08      -12.769300    -2.986888e+09 -1.280800e+10   \n",
       "25%    6.571986e+07       -0.011300     3.883750e+06  3.512800e+07   \n",
       "50%    4.771070e+08        0.058600     1.717705e+08  2.137290e+08   \n",
       "75%    2.565486e+09        0.178700     1.333174e+09  9.678560e+08   \n",
       "max    8.482620e+11    42138.663900     3.861020e+11  4.621600e+11   \n",
       "\n",
       "       R&D Expenses  SG&A Expense  Operating Expenses  Operating Income  \\\n",
       "count  1.719400e+04  1.746200e+04        1.740500e+04      1.792300e+04   \n",
       "mean   1.099452e+08  9.257510e+08        1.427406e+09      6.293855e+08   \n",
       "std    8.007416e+08  3.954889e+09        5.768307e+09      2.986434e+09   \n",
       "min   -1.098000e+08 -1.401594e+08       -5.495512e+09     -1.933900e+10   \n",
       "25%    0.000000e+00  1.887951e+07        3.835900e+07     -2.692896e+06   \n",
       "50%    0.000000e+00  8.901150e+07        1.664520e+08      4.391900e+07   \n",
       "75%    1.265675e+07  4.091312e+08        6.747880e+08      2.880000e+08   \n",
       "max    2.883700e+10  1.856830e+11        3.056050e+11      1.565540e+11   \n",
       "\n",
       "       Interest Expense  Earnings before Tax  ...  Receivables growth  \\\n",
       "count      1.738800e+04         1.778000e+04  ...        17283.000000   \n",
       "mean       9.737632e+07         5.375073e+08  ...           12.531312   \n",
       "std        4.666766e+08         2.587647e+09  ...         1183.058348   \n",
       "min       -1.710954e+09        -2.177200e+10  ...           -1.000000   \n",
       "25%        0.000000e+00        -6.229009e+06  ...           -0.047100   \n",
       "50%        3.823064e+06         3.094914e+07  ...            0.010900   \n",
       "75%        5.092050e+07         2.287124e+08  ...            0.195450   \n",
       "max        3.152300e+10         8.720500e+10  ...       153332.333300   \n",
       "\n",
       "       Inventory Growth  Asset Growth  Book Value per Share Growth  \\\n",
       "count      17015.000000  17053.000000                 16664.000000   \n",
       "mean           0.153511      0.829158                     0.871056   \n",
       "std            3.057425     43.258736                    57.650800   \n",
       "min           -1.000000     -1.000000                  -379.478300   \n",
       "25%            0.000000     -0.025900                    -0.093025   \n",
       "50%            0.000000      0.049500                     0.035300   \n",
       "75%            0.064200      0.173500                     0.141525   \n",
       "max          293.473000   5468.426400                  7039.325900   \n",
       "\n",
       "        Debt Growth  R&D Expense Growth  SG&A Expenses Growth  \\\n",
       "count  16865.000000        16999.000000          17053.000000   \n",
       "mean       3.682542            0.296431              0.257921   \n",
       "std      184.199300           13.801622              3.901991   \n",
       "min       -1.051000           -2.662200             -2.369900   \n",
       "25%       -0.064400            0.000000             -0.010900   \n",
       "50%        0.000000            0.000000              0.060500   \n",
       "75%        0.150300            0.000000              0.179300   \n",
       "max    17646.823500         1542.611000            324.926800   \n",
       "\n",
       "       Next_Year_Price_Var[%]         Class          Year  \n",
       "count            1.870300e+04  18703.000000  18703.000000  \n",
       "mean             2.789284e+02      0.563706   2016.085548  \n",
       "std              2.087712e+04      0.495938      1.378392  \n",
       "min             -1.003972e+02      0.000000   2014.000000  \n",
       "25%             -1.747184e+01      0.000000   2015.000000  \n",
       "50%              5.125095e+00      1.000000   2016.000000  \n",
       "75%              2.872061e+01      1.000000   2017.000000  \n",
       "max              2.418601e+06      1.000000   2018.000000  \n",
       "\n",
       "[8 rows x 224 columns]"
      ]
     },
     "execution_count": 34,
     "metadata": {},
     "output_type": "execute_result"
    }
   ],
   "source": [
    "df.describe()"
   ]
  },
  {
   "cell_type": "code",
   "execution_count": 35,
   "id": "294b2ec0",
   "metadata": {
    "id": "294b2ec0"
   },
   "outputs": [],
   "source": [
    "## Removing \"Year\" because our future companies will have different years and it should not affect our final call\n",
    "df.drop(\"Year\", axis=1, inplace=True)"
   ]
  },
  {
   "cell_type": "code",
   "execution_count": 36,
   "id": "095374f1",
   "metadata": {
    "id": "095374f1"
   },
   "outputs": [],
   "source": [
    "## Removing \"Name\" because our future companies will have different Name and it should not affect our final call\n",
    "df.drop(\"Name\", axis=1, inplace=True)"
   ]
  },
  {
   "cell_type": "code",
   "execution_count": 37,
   "id": "a37f7f20",
   "metadata": {
    "colab": {
     "base_uri": "https://localhost:8080/",
     "height": 287
    },
    "id": "a37f7f20",
    "outputId": "e864c96a-5784-4cc8-92fa-858518c9e351"
   },
   "outputs": [
    {
     "data": {
      "text/html": [
       "<div>\n",
       "<style scoped>\n",
       "    .dataframe tbody tr th:only-of-type {\n",
       "        vertical-align: middle;\n",
       "    }\n",
       "\n",
       "    .dataframe tbody tr th {\n",
       "        vertical-align: top;\n",
       "    }\n",
       "\n",
       "    .dataframe thead th {\n",
       "        text-align: right;\n",
       "    }\n",
       "</style>\n",
       "<table border=\"1\" class=\"dataframe\">\n",
       "  <thead>\n",
       "    <tr style=\"text-align: right;\">\n",
       "      <th></th>\n",
       "      <th>Revenue</th>\n",
       "      <th>Revenue Growth</th>\n",
       "      <th>Cost of Revenue</th>\n",
       "      <th>Gross Profit</th>\n",
       "      <th>R&amp;D Expenses</th>\n",
       "      <th>SG&amp;A Expense</th>\n",
       "      <th>Operating Expenses</th>\n",
       "      <th>Operating Income</th>\n",
       "      <th>Interest Expense</th>\n",
       "      <th>Earnings before Tax</th>\n",
       "      <th>...</th>\n",
       "      <th>Inventory Growth</th>\n",
       "      <th>Asset Growth</th>\n",
       "      <th>Book Value per Share Growth</th>\n",
       "      <th>Debt Growth</th>\n",
       "      <th>R&amp;D Expense Growth</th>\n",
       "      <th>SG&amp;A Expenses Growth</th>\n",
       "      <th>Sector</th>\n",
       "      <th>Next_Year_Price_Var[%]</th>\n",
       "      <th>Class</th>\n",
       "      <th>Country</th>\n",
       "    </tr>\n",
       "  </thead>\n",
       "  <tbody>\n",
       "    <tr>\n",
       "      <th>0</th>\n",
       "      <td>7.440100e+10</td>\n",
       "      <td>-0.0713</td>\n",
       "      <td>3.903000e+10</td>\n",
       "      <td>3.537100e+10</td>\n",
       "      <td>0.0</td>\n",
       "      <td>2.146100e+10</td>\n",
       "      <td>2.146100e+10</td>\n",
       "      <td>1.391000e+10</td>\n",
       "      <td>709000000.0</td>\n",
       "      <td>1.449400e+10</td>\n",
       "      <td>...</td>\n",
       "      <td>-0.0217</td>\n",
       "      <td>0.0359</td>\n",
       "      <td>0.0316</td>\n",
       "      <td>0.1228</td>\n",
       "      <td>0.0</td>\n",
       "      <td>-0.1746</td>\n",
       "      <td>Consumer Defensive</td>\n",
       "      <td>-9.323276</td>\n",
       "      <td>0</td>\n",
       "      <td>United States</td>\n",
       "    </tr>\n",
       "    <tr>\n",
       "      <th>1</th>\n",
       "      <td>7.074900e+10</td>\n",
       "      <td>-0.0491</td>\n",
       "      <td>3.705600e+10</td>\n",
       "      <td>3.369300e+10</td>\n",
       "      <td>0.0</td>\n",
       "      <td>2.061600e+10</td>\n",
       "      <td>2.264400e+10</td>\n",
       "      <td>1.104900e+10</td>\n",
       "      <td>626000000.0</td>\n",
       "      <td>9.761000e+09</td>\n",
       "      <td>...</td>\n",
       "      <td>-0.2634</td>\n",
       "      <td>-0.1024</td>\n",
       "      <td>-0.1013</td>\n",
       "      <td>-0.1432</td>\n",
       "      <td>0.0</td>\n",
       "      <td>-0.0394</td>\n",
       "      <td>Consumer Defensive</td>\n",
       "      <td>10.809451</td>\n",
       "      <td>1</td>\n",
       "      <td>United States</td>\n",
       "    </tr>\n",
       "  </tbody>\n",
       "</table>\n",
       "<p>2 rows × 225 columns</p>\n",
       "</div>"
      ],
      "text/plain": [
       "        Revenue  Revenue Growth  Cost of Revenue  Gross Profit  R&D Expenses  \\\n",
       "0  7.440100e+10         -0.0713     3.903000e+10  3.537100e+10           0.0   \n",
       "1  7.074900e+10         -0.0491     3.705600e+10  3.369300e+10           0.0   \n",
       "\n",
       "   SG&A Expense  Operating Expenses  Operating Income  Interest Expense  \\\n",
       "0  2.146100e+10        2.146100e+10      1.391000e+10       709000000.0   \n",
       "1  2.061600e+10        2.264400e+10      1.104900e+10       626000000.0   \n",
       "\n",
       "   Earnings before Tax  ...  Inventory Growth  Asset Growth  \\\n",
       "0         1.449400e+10  ...           -0.0217        0.0359   \n",
       "1         9.761000e+09  ...           -0.2634       -0.1024   \n",
       "\n",
       "   Book Value per Share Growth  Debt Growth  R&D Expense Growth  \\\n",
       "0                       0.0316       0.1228                 0.0   \n",
       "1                      -0.1013      -0.1432                 0.0   \n",
       "\n",
       "   SG&A Expenses Growth              Sector  Next_Year_Price_Var[%]  Class  \\\n",
       "0               -0.1746  Consumer Defensive               -9.323276      0   \n",
       "1               -0.0394  Consumer Defensive               10.809451      1   \n",
       "\n",
       "         Country  \n",
       "0  United States  \n",
       "1  United States  \n",
       "\n",
       "[2 rows x 225 columns]"
      ]
     },
     "execution_count": 37,
     "metadata": {},
     "output_type": "execute_result"
    }
   ],
   "source": [
    "df.head(2)"
   ]
  },
  {
   "cell_type": "code",
   "execution_count": 38,
   "id": "770c3faf",
   "metadata": {
    "colab": {
     "base_uri": "https://localhost:8080/"
    },
    "id": "770c3faf",
    "outputId": "dc9bff33-5f52-482e-b105-f8adb6601a48"
   },
   "outputs": [
    {
     "data": {
      "text/plain": [
       "(14964, 225)"
      ]
     },
     "execution_count": 38,
     "metadata": {},
     "output_type": "execute_result"
    }
   ],
   "source": [
    "df.loc[(df.Country==\"United States\")].shape"
   ]
  },
  {
   "cell_type": "code",
   "execution_count": 39,
   "id": "d3045d77",
   "metadata": {
    "colab": {
     "base_uri": "https://localhost:8080/",
     "height": 688
    },
    "id": "d3045d77",
    "outputId": "7c921c18-9ad3-45b3-b570-615051f726ea"
   },
   "outputs": [
    {
     "data": {
      "text/html": [
       "<div>\n",
       "<style scoped>\n",
       "    .dataframe tbody tr th:only-of-type {\n",
       "        vertical-align: middle;\n",
       "    }\n",
       "\n",
       "    .dataframe tbody tr th {\n",
       "        vertical-align: top;\n",
       "    }\n",
       "\n",
       "    .dataframe thead th {\n",
       "        text-align: right;\n",
       "    }\n",
       "</style>\n",
       "<table border=\"1\" class=\"dataframe\">\n",
       "  <thead>\n",
       "    <tr style=\"text-align: right;\">\n",
       "      <th></th>\n",
       "      <th>Revenue</th>\n",
       "      <th>Revenue Growth</th>\n",
       "      <th>Cost of Revenue</th>\n",
       "      <th>Gross Profit</th>\n",
       "      <th>R&amp;D Expenses</th>\n",
       "      <th>SG&amp;A Expense</th>\n",
       "      <th>Operating Expenses</th>\n",
       "      <th>Operating Income</th>\n",
       "      <th>Interest Expense</th>\n",
       "      <th>Earnings before Tax</th>\n",
       "      <th>...</th>\n",
       "      <th>Inventory Growth</th>\n",
       "      <th>Asset Growth</th>\n",
       "      <th>Book Value per Share Growth</th>\n",
       "      <th>Debt Growth</th>\n",
       "      <th>R&amp;D Expense Growth</th>\n",
       "      <th>SG&amp;A Expenses Growth</th>\n",
       "      <th>Sector</th>\n",
       "      <th>Next_Year_Price_Var[%]</th>\n",
       "      <th>Class</th>\n",
       "      <th>Country</th>\n",
       "    </tr>\n",
       "  </thead>\n",
       "  <tbody>\n",
       "    <tr>\n",
       "      <th>0</th>\n",
       "      <td>7.440100e+10</td>\n",
       "      <td>-0.0713</td>\n",
       "      <td>3.903000e+10</td>\n",
       "      <td>3.537100e+10</td>\n",
       "      <td>0.0</td>\n",
       "      <td>2.146100e+10</td>\n",
       "      <td>2.146100e+10</td>\n",
       "      <td>1.391000e+10</td>\n",
       "      <td>709000000.0</td>\n",
       "      <td>1.449400e+10</td>\n",
       "      <td>...</td>\n",
       "      <td>-0.0217</td>\n",
       "      <td>0.0359</td>\n",
       "      <td>0.0316</td>\n",
       "      <td>0.1228</td>\n",
       "      <td>0.0</td>\n",
       "      <td>-0.1746</td>\n",
       "      <td>Consumer Defensive</td>\n",
       "      <td>-9.323276</td>\n",
       "      <td>0</td>\n",
       "      <td>United States</td>\n",
       "    </tr>\n",
       "    <tr>\n",
       "      <th>1</th>\n",
       "      <td>7.074900e+10</td>\n",
       "      <td>-0.0491</td>\n",
       "      <td>3.705600e+10</td>\n",
       "      <td>3.369300e+10</td>\n",
       "      <td>0.0</td>\n",
       "      <td>2.061600e+10</td>\n",
       "      <td>2.264400e+10</td>\n",
       "      <td>1.104900e+10</td>\n",
       "      <td>626000000.0</td>\n",
       "      <td>9.761000e+09</td>\n",
       "      <td>...</td>\n",
       "      <td>-0.2634</td>\n",
       "      <td>-0.1024</td>\n",
       "      <td>-0.1013</td>\n",
       "      <td>-0.1432</td>\n",
       "      <td>0.0</td>\n",
       "      <td>-0.0394</td>\n",
       "      <td>Consumer Defensive</td>\n",
       "      <td>10.809451</td>\n",
       "      <td>1</td>\n",
       "      <td>United States</td>\n",
       "    </tr>\n",
       "    <tr>\n",
       "      <th>2</th>\n",
       "      <td>6.529900e+10</td>\n",
       "      <td>-0.0770</td>\n",
       "      <td>3.290900e+10</td>\n",
       "      <td>3.239000e+10</td>\n",
       "      <td>0.0</td>\n",
       "      <td>1.894900e+10</td>\n",
       "      <td>1.894900e+10</td>\n",
       "      <td>1.344100e+10</td>\n",
       "      <td>579000000.0</td>\n",
       "      <td>1.385000e+10</td>\n",
       "      <td>...</td>\n",
       "      <td>-0.0528</td>\n",
       "      <td>-0.0182</td>\n",
       "      <td>-0.0627</td>\n",
       "      <td>0.0083</td>\n",
       "      <td>0.0</td>\n",
       "      <td>-0.0809</td>\n",
       "      <td>Consumer Defensive</td>\n",
       "      <td>12.532463</td>\n",
       "      <td>1</td>\n",
       "      <td>United States</td>\n",
       "    </tr>\n",
       "    <tr>\n",
       "      <th>3</th>\n",
       "      <td>6.505800e+10</td>\n",
       "      <td>-0.0037</td>\n",
       "      <td>3.263800e+10</td>\n",
       "      <td>3.242000e+10</td>\n",
       "      <td>0.0</td>\n",
       "      <td>1.865400e+10</td>\n",
       "      <td>1.865400e+10</td>\n",
       "      <td>1.376600e+10</td>\n",
       "      <td>465000000.0</td>\n",
       "      <td>1.838900e+10</td>\n",
       "      <td>...</td>\n",
       "      <td>-0.0195</td>\n",
       "      <td>-0.0529</td>\n",
       "      <td>0.0012</td>\n",
       "      <td>0.0325</td>\n",
       "      <td>0.0</td>\n",
       "      <td>-0.0156</td>\n",
       "      <td>Consumer Defensive</td>\n",
       "      <td>4.975151</td>\n",
       "      <td>1</td>\n",
       "      <td>United States</td>\n",
       "    </tr>\n",
       "    <tr>\n",
       "      <th>4</th>\n",
       "      <td>6.683200e+10</td>\n",
       "      <td>0.0273</td>\n",
       "      <td>3.443200e+10</td>\n",
       "      <td>3.240000e+10</td>\n",
       "      <td>0.0</td>\n",
       "      <td>1.903700e+10</td>\n",
       "      <td>1.903700e+10</td>\n",
       "      <td>1.336300e+10</td>\n",
       "      <td>506000000.0</td>\n",
       "      <td>1.321500e+10</td>\n",
       "      <td>...</td>\n",
       "      <td>0.0247</td>\n",
       "      <td>-0.0174</td>\n",
       "      <td>-0.0357</td>\n",
       "      <td>-0.0097</td>\n",
       "      <td>0.0</td>\n",
       "      <td>0.0205</td>\n",
       "      <td>Consumer Defensive</td>\n",
       "      <td>40.680273</td>\n",
       "      <td>1</td>\n",
       "      <td>United States</td>\n",
       "    </tr>\n",
       "    <tr>\n",
       "      <th>...</th>\n",
       "      <td>...</td>\n",
       "      <td>...</td>\n",
       "      <td>...</td>\n",
       "      <td>...</td>\n",
       "      <td>...</td>\n",
       "      <td>...</td>\n",
       "      <td>...</td>\n",
       "      <td>...</td>\n",
       "      <td>...</td>\n",
       "      <td>...</td>\n",
       "      <td>...</td>\n",
       "      <td>...</td>\n",
       "      <td>...</td>\n",
       "      <td>...</td>\n",
       "      <td>...</td>\n",
       "      <td>...</td>\n",
       "      <td>...</td>\n",
       "      <td>...</td>\n",
       "      <td>...</td>\n",
       "      <td>...</td>\n",
       "      <td>...</td>\n",
       "    </tr>\n",
       "    <tr>\n",
       "      <th>18697</th>\n",
       "      <td>NaN</td>\n",
       "      <td>NaN</td>\n",
       "      <td>NaN</td>\n",
       "      <td>3.648000e+09</td>\n",
       "      <td>NaN</td>\n",
       "      <td>NaN</td>\n",
       "      <td>7.947000e+09</td>\n",
       "      <td>2.206000e+09</td>\n",
       "      <td>-43000000.0</td>\n",
       "      <td>NaN</td>\n",
       "      <td>...</td>\n",
       "      <td>0.0000</td>\n",
       "      <td>0.2680</td>\n",
       "      <td>0.2433</td>\n",
       "      <td>-0.0196</td>\n",
       "      <td>NaN</td>\n",
       "      <td>NaN</td>\n",
       "      <td>Consumer Cyclical</td>\n",
       "      <td>-5.891175</td>\n",
       "      <td>0</td>\n",
       "      <td>United States</td>\n",
       "    </tr>\n",
       "    <tr>\n",
       "      <th>18699</th>\n",
       "      <td>3.011000e+09</td>\n",
       "      <td>NaN</td>\n",
       "      <td>2.325000e+09</td>\n",
       "      <td>6.860000e+08</td>\n",
       "      <td>NaN</td>\n",
       "      <td>6.230000e+08</td>\n",
       "      <td>6.100000e+08</td>\n",
       "      <td>7.600000e+07</td>\n",
       "      <td>94000000.0</td>\n",
       "      <td>1.600000e+07</td>\n",
       "      <td>...</td>\n",
       "      <td>NaN</td>\n",
       "      <td>NaN</td>\n",
       "      <td>NaN</td>\n",
       "      <td>NaN</td>\n",
       "      <td>NaN</td>\n",
       "      <td>NaN</td>\n",
       "      <td>Industrials</td>\n",
       "      <td>1.123204</td>\n",
       "      <td>1</td>\n",
       "      <td>United States</td>\n",
       "    </tr>\n",
       "    <tr>\n",
       "      <th>18700</th>\n",
       "      <td>NaN</td>\n",
       "      <td>NaN</td>\n",
       "      <td>NaN</td>\n",
       "      <td>NaN</td>\n",
       "      <td>NaN</td>\n",
       "      <td>NaN</td>\n",
       "      <td>5.000000e+06</td>\n",
       "      <td>-5.000000e+06</td>\n",
       "      <td>NaN</td>\n",
       "      <td>1.000000e+06</td>\n",
       "      <td>...</td>\n",
       "      <td>NaN</td>\n",
       "      <td>NaN</td>\n",
       "      <td>NaN</td>\n",
       "      <td>NaN</td>\n",
       "      <td>NaN</td>\n",
       "      <td>NaN</td>\n",
       "      <td>Industrials</td>\n",
       "      <td>1.525253</td>\n",
       "      <td>1</td>\n",
       "      <td>United States</td>\n",
       "    </tr>\n",
       "    <tr>\n",
       "      <th>18701</th>\n",
       "      <td>NaN</td>\n",
       "      <td>NaN</td>\n",
       "      <td>NaN</td>\n",
       "      <td>NaN</td>\n",
       "      <td>NaN</td>\n",
       "      <td>NaN</td>\n",
       "      <td>5.000000e+06</td>\n",
       "      <td>-5.000000e+06</td>\n",
       "      <td>NaN</td>\n",
       "      <td>1.000000e+06</td>\n",
       "      <td>...</td>\n",
       "      <td>NaN</td>\n",
       "      <td>NaN</td>\n",
       "      <td>NaN</td>\n",
       "      <td>NaN</td>\n",
       "      <td>NaN</td>\n",
       "      <td>NaN</td>\n",
       "      <td>Industrials</td>\n",
       "      <td>3.960392</td>\n",
       "      <td>1</td>\n",
       "      <td>United States</td>\n",
       "    </tr>\n",
       "    <tr>\n",
       "      <th>18702</th>\n",
       "      <td>0.000000e+00</td>\n",
       "      <td>0.0000</td>\n",
       "      <td>0.000000e+00</td>\n",
       "      <td>0.000000e+00</td>\n",
       "      <td>0.0</td>\n",
       "      <td>0.000000e+00</td>\n",
       "      <td>0.000000e+00</td>\n",
       "      <td>0.000000e+00</td>\n",
       "      <td>0.0</td>\n",
       "      <td>0.000000e+00</td>\n",
       "      <td>...</td>\n",
       "      <td>0.0000</td>\n",
       "      <td>0.0000</td>\n",
       "      <td>0.0000</td>\n",
       "      <td>0.0000</td>\n",
       "      <td>0.0</td>\n",
       "      <td>0.0000</td>\n",
       "      <td>Industrials</td>\n",
       "      <td>1.333335</td>\n",
       "      <td>1</td>\n",
       "      <td>United States</td>\n",
       "    </tr>\n",
       "  </tbody>\n",
       "</table>\n",
       "<p>14964 rows × 225 columns</p>\n",
       "</div>"
      ],
      "text/plain": [
       "            Revenue  Revenue Growth  Cost of Revenue  Gross Profit  \\\n",
       "0      7.440100e+10         -0.0713     3.903000e+10  3.537100e+10   \n",
       "1      7.074900e+10         -0.0491     3.705600e+10  3.369300e+10   \n",
       "2      6.529900e+10         -0.0770     3.290900e+10  3.239000e+10   \n",
       "3      6.505800e+10         -0.0037     3.263800e+10  3.242000e+10   \n",
       "4      6.683200e+10          0.0273     3.443200e+10  3.240000e+10   \n",
       "...             ...             ...              ...           ...   \n",
       "18697           NaN             NaN              NaN  3.648000e+09   \n",
       "18699  3.011000e+09             NaN     2.325000e+09  6.860000e+08   \n",
       "18700           NaN             NaN              NaN           NaN   \n",
       "18701           NaN             NaN              NaN           NaN   \n",
       "18702  0.000000e+00          0.0000     0.000000e+00  0.000000e+00   \n",
       "\n",
       "       R&D Expenses  SG&A Expense  Operating Expenses  Operating Income  \\\n",
       "0               0.0  2.146100e+10        2.146100e+10      1.391000e+10   \n",
       "1               0.0  2.061600e+10        2.264400e+10      1.104900e+10   \n",
       "2               0.0  1.894900e+10        1.894900e+10      1.344100e+10   \n",
       "3               0.0  1.865400e+10        1.865400e+10      1.376600e+10   \n",
       "4               0.0  1.903700e+10        1.903700e+10      1.336300e+10   \n",
       "...             ...           ...                 ...               ...   \n",
       "18697           NaN           NaN        7.947000e+09      2.206000e+09   \n",
       "18699           NaN  6.230000e+08        6.100000e+08      7.600000e+07   \n",
       "18700           NaN           NaN        5.000000e+06     -5.000000e+06   \n",
       "18701           NaN           NaN        5.000000e+06     -5.000000e+06   \n",
       "18702           0.0  0.000000e+00        0.000000e+00      0.000000e+00   \n",
       "\n",
       "       Interest Expense  Earnings before Tax  ...  Inventory Growth  \\\n",
       "0           709000000.0         1.449400e+10  ...           -0.0217   \n",
       "1           626000000.0         9.761000e+09  ...           -0.2634   \n",
       "2           579000000.0         1.385000e+10  ...           -0.0528   \n",
       "3           465000000.0         1.838900e+10  ...           -0.0195   \n",
       "4           506000000.0         1.321500e+10  ...            0.0247   \n",
       "...                 ...                  ...  ...               ...   \n",
       "18697       -43000000.0                  NaN  ...            0.0000   \n",
       "18699        94000000.0         1.600000e+07  ...               NaN   \n",
       "18700               NaN         1.000000e+06  ...               NaN   \n",
       "18701               NaN         1.000000e+06  ...               NaN   \n",
       "18702               0.0         0.000000e+00  ...            0.0000   \n",
       "\n",
       "       Asset Growth  Book Value per Share Growth  Debt Growth  \\\n",
       "0            0.0359                       0.0316       0.1228   \n",
       "1           -0.1024                      -0.1013      -0.1432   \n",
       "2           -0.0182                      -0.0627       0.0083   \n",
       "3           -0.0529                       0.0012       0.0325   \n",
       "4           -0.0174                      -0.0357      -0.0097   \n",
       "...             ...                          ...          ...   \n",
       "18697        0.2680                       0.2433      -0.0196   \n",
       "18699           NaN                          NaN          NaN   \n",
       "18700           NaN                          NaN          NaN   \n",
       "18701           NaN                          NaN          NaN   \n",
       "18702        0.0000                       0.0000       0.0000   \n",
       "\n",
       "       R&D Expense Growth  SG&A Expenses Growth              Sector  \\\n",
       "0                     0.0               -0.1746  Consumer Defensive   \n",
       "1                     0.0               -0.0394  Consumer Defensive   \n",
       "2                     0.0               -0.0809  Consumer Defensive   \n",
       "3                     0.0               -0.0156  Consumer Defensive   \n",
       "4                     0.0                0.0205  Consumer Defensive   \n",
       "...                   ...                   ...                 ...   \n",
       "18697                 NaN                   NaN   Consumer Cyclical   \n",
       "18699                 NaN                   NaN         Industrials   \n",
       "18700                 NaN                   NaN         Industrials   \n",
       "18701                 NaN                   NaN         Industrials   \n",
       "18702                 0.0                0.0000         Industrials   \n",
       "\n",
       "       Next_Year_Price_Var[%]  Class        Country  \n",
       "0                   -9.323276      0  United States  \n",
       "1                   10.809451      1  United States  \n",
       "2                   12.532463      1  United States  \n",
       "3                    4.975151      1  United States  \n",
       "4                   40.680273      1  United States  \n",
       "...                       ...    ...            ...  \n",
       "18697               -5.891175      0  United States  \n",
       "18699                1.123204      1  United States  \n",
       "18700                1.525253      1  United States  \n",
       "18701                3.960392      1  United States  \n",
       "18702                1.333335      1  United States  \n",
       "\n",
       "[14964 rows x 225 columns]"
      ]
     },
     "execution_count": 39,
     "metadata": {},
     "output_type": "execute_result"
    }
   ],
   "source": [
    "df.loc[(df.Country==\"United States\")]"
   ]
  },
  {
   "cell_type": "code",
   "execution_count": 40,
   "id": "7def686c",
   "metadata": {
    "id": "7def686c"
   },
   "outputs": [],
   "source": [
    "# Selecting only United States"
   ]
  },
  {
   "cell_type": "code",
   "execution_count": 41,
   "id": "ANPDCqodGg2l",
   "metadata": {
    "colab": {
     "base_uri": "https://localhost:8080/"
    },
    "id": "ANPDCqodGg2l",
    "outputId": "40b6a77b-7398-4f26-d9eb-aae08d619063"
   },
   "outputs": [
    {
     "data": {
      "text/plain": [
       "United States     14964\n",
       "Canada              607\n",
       "China               389\n",
       "Israel              304\n",
       "United Kingdom      190\n",
       "Bermuda             156\n",
       "Netherlands         102\n",
       "Brazil               93\n",
       "Ireland              80\n",
       "Switzerland          76\n",
       "Greece               75\n",
       "Argentina            63\n",
       "Mexico               60\n",
       "India                53\n",
       "France               49\n",
       "Australia            46\n",
       "Taiwan               45\n",
       "South Korea          45\n",
       "Cayman Islands       45\n",
       "Germany              39\n",
       "Hong Kong            37\n",
       "Luxembourg           35\n",
       "South Africa         35\n",
       "Japan                35\n",
       "Chile                30\n",
       "Singapore            30\n",
       "Denmark              23\n",
       "Belgium              20\n",
       "Spain                20\n",
       "Monaco               15\n",
       "Colombia             15\n",
       "Puerto Rico          15\n",
       "Peru                 15\n",
       "Sweden               15\n",
       "Russia               10\n",
       "Curacao              10\n",
       "Italy                10\n",
       "Jersey               10\n",
       "Panama               10\n",
       "Turkey                5\n",
       "Cyprus                5\n",
       "Finland               5\n",
       "Macau                 5\n",
       "Guernsey              5\n",
       "Philippines           5\n",
       "New Zealand           5\n",
       "Indonesia             5\n",
       "Isle of Man           5\n",
       "Name: Country, dtype: int64"
      ]
     },
     "execution_count": 41,
     "metadata": {},
     "output_type": "execute_result"
    }
   ],
   "source": [
    "df.Country.value_counts()"
   ]
  },
  {
   "cell_type": "code",
   "execution_count": 42,
   "id": "61862a88",
   "metadata": {
    "id": "61862a88"
   },
   "outputs": [],
   "source": [
    "df = df.loc[(df.Country==\"United States\")]"
   ]
  },
  {
   "cell_type": "code",
   "execution_count": 43,
   "id": "6b412252",
   "metadata": {
    "id": "6b412252"
   },
   "outputs": [],
   "source": [
    "df.drop('Country', axis=1, inplace=True)"
   ]
  },
  {
   "cell_type": "markdown",
   "id": "aa7d3e8e",
   "metadata": {
    "id": "aa7d3e8e"
   },
   "source": [
    "### Understanding Null Value Distribution"
   ]
  },
  {
   "cell_type": "code",
   "execution_count": 44,
   "id": "74c73038",
   "metadata": {
    "colab": {
     "base_uri": "https://localhost:8080/"
    },
    "id": "74c73038",
    "outputId": "a1521dd0-1636-43ee-b6ec-5c3f2d7ab7a4"
   },
   "outputs": [
    {
     "data": {
      "text/plain": [
       "cashConversionCycle               14964\n",
       "operatingCycle                    14964\n",
       "shortTermCoverageRatios            7418\n",
       "priceEarningsToGrowthRatio         5473\n",
       "dividendPayoutRatio                5473\n",
       "                                  ...  \n",
       "Net cash flow / Change in cash      716\n",
       "Financing Cash Flow                 699\n",
       "Next_Year_Price_Var[%]                0\n",
       "Sector                                0\n",
       "Class                                 0\n",
       "Length: 224, dtype: int64"
      ]
     },
     "execution_count": 44,
     "metadata": {},
     "output_type": "execute_result"
    }
   ],
   "source": [
    "df.isnull().sum().sort_values(ascending=False)"
   ]
  },
  {
   "cell_type": "code",
   "execution_count": 45,
   "id": "11e84870",
   "metadata": {
    "colab": {
     "base_uri": "https://localhost:8080/"
    },
    "id": "11e84870",
    "outputId": "127ff15c-cd61-4f2b-f023-f38808e5b89d"
   },
   "outputs": [
    {
     "data": {
      "text/plain": [
       "cashConversionCycle               100.000000\n",
       "operatingCycle                    100.000000\n",
       "shortTermCoverageRatios            49.572307\n",
       "priceEarningsToGrowthRatio         36.574445\n",
       "dividendPayoutRatio                36.574445\n",
       "                                     ...    \n",
       "Net cash flow / Change in cash      4.784817\n",
       "Financing Cash Flow                 4.671211\n",
       "Next_Year_Price_Var[%]              0.000000\n",
       "Sector                              0.000000\n",
       "Class                               0.000000\n",
       "Length: 224, dtype: float64"
      ]
     },
     "execution_count": 45,
     "metadata": {},
     "output_type": "execute_result"
    }
   ],
   "source": [
    "(df.isnull().sum() * 100 / len(df)).sort_values(ascending=False)"
   ]
  },
  {
   "cell_type": "code",
   "execution_count": 46,
   "id": "2436630a",
   "metadata": {
    "colab": {
     "base_uri": "https://localhost:8080/"
    },
    "id": "2436630a",
    "outputId": "33ecf8c3-11d2-4b44-80c9-9a66c7952d22"
   },
   "outputs": [
    {
     "data": {
      "text/plain": [
       "Class                             0.000000\n",
       "Sector                            0.000000\n",
       "Next_Year_Price_Var[%]            0.000000\n",
       "Financing Cash Flow               4.671211\n",
       "Net cash flow / Change in cash    4.784817\n",
       "Operating Income                  4.844961\n",
       "Receivables                       4.851644\n",
       "Revenue                           4.998663\n",
       "Earnings Before Tax Margin        5.052125\n",
       "Gross Margin                      5.078856\n",
       "Operating Cash Flow               5.145683\n",
       "Gross Profit                      5.239241\n",
       "Retained earnings (deficit)       5.339481\n",
       "Cash and cash equivalents         5.352847\n",
       "Earnings before Tax               5.526597\n",
       "dtype: float64"
      ]
     },
     "execution_count": 46,
     "metadata": {},
     "output_type": "execute_result"
    }
   ],
   "source": [
    "(df.isnull().sum() * 100 / len(df)).sort_values(ascending=True).head(15)"
   ]
  },
  {
   "cell_type": "code",
   "execution_count": 47,
   "id": "f7b26553",
   "metadata": {
    "colab": {
     "base_uri": "https://localhost:8080/"
    },
    "id": "f7b26553",
    "outputId": "2133ff4d-218c-4439-f1b7-041d68541a64",
    "scrolled": false
   },
   "outputs": [
    {
     "data": {
      "text/plain": [
       "224"
      ]
     },
     "execution_count": 47,
     "metadata": {},
     "output_type": "execute_result"
    }
   ],
   "source": [
    "# all cols have some null values\n",
    "len(df.isnull().any())"
   ]
  },
  {
   "cell_type": "code",
   "execution_count": 48,
   "id": "d0364177",
   "metadata": {
    "colab": {
     "base_uri": "https://localhost:8080/"
    },
    "id": "d0364177",
    "outputId": "7a51d52e-15ce-4d07-84a6-735a0b161ba7"
   },
   "outputs": [
    {
     "data": {
      "text/plain": [
       "Index(['operatingCycle', 'cashConversionCycle'], dtype='object')"
      ]
     },
     "execution_count": 48,
     "metadata": {},
     "output_type": "execute_result"
    }
   ],
   "source": [
    "# No columns with all null values\n",
    "df.columns[df.isnull().all()]"
   ]
  },
  {
   "cell_type": "code",
   "execution_count": 49,
   "id": "bfea4762",
   "metadata": {
    "id": "bfea4762"
   },
   "outputs": [],
   "source": [
    "# Defining a funtion to add the count/frequency values as annotation to histogram.\n",
    "def annotate_graph(ax):\n",
    "    for bar in ax.patches:         \n",
    "        ax.annotate(format((bar.get_height()), '.0f'),                    \n",
    "                    (bar.get_x() + bar.get_width() / 2,  bar.get_height()),                    \n",
    "                    ha='center', va='center',                    \n",
    "                    size=10, xytext=(0, 8),                    \n",
    "                    textcoords='offset points')\n",
    "    return ax"
   ]
  },
  {
   "cell_type": "code",
   "execution_count": 50,
   "id": "19ce9867",
   "metadata": {
    "colab": {
     "base_uri": "https://localhost:8080/"
    },
    "id": "19ce9867",
    "outputId": "5e6a979b-81b6-48c8-c32e-1bb1d23f9918"
   },
   "outputs": [
    {
     "data": {
      "image/png": "[encoded data removed]",
      "text/plain": [
       "<Figure size 2016x720 with 1 Axes>"
      ]
     },
     "metadata": {
      "needs_background": "light"
     },
     "output_type": "display_data"
    }
   ],
   "source": [
    "# Plotting histogram for the dataframe and columns having null values.\n",
    "plt.figure(figsize=(28,10))\n",
    "\n",
    "ax = sns.histplot(round((df.isnull().sum()/len(df.index) * 100).sort_values(ascending=False), 2))\n",
    "ax = annotate_graph(ax)\n",
    "\n",
    "ax.set(xticks=np.arange(0,101))\n",
    "ax.set(xlabel='Null value percentage', ylabel='Count of columns with null values')\n",
    "sns.despine()\n",
    "plt.tight_layout()"
   ]
  },
  {
   "cell_type": "code",
   "execution_count": 51,
   "id": "21ca6169",
   "metadata": {
    "colab": {
     "base_uri": "https://localhost:8080/"
    },
    "id": "21ca6169",
    "outputId": "625a79b3-5c1a-40f2-ddb7-ba0a2bc8bd3a"
   },
   "outputs": [
    {
     "data": {
      "text/plain": [
       "<AxesSubplot:>"
      ]
     },
     "execution_count": 51,
     "metadata": {},
     "output_type": "execute_result"
    },
    {
     "data": {
      "image/png": "[encoded data removed]",
      "text/plain": [
       "<Figure size 1800x720 with 2 Axes>"
      ]
     },
     "metadata": {
      "needs_background": "light"
     },
     "output_type": "display_data"
    }
   ],
   "source": [
    "msno.matrix(df)"
   ]
  },
  {
   "cell_type": "code",
   "execution_count": 52,
   "id": "0876f45f",
   "metadata": {
    "id": "0876f45f"
   },
   "outputs": [],
   "source": [
    "# defining a function to get more than cutoff percent missing value\n",
    "\n",
    "def get_missing_value_percentage(cutoff):\n",
    "    y = pd.DataFrame( round((df.isnull().sum()/len(df.index) * 100).sort_values(ascending=False), 2))\n",
    "    y.rename(columns={0:\"Percentage\"}, inplace=True)\n",
    "    y2 = y[y.Percentage>cutoff]\n",
    "    return y2"
   ]
  },
  {
   "cell_type": "code",
   "execution_count": 53,
   "id": "bc98eb84",
   "metadata": {
    "id": "bc98eb84"
   },
   "outputs": [],
   "source": [
    "# get columns with more than 70% missing values\n",
    "greater_than_70 = get_missing_value_percentage(70)"
   ]
  },
  {
   "cell_type": "code",
   "execution_count": 54,
   "id": "7f58ad4d",
   "metadata": {
    "colab": {
     "base_uri": "https://localhost:8080/"
    },
    "id": "7f58ad4d",
    "outputId": "c4b97ee6-4eeb-47c8-ce77-c95450d41080"
   },
   "outputs": [
    {
     "data": {
      "text/plain": [
       "2"
      ]
     },
     "execution_count": 54,
     "metadata": {},
     "output_type": "execute_result"
    }
   ],
   "source": [
    "len(greater_than_70)"
   ]
  },
  {
   "cell_type": "code",
   "execution_count": 55,
   "id": "c5045287",
   "metadata": {
    "colab": {
     "base_uri": "https://localhost:8080/"
    },
    "id": "c5045287",
    "outputId": "85f6b6a6-cec1-4029-f10b-7954d199c51f"
   },
   "outputs": [
    {
     "data": {
      "text/html": [
       "<div>\n",
       "<style scoped>\n",
       "    .dataframe tbody tr th:only-of-type {\n",
       "        vertical-align: middle;\n",
       "    }\n",
       "\n",
       "    .dataframe tbody tr th {\n",
       "        vertical-align: top;\n",
       "    }\n",
       "\n",
       "    .dataframe thead th {\n",
       "        text-align: right;\n",
       "    }\n",
       "</style>\n",
       "<table border=\"1\" class=\"dataframe\">\n",
       "  <thead>\n",
       "    <tr style=\"text-align: right;\">\n",
       "      <th></th>\n",
       "      <th>Percentage</th>\n",
       "    </tr>\n",
       "  </thead>\n",
       "  <tbody>\n",
       "    <tr>\n",
       "      <th>cashConversionCycle</th>\n",
       "      <td>100.0</td>\n",
       "    </tr>\n",
       "    <tr>\n",
       "      <th>operatingCycle</th>\n",
       "      <td>100.0</td>\n",
       "    </tr>\n",
       "  </tbody>\n",
       "</table>\n",
       "</div>"
      ],
      "text/plain": [
       "                     Percentage\n",
       "cashConversionCycle       100.0\n",
       "operatingCycle            100.0"
      ]
     },
     "execution_count": 55,
     "metadata": {},
     "output_type": "execute_result"
    }
   ],
   "source": [
    "greater_than_70"
   ]
  },
  {
   "cell_type": "code",
   "execution_count": 56,
   "id": "047aa05c",
   "metadata": {
    "id": "047aa05c"
   },
   "outputs": [],
   "source": [
    "# get columns with more than 50% missing values\n",
    "greater_than_50 = get_missing_value_percentage(50)"
   ]
  },
  {
   "cell_type": "code",
   "execution_count": 57,
   "id": "30cb5fe4",
   "metadata": {
    "colab": {
     "base_uri": "https://localhost:8080/"
    },
    "id": "30cb5fe4",
    "outputId": "d321df78-6438-4ebf-a2d4-a47a672336ce"
   },
   "outputs": [
    {
     "data": {
      "text/plain": [
       "2"
      ]
     },
     "execution_count": 57,
     "metadata": {},
     "output_type": "execute_result"
    }
   ],
   "source": [
    "len(greater_than_50)"
   ]
  },
  {
   "cell_type": "code",
   "execution_count": 58,
   "id": "a690c2e0",
   "metadata": {
    "colab": {
     "base_uri": "https://localhost:8080/"
    },
    "id": "a690c2e0",
    "outputId": "70d00eac-8c41-4ada-9578-218be900513f"
   },
   "outputs": [
    {
     "data": {
      "text/html": [
       "<div>\n",
       "<style scoped>\n",
       "    .dataframe tbody tr th:only-of-type {\n",
       "        vertical-align: middle;\n",
       "    }\n",
       "\n",
       "    .dataframe tbody tr th {\n",
       "        vertical-align: top;\n",
       "    }\n",
       "\n",
       "    .dataframe thead th {\n",
       "        text-align: right;\n",
       "    }\n",
       "</style>\n",
       "<table border=\"1\" class=\"dataframe\">\n",
       "  <thead>\n",
       "    <tr style=\"text-align: right;\">\n",
       "      <th></th>\n",
       "      <th>Percentage</th>\n",
       "    </tr>\n",
       "  </thead>\n",
       "  <tbody>\n",
       "    <tr>\n",
       "      <th>cashConversionCycle</th>\n",
       "      <td>100.0</td>\n",
       "    </tr>\n",
       "    <tr>\n",
       "      <th>operatingCycle</th>\n",
       "      <td>100.0</td>\n",
       "    </tr>\n",
       "  </tbody>\n",
       "</table>\n",
       "</div>"
      ],
      "text/plain": [
       "                     Percentage\n",
       "cashConversionCycle       100.0\n",
       "operatingCycle            100.0"
      ]
     },
     "execution_count": 58,
     "metadata": {},
     "output_type": "execute_result"
    }
   ],
   "source": [
    "greater_than_50"
   ]
  },
  {
   "cell_type": "code",
   "execution_count": 59,
   "id": "b49e34fc",
   "metadata": {
    "colab": {
     "base_uri": "https://localhost:8080/"
    },
    "id": "b49e34fc",
    "outputId": "28fbdc01-4a65-415e-a637-4225d582613e"
   },
   "outputs": [
    {
     "data": {
      "text/html": [
       "<div>\n",
       "<style scoped>\n",
       "    .dataframe tbody tr th:only-of-type {\n",
       "        vertical-align: middle;\n",
       "    }\n",
       "\n",
       "    .dataframe tbody tr th {\n",
       "        vertical-align: top;\n",
       "    }\n",
       "\n",
       "    .dataframe thead th {\n",
       "        text-align: right;\n",
       "    }\n",
       "</style>\n",
       "<table border=\"1\" class=\"dataframe\">\n",
       "  <thead>\n",
       "    <tr style=\"text-align: right;\">\n",
       "      <th></th>\n",
       "      <th>Percentage</th>\n",
       "    </tr>\n",
       "  </thead>\n",
       "  <tbody>\n",
       "    <tr>\n",
       "      <th>cashConversionCycle</th>\n",
       "      <td>100.00</td>\n",
       "    </tr>\n",
       "    <tr>\n",
       "      <th>operatingCycle</th>\n",
       "      <td>100.00</td>\n",
       "    </tr>\n",
       "    <tr>\n",
       "      <th>shortTermCoverageRatios</th>\n",
       "      <td>49.57</td>\n",
       "    </tr>\n",
       "    <tr>\n",
       "      <th>priceEarningsToGrowthRatio</th>\n",
       "      <td>36.57</td>\n",
       "    </tr>\n",
       "    <tr>\n",
       "      <th>dividendPayoutRatio</th>\n",
       "      <td>36.57</td>\n",
       "    </tr>\n",
       "    <tr>\n",
       "      <th>10Y Shareholders Equity Growth (per Share)</th>\n",
       "      <td>36.44</td>\n",
       "    </tr>\n",
       "    <tr>\n",
       "      <th>10Y Revenue Growth (per Share)</th>\n",
       "      <td>35.74</td>\n",
       "    </tr>\n",
       "    <tr>\n",
       "      <th>10Y Net Income Growth (per Share)</th>\n",
       "      <td>35.74</td>\n",
       "    </tr>\n",
       "    <tr>\n",
       "      <th>10Y Operating CF Growth (per Share)</th>\n",
       "      <td>35.52</td>\n",
       "    </tr>\n",
       "    <tr>\n",
       "      <th>nIperEBT</th>\n",
       "      <td>34.60</td>\n",
       "    </tr>\n",
       "    <tr>\n",
       "      <th>niperEBT</th>\n",
       "      <td>34.60</td>\n",
       "    </tr>\n",
       "    <tr>\n",
       "      <th>effectiveTaxRate</th>\n",
       "      <td>34.60</td>\n",
       "    </tr>\n",
       "    <tr>\n",
       "      <th>10Y Dividend per Share Growth (per Share)</th>\n",
       "      <td>34.41</td>\n",
       "    </tr>\n",
       "    <tr>\n",
       "      <th>ebtperEBIT</th>\n",
       "      <td>32.58</td>\n",
       "    </tr>\n",
       "    <tr>\n",
       "      <th>eBTperEBIT</th>\n",
       "      <td>32.58</td>\n",
       "    </tr>\n",
       "    <tr>\n",
       "      <th>Current ratio</th>\n",
       "      <td>31.24</td>\n",
       "    </tr>\n",
       "    <tr>\n",
       "      <th>returnOnAssets</th>\n",
       "      <td>31.21</td>\n",
       "    </tr>\n",
       "    <tr>\n",
       "      <th>Return on Tangible Assets</th>\n",
       "      <td>31.21</td>\n",
       "    </tr>\n",
       "    <tr>\n",
       "      <th>returnOnCapitalEmployed</th>\n",
       "      <td>31.20</td>\n",
       "    </tr>\n",
       "    <tr>\n",
       "      <th>ROIC</th>\n",
       "      <td>31.20</td>\n",
       "    </tr>\n",
       "    <tr>\n",
       "      <th>Working Capital</th>\n",
       "      <td>31.20</td>\n",
       "    </tr>\n",
       "    <tr>\n",
       "      <th>Total non-current liabilities</th>\n",
       "      <td>29.85</td>\n",
       "    </tr>\n",
       "    <tr>\n",
       "      <th>Total non-current assets</th>\n",
       "      <td>29.82</td>\n",
       "    </tr>\n",
       "    <tr>\n",
       "      <th>priceCashFlowRatio</th>\n",
       "      <td>29.04</td>\n",
       "    </tr>\n",
       "    <tr>\n",
       "      <th>enterpriseValueMultiple</th>\n",
       "      <td>28.26</td>\n",
       "    </tr>\n",
       "    <tr>\n",
       "      <th>cashFlowToDebtRatio</th>\n",
       "      <td>27.63</td>\n",
       "    </tr>\n",
       "    <tr>\n",
       "      <th>cashFlowCoverageRatios</th>\n",
       "      <td>27.63</td>\n",
       "    </tr>\n",
       "    <tr>\n",
       "      <th>freeCashFlowOperatingCashFlowRatio</th>\n",
       "      <td>27.13</td>\n",
       "    </tr>\n",
       "    <tr>\n",
       "      <th>Net Debt to EBITDA</th>\n",
       "      <td>27.08</td>\n",
       "    </tr>\n",
       "    <tr>\n",
       "      <th>Net Debt</th>\n",
       "      <td>24.68</td>\n",
       "    </tr>\n",
       "    <tr>\n",
       "      <th>Other Assets</th>\n",
       "      <td>24.57</td>\n",
       "    </tr>\n",
       "    <tr>\n",
       "      <th>5Y Shareholders Equity Growth (per Share)</th>\n",
       "      <td>24.08</td>\n",
       "    </tr>\n",
       "    <tr>\n",
       "      <th>5Y Net Income Growth (per Share)</th>\n",
       "      <td>23.14</td>\n",
       "    </tr>\n",
       "    <tr>\n",
       "      <th>5Y Revenue Growth (per Share)</th>\n",
       "      <td>23.14</td>\n",
       "    </tr>\n",
       "    <tr>\n",
       "      <th>5Y Operating CF Growth (per Share)</th>\n",
       "      <td>23.09</td>\n",
       "    </tr>\n",
       "    <tr>\n",
       "      <th>5Y Dividend per Share Growth (per Share)</th>\n",
       "      <td>21.32</td>\n",
       "    </tr>\n",
       "  </tbody>\n",
       "</table>\n",
       "</div>"
      ],
      "text/plain": [
       "                                            Percentage\n",
       "cashConversionCycle                             100.00\n",
       "operatingCycle                                  100.00\n",
       "shortTermCoverageRatios                          49.57\n",
       "priceEarningsToGrowthRatio                       36.57\n",
       "dividendPayoutRatio                              36.57\n",
       "10Y Shareholders Equity Growth (per Share)       36.44\n",
       "10Y Revenue Growth (per Share)                   35.74\n",
       "10Y Net Income Growth (per Share)                35.74\n",
       "10Y Operating CF Growth (per Share)              35.52\n",
       "nIperEBT                                         34.60\n",
       "niperEBT                                         34.60\n",
       "effectiveTaxRate                                 34.60\n",
       "10Y Dividend per Share Growth (per Share)        34.41\n",
       "ebtperEBIT                                       32.58\n",
       "eBTperEBIT                                       32.58\n",
       "Current ratio                                    31.24\n",
       "returnOnAssets                                   31.21\n",
       "Return on Tangible Assets                        31.21\n",
       "returnOnCapitalEmployed                          31.20\n",
       "ROIC                                             31.20\n",
       "Working Capital                                  31.20\n",
       "Total non-current liabilities                    29.85\n",
       "Total non-current assets                         29.82\n",
       "priceCashFlowRatio                               29.04\n",
       "enterpriseValueMultiple                          28.26\n",
       "cashFlowToDebtRatio                              27.63\n",
       "cashFlowCoverageRatios                           27.63\n",
       "freeCashFlowOperatingCashFlowRatio               27.13\n",
       "Net Debt to EBITDA                               27.08\n",
       "Net Debt                                         24.68\n",
       "Other Assets                                     24.57\n",
       "5Y Shareholders Equity Growth (per Share)        24.08\n",
       "5Y Net Income Growth (per Share)                 23.14\n",
       "5Y Revenue Growth (per Share)                    23.14\n",
       "5Y Operating CF Growth (per Share)               23.09\n",
       "5Y Dividend per Share Growth (per Share)         21.32"
      ]
     },
     "execution_count": 59,
     "metadata": {},
     "output_type": "execute_result"
    }
   ],
   "source": [
    "# get columns with more than 20% missing values\n",
    "greater_than_20 = get_missing_value_percentage(20)\n",
    "greater_than_20"
   ]
  },
  {
   "cell_type": "markdown",
   "id": "d6d68178",
   "metadata": {
    "id": "d6d68178"
   },
   "source": [
    "### Removing Null Values"
   ]
  },
  {
   "cell_type": "code",
   "execution_count": 60,
   "id": "1c31a6e1",
   "metadata": {
    "id": "1c31a6e1"
   },
   "outputs": [],
   "source": [
    "# function to drop cols which have more than 20% null values\n",
    "\n",
    "def remove_cols_with_nulls (df, threshold):\n",
    "    myCol = list(df.columns)\n",
    "    for col in myCol: \n",
    "        percentage = (df[col].isnull().sum()/len(df[col]))*100\n",
    "        if percentage>threshold:\n",
    "            df.drop(col, axis=1, inplace=True)"
   ]
  },
  {
   "cell_type": "code",
   "execution_count": 61,
   "id": "9b32e4e5",
   "metadata": {
    "colab": {
     "base_uri": "https://localhost:8080/"
    },
    "id": "9b32e4e5",
    "outputId": "3700d95e-5c63-45bb-92f2-27c19647ddb0"
   },
   "outputs": [
    {
     "data": {
      "text/plain": [
       "(14964, 224)"
      ]
     },
     "execution_count": 61,
     "metadata": {},
     "output_type": "execute_result"
    }
   ],
   "source": [
    "df.shape"
   ]
  },
  {
   "cell_type": "code",
   "execution_count": 62,
   "id": "3799ac82",
   "metadata": {
    "id": "3799ac82"
   },
   "outputs": [],
   "source": [
    "remove_cols_with_nulls(df, 20)"
   ]
  },
  {
   "cell_type": "code",
   "execution_count": 63,
   "id": "e6da6008",
   "metadata": {
    "colab": {
     "base_uri": "https://localhost:8080/"
    },
    "id": "e6da6008",
    "outputId": "806cf45c-160d-41cf-fe55-92dd594ab227"
   },
   "outputs": [
    {
     "data": {
      "text/plain": [
       "(14964, 188)"
      ]
     },
     "execution_count": 63,
     "metadata": {},
     "output_type": "execute_result"
    }
   ],
   "source": [
    "df.shape"
   ]
  },
  {
   "cell_type": "code",
   "execution_count": 64,
   "id": "9020a307",
   "metadata": {
    "colab": {
     "base_uri": "https://localhost:8080/"
    },
    "id": "9020a307",
    "outputId": "fd63fa9b-47a5-4abb-986d-06705045bacf"
   },
   "outputs": [
    {
     "data": {
      "text/plain": [
       "185"
      ]
     },
     "execution_count": 64,
     "metadata": {},
     "output_type": "execute_result"
    }
   ],
   "source": [
    "len(df.columns[(df.isnull().any())])"
   ]
  },
  {
   "cell_type": "code",
   "execution_count": 65,
   "id": "cd0fa1f5",
   "metadata": {
    "id": "cd0fa1f5"
   },
   "outputs": [],
   "source": [
    "# Deleting rows with any null value\n",
    "df.dropna(how='all',axis=0, inplace=True) "
   ]
  },
  {
   "cell_type": "code",
   "execution_count": 66,
   "id": "c4bdaa40",
   "metadata": {
    "colab": {
     "base_uri": "https://localhost:8080/"
    },
    "id": "c4bdaa40",
    "outputId": "4baeee0e-df75-48c0-8139-ea24060f4eb0"
   },
   "outputs": [
    {
     "data": {
      "text/plain": [
       "(14964, 188)"
      ]
     },
     "execution_count": 66,
     "metadata": {},
     "output_type": "execute_result"
    }
   ],
   "source": [
    "# Therefore, there is no row will all NULL values\n",
    "df.shape"
   ]
  },
  {
   "cell_type": "code",
   "execution_count": 67,
   "id": "75515deb",
   "metadata": {
    "id": "75515deb"
   },
   "outputs": [],
   "source": [
    "# Deleting rows with any null value\n",
    "df.dropna(how='any',axis=0, inplace=True) "
   ]
  },
  {
   "cell_type": "code",
   "execution_count": 68,
   "id": "56b0ec52",
   "metadata": {
    "colab": {
     "base_uri": "https://localhost:8080/"
    },
    "id": "56b0ec52",
    "outputId": "c603c083-f734-4393-88f8-9dc17cf41419"
   },
   "outputs": [
    {
     "data": {
      "text/plain": [
       "(9358, 188)"
      ]
     },
     "execution_count": 68,
     "metadata": {},
     "output_type": "execute_result"
    }
   ],
   "source": [
    "df.shape"
   ]
  },
  {
   "cell_type": "code",
   "execution_count": 69,
   "id": "494a0552",
   "metadata": {
    "colab": {
     "base_uri": "https://localhost:8080/"
    },
    "id": "494a0552",
    "outputId": "69e7b861-d718-4ae3-e766-35552e9781dd"
   },
   "outputs": [
    {
     "data": {
      "text/plain": [
       "<AxesSubplot:>"
      ]
     },
     "execution_count": 69,
     "metadata": {},
     "output_type": "execute_result"
    },
    {
     "data": {
      "image/png": "[encoded data removed]",
      "text/plain": [
       "<Figure size 1800x720 with 2 Axes>"
      ]
     },
     "metadata": {
      "needs_background": "light"
     },
     "output_type": "display_data"
    }
   ],
   "source": [
    "msno.matrix(df)"
   ]
  },
  {
   "cell_type": "code",
   "execution_count": 70,
   "id": "91c61210",
   "metadata": {
    "colab": {
     "base_uri": "https://localhost:8080/"
    },
    "id": "91c61210",
    "outputId": "906b8e77-e8cf-4d7e-f5c4-be6a12cfe37d"
   },
   "outputs": [
    {
     "data": {
      "text/plain": [
       "0"
      ]
     },
     "execution_count": 70,
     "metadata": {},
     "output_type": "execute_result"
    }
   ],
   "source": [
    "df.isnull().any().sum()"
   ]
  },
  {
   "cell_type": "code",
   "execution_count": 71,
   "id": "cfd62e9d",
   "metadata": {
    "colab": {
     "base_uri": "https://localhost:8080/"
    },
    "id": "cfd62e9d",
    "outputId": "652759c1-fc0c-4634-f0ff-e14088d0a158"
   },
   "outputs": [
    {
     "data": {
      "text/plain": [
       "Index(['Revenue', 'Revenue Growth', 'Cost of Revenue', 'Gross Profit',\n",
       "       'R&D Expenses', 'SG&A Expense', 'Operating Expenses',\n",
       "       'Operating Income', 'Interest Expense', 'Earnings before Tax',\n",
       "       ...\n",
       "       'Receivables growth', 'Inventory Growth', 'Asset Growth',\n",
       "       'Book Value per Share Growth', 'Debt Growth', 'R&D Expense Growth',\n",
       "       'SG&A Expenses Growth', 'Sector', 'Next_Year_Price_Var[%]', 'Class'],\n",
       "      dtype='object', length=188)"
      ]
     },
     "execution_count": 71,
     "metadata": {},
     "output_type": "execute_result"
    }
   ],
   "source": [
    "df.columns"
   ]
  },
  {
   "cell_type": "code",
   "execution_count": 72,
   "id": "36f2efcf",
   "metadata": {
    "colab": {
     "base_uri": "https://localhost:8080/"
    },
    "id": "36f2efcf",
    "outputId": "66bf3639-552c-4e4c-912d-13bcdf717043"
   },
   "outputs": [
    {
     "data": {
      "text/html": [
       "<div>\n",
       "<style scoped>\n",
       "    .dataframe tbody tr th:only-of-type {\n",
       "        vertical-align: middle;\n",
       "    }\n",
       "\n",
       "    .dataframe tbody tr th {\n",
       "        vertical-align: top;\n",
       "    }\n",
       "\n",
       "    .dataframe thead th {\n",
       "        text-align: right;\n",
       "    }\n",
       "</style>\n",
       "<table border=\"1\" class=\"dataframe\">\n",
       "  <thead>\n",
       "    <tr style=\"text-align: right;\">\n",
       "      <th></th>\n",
       "      <th>Revenue</th>\n",
       "      <th>Revenue Growth</th>\n",
       "      <th>Cost of Revenue</th>\n",
       "      <th>Gross Profit</th>\n",
       "      <th>R&amp;D Expenses</th>\n",
       "      <th>SG&amp;A Expense</th>\n",
       "      <th>Operating Expenses</th>\n",
       "      <th>Operating Income</th>\n",
       "      <th>Interest Expense</th>\n",
       "      <th>Earnings before Tax</th>\n",
       "      <th>...</th>\n",
       "      <th>3Y Dividend per Share Growth (per Share)</th>\n",
       "      <th>Receivables growth</th>\n",
       "      <th>Inventory Growth</th>\n",
       "      <th>Asset Growth</th>\n",
       "      <th>Book Value per Share Growth</th>\n",
       "      <th>Debt Growth</th>\n",
       "      <th>R&amp;D Expense Growth</th>\n",
       "      <th>SG&amp;A Expenses Growth</th>\n",
       "      <th>Next_Year_Price_Var[%]</th>\n",
       "      <th>Class</th>\n",
       "    </tr>\n",
       "  </thead>\n",
       "  <tbody>\n",
       "    <tr>\n",
       "      <th>3</th>\n",
       "      <td>6.505800e+10</td>\n",
       "      <td>-0.0037</td>\n",
       "      <td>3.263800e+10</td>\n",
       "      <td>3.242000e+10</td>\n",
       "      <td>0.0</td>\n",
       "      <td>1.865400e+10</td>\n",
       "      <td>1.865400e+10</td>\n",
       "      <td>1.376600e+10</td>\n",
       "      <td>465000000.0</td>\n",
       "      <td>1.838900e+10</td>\n",
       "      <td>...</td>\n",
       "      <td>0.0329</td>\n",
       "      <td>0.0505</td>\n",
       "      <td>-0.0195</td>\n",
       "      <td>-0.0529</td>\n",
       "      <td>0.0012</td>\n",
       "      <td>0.0325</td>\n",
       "      <td>0.0000</td>\n",
       "      <td>-0.0156</td>\n",
       "      <td>4.975151</td>\n",
       "      <td>1</td>\n",
       "    </tr>\n",
       "    <tr>\n",
       "      <th>4</th>\n",
       "      <td>6.683200e+10</td>\n",
       "      <td>0.0273</td>\n",
       "      <td>3.443200e+10</td>\n",
       "      <td>3.240000e+10</td>\n",
       "      <td>0.0</td>\n",
       "      <td>1.903700e+10</td>\n",
       "      <td>1.903700e+10</td>\n",
       "      <td>1.336300e+10</td>\n",
       "      <td>506000000.0</td>\n",
       "      <td>1.321500e+10</td>\n",
       "      <td>...</td>\n",
       "      <td>0.0241</td>\n",
       "      <td>0.0200</td>\n",
       "      <td>0.0247</td>\n",
       "      <td>-0.0174</td>\n",
       "      <td>-0.0357</td>\n",
       "      <td>-0.0097</td>\n",
       "      <td>0.0000</td>\n",
       "      <td>0.0205</td>\n",
       "      <td>40.680273</td>\n",
       "      <td>1</td>\n",
       "    </tr>\n",
       "    <tr>\n",
       "      <th>11</th>\n",
       "      <td>1.084650e+11</td>\n",
       "      <td>0.1026</td>\n",
       "      <td>8.551200e+10</td>\n",
       "      <td>2.295300e+10</td>\n",
       "      <td>0.0</td>\n",
       "      <td>1.716100e+10</td>\n",
       "      <td>1.981600e+10</td>\n",
       "      <td>3.137000e+09</td>\n",
       "      <td>488000000.0</td>\n",
       "      <td>2.630000e+09</td>\n",
       "      <td>...</td>\n",
       "      <td>0.1651</td>\n",
       "      <td>0.1344</td>\n",
       "      <td>0.0065</td>\n",
       "      <td>0.0415</td>\n",
       "      <td>0.0535</td>\n",
       "      <td>0.0254</td>\n",
       "      <td>0.0000</td>\n",
       "      <td>0.1293</td>\n",
       "      <td>-15.036503</td>\n",
       "      <td>0</td>\n",
       "    </tr>\n",
       "    <tr>\n",
       "      <th>12</th>\n",
       "      <td>1.098300e+11</td>\n",
       "      <td>0.0126</td>\n",
       "      <td>8.549600e+10</td>\n",
       "      <td>2.433400e+10</td>\n",
       "      <td>0.0</td>\n",
       "      <td>1.794600e+10</td>\n",
       "      <td>2.075800e+10</td>\n",
       "      <td>3.576000e+09</td>\n",
       "      <td>482000000.0</td>\n",
       "      <td>3.084000e+09</td>\n",
       "      <td>...</td>\n",
       "      <td>0.2650</td>\n",
       "      <td>0.3697</td>\n",
       "      <td>0.0844</td>\n",
       "      <td>0.1115</td>\n",
       "      <td>0.2797</td>\n",
       "      <td>0.0416</td>\n",
       "      <td>0.0000</td>\n",
       "      <td>0.0457</td>\n",
       "      <td>-17.068252</td>\n",
       "      <td>0</td>\n",
       "    </tr>\n",
       "    <tr>\n",
       "      <th>13</th>\n",
       "      <td>1.153370e+11</td>\n",
       "      <td>0.0501</td>\n",
       "      <td>8.950200e+10</td>\n",
       "      <td>2.583500e+10</td>\n",
       "      <td>0.0</td>\n",
       "      <td>1.916200e+10</td>\n",
       "      <td>2.238300e+10</td>\n",
       "      <td>3.452000e+09</td>\n",
       "      <td>522000000.0</td>\n",
       "      <td>2.932000e+09</td>\n",
       "      <td>...</td>\n",
       "      <td>0.1359</td>\n",
       "      <td>-0.0490</td>\n",
       "      <td>0.0637</td>\n",
       "      <td>0.0769</td>\n",
       "      <td>0.0071</td>\n",
       "      <td>0.1654</td>\n",
       "      <td>0.0000</td>\n",
       "      <td>0.0678</td>\n",
       "      <td>-0.990449</td>\n",
       "      <td>0</td>\n",
       "    </tr>\n",
       "    <tr>\n",
       "      <th>...</th>\n",
       "      <td>...</td>\n",
       "      <td>...</td>\n",
       "      <td>...</td>\n",
       "      <td>...</td>\n",
       "      <td>...</td>\n",
       "      <td>...</td>\n",
       "      <td>...</td>\n",
       "      <td>...</td>\n",
       "      <td>...</td>\n",
       "      <td>...</td>\n",
       "      <td>...</td>\n",
       "      <td>...</td>\n",
       "      <td>...</td>\n",
       "      <td>...</td>\n",
       "      <td>...</td>\n",
       "      <td>...</td>\n",
       "      <td>...</td>\n",
       "      <td>...</td>\n",
       "      <td>...</td>\n",
       "      <td>...</td>\n",
       "      <td>...</td>\n",
       "    </tr>\n",
       "    <tr>\n",
       "      <th>18678</th>\n",
       "      <td>8.271740e+08</td>\n",
       "      <td>0.5215</td>\n",
       "      <td>6.392980e+08</td>\n",
       "      <td>1.878760e+08</td>\n",
       "      <td>0.0</td>\n",
       "      <td>7.599300e+07</td>\n",
       "      <td>2.158220e+08</td>\n",
       "      <td>-2.794600e+07</td>\n",
       "      <td>22315000.0</td>\n",
       "      <td>-5.060800e+07</td>\n",
       "      <td>...</td>\n",
       "      <td>0.0000</td>\n",
       "      <td>0.5546</td>\n",
       "      <td>3.1131</td>\n",
       "      <td>0.9714</td>\n",
       "      <td>0.2623</td>\n",
       "      <td>0.7721</td>\n",
       "      <td>0.0000</td>\n",
       "      <td>0.5336</td>\n",
       "      <td>-65.955592</td>\n",
       "      <td>0</td>\n",
       "    </tr>\n",
       "    <tr>\n",
       "      <th>18682</th>\n",
       "      <td>4.134120e+08</td>\n",
       "      <td>0.0092</td>\n",
       "      <td>2.405600e+08</td>\n",
       "      <td>1.728520e+08</td>\n",
       "      <td>0.0</td>\n",
       "      <td>3.000500e+07</td>\n",
       "      <td>5.833300e+07</td>\n",
       "      <td>1.145190e+08</td>\n",
       "      <td>20694000.0</td>\n",
       "      <td>8.491100e+07</td>\n",
       "      <td>...</td>\n",
       "      <td>0.0000</td>\n",
       "      <td>-0.2110</td>\n",
       "      <td>0.0000</td>\n",
       "      <td>0.0112</td>\n",
       "      <td>0.6327</td>\n",
       "      <td>-0.4436</td>\n",
       "      <td>0.0000</td>\n",
       "      <td>-0.1174</td>\n",
       "      <td>101.183423</td>\n",
       "      <td>1</td>\n",
       "    </tr>\n",
       "    <tr>\n",
       "      <th>18691</th>\n",
       "      <td>1.901740e+08</td>\n",
       "      <td>0.5127</td>\n",
       "      <td>3.787500e+07</td>\n",
       "      <td>1.522990e+08</td>\n",
       "      <td>39379000.0</td>\n",
       "      <td>1.475440e+08</td>\n",
       "      <td>1.869230e+08</td>\n",
       "      <td>-3.462400e+07</td>\n",
       "      <td>0.0</td>\n",
       "      <td>-3.230900e+07</td>\n",
       "      <td>...</td>\n",
       "      <td>0.0000</td>\n",
       "      <td>0.5777</td>\n",
       "      <td>0.0000</td>\n",
       "      <td>1.4482</td>\n",
       "      <td>1.7272</td>\n",
       "      <td>0.0000</td>\n",
       "      <td>0.1734</td>\n",
       "      <td>0.4790</td>\n",
       "      <td>16.804819</td>\n",
       "      <td>1</td>\n",
       "    </tr>\n",
       "    <tr>\n",
       "      <th>18693</th>\n",
       "      <td>3.702738e+07</td>\n",
       "      <td>0.3446</td>\n",
       "      <td>2.569266e+07</td>\n",
       "      <td>1.133472e+07</td>\n",
       "      <td>4001757.0</td>\n",
       "      <td>1.050856e+07</td>\n",
       "      <td>1.451031e+07</td>\n",
       "      <td>-3.175589e+06</td>\n",
       "      <td>65693.0</td>\n",
       "      <td>-2.533062e+06</td>\n",
       "      <td>...</td>\n",
       "      <td>0.0000</td>\n",
       "      <td>1.0298</td>\n",
       "      <td>0.8461</td>\n",
       "      <td>1.1314</td>\n",
       "      <td>0.8599</td>\n",
       "      <td>-0.5862</td>\n",
       "      <td>0.4892</td>\n",
       "      <td>0.6349</td>\n",
       "      <td>-2.415457</td>\n",
       "      <td>0</td>\n",
       "    </tr>\n",
       "    <tr>\n",
       "      <th>18695</th>\n",
       "      <td>1.506840e+08</td>\n",
       "      <td>0.1559</td>\n",
       "      <td>9.600300e+07</td>\n",
       "      <td>5.468100e+07</td>\n",
       "      <td>16210000.0</td>\n",
       "      <td>7.610600e+07</td>\n",
       "      <td>9.559800e+07</td>\n",
       "      <td>-4.091700e+07</td>\n",
       "      <td>3264000.0</td>\n",
       "      <td>-5.304200e+07</td>\n",
       "      <td>...</td>\n",
       "      <td>0.0000</td>\n",
       "      <td>0.1814</td>\n",
       "      <td>0.0000</td>\n",
       "      <td>0.5261</td>\n",
       "      <td>1.0422</td>\n",
       "      <td>-0.1806</td>\n",
       "      <td>0.3342</td>\n",
       "      <td>0.4628</td>\n",
       "      <td>478.821387</td>\n",
       "      <td>1</td>\n",
       "    </tr>\n",
       "  </tbody>\n",
       "</table>\n",
       "<p>9358 rows × 187 columns</p>\n",
       "</div>"
      ],
      "text/plain": [
       "            Revenue  Revenue Growth  Cost of Revenue  Gross Profit  \\\n",
       "3      6.505800e+10         -0.0037     3.263800e+10  3.242000e+10   \n",
       "4      6.683200e+10          0.0273     3.443200e+10  3.240000e+10   \n",
       "11     1.084650e+11          0.1026     8.551200e+10  2.295300e+10   \n",
       "12     1.098300e+11          0.0126     8.549600e+10  2.433400e+10   \n",
       "13     1.153370e+11          0.0501     8.950200e+10  2.583500e+10   \n",
       "...             ...             ...              ...           ...   \n",
       "18678  8.271740e+08          0.5215     6.392980e+08  1.878760e+08   \n",
       "18682  4.134120e+08          0.0092     2.405600e+08  1.728520e+08   \n",
       "18691  1.901740e+08          0.5127     3.787500e+07  1.522990e+08   \n",
       "18693  3.702738e+07          0.3446     2.569266e+07  1.133472e+07   \n",
       "18695  1.506840e+08          0.1559     9.600300e+07  5.468100e+07   \n",
       "\n",
       "       R&D Expenses  SG&A Expense  Operating Expenses  Operating Income  \\\n",
       "3               0.0  1.865400e+10        1.865400e+10      1.376600e+10   \n",
       "4               0.0  1.903700e+10        1.903700e+10      1.336300e+10   \n",
       "11              0.0  1.716100e+10        1.981600e+10      3.137000e+09   \n",
       "12              0.0  1.794600e+10        2.075800e+10      3.576000e+09   \n",
       "13              0.0  1.916200e+10        2.238300e+10      3.452000e+09   \n",
       "...             ...           ...                 ...               ...   \n",
       "18678           0.0  7.599300e+07        2.158220e+08     -2.794600e+07   \n",
       "18682           0.0  3.000500e+07        5.833300e+07      1.145190e+08   \n",
       "18691    39379000.0  1.475440e+08        1.869230e+08     -3.462400e+07   \n",
       "18693     4001757.0  1.050856e+07        1.451031e+07     -3.175589e+06   \n",
       "18695    16210000.0  7.610600e+07        9.559800e+07     -4.091700e+07   \n",
       "\n",
       "       Interest Expense  Earnings before Tax  ...  \\\n",
       "3           465000000.0         1.838900e+10  ...   \n",
       "4           506000000.0         1.321500e+10  ...   \n",
       "11          488000000.0         2.630000e+09  ...   \n",
       "12          482000000.0         3.084000e+09  ...   \n",
       "13          522000000.0         2.932000e+09  ...   \n",
       "...                 ...                  ...  ...   \n",
       "18678        22315000.0        -5.060800e+07  ...   \n",
       "18682        20694000.0         8.491100e+07  ...   \n",
       "18691               0.0        -3.230900e+07  ...   \n",
       "18693           65693.0        -2.533062e+06  ...   \n",
       "18695         3264000.0        -5.304200e+07  ...   \n",
       "\n",
       "       3Y Dividend per Share Growth (per Share)  Receivables growth  \\\n",
       "3                                        0.0329              0.0505   \n",
       "4                                        0.0241              0.0200   \n",
       "11                                       0.1651              0.1344   \n",
       "12                                       0.2650              0.3697   \n",
       "13                                       0.1359             -0.0490   \n",
       "...                                         ...                 ...   \n",
       "18678                                    0.0000              0.5546   \n",
       "18682                                    0.0000             -0.2110   \n",
       "18691                                    0.0000              0.5777   \n",
       "18693                                    0.0000              1.0298   \n",
       "18695                                    0.0000              0.1814   \n",
       "\n",
       "       Inventory Growth  Asset Growth  Book Value per Share Growth  \\\n",
       "3               -0.0195       -0.0529                       0.0012   \n",
       "4                0.0247       -0.0174                      -0.0357   \n",
       "11               0.0065        0.0415                       0.0535   \n",
       "12               0.0844        0.1115                       0.2797   \n",
       "13               0.0637        0.0769                       0.0071   \n",
       "...                 ...           ...                          ...   \n",
       "18678            3.1131        0.9714                       0.2623   \n",
       "18682            0.0000        0.0112                       0.6327   \n",
       "18691            0.0000        1.4482                       1.7272   \n",
       "18693            0.8461        1.1314                       0.8599   \n",
       "18695            0.0000        0.5261                       1.0422   \n",
       "\n",
       "       Debt Growth  R&D Expense Growth  SG&A Expenses Growth  \\\n",
       "3           0.0325              0.0000               -0.0156   \n",
       "4          -0.0097              0.0000                0.0205   \n",
       "11          0.0254              0.0000                0.1293   \n",
       "12          0.0416              0.0000                0.0457   \n",
       "13          0.1654              0.0000                0.0678   \n",
       "...            ...                 ...                   ...   \n",
       "18678       0.7721              0.0000                0.5336   \n",
       "18682      -0.4436              0.0000               -0.1174   \n",
       "18691       0.0000              0.1734                0.4790   \n",
       "18693      -0.5862              0.4892                0.6349   \n",
       "18695      -0.1806              0.3342                0.4628   \n",
       "\n",
       "       Next_Year_Price_Var[%]  Class  \n",
       "3                    4.975151      1  \n",
       "4                   40.680273      1  \n",
       "11                 -15.036503      0  \n",
       "12                 -17.068252      0  \n",
       "13                  -0.990449      0  \n",
       "...                       ...    ...  \n",
       "18678              -65.955592      0  \n",
       "18682              101.183423      1  \n",
       "18691               16.804819      1  \n",
       "18693               -2.415457      0  \n",
       "18695              478.821387      1  \n",
       "\n",
       "[9358 rows x 187 columns]"
      ]
     },
     "execution_count": 72,
     "metadata": {},
     "output_type": "execute_result"
    }
   ],
   "source": [
    "df.select_dtypes('number')"
   ]
  },
  {
   "cell_type": "code",
   "execution_count": 73,
   "id": "54c7b349",
   "metadata": {
    "colab": {
     "base_uri": "https://localhost:8080/"
    },
    "id": "54c7b349",
    "outputId": "53c322be-e8fb-4312-ee5b-271db7e96797"
   },
   "outputs": [
    {
     "data": {
      "text/plain": [
       "0.000000e+00    6043\n",
       "1.050000e+08       3\n",
       "8.200000e+07       3\n",
       "7.310000e+07       3\n",
       "6.910000e+06       2\n",
       "                ... \n",
       "1.370000e+08       1\n",
       "2.544400e+08       1\n",
       "7.661000e+08       1\n",
       "5.726000e+09       1\n",
       "7.445200e+07       1\n",
       "Name: R&D Expenses, Length: 3238, dtype: int64"
      ]
     },
     "execution_count": 73,
     "metadata": {},
     "output_type": "execute_result"
    }
   ],
   "source": [
    "df['R&D Expenses'].value_counts()"
   ]
  },
  {
   "cell_type": "code",
   "execution_count": 74,
   "id": "b1bec1c1",
   "metadata": {
    "colab": {
     "base_uri": "https://localhost:8080/"
    },
    "id": "b1bec1c1",
    "outputId": "4d331ac6-f938-4935-8a58-8ef7cbb68f73"
   },
   "outputs": [
    {
     "data": {
      "text/plain": [
       "9358"
      ]
     },
     "execution_count": 74,
     "metadata": {},
     "output_type": "execute_result"
    }
   ],
   "source": [
    "df.shape[0]"
   ]
  },
  {
   "cell_type": "code",
   "execution_count": 75,
   "id": "cae1bcb3",
   "metadata": {
    "colab": {
     "base_uri": "https://localhost:8080/"
    },
    "id": "cae1bcb3",
    "outputId": "3c4dabd2-24b4-4008-fa32-487f31e9457a"
   },
   "outputs": [
    {
     "data": {
      "text/plain": [
       "0.645757640521479"
      ]
     },
     "execution_count": 75,
     "metadata": {},
     "output_type": "execute_result"
    }
   ],
   "source": [
    "df['R&D Expenses'].value_counts(normalize=True).sort_values(ascending=False)[0]"
   ]
  },
  {
   "cell_type": "code",
   "execution_count": 76,
   "id": "f179bac2",
   "metadata": {
    "id": "f179bac2"
   },
   "outputs": [],
   "source": [
    "# more than 50% value of R&D expense is 0. Remove numeric cols with dominant values"
   ]
  },
  {
   "cell_type": "code",
   "execution_count": 77,
   "id": "092bed2e",
   "metadata": {
    "colab": {
     "base_uri": "https://localhost:8080/"
    },
    "id": "092bed2e",
    "outputId": "453ac719-4581-45f8-96a5-b9bd5b1552a5"
   },
   "outputs": [
    {
     "data": {
      "text/plain": [
       "9358"
      ]
     },
     "execution_count": 77,
     "metadata": {},
     "output_type": "execute_result"
    }
   ],
   "source": [
    "df.operatingProfitMargin.value_counts().sort_values(ascending=False).iloc[0]"
   ]
  },
  {
   "cell_type": "code",
   "execution_count": 78,
   "id": "764aafdc",
   "metadata": {
    "id": "764aafdc"
   },
   "outputs": [],
   "source": [
    "#Code goes to except block when single value is met ---> which is SERIES and you cannot do simple indexing in SERIES"
   ]
  },
  {
   "cell_type": "code",
   "execution_count": 79,
   "id": "a7e1d178",
   "metadata": {
    "colab": {
     "base_uri": "https://localhost:8080/"
    },
    "id": "a7e1d178",
    "outputId": "e70e36fd-abc0-4932-f77d-b8c94b1fd80b"
   },
   "outputs": [
    {
     "name": "stdout",
     "output_type": "stream",
     "text": [
      "Total Columns Deleted =  15\n"
     ]
    }
   ],
   "source": [
    "counter = 0\n",
    "for col in list(df.select_dtypes('number').columns):\n",
    "    try:  \n",
    "        val = df[col].value_counts(normalize=True).sort_values(ascending=False)[0]\n",
    "        if(val>0.5):\n",
    "            df.drop(col, axis=1, inplace=True)\n",
    "            counter = counter+1\n",
    "    except:\n",
    "        val = df[col].value_counts(normalize=True).sort_values(ascending=False).iloc[0]\n",
    "        if(val>0.5):\n",
    "            df.drop(col, axis=1, inplace=True)\n",
    "            counter = counter+1\n",
    "        \n",
    "    \n",
    "print(\"Total Columns Deleted = \",counter)"
   ]
  },
  {
   "cell_type": "code",
   "execution_count": 80,
   "id": "21f645b3",
   "metadata": {
    "colab": {
     "base_uri": "https://localhost:8080/"
    },
    "id": "21f645b3",
    "outputId": "cdff3216-cd7e-4905-e549-a7d337e23ad8"
   },
   "outputs": [
    {
     "data": {
      "text/plain": [
       "(9358, 173)"
      ]
     },
     "execution_count": 80,
     "metadata": {},
     "output_type": "execute_result"
    }
   ],
   "source": [
    "df.shape"
   ]
  },
  {
   "cell_type": "code",
   "execution_count": 81,
   "id": "161e56a6",
   "metadata": {
    "colab": {
     "base_uri": "https://localhost:8080/"
    },
    "id": "161e56a6",
    "outputId": "31031c1f-42eb-48a2-c12e-d9ddd5bab459"
   },
   "outputs": [
    {
     "data": {
      "text/plain": [
       "Index(['Revenue', 'Revenue Growth', 'Cost of Revenue', 'Gross Profit',\n",
       "       'SG&A Expense', 'Operating Expenses', 'Operating Income',\n",
       "       'Interest Expense', 'Earnings before Tax', 'Income Tax Expense',\n",
       "       ...\n",
       "       '3Y Shareholders Equity Growth (per Share)', 'Receivables growth',\n",
       "       'Inventory Growth', 'Asset Growth', 'Book Value per Share Growth',\n",
       "       'Debt Growth', 'SG&A Expenses Growth', 'Sector',\n",
       "       'Next_Year_Price_Var[%]', 'Class'],\n",
       "      dtype='object', length=173)"
      ]
     },
     "execution_count": 81,
     "metadata": {},
     "output_type": "execute_result"
    }
   ],
   "source": [
    "df.columns"
   ]
  },
  {
   "cell_type": "code",
   "execution_count": 82,
   "id": "339057f5",
   "metadata": {
    "colab": {
     "base_uri": "https://localhost:8080/"
    },
    "id": "339057f5",
    "outputId": "fd9dcc97-3525-43b7-c7c0-3b857d239f5b"
   },
   "outputs": [
    {
     "data": {
      "text/html": [
       "<div>\n",
       "<style scoped>\n",
       "    .dataframe tbody tr th:only-of-type {\n",
       "        vertical-align: middle;\n",
       "    }\n",
       "\n",
       "    .dataframe tbody tr th {\n",
       "        vertical-align: top;\n",
       "    }\n",
       "\n",
       "    .dataframe thead th {\n",
       "        text-align: right;\n",
       "    }\n",
       "</style>\n",
       "<table border=\"1\" class=\"dataframe\">\n",
       "  <thead>\n",
       "    <tr style=\"text-align: right;\">\n",
       "      <th></th>\n",
       "      <th>Revenue</th>\n",
       "      <th>Revenue Growth</th>\n",
       "      <th>Cost of Revenue</th>\n",
       "      <th>Gross Profit</th>\n",
       "      <th>SG&amp;A Expense</th>\n",
       "      <th>Operating Expenses</th>\n",
       "      <th>Operating Income</th>\n",
       "      <th>Interest Expense</th>\n",
       "      <th>Earnings before Tax</th>\n",
       "      <th>Income Tax Expense</th>\n",
       "      <th>...</th>\n",
       "      <th>3Y Net Income Growth (per Share)</th>\n",
       "      <th>3Y Shareholders Equity Growth (per Share)</th>\n",
       "      <th>Receivables growth</th>\n",
       "      <th>Inventory Growth</th>\n",
       "      <th>Asset Growth</th>\n",
       "      <th>Book Value per Share Growth</th>\n",
       "      <th>Debt Growth</th>\n",
       "      <th>SG&amp;A Expenses Growth</th>\n",
       "      <th>Next_Year_Price_Var[%]</th>\n",
       "      <th>Class</th>\n",
       "    </tr>\n",
       "  </thead>\n",
       "  <tbody>\n",
       "    <tr>\n",
       "      <th>3</th>\n",
       "      <td>6.505800e+10</td>\n",
       "      <td>-0.0037</td>\n",
       "      <td>3.263800e+10</td>\n",
       "      <td>3.242000e+10</td>\n",
       "      <td>1.865400e+10</td>\n",
       "      <td>1.865400e+10</td>\n",
       "      <td>1.376600e+10</td>\n",
       "      <td>465000000.0</td>\n",
       "      <td>1.838900e+10</td>\n",
       "      <td>3.063000e+09</td>\n",
       "      <td>...</td>\n",
       "      <td>0.1167</td>\n",
       "      <td>-0.0552</td>\n",
       "      <td>0.0505</td>\n",
       "      <td>-0.0195</td>\n",
       "      <td>-0.0529</td>\n",
       "      <td>0.0012</td>\n",
       "      <td>0.0325</td>\n",
       "      <td>-0.0156</td>\n",
       "      <td>4.975151</td>\n",
       "      <td>1</td>\n",
       "    </tr>\n",
       "    <tr>\n",
       "      <th>4</th>\n",
       "      <td>6.683200e+10</td>\n",
       "      <td>0.0273</td>\n",
       "      <td>3.443200e+10</td>\n",
       "      <td>3.240000e+10</td>\n",
       "      <td>1.903700e+10</td>\n",
       "      <td>1.903700e+10</td>\n",
       "      <td>1.336300e+10</td>\n",
       "      <td>506000000.0</td>\n",
       "      <td>1.321500e+10</td>\n",
       "      <td>3.465000e+09</td>\n",
       "      <td>...</td>\n",
       "      <td>0.1435</td>\n",
       "      <td>-0.0328</td>\n",
       "      <td>0.0200</td>\n",
       "      <td>0.0247</td>\n",
       "      <td>-0.0174</td>\n",
       "      <td>-0.0357</td>\n",
       "      <td>-0.0097</td>\n",
       "      <td>0.0205</td>\n",
       "      <td>40.680273</td>\n",
       "      <td>1</td>\n",
       "    </tr>\n",
       "    <tr>\n",
       "      <th>11</th>\n",
       "      <td>1.084650e+11</td>\n",
       "      <td>0.1026</td>\n",
       "      <td>8.551200e+10</td>\n",
       "      <td>2.295300e+10</td>\n",
       "      <td>1.716100e+10</td>\n",
       "      <td>1.981600e+10</td>\n",
       "      <td>3.137000e+09</td>\n",
       "      <td>488000000.0</td>\n",
       "      <td>2.630000e+09</td>\n",
       "      <td>9.020000e+08</td>\n",
       "      <td>...</td>\n",
       "      <td>0.5114</td>\n",
       "      <td>0.1781</td>\n",
       "      <td>0.1344</td>\n",
       "      <td>0.0065</td>\n",
       "      <td>0.0415</td>\n",
       "      <td>0.0535</td>\n",
       "      <td>0.0254</td>\n",
       "      <td>0.1293</td>\n",
       "      <td>-15.036503</td>\n",
       "      <td>0</td>\n",
       "    </tr>\n",
       "    <tr>\n",
       "      <th>12</th>\n",
       "      <td>1.098300e+11</td>\n",
       "      <td>0.0126</td>\n",
       "      <td>8.549600e+10</td>\n",
       "      <td>2.433400e+10</td>\n",
       "      <td>1.794600e+10</td>\n",
       "      <td>2.075800e+10</td>\n",
       "      <td>3.576000e+09</td>\n",
       "      <td>482000000.0</td>\n",
       "      <td>3.084000e+09</td>\n",
       "      <td>1.045000e+09</td>\n",
       "      <td>...</td>\n",
       "      <td>0.1455</td>\n",
       "      <td>0.2139</td>\n",
       "      <td>0.3697</td>\n",
       "      <td>0.0844</td>\n",
       "      <td>0.1115</td>\n",
       "      <td>0.2797</td>\n",
       "      <td>0.0416</td>\n",
       "      <td>0.0457</td>\n",
       "      <td>-17.068252</td>\n",
       "      <td>0</td>\n",
       "    </tr>\n",
       "    <tr>\n",
       "      <th>13</th>\n",
       "      <td>1.153370e+11</td>\n",
       "      <td>0.0501</td>\n",
       "      <td>8.950200e+10</td>\n",
       "      <td>2.583500e+10</td>\n",
       "      <td>1.916200e+10</td>\n",
       "      <td>2.238300e+10</td>\n",
       "      <td>3.452000e+09</td>\n",
       "      <td>522000000.0</td>\n",
       "      <td>2.932000e+09</td>\n",
       "      <td>9.570000e+08</td>\n",
       "      <td>...</td>\n",
       "      <td>0.1237</td>\n",
       "      <td>0.1073</td>\n",
       "      <td>-0.0490</td>\n",
       "      <td>0.0637</td>\n",
       "      <td>0.0769</td>\n",
       "      <td>0.0071</td>\n",
       "      <td>0.1654</td>\n",
       "      <td>0.0678</td>\n",
       "      <td>-0.990449</td>\n",
       "      <td>0</td>\n",
       "    </tr>\n",
       "    <tr>\n",
       "      <th>...</th>\n",
       "      <td>...</td>\n",
       "      <td>...</td>\n",
       "      <td>...</td>\n",
       "      <td>...</td>\n",
       "      <td>...</td>\n",
       "      <td>...</td>\n",
       "      <td>...</td>\n",
       "      <td>...</td>\n",
       "      <td>...</td>\n",
       "      <td>...</td>\n",
       "      <td>...</td>\n",
       "      <td>...</td>\n",
       "      <td>...</td>\n",
       "      <td>...</td>\n",
       "      <td>...</td>\n",
       "      <td>...</td>\n",
       "      <td>...</td>\n",
       "      <td>...</td>\n",
       "      <td>...</td>\n",
       "      <td>...</td>\n",
       "      <td>...</td>\n",
       "    </tr>\n",
       "    <tr>\n",
       "      <th>18678</th>\n",
       "      <td>8.271740e+08</td>\n",
       "      <td>0.5215</td>\n",
       "      <td>6.392980e+08</td>\n",
       "      <td>1.878760e+08</td>\n",
       "      <td>7.599300e+07</td>\n",
       "      <td>2.158220e+08</td>\n",
       "      <td>-2.794600e+07</td>\n",
       "      <td>22315000.0</td>\n",
       "      <td>-5.060800e+07</td>\n",
       "      <td>2.375000e+06</td>\n",
       "      <td>...</td>\n",
       "      <td>0.0000</td>\n",
       "      <td>-0.0304</td>\n",
       "      <td>0.5546</td>\n",
       "      <td>3.1131</td>\n",
       "      <td>0.9714</td>\n",
       "      <td>0.2623</td>\n",
       "      <td>0.7721</td>\n",
       "      <td>0.5336</td>\n",
       "      <td>-65.955592</td>\n",
       "      <td>0</td>\n",
       "    </tr>\n",
       "    <tr>\n",
       "      <th>18682</th>\n",
       "      <td>4.134120e+08</td>\n",
       "      <td>0.0092</td>\n",
       "      <td>2.405600e+08</td>\n",
       "      <td>1.728520e+08</td>\n",
       "      <td>3.000500e+07</td>\n",
       "      <td>5.833300e+07</td>\n",
       "      <td>1.145190e+08</td>\n",
       "      <td>20694000.0</td>\n",
       "      <td>8.491100e+07</td>\n",
       "      <td>2.120700e+07</td>\n",
       "      <td>...</td>\n",
       "      <td>1.2723</td>\n",
       "      <td>0.0853</td>\n",
       "      <td>-0.2110</td>\n",
       "      <td>0.0000</td>\n",
       "      <td>0.0112</td>\n",
       "      <td>0.6327</td>\n",
       "      <td>-0.4436</td>\n",
       "      <td>-0.1174</td>\n",
       "      <td>101.183423</td>\n",
       "      <td>1</td>\n",
       "    </tr>\n",
       "    <tr>\n",
       "      <th>18691</th>\n",
       "      <td>1.901740e+08</td>\n",
       "      <td>0.5127</td>\n",
       "      <td>3.787500e+07</td>\n",
       "      <td>1.522990e+08</td>\n",
       "      <td>1.475440e+08</td>\n",
       "      <td>1.869230e+08</td>\n",
       "      <td>-3.462400e+07</td>\n",
       "      <td>0.0</td>\n",
       "      <td>-3.230900e+07</td>\n",
       "      <td>1.337000e+06</td>\n",
       "      <td>...</td>\n",
       "      <td>0.0000</td>\n",
       "      <td>0.0000</td>\n",
       "      <td>0.5777</td>\n",
       "      <td>0.0000</td>\n",
       "      <td>1.4482</td>\n",
       "      <td>1.7272</td>\n",
       "      <td>0.0000</td>\n",
       "      <td>0.4790</td>\n",
       "      <td>16.804819</td>\n",
       "      <td>1</td>\n",
       "    </tr>\n",
       "    <tr>\n",
       "      <th>18693</th>\n",
       "      <td>3.702738e+07</td>\n",
       "      <td>0.3446</td>\n",
       "      <td>2.569266e+07</td>\n",
       "      <td>1.133472e+07</td>\n",
       "      <td>1.050856e+07</td>\n",
       "      <td>1.451031e+07</td>\n",
       "      <td>-3.175589e+06</td>\n",
       "      <td>65693.0</td>\n",
       "      <td>-2.533062e+06</td>\n",
       "      <td>-1.396784e+06</td>\n",
       "      <td>...</td>\n",
       "      <td>0.0000</td>\n",
       "      <td>0.2799</td>\n",
       "      <td>1.0298</td>\n",
       "      <td>0.8461</td>\n",
       "      <td>1.1314</td>\n",
       "      <td>0.8599</td>\n",
       "      <td>-0.5862</td>\n",
       "      <td>0.6349</td>\n",
       "      <td>-2.415457</td>\n",
       "      <td>0</td>\n",
       "    </tr>\n",
       "    <tr>\n",
       "      <th>18695</th>\n",
       "      <td>1.506840e+08</td>\n",
       "      <td>0.1559</td>\n",
       "      <td>9.600300e+07</td>\n",
       "      <td>5.468100e+07</td>\n",
       "      <td>7.610600e+07</td>\n",
       "      <td>9.559800e+07</td>\n",
       "      <td>-4.091700e+07</td>\n",
       "      <td>3264000.0</td>\n",
       "      <td>-5.304200e+07</td>\n",
       "      <td>0.000000e+00</td>\n",
       "      <td>...</td>\n",
       "      <td>0.0000</td>\n",
       "      <td>0.0000</td>\n",
       "      <td>0.1814</td>\n",
       "      <td>0.0000</td>\n",
       "      <td>0.5261</td>\n",
       "      <td>1.0422</td>\n",
       "      <td>-0.1806</td>\n",
       "      <td>0.4628</td>\n",
       "      <td>478.821387</td>\n",
       "      <td>1</td>\n",
       "    </tr>\n",
       "  </tbody>\n",
       "</table>\n",
       "<p>9358 rows × 172 columns</p>\n",
       "</div>"
      ],
      "text/plain": [
       "            Revenue  Revenue Growth  Cost of Revenue  Gross Profit  \\\n",
       "3      6.505800e+10         -0.0037     3.263800e+10  3.242000e+10   \n",
       "4      6.683200e+10          0.0273     3.443200e+10  3.240000e+10   \n",
       "11     1.084650e+11          0.1026     8.551200e+10  2.295300e+10   \n",
       "12     1.098300e+11          0.0126     8.549600e+10  2.433400e+10   \n",
       "13     1.153370e+11          0.0501     8.950200e+10  2.583500e+10   \n",
       "...             ...             ...              ...           ...   \n",
       "18678  8.271740e+08          0.5215     6.392980e+08  1.878760e+08   \n",
       "18682  4.134120e+08          0.0092     2.405600e+08  1.728520e+08   \n",
       "18691  1.901740e+08          0.5127     3.787500e+07  1.522990e+08   \n",
       "18693  3.702738e+07          0.3446     2.569266e+07  1.133472e+07   \n",
       "18695  1.506840e+08          0.1559     9.600300e+07  5.468100e+07   \n",
       "\n",
       "       SG&A Expense  Operating Expenses  Operating Income  Interest Expense  \\\n",
       "3      1.865400e+10        1.865400e+10      1.376600e+10       465000000.0   \n",
       "4      1.903700e+10        1.903700e+10      1.336300e+10       506000000.0   \n",
       "11     1.716100e+10        1.981600e+10      3.137000e+09       488000000.0   \n",
       "12     1.794600e+10        2.075800e+10      3.576000e+09       482000000.0   \n",
       "13     1.916200e+10        2.238300e+10      3.452000e+09       522000000.0   \n",
       "...             ...                 ...               ...               ...   \n",
       "18678  7.599300e+07        2.158220e+08     -2.794600e+07        22315000.0   \n",
       "18682  3.000500e+07        5.833300e+07      1.145190e+08        20694000.0   \n",
       "18691  1.475440e+08        1.869230e+08     -3.462400e+07               0.0   \n",
       "18693  1.050856e+07        1.451031e+07     -3.175589e+06           65693.0   \n",
       "18695  7.610600e+07        9.559800e+07     -4.091700e+07         3264000.0   \n",
       "\n",
       "       Earnings before Tax  Income Tax Expense  ...  \\\n",
       "3             1.838900e+10        3.063000e+09  ...   \n",
       "4             1.321500e+10        3.465000e+09  ...   \n",
       "11            2.630000e+09        9.020000e+08  ...   \n",
       "12            3.084000e+09        1.045000e+09  ...   \n",
       "13            2.932000e+09        9.570000e+08  ...   \n",
       "...                    ...                 ...  ...   \n",
       "18678        -5.060800e+07        2.375000e+06  ...   \n",
       "18682         8.491100e+07        2.120700e+07  ...   \n",
       "18691        -3.230900e+07        1.337000e+06  ...   \n",
       "18693        -2.533062e+06       -1.396784e+06  ...   \n",
       "18695        -5.304200e+07        0.000000e+00  ...   \n",
       "\n",
       "       3Y Net Income Growth (per Share)  \\\n",
       "3                                0.1167   \n",
       "4                                0.1435   \n",
       "11                               0.5114   \n",
       "12                               0.1455   \n",
       "13                               0.1237   \n",
       "...                                 ...   \n",
       "18678                            0.0000   \n",
       "18682                            1.2723   \n",
       "18691                            0.0000   \n",
       "18693                            0.0000   \n",
       "18695                            0.0000   \n",
       "\n",
       "       3Y Shareholders Equity Growth (per Share)  Receivables growth  \\\n",
       "3                                        -0.0552              0.0505   \n",
       "4                                        -0.0328              0.0200   \n",
       "11                                        0.1781              0.1344   \n",
       "12                                        0.2139              0.3697   \n",
       "13                                        0.1073             -0.0490   \n",
       "...                                          ...                 ...   \n",
       "18678                                    -0.0304              0.5546   \n",
       "18682                                     0.0853             -0.2110   \n",
       "18691                                     0.0000              0.5777   \n",
       "18693                                     0.2799              1.0298   \n",
       "18695                                     0.0000              0.1814   \n",
       "\n",
       "       Inventory Growth  Asset Growth  Book Value per Share Growth  \\\n",
       "3               -0.0195       -0.0529                       0.0012   \n",
       "4                0.0247       -0.0174                      -0.0357   \n",
       "11               0.0065        0.0415                       0.0535   \n",
       "12               0.0844        0.1115                       0.2797   \n",
       "13               0.0637        0.0769                       0.0071   \n",
       "...                 ...           ...                          ...   \n",
       "18678            3.1131        0.9714                       0.2623   \n",
       "18682            0.0000        0.0112                       0.6327   \n",
       "18691            0.0000        1.4482                       1.7272   \n",
       "18693            0.8461        1.1314                       0.8599   \n",
       "18695            0.0000        0.5261                       1.0422   \n",
       "\n",
       "       Debt Growth  SG&A Expenses Growth  Next_Year_Price_Var[%]  Class  \n",
       "3           0.0325               -0.0156                4.975151      1  \n",
       "4          -0.0097                0.0205               40.680273      1  \n",
       "11          0.0254                0.1293              -15.036503      0  \n",
       "12          0.0416                0.0457              -17.068252      0  \n",
       "13          0.1654                0.0678               -0.990449      0  \n",
       "...            ...                   ...                     ...    ...  \n",
       "18678       0.7721                0.5336              -65.955592      0  \n",
       "18682      -0.4436               -0.1174              101.183423      1  \n",
       "18691       0.0000                0.4790               16.804819      1  \n",
       "18693      -0.5862                0.6349               -2.415457      0  \n",
       "18695      -0.1806                0.4628              478.821387      1  \n",
       "\n",
       "[9358 rows x 172 columns]"
      ]
     },
     "execution_count": 82,
     "metadata": {},
     "output_type": "execute_result"
    }
   ],
   "source": [
    "df.select_dtypes(include='number')"
   ]
  },
  {
   "cell_type": "code",
   "execution_count": 83,
   "id": "a1379dc9",
   "metadata": {
    "colab": {
     "base_uri": "https://localhost:8080/"
    },
    "id": "a1379dc9",
    "outputId": "b2fa6a58-e114-45e8-ed56-5115f8c44a50"
   },
   "outputs": [
    {
     "data": {
      "text/html": [
       "<div>\n",
       "<style scoped>\n",
       "    .dataframe tbody tr th:only-of-type {\n",
       "        vertical-align: middle;\n",
       "    }\n",
       "\n",
       "    .dataframe tbody tr th {\n",
       "        vertical-align: top;\n",
       "    }\n",
       "\n",
       "    .dataframe thead th {\n",
       "        text-align: right;\n",
       "    }\n",
       "</style>\n",
       "<table border=\"1\" class=\"dataframe\">\n",
       "  <thead>\n",
       "    <tr style=\"text-align: right;\">\n",
       "      <th></th>\n",
       "      <th>Sector</th>\n",
       "    </tr>\n",
       "  </thead>\n",
       "  <tbody>\n",
       "    <tr>\n",
       "      <th>3</th>\n",
       "      <td>Consumer Defensive</td>\n",
       "    </tr>\n",
       "    <tr>\n",
       "      <th>4</th>\n",
       "      <td>Consumer Defensive</td>\n",
       "    </tr>\n",
       "    <tr>\n",
       "      <th>11</th>\n",
       "      <td>Consumer Defensive</td>\n",
       "    </tr>\n",
       "    <tr>\n",
       "      <th>12</th>\n",
       "      <td>Consumer Defensive</td>\n",
       "    </tr>\n",
       "    <tr>\n",
       "      <th>13</th>\n",
       "      <td>Consumer Defensive</td>\n",
       "    </tr>\n",
       "    <tr>\n",
       "      <th>...</th>\n",
       "      <td>...</td>\n",
       "    </tr>\n",
       "    <tr>\n",
       "      <th>18678</th>\n",
       "      <td>Energy</td>\n",
       "    </tr>\n",
       "    <tr>\n",
       "      <th>18682</th>\n",
       "      <td>Financial Services</td>\n",
       "    </tr>\n",
       "    <tr>\n",
       "      <th>18691</th>\n",
       "      <td>Technology</td>\n",
       "    </tr>\n",
       "    <tr>\n",
       "      <th>18693</th>\n",
       "      <td>Technology</td>\n",
       "    </tr>\n",
       "    <tr>\n",
       "      <th>18695</th>\n",
       "      <td>Technology</td>\n",
       "    </tr>\n",
       "  </tbody>\n",
       "</table>\n",
       "<p>9358 rows × 1 columns</p>\n",
       "</div>"
      ],
      "text/plain": [
       "                   Sector\n",
       "3      Consumer Defensive\n",
       "4      Consumer Defensive\n",
       "11     Consumer Defensive\n",
       "12     Consumer Defensive\n",
       "13     Consumer Defensive\n",
       "...                   ...\n",
       "18678              Energy\n",
       "18682  Financial Services\n",
       "18691          Technology\n",
       "18693          Technology\n",
       "18695          Technology\n",
       "\n",
       "[9358 rows x 1 columns]"
      ]
     },
     "execution_count": 83,
     "metadata": {},
     "output_type": "execute_result"
    }
   ],
   "source": [
    "df.select_dtypes(include='object')"
   ]
  },
  {
   "cell_type": "code",
   "execution_count": 84,
   "id": "5c3571e9",
   "metadata": {
    "colab": {
     "base_uri": "https://localhost:8080/"
    },
    "id": "5c3571e9",
    "outputId": "47ad06d2-eaa0-44e3-bf31-a784f5680394",
    "scrolled": true
   },
   "outputs": [
    {
     "data": {
      "text/plain": [
       "(9358, 172)"
      ]
     },
     "execution_count": 84,
     "metadata": {},
     "output_type": "execute_result"
    }
   ],
   "source": [
    "df.select_dtypes(include='number').shape"
   ]
  },
  {
   "cell_type": "code",
   "execution_count": 85,
   "id": "10adb6e9",
   "metadata": {
    "colab": {
     "base_uri": "https://localhost:8080/"
    },
    "id": "10adb6e9",
    "outputId": "eb1b4a41-572b-4607-da9d-e01952d662ed"
   },
   "outputs": [
    {
     "data": {
      "text/plain": [
       "(9358, 1)"
      ]
     },
     "execution_count": 85,
     "metadata": {},
     "output_type": "execute_result"
    }
   ],
   "source": [
    "df.select_dtypes(include='object').shape"
   ]
  },
  {
   "cell_type": "code",
   "execution_count": 86,
   "id": "85dff6c1",
   "metadata": {
    "colab": {
     "base_uri": "https://localhost:8080/"
    },
    "id": "85dff6c1",
    "outputId": "bd17cd71-899c-4a37-9cce-bd0175ea3f54"
   },
   "outputs": [
    {
     "data": {
      "text/plain": [
       "(9358, 0)"
      ]
     },
     "execution_count": 86,
     "metadata": {},
     "output_type": "execute_result"
    }
   ],
   "source": [
    "df.select_dtypes(include='category').shape"
   ]
  },
  {
   "cell_type": "code",
   "execution_count": 87,
   "id": "1bb973a6",
   "metadata": {
    "colab": {
     "base_uri": "https://localhost:8080/"
    },
    "id": "1bb973a6",
    "outputId": "0a99b0f0-3631-44fd-8b30-63d481468734"
   },
   "outputs": [
    {
     "data": {
      "text/plain": [
       "(9358, 173)"
      ]
     },
     "execution_count": 87,
     "metadata": {},
     "output_type": "execute_result"
    }
   ],
   "source": [
    "df.shape"
   ]
  },
  {
   "cell_type": "code",
   "execution_count": 88,
   "id": "56c92067",
   "metadata": {
    "id": "56c92067"
   },
   "outputs": [],
   "source": [
    "# 155 cols ----> 154 number, 1 Object"
   ]
  },
  {
   "cell_type": "code",
   "execution_count": 89,
   "id": "ae853304",
   "metadata": {
    "colab": {
     "base_uri": "https://localhost:8080/"
    },
    "id": "ae853304",
    "outputId": "49497a44-0589-41b9-a2f6-e8b93751e2ea"
   },
   "outputs": [
    {
     "data": {
      "text/plain": [
       "Technology                1624\n",
       "Industrials               1511\n",
       "Healthcare                1367\n",
       "Financial Services        1304\n",
       "Consumer Cyclical         1239\n",
       "Basic Materials            498\n",
       "Real Estate                495\n",
       "Consumer Defensive         462\n",
       "Energy                     461\n",
       "Utilities                  293\n",
       "Communication Services     104\n",
       "Name: Sector, dtype: int64"
      ]
     },
     "execution_count": 89,
     "metadata": {},
     "output_type": "execute_result"
    }
   ],
   "source": [
    "df.Sector.value_counts()"
   ]
  },
  {
   "cell_type": "code",
   "execution_count": 90,
   "id": "787c440f",
   "metadata": {
    "id": "787c440f"
   },
   "outputs": [],
   "source": [
    "sector_list = list(df.Sector.unique())"
   ]
  },
  {
   "cell_type": "code",
   "execution_count": 91,
   "id": "1b3a0691",
   "metadata": {
    "colab": {
     "base_uri": "https://localhost:8080/"
    },
    "id": "1b3a0691",
    "outputId": "ca6ae95a-eda9-4cf6-d504-8eeaf7e675f7"
   },
   "outputs": [
    {
     "data": {
      "text/plain": [
       "['Consumer Defensive',\n",
       " 'Basic Materials',\n",
       " 'Healthcare',\n",
       " 'Consumer Cyclical',\n",
       " 'Industrials',\n",
       " 'Real Estate',\n",
       " 'Communication Services',\n",
       " 'Energy',\n",
       " 'Financial Services',\n",
       " 'Utilities',\n",
       " 'Technology']"
      ]
     },
     "execution_count": 91,
     "metadata": {},
     "output_type": "execute_result"
    }
   ],
   "source": [
    "sector_list"
   ]
  },
  {
   "cell_type": "code",
   "execution_count": 92,
   "id": "ceadbd07",
   "metadata": {
    "colab": {
     "base_uri": "https://localhost:8080/"
    },
    "id": "ceadbd07",
    "outputId": "c6898025-d892-44cc-b056-27206d5f3798"
   },
   "outputs": [
    {
     "data": {
      "text/html": [
       "<div>\n",
       "<style scoped>\n",
       "    .dataframe tbody tr th:only-of-type {\n",
       "        vertical-align: middle;\n",
       "    }\n",
       "\n",
       "    .dataframe tbody tr th {\n",
       "        vertical-align: top;\n",
       "    }\n",
       "\n",
       "    .dataframe thead th {\n",
       "        text-align: right;\n",
       "    }\n",
       "</style>\n",
       "<table border=\"1\" class=\"dataframe\">\n",
       "  <thead>\n",
       "    <tr style=\"text-align: right;\">\n",
       "      <th></th>\n",
       "      <th>Communication Services</th>\n",
       "      <th>Consumer Cyclical</th>\n",
       "      <th>Consumer Defensive</th>\n",
       "      <th>Energy</th>\n",
       "      <th>Financial Services</th>\n",
       "      <th>Healthcare</th>\n",
       "      <th>Industrials</th>\n",
       "      <th>Real Estate</th>\n",
       "      <th>Technology</th>\n",
       "      <th>Utilities</th>\n",
       "    </tr>\n",
       "  </thead>\n",
       "  <tbody>\n",
       "    <tr>\n",
       "      <th>3</th>\n",
       "      <td>0</td>\n",
       "      <td>0</td>\n",
       "      <td>1</td>\n",
       "      <td>0</td>\n",
       "      <td>0</td>\n",
       "      <td>0</td>\n",
       "      <td>0</td>\n",
       "      <td>0</td>\n",
       "      <td>0</td>\n",
       "      <td>0</td>\n",
       "    </tr>\n",
       "    <tr>\n",
       "      <th>4</th>\n",
       "      <td>0</td>\n",
       "      <td>0</td>\n",
       "      <td>1</td>\n",
       "      <td>0</td>\n",
       "      <td>0</td>\n",
       "      <td>0</td>\n",
       "      <td>0</td>\n",
       "      <td>0</td>\n",
       "      <td>0</td>\n",
       "      <td>0</td>\n",
       "    </tr>\n",
       "    <tr>\n",
       "      <th>11</th>\n",
       "      <td>0</td>\n",
       "      <td>0</td>\n",
       "      <td>1</td>\n",
       "      <td>0</td>\n",
       "      <td>0</td>\n",
       "      <td>0</td>\n",
       "      <td>0</td>\n",
       "      <td>0</td>\n",
       "      <td>0</td>\n",
       "      <td>0</td>\n",
       "    </tr>\n",
       "    <tr>\n",
       "      <th>12</th>\n",
       "      <td>0</td>\n",
       "      <td>0</td>\n",
       "      <td>1</td>\n",
       "      <td>0</td>\n",
       "      <td>0</td>\n",
       "      <td>0</td>\n",
       "      <td>0</td>\n",
       "      <td>0</td>\n",
       "      <td>0</td>\n",
       "      <td>0</td>\n",
       "    </tr>\n",
       "    <tr>\n",
       "      <th>13</th>\n",
       "      <td>0</td>\n",
       "      <td>0</td>\n",
       "      <td>1</td>\n",
       "      <td>0</td>\n",
       "      <td>0</td>\n",
       "      <td>0</td>\n",
       "      <td>0</td>\n",
       "      <td>0</td>\n",
       "      <td>0</td>\n",
       "      <td>0</td>\n",
       "    </tr>\n",
       "    <tr>\n",
       "      <th>...</th>\n",
       "      <td>...</td>\n",
       "      <td>...</td>\n",
       "      <td>...</td>\n",
       "      <td>...</td>\n",
       "      <td>...</td>\n",
       "      <td>...</td>\n",
       "      <td>...</td>\n",
       "      <td>...</td>\n",
       "      <td>...</td>\n",
       "      <td>...</td>\n",
       "    </tr>\n",
       "    <tr>\n",
       "      <th>18678</th>\n",
       "      <td>0</td>\n",
       "      <td>0</td>\n",
       "      <td>0</td>\n",
       "      <td>1</td>\n",
       "      <td>0</td>\n",
       "      <td>0</td>\n",
       "      <td>0</td>\n",
       "      <td>0</td>\n",
       "      <td>0</td>\n",
       "      <td>0</td>\n",
       "    </tr>\n",
       "    <tr>\n",
       "      <th>18682</th>\n",
       "      <td>0</td>\n",
       "      <td>0</td>\n",
       "      <td>0</td>\n",
       "      <td>0</td>\n",
       "      <td>1</td>\n",
       "      <td>0</td>\n",
       "      <td>0</td>\n",
       "      <td>0</td>\n",
       "      <td>0</td>\n",
       "      <td>0</td>\n",
       "    </tr>\n",
       "    <tr>\n",
       "      <th>18691</th>\n",
       "      <td>0</td>\n",
       "      <td>0</td>\n",
       "      <td>0</td>\n",
       "      <td>0</td>\n",
       "      <td>0</td>\n",
       "      <td>0</td>\n",
       "      <td>0</td>\n",
       "      <td>0</td>\n",
       "      <td>1</td>\n",
       "      <td>0</td>\n",
       "    </tr>\n",
       "    <tr>\n",
       "      <th>18693</th>\n",
       "      <td>0</td>\n",
       "      <td>0</td>\n",
       "      <td>0</td>\n",
       "      <td>0</td>\n",
       "      <td>0</td>\n",
       "      <td>0</td>\n",
       "      <td>0</td>\n",
       "      <td>0</td>\n",
       "      <td>1</td>\n",
       "      <td>0</td>\n",
       "    </tr>\n",
       "    <tr>\n",
       "      <th>18695</th>\n",
       "      <td>0</td>\n",
       "      <td>0</td>\n",
       "      <td>0</td>\n",
       "      <td>0</td>\n",
       "      <td>0</td>\n",
       "      <td>0</td>\n",
       "      <td>0</td>\n",
       "      <td>0</td>\n",
       "      <td>1</td>\n",
       "      <td>0</td>\n",
       "    </tr>\n",
       "  </tbody>\n",
       "</table>\n",
       "<p>9358 rows × 10 columns</p>\n",
       "</div>"
      ],
      "text/plain": [
       "       Communication Services  Consumer Cyclical  Consumer Defensive  Energy  \\\n",
       "3                           0                  0                   1       0   \n",
       "4                           0                  0                   1       0   \n",
       "11                          0                  0                   1       0   \n",
       "12                          0                  0                   1       0   \n",
       "13                          0                  0                   1       0   \n",
       "...                       ...                ...                 ...     ...   \n",
       "18678                       0                  0                   0       1   \n",
       "18682                       0                  0                   0       0   \n",
       "18691                       0                  0                   0       0   \n",
       "18693                       0                  0                   0       0   \n",
       "18695                       0                  0                   0       0   \n",
       "\n",
       "       Financial Services  Healthcare  Industrials  Real Estate  Technology  \\\n",
       "3                       0           0            0            0           0   \n",
       "4                       0           0            0            0           0   \n",
       "11                      0           0            0            0           0   \n",
       "12                      0           0            0            0           0   \n",
       "13                      0           0            0            0           0   \n",
       "...                   ...         ...          ...          ...         ...   \n",
       "18678                   0           0            0            0           0   \n",
       "18682                   1           0            0            0           0   \n",
       "18691                   0           0            0            0           1   \n",
       "18693                   0           0            0            0           1   \n",
       "18695                   0           0            0            0           1   \n",
       "\n",
       "       Utilities  \n",
       "3              0  \n",
       "4              0  \n",
       "11             0  \n",
       "12             0  \n",
       "13             0  \n",
       "...          ...  \n",
       "18678          0  \n",
       "18682          0  \n",
       "18691          0  \n",
       "18693          0  \n",
       "18695          0  \n",
       "\n",
       "[9358 rows x 10 columns]"
      ]
     },
     "execution_count": 92,
     "metadata": {},
     "output_type": "execute_result"
    }
   ],
   "source": [
    "pd.get_dummies(df.Sector, drop_first=True)"
   ]
  },
  {
   "cell_type": "code",
   "execution_count": 93,
   "id": "126976af",
   "metadata": {
    "id": "126976af"
   },
   "outputs": [],
   "source": [
    "Sector_status = pd.get_dummies(df.Sector, drop_first=True)\n",
    "\n",
    "#Adding the result to the original housing dataframe\n",
    "\n",
    "df = pd.concat([df, Sector_status], axis=1)\n"
   ]
  },
  {
   "cell_type": "code",
   "execution_count": 94,
   "id": "e1999b6a",
   "metadata": {
    "id": "e1999b6a"
   },
   "outputs": [],
   "source": [
    "# Droppig Sector Column as we are done with \n",
    "df.drop(\"Sector\", axis=1, inplace=True)"
   ]
  },
  {
   "cell_type": "code",
   "execution_count": 95,
   "id": "901ded99",
   "metadata": {
    "colab": {
     "base_uri": "https://localhost:8080/"
    },
    "id": "901ded99",
    "outputId": "748ad783-bde1-4d41-eaf0-4f36c0a6a6b7"
   },
   "outputs": [
    {
     "data": {
      "text/plain": [
       "(9358, 182)"
      ]
     },
     "execution_count": 95,
     "metadata": {},
     "output_type": "execute_result"
    }
   ],
   "source": [
    "df.shape"
   ]
  },
  {
   "cell_type": "code",
   "execution_count": 96,
   "id": "89fe9d1b",
   "metadata": {
    "colab": {
     "base_uri": "https://localhost:8080/"
    },
    "id": "89fe9d1b",
    "outputId": "e4a0c5af-084f-443a-eb26-4a986a244c2f"
   },
   "outputs": [
    {
     "data": {
      "text/plain": [
       "0    8897\n",
       "1     461\n",
       "Name: Energy, dtype: int64"
      ]
     },
     "execution_count": 96,
     "metadata": {},
     "output_type": "execute_result"
    }
   ],
   "source": [
    "df.Energy.value_counts()"
   ]
  },
  {
   "cell_type": "code",
   "execution_count": 97,
   "id": "d0890eee",
   "metadata": {
    "id": "d0890eee"
   },
   "outputs": [],
   "source": [
    "# Sector Column will be dropped after Exploratory Data Analysis"
   ]
  },
  {
   "cell_type": "code",
   "execution_count": 98,
   "id": "ba3e1236",
   "metadata": {
    "colab": {
     "base_uri": "https://localhost:8080/"
    },
    "id": "ba3e1236",
    "outputId": "30cd89f8-c1ed-468f-d20d-e61aefcc7949"
   },
   "outputs": [
    {
     "data": {
      "text/html": [
       "<div>\n",
       "<style scoped>\n",
       "    .dataframe tbody tr th:only-of-type {\n",
       "        vertical-align: middle;\n",
       "    }\n",
       "\n",
       "    .dataframe tbody tr th {\n",
       "        vertical-align: top;\n",
       "    }\n",
       "\n",
       "    .dataframe thead th {\n",
       "        text-align: right;\n",
       "    }\n",
       "</style>\n",
       "<table border=\"1\" class=\"dataframe\">\n",
       "  <thead>\n",
       "    <tr style=\"text-align: right;\">\n",
       "      <th></th>\n",
       "      <th>Revenue</th>\n",
       "      <th>Revenue Growth</th>\n",
       "      <th>Cost of Revenue</th>\n",
       "      <th>Gross Profit</th>\n",
       "      <th>SG&amp;A Expense</th>\n",
       "      <th>Operating Expenses</th>\n",
       "      <th>Operating Income</th>\n",
       "      <th>Interest Expense</th>\n",
       "      <th>Earnings before Tax</th>\n",
       "      <th>Income Tax Expense</th>\n",
       "      <th>...</th>\n",
       "      <th>Communication Services</th>\n",
       "      <th>Consumer Cyclical</th>\n",
       "      <th>Consumer Defensive</th>\n",
       "      <th>Energy</th>\n",
       "      <th>Financial Services</th>\n",
       "      <th>Healthcare</th>\n",
       "      <th>Industrials</th>\n",
       "      <th>Real Estate</th>\n",
       "      <th>Technology</th>\n",
       "      <th>Utilities</th>\n",
       "    </tr>\n",
       "  </thead>\n",
       "  <tbody>\n",
       "    <tr>\n",
       "      <th>3</th>\n",
       "      <td>6.505800e+10</td>\n",
       "      <td>-0.0037</td>\n",
       "      <td>3.263800e+10</td>\n",
       "      <td>3.242000e+10</td>\n",
       "      <td>1.865400e+10</td>\n",
       "      <td>1.865400e+10</td>\n",
       "      <td>1.376600e+10</td>\n",
       "      <td>465000000.0</td>\n",
       "      <td>1.838900e+10</td>\n",
       "      <td>3.063000e+09</td>\n",
       "      <td>...</td>\n",
       "      <td>0</td>\n",
       "      <td>0</td>\n",
       "      <td>1</td>\n",
       "      <td>0</td>\n",
       "      <td>0</td>\n",
       "      <td>0</td>\n",
       "      <td>0</td>\n",
       "      <td>0</td>\n",
       "      <td>0</td>\n",
       "      <td>0</td>\n",
       "    </tr>\n",
       "    <tr>\n",
       "      <th>4</th>\n",
       "      <td>6.683200e+10</td>\n",
       "      <td>0.0273</td>\n",
       "      <td>3.443200e+10</td>\n",
       "      <td>3.240000e+10</td>\n",
       "      <td>1.903700e+10</td>\n",
       "      <td>1.903700e+10</td>\n",
       "      <td>1.336300e+10</td>\n",
       "      <td>506000000.0</td>\n",
       "      <td>1.321500e+10</td>\n",
       "      <td>3.465000e+09</td>\n",
       "      <td>...</td>\n",
       "      <td>0</td>\n",
       "      <td>0</td>\n",
       "      <td>1</td>\n",
       "      <td>0</td>\n",
       "      <td>0</td>\n",
       "      <td>0</td>\n",
       "      <td>0</td>\n",
       "      <td>0</td>\n",
       "      <td>0</td>\n",
       "      <td>0</td>\n",
       "    </tr>\n",
       "    <tr>\n",
       "      <th>11</th>\n",
       "      <td>1.084650e+11</td>\n",
       "      <td>0.1026</td>\n",
       "      <td>8.551200e+10</td>\n",
       "      <td>2.295300e+10</td>\n",
       "      <td>1.716100e+10</td>\n",
       "      <td>1.981600e+10</td>\n",
       "      <td>3.137000e+09</td>\n",
       "      <td>488000000.0</td>\n",
       "      <td>2.630000e+09</td>\n",
       "      <td>9.020000e+08</td>\n",
       "      <td>...</td>\n",
       "      <td>0</td>\n",
       "      <td>0</td>\n",
       "      <td>1</td>\n",
       "      <td>0</td>\n",
       "      <td>0</td>\n",
       "      <td>0</td>\n",
       "      <td>0</td>\n",
       "      <td>0</td>\n",
       "      <td>0</td>\n",
       "      <td>0</td>\n",
       "    </tr>\n",
       "    <tr>\n",
       "      <th>12</th>\n",
       "      <td>1.098300e+11</td>\n",
       "      <td>0.0126</td>\n",
       "      <td>8.549600e+10</td>\n",
       "      <td>2.433400e+10</td>\n",
       "      <td>1.794600e+10</td>\n",
       "      <td>2.075800e+10</td>\n",
       "      <td>3.576000e+09</td>\n",
       "      <td>482000000.0</td>\n",
       "      <td>3.084000e+09</td>\n",
       "      <td>1.045000e+09</td>\n",
       "      <td>...</td>\n",
       "      <td>0</td>\n",
       "      <td>0</td>\n",
       "      <td>1</td>\n",
       "      <td>0</td>\n",
       "      <td>0</td>\n",
       "      <td>0</td>\n",
       "      <td>0</td>\n",
       "      <td>0</td>\n",
       "      <td>0</td>\n",
       "      <td>0</td>\n",
       "    </tr>\n",
       "    <tr>\n",
       "      <th>13</th>\n",
       "      <td>1.153370e+11</td>\n",
       "      <td>0.0501</td>\n",
       "      <td>8.950200e+10</td>\n",
       "      <td>2.583500e+10</td>\n",
       "      <td>1.916200e+10</td>\n",
       "      <td>2.238300e+10</td>\n",
       "      <td>3.452000e+09</td>\n",
       "      <td>522000000.0</td>\n",
       "      <td>2.932000e+09</td>\n",
       "      <td>9.570000e+08</td>\n",
       "      <td>...</td>\n",
       "      <td>0</td>\n",
       "      <td>0</td>\n",
       "      <td>1</td>\n",
       "      <td>0</td>\n",
       "      <td>0</td>\n",
       "      <td>0</td>\n",
       "      <td>0</td>\n",
       "      <td>0</td>\n",
       "      <td>0</td>\n",
       "      <td>0</td>\n",
       "    </tr>\n",
       "  </tbody>\n",
       "</table>\n",
       "<p>5 rows × 182 columns</p>\n",
       "</div>"
      ],
      "text/plain": [
       "         Revenue  Revenue Growth  Cost of Revenue  Gross Profit  SG&A Expense  \\\n",
       "3   6.505800e+10         -0.0037     3.263800e+10  3.242000e+10  1.865400e+10   \n",
       "4   6.683200e+10          0.0273     3.443200e+10  3.240000e+10  1.903700e+10   \n",
       "11  1.084650e+11          0.1026     8.551200e+10  2.295300e+10  1.716100e+10   \n",
       "12  1.098300e+11          0.0126     8.549600e+10  2.433400e+10  1.794600e+10   \n",
       "13  1.153370e+11          0.0501     8.950200e+10  2.583500e+10  1.916200e+10   \n",
       "\n",
       "    Operating Expenses  Operating Income  Interest Expense  \\\n",
       "3         1.865400e+10      1.376600e+10       465000000.0   \n",
       "4         1.903700e+10      1.336300e+10       506000000.0   \n",
       "11        1.981600e+10      3.137000e+09       488000000.0   \n",
       "12        2.075800e+10      3.576000e+09       482000000.0   \n",
       "13        2.238300e+10      3.452000e+09       522000000.0   \n",
       "\n",
       "    Earnings before Tax  Income Tax Expense  ...  Communication Services  \\\n",
       "3          1.838900e+10        3.063000e+09  ...                       0   \n",
       "4          1.321500e+10        3.465000e+09  ...                       0   \n",
       "11         2.630000e+09        9.020000e+08  ...                       0   \n",
       "12         3.084000e+09        1.045000e+09  ...                       0   \n",
       "13         2.932000e+09        9.570000e+08  ...                       0   \n",
       "\n",
       "    Consumer Cyclical  Consumer Defensive  Energy  Financial Services  \\\n",
       "3                   0                   1       0                   0   \n",
       "4                   0                   1       0                   0   \n",
       "11                  0                   1       0                   0   \n",
       "12                  0                   1       0                   0   \n",
       "13                  0                   1       0                   0   \n",
       "\n",
       "    Healthcare  Industrials  Real Estate  Technology  Utilities  \n",
       "3            0            0            0           0          0  \n",
       "4            0            0            0           0          0  \n",
       "11           0            0            0           0          0  \n",
       "12           0            0            0           0          0  \n",
       "13           0            0            0           0          0  \n",
       "\n",
       "[5 rows x 182 columns]"
      ]
     },
     "execution_count": 98,
     "metadata": {},
     "output_type": "execute_result"
    }
   ],
   "source": [
    "df.head()"
   ]
  },
  {
   "cell_type": "markdown",
   "id": "ec6e43f7",
   "metadata": {
    "id": "ec6e43f7"
   },
   "source": [
    "# Removing columns with single value"
   ]
  },
  {
   "cell_type": "code",
   "execution_count": 99,
   "id": "592a9d8f",
   "metadata": {
    "id": "592a9d8f"
   },
   "outputs": [],
   "source": [
    "def removeSingleValue (col):\n",
    "    length = len(df[col].value_counts())\n",
    "    if (length<2):\n",
    "        print(col)\n",
    "        df.drop(col, axis=1, inplace=True)"
   ]
  },
  {
   "cell_type": "code",
   "execution_count": 100,
   "id": "b821517f",
   "metadata": {
    "id": "b821517f"
   },
   "outputs": [],
   "source": [
    "for col in df.columns:\n",
    "    removeSingleValue(col)"
   ]
  },
  {
   "cell_type": "code",
   "execution_count": 101,
   "id": "1878d2fc",
   "metadata": {
    "id": "1878d2fc"
   },
   "outputs": [],
   "source": [
    "num_col = list(df.dtypes[df.dtypes !='object'].index)"
   ]
  },
  {
   "cell_type": "code",
   "execution_count": 102,
   "id": "c460662f",
   "metadata": {
    "colab": {
     "base_uri": "https://localhost:8080/"
    },
    "id": "c460662f",
    "outputId": "a6acd169-90e3-4770-c2bb-53b328624413"
   },
   "outputs": [
    {
     "data": {
      "text/plain": [
       "182"
      ]
     },
     "execution_count": 102,
     "metadata": {},
     "output_type": "execute_result"
    }
   ],
   "source": [
    "len(num_col)"
   ]
  },
  {
   "cell_type": "code",
   "execution_count": 103,
   "id": "f58aeeeb",
   "metadata": {
    "colab": {
     "base_uri": "https://localhost:8080/"
    },
    "id": "f58aeeeb",
    "outputId": "ac8e91bf-98af-4334-b0d7-e97187f51db6"
   },
   "outputs": [
    {
     "data": {
      "text/plain": [
       "(9358, 182)"
      ]
     },
     "execution_count": 103,
     "metadata": {},
     "output_type": "execute_result"
    }
   ],
   "source": [
    "df.shape"
   ]
  },
  {
   "cell_type": "markdown",
   "id": "5771e664",
   "metadata": {
    "id": "5771e664"
   },
   "source": [
    "### Duplicate Row Checker"
   ]
  },
  {
   "cell_type": "code",
   "execution_count": 104,
   "id": "a2b5a927",
   "metadata": {
    "colab": {
     "base_uri": "https://localhost:8080/"
    },
    "id": "a2b5a927",
    "outputId": "1bb2a637-6391-47fa-9d90-52d5a2b1d200"
   },
   "outputs": [
    {
     "data": {
      "text/plain": [
       "0"
      ]
     },
     "execution_count": 104,
     "metadata": {},
     "output_type": "execute_result"
    }
   ],
   "source": [
    "df.duplicated().sum()"
   ]
  },
  {
   "cell_type": "code",
   "execution_count": 105,
   "id": "e8f31be8",
   "metadata": {
    "id": "e8f31be8"
   },
   "outputs": [],
   "source": [
    "# Moving \"Class\" Column to end\n",
    "df['Result'] = df.Class\n",
    "df.drop(\"Class\", axis=1, inplace=True)\n",
    "df = df.rename(columns={\"Result\":\"Class\"})"
   ]
  },
  {
   "cell_type": "code",
   "execution_count": null,
   "id": "c5d6ad04",
   "metadata": {
    "id": "c5d6ad04"
   },
   "outputs": [],
   "source": []
  },
  {
   "cell_type": "code",
   "execution_count": 106,
   "id": "853dfe78",
   "metadata": {
    "colab": {
     "base_uri": "https://localhost:8080/"
    },
    "id": "853dfe78",
    "outputId": "0b32154c-86d8-4c4c-ab16-ab58e3c69eea",
    "scrolled": false
   },
   "outputs": [
    {
     "data": {
      "text/html": [
       "<div>\n",
       "<style scoped>\n",
       "    .dataframe tbody tr th:only-of-type {\n",
       "        vertical-align: middle;\n",
       "    }\n",
       "\n",
       "    .dataframe tbody tr th {\n",
       "        vertical-align: top;\n",
       "    }\n",
       "\n",
       "    .dataframe thead th {\n",
       "        text-align: right;\n",
       "    }\n",
       "</style>\n",
       "<table border=\"1\" class=\"dataframe\">\n",
       "  <thead>\n",
       "    <tr style=\"text-align: right;\">\n",
       "      <th></th>\n",
       "      <th>Revenue</th>\n",
       "      <th>Revenue Growth</th>\n",
       "      <th>Cost of Revenue</th>\n",
       "      <th>Gross Profit</th>\n",
       "      <th>SG&amp;A Expense</th>\n",
       "      <th>Operating Expenses</th>\n",
       "      <th>Operating Income</th>\n",
       "      <th>Interest Expense</th>\n",
       "      <th>Earnings before Tax</th>\n",
       "      <th>Income Tax Expense</th>\n",
       "      <th>...</th>\n",
       "      <th>Consumer Cyclical</th>\n",
       "      <th>Consumer Defensive</th>\n",
       "      <th>Energy</th>\n",
       "      <th>Financial Services</th>\n",
       "      <th>Healthcare</th>\n",
       "      <th>Industrials</th>\n",
       "      <th>Real Estate</th>\n",
       "      <th>Technology</th>\n",
       "      <th>Utilities</th>\n",
       "      <th>Class</th>\n",
       "    </tr>\n",
       "  </thead>\n",
       "  <tbody>\n",
       "    <tr>\n",
       "      <th>3</th>\n",
       "      <td>6.505800e+10</td>\n",
       "      <td>-0.0037</td>\n",
       "      <td>3.263800e+10</td>\n",
       "      <td>3.242000e+10</td>\n",
       "      <td>1.865400e+10</td>\n",
       "      <td>1.865400e+10</td>\n",
       "      <td>1.376600e+10</td>\n",
       "      <td>465000000.0</td>\n",
       "      <td>1.838900e+10</td>\n",
       "      <td>3.063000e+09</td>\n",
       "      <td>...</td>\n",
       "      <td>0</td>\n",
       "      <td>1</td>\n",
       "      <td>0</td>\n",
       "      <td>0</td>\n",
       "      <td>0</td>\n",
       "      <td>0</td>\n",
       "      <td>0</td>\n",
       "      <td>0</td>\n",
       "      <td>0</td>\n",
       "      <td>1</td>\n",
       "    </tr>\n",
       "    <tr>\n",
       "      <th>4</th>\n",
       "      <td>6.683200e+10</td>\n",
       "      <td>0.0273</td>\n",
       "      <td>3.443200e+10</td>\n",
       "      <td>3.240000e+10</td>\n",
       "      <td>1.903700e+10</td>\n",
       "      <td>1.903700e+10</td>\n",
       "      <td>1.336300e+10</td>\n",
       "      <td>506000000.0</td>\n",
       "      <td>1.321500e+10</td>\n",
       "      <td>3.465000e+09</td>\n",
       "      <td>...</td>\n",
       "      <td>0</td>\n",
       "      <td>1</td>\n",
       "      <td>0</td>\n",
       "      <td>0</td>\n",
       "      <td>0</td>\n",
       "      <td>0</td>\n",
       "      <td>0</td>\n",
       "      <td>0</td>\n",
       "      <td>0</td>\n",
       "      <td>1</td>\n",
       "    </tr>\n",
       "    <tr>\n",
       "      <th>11</th>\n",
       "      <td>1.084650e+11</td>\n",
       "      <td>0.1026</td>\n",
       "      <td>8.551200e+10</td>\n",
       "      <td>2.295300e+10</td>\n",
       "      <td>1.716100e+10</td>\n",
       "      <td>1.981600e+10</td>\n",
       "      <td>3.137000e+09</td>\n",
       "      <td>488000000.0</td>\n",
       "      <td>2.630000e+09</td>\n",
       "      <td>9.020000e+08</td>\n",
       "      <td>...</td>\n",
       "      <td>0</td>\n",
       "      <td>1</td>\n",
       "      <td>0</td>\n",
       "      <td>0</td>\n",
       "      <td>0</td>\n",
       "      <td>0</td>\n",
       "      <td>0</td>\n",
       "      <td>0</td>\n",
       "      <td>0</td>\n",
       "      <td>0</td>\n",
       "    </tr>\n",
       "    <tr>\n",
       "      <th>12</th>\n",
       "      <td>1.098300e+11</td>\n",
       "      <td>0.0126</td>\n",
       "      <td>8.549600e+10</td>\n",
       "      <td>2.433400e+10</td>\n",
       "      <td>1.794600e+10</td>\n",
       "      <td>2.075800e+10</td>\n",
       "      <td>3.576000e+09</td>\n",
       "      <td>482000000.0</td>\n",
       "      <td>3.084000e+09</td>\n",
       "      <td>1.045000e+09</td>\n",
       "      <td>...</td>\n",
       "      <td>0</td>\n",
       "      <td>1</td>\n",
       "      <td>0</td>\n",
       "      <td>0</td>\n",
       "      <td>0</td>\n",
       "      <td>0</td>\n",
       "      <td>0</td>\n",
       "      <td>0</td>\n",
       "      <td>0</td>\n",
       "      <td>0</td>\n",
       "    </tr>\n",
       "    <tr>\n",
       "      <th>13</th>\n",
       "      <td>1.153370e+11</td>\n",
       "      <td>0.0501</td>\n",
       "      <td>8.950200e+10</td>\n",
       "      <td>2.583500e+10</td>\n",
       "      <td>1.916200e+10</td>\n",
       "      <td>2.238300e+10</td>\n",
       "      <td>3.452000e+09</td>\n",
       "      <td>522000000.0</td>\n",
       "      <td>2.932000e+09</td>\n",
       "      <td>9.570000e+08</td>\n",
       "      <td>...</td>\n",
       "      <td>0</td>\n",
       "      <td>1</td>\n",
       "      <td>0</td>\n",
       "      <td>0</td>\n",
       "      <td>0</td>\n",
       "      <td>0</td>\n",
       "      <td>0</td>\n",
       "      <td>0</td>\n",
       "      <td>0</td>\n",
       "      <td>0</td>\n",
       "    </tr>\n",
       "  </tbody>\n",
       "</table>\n",
       "<p>5 rows × 182 columns</p>\n",
       "</div>"
      ],
      "text/plain": [
       "         Revenue  Revenue Growth  Cost of Revenue  Gross Profit  SG&A Expense  \\\n",
       "3   6.505800e+10         -0.0037     3.263800e+10  3.242000e+10  1.865400e+10   \n",
       "4   6.683200e+10          0.0273     3.443200e+10  3.240000e+10  1.903700e+10   \n",
       "11  1.084650e+11          0.1026     8.551200e+10  2.295300e+10  1.716100e+10   \n",
       "12  1.098300e+11          0.0126     8.549600e+10  2.433400e+10  1.794600e+10   \n",
       "13  1.153370e+11          0.0501     8.950200e+10  2.583500e+10  1.916200e+10   \n",
       "\n",
       "    Operating Expenses  Operating Income  Interest Expense  \\\n",
       "3         1.865400e+10      1.376600e+10       465000000.0   \n",
       "4         1.903700e+10      1.336300e+10       506000000.0   \n",
       "11        1.981600e+10      3.137000e+09       488000000.0   \n",
       "12        2.075800e+10      3.576000e+09       482000000.0   \n",
       "13        2.238300e+10      3.452000e+09       522000000.0   \n",
       "\n",
       "    Earnings before Tax  Income Tax Expense  ...  Consumer Cyclical  \\\n",
       "3          1.838900e+10        3.063000e+09  ...                  0   \n",
       "4          1.321500e+10        3.465000e+09  ...                  0   \n",
       "11         2.630000e+09        9.020000e+08  ...                  0   \n",
       "12         3.084000e+09        1.045000e+09  ...                  0   \n",
       "13         2.932000e+09        9.570000e+08  ...                  0   \n",
       "\n",
       "    Consumer Defensive  Energy  Financial Services  Healthcare  Industrials  \\\n",
       "3                    1       0                   0           0            0   \n",
       "4                    1       0                   0           0            0   \n",
       "11                   1       0                   0           0            0   \n",
       "12                   1       0                   0           0            0   \n",
       "13                   1       0                   0           0            0   \n",
       "\n",
       "    Real Estate  Technology  Utilities  Class  \n",
       "3             0           0          0      1  \n",
       "4             0           0          0      1  \n",
       "11            0           0          0      0  \n",
       "12            0           0          0      0  \n",
       "13            0           0          0      0  \n",
       "\n",
       "[5 rows x 182 columns]"
      ]
     },
     "execution_count": 106,
     "metadata": {},
     "output_type": "execute_result"
    }
   ],
   "source": [
    "df.head()"
   ]
  },
  {
   "cell_type": "markdown",
   "id": "383844fa",
   "metadata": {
    "id": "383844fa"
   },
   "source": [
    "# Outlier Treatment"
   ]
  },
  {
   "cell_type": "code",
   "execution_count": 107,
   "id": "0d655b20",
   "metadata": {
    "colab": {
     "base_uri": "https://localhost:8080/"
    },
    "id": "0d655b20",
    "outputId": "68157e00-8b51-41a2-ffe9-ac863ebff0b2"
   },
   "outputs": [
    {
     "data": {
      "text/html": [
       "<div>\n",
       "<style scoped>\n",
       "    .dataframe tbody tr th:only-of-type {\n",
       "        vertical-align: middle;\n",
       "    }\n",
       "\n",
       "    .dataframe tbody tr th {\n",
       "        vertical-align: top;\n",
       "    }\n",
       "\n",
       "    .dataframe thead th {\n",
       "        text-align: right;\n",
       "    }\n",
       "</style>\n",
       "<table border=\"1\" class=\"dataframe\">\n",
       "  <thead>\n",
       "    <tr style=\"text-align: right;\">\n",
       "      <th></th>\n",
       "      <th>Revenue</th>\n",
       "      <th>Revenue Growth</th>\n",
       "      <th>Cost of Revenue</th>\n",
       "      <th>Gross Profit</th>\n",
       "      <th>SG&amp;A Expense</th>\n",
       "      <th>Operating Expenses</th>\n",
       "      <th>Operating Income</th>\n",
       "      <th>Interest Expense</th>\n",
       "      <th>Earnings before Tax</th>\n",
       "      <th>Income Tax Expense</th>\n",
       "      <th>...</th>\n",
       "      <th>Consumer Cyclical</th>\n",
       "      <th>Consumer Defensive</th>\n",
       "      <th>Energy</th>\n",
       "      <th>Financial Services</th>\n",
       "      <th>Healthcare</th>\n",
       "      <th>Industrials</th>\n",
       "      <th>Real Estate</th>\n",
       "      <th>Technology</th>\n",
       "      <th>Utilities</th>\n",
       "      <th>Class</th>\n",
       "    </tr>\n",
       "  </thead>\n",
       "  <tbody>\n",
       "    <tr>\n",
       "      <th>3</th>\n",
       "      <td>6.505800e+10</td>\n",
       "      <td>-0.0037</td>\n",
       "      <td>3.263800e+10</td>\n",
       "      <td>3.242000e+10</td>\n",
       "      <td>1.865400e+10</td>\n",
       "      <td>1.865400e+10</td>\n",
       "      <td>1.376600e+10</td>\n",
       "      <td>465000000.0</td>\n",
       "      <td>1.838900e+10</td>\n",
       "      <td>3.063000e+09</td>\n",
       "      <td>...</td>\n",
       "      <td>0</td>\n",
       "      <td>1</td>\n",
       "      <td>0</td>\n",
       "      <td>0</td>\n",
       "      <td>0</td>\n",
       "      <td>0</td>\n",
       "      <td>0</td>\n",
       "      <td>0</td>\n",
       "      <td>0</td>\n",
       "      <td>1</td>\n",
       "    </tr>\n",
       "    <tr>\n",
       "      <th>4</th>\n",
       "      <td>6.683200e+10</td>\n",
       "      <td>0.0273</td>\n",
       "      <td>3.443200e+10</td>\n",
       "      <td>3.240000e+10</td>\n",
       "      <td>1.903700e+10</td>\n",
       "      <td>1.903700e+10</td>\n",
       "      <td>1.336300e+10</td>\n",
       "      <td>506000000.0</td>\n",
       "      <td>1.321500e+10</td>\n",
       "      <td>3.465000e+09</td>\n",
       "      <td>...</td>\n",
       "      <td>0</td>\n",
       "      <td>1</td>\n",
       "      <td>0</td>\n",
       "      <td>0</td>\n",
       "      <td>0</td>\n",
       "      <td>0</td>\n",
       "      <td>0</td>\n",
       "      <td>0</td>\n",
       "      <td>0</td>\n",
       "      <td>1</td>\n",
       "    </tr>\n",
       "    <tr>\n",
       "      <th>11</th>\n",
       "      <td>1.084650e+11</td>\n",
       "      <td>0.1026</td>\n",
       "      <td>8.551200e+10</td>\n",
       "      <td>2.295300e+10</td>\n",
       "      <td>1.716100e+10</td>\n",
       "      <td>1.981600e+10</td>\n",
       "      <td>3.137000e+09</td>\n",
       "      <td>488000000.0</td>\n",
       "      <td>2.630000e+09</td>\n",
       "      <td>9.020000e+08</td>\n",
       "      <td>...</td>\n",
       "      <td>0</td>\n",
       "      <td>1</td>\n",
       "      <td>0</td>\n",
       "      <td>0</td>\n",
       "      <td>0</td>\n",
       "      <td>0</td>\n",
       "      <td>0</td>\n",
       "      <td>0</td>\n",
       "      <td>0</td>\n",
       "      <td>0</td>\n",
       "    </tr>\n",
       "    <tr>\n",
       "      <th>12</th>\n",
       "      <td>1.098300e+11</td>\n",
       "      <td>0.0126</td>\n",
       "      <td>8.549600e+10</td>\n",
       "      <td>2.433400e+10</td>\n",
       "      <td>1.794600e+10</td>\n",
       "      <td>2.075800e+10</td>\n",
       "      <td>3.576000e+09</td>\n",
       "      <td>482000000.0</td>\n",
       "      <td>3.084000e+09</td>\n",
       "      <td>1.045000e+09</td>\n",
       "      <td>...</td>\n",
       "      <td>0</td>\n",
       "      <td>1</td>\n",
       "      <td>0</td>\n",
       "      <td>0</td>\n",
       "      <td>0</td>\n",
       "      <td>0</td>\n",
       "      <td>0</td>\n",
       "      <td>0</td>\n",
       "      <td>0</td>\n",
       "      <td>0</td>\n",
       "    </tr>\n",
       "    <tr>\n",
       "      <th>13</th>\n",
       "      <td>1.153370e+11</td>\n",
       "      <td>0.0501</td>\n",
       "      <td>8.950200e+10</td>\n",
       "      <td>2.583500e+10</td>\n",
       "      <td>1.916200e+10</td>\n",
       "      <td>2.238300e+10</td>\n",
       "      <td>3.452000e+09</td>\n",
       "      <td>522000000.0</td>\n",
       "      <td>2.932000e+09</td>\n",
       "      <td>9.570000e+08</td>\n",
       "      <td>...</td>\n",
       "      <td>0</td>\n",
       "      <td>1</td>\n",
       "      <td>0</td>\n",
       "      <td>0</td>\n",
       "      <td>0</td>\n",
       "      <td>0</td>\n",
       "      <td>0</td>\n",
       "      <td>0</td>\n",
       "      <td>0</td>\n",
       "      <td>0</td>\n",
       "    </tr>\n",
       "  </tbody>\n",
       "</table>\n",
       "<p>5 rows × 182 columns</p>\n",
       "</div>"
      ],
      "text/plain": [
       "         Revenue  Revenue Growth  Cost of Revenue  Gross Profit  SG&A Expense  \\\n",
       "3   6.505800e+10         -0.0037     3.263800e+10  3.242000e+10  1.865400e+10   \n",
       "4   6.683200e+10          0.0273     3.443200e+10  3.240000e+10  1.903700e+10   \n",
       "11  1.084650e+11          0.1026     8.551200e+10  2.295300e+10  1.716100e+10   \n",
       "12  1.098300e+11          0.0126     8.549600e+10  2.433400e+10  1.794600e+10   \n",
       "13  1.153370e+11          0.0501     8.950200e+10  2.583500e+10  1.916200e+10   \n",
       "\n",
       "    Operating Expenses  Operating Income  Interest Expense  \\\n",
       "3         1.865400e+10      1.376600e+10       465000000.0   \n",
       "4         1.903700e+10      1.336300e+10       506000000.0   \n",
       "11        1.981600e+10      3.137000e+09       488000000.0   \n",
       "12        2.075800e+10      3.576000e+09       482000000.0   \n",
       "13        2.238300e+10      3.452000e+09       522000000.0   \n",
       "\n",
       "    Earnings before Tax  Income Tax Expense  ...  Consumer Cyclical  \\\n",
       "3          1.838900e+10        3.063000e+09  ...                  0   \n",
       "4          1.321500e+10        3.465000e+09  ...                  0   \n",
       "11         2.630000e+09        9.020000e+08  ...                  0   \n",
       "12         3.084000e+09        1.045000e+09  ...                  0   \n",
       "13         2.932000e+09        9.570000e+08  ...                  0   \n",
       "\n",
       "    Consumer Defensive  Energy  Financial Services  Healthcare  Industrials  \\\n",
       "3                    1       0                   0           0            0   \n",
       "4                    1       0                   0           0            0   \n",
       "11                   1       0                   0           0            0   \n",
       "12                   1       0                   0           0            0   \n",
       "13                   1       0                   0           0            0   \n",
       "\n",
       "    Real Estate  Technology  Utilities  Class  \n",
       "3             0           0          0      1  \n",
       "4             0           0          0      1  \n",
       "11            0           0          0      0  \n",
       "12            0           0          0      0  \n",
       "13            0           0          0      0  \n",
       "\n",
       "[5 rows x 182 columns]"
      ]
     },
     "execution_count": 107,
     "metadata": {},
     "output_type": "execute_result"
    }
   ],
   "source": [
    "df.head()"
   ]
  },
  {
   "cell_type": "markdown",
   "id": "91a61fa1",
   "metadata": {
    "id": "91a61fa1"
   },
   "source": [
    "## Method 1 Standard Deviation Method\n",
    "\n",
    "Three standard deviations from the mean is a common cut-off in practice for identifying outliers in a Gaussian or Gaussian-like distribution. For smaller samples of data, perhaps a value of 2 standard deviations (95%) can be used, and for larger samples, perhaps a value of 4 standard deviations (99.9%) can be used."
   ]
  },
  {
   "cell_type": "code",
   "execution_count": 108,
   "id": "7d1278ad",
   "metadata": {
    "colab": {
     "base_uri": "https://localhost:8080/"
    },
    "id": "7d1278ad",
    "outputId": "9c2eebdc-74da-4d8b-e511-6f39951e8f75"
   },
   "outputs": [
    {
     "data": {
      "text/plain": [
       "(9358, 182)"
      ]
     },
     "execution_count": 108,
     "metadata": {},
     "output_type": "execute_result"
    }
   ],
   "source": [
    "df.shape"
   ]
  },
  {
   "cell_type": "code",
   "execution_count": 109,
   "id": "6521553c",
   "metadata": {
    "id": "6521553c"
   },
   "outputs": [],
   "source": [
    "# Extracting numerical columns from the telecom_df data frame.\n",
    "numerical_cols = df.select_dtypes(include = np.number).columns.to_list()"
   ]
  },
  {
   "cell_type": "code",
   "execution_count": 110,
   "id": "e4679c3e",
   "metadata": {
    "colab": {
     "base_uri": "https://localhost:8080/"
    },
    "id": "e4679c3e",
    "outputId": "3bf84547-7ed4-4a8e-968d-8aa49c682634",
    "scrolled": true
   },
   "outputs": [
    {
     "name": "stdout",
     "output_type": "stream",
     "text": [
      "Number of identified outliers: 4779\n"
     ]
    }
   ],
   "source": [
    "# calculate summary statistics\n",
    "data = df[numerical_cols]\n",
    "data_mean, data_std = np.mean(data), np.std(data)\n",
    "# identify outliers\n",
    "cut_off = data_std * 2.5\n",
    "lower, upper = data_mean - cut_off, data_mean + cut_off\n",
    "# identify outliers\n",
    "outliers = df[((df < lower) | (df > upper)).any(axis=1)]\n",
    "print('Number of identified outliers: %d' % len(outliers))"
   ]
  },
  {
   "cell_type": "code",
   "execution_count": 111,
   "id": "f6ffa12f",
   "metadata": {
    "colab": {
     "base_uri": "https://localhost:8080/"
    },
    "id": "f6ffa12f",
    "outputId": "d6b88775-12ac-4cf5-c392-59d3e7190920"
   },
   "outputs": [
    {
     "name": "stdout",
     "output_type": "stream",
     "text": [
      "Non-outlier observations: 4579\n"
     ]
    }
   ],
   "source": [
    "# remove outliers\n",
    "outliers_removed = df[~((df < lower) | (df > upper)).any(axis=1)]\n",
    "print('Non-outlier observations: %d' % len(outliers_removed))"
   ]
  },
  {
   "cell_type": "markdown",
   "id": "c0bb9eb0",
   "metadata": {
    "id": "c0bb9eb0"
   },
   "source": [
    "## Method 2 IQR method\n",
    "\n",
    "The IQR can be used to identify outliers by defining limits on the sample values that are a factor k of the IQR below the 25th percentile or above the 75th percentile. The common value for the factor k is the value 1.5."
   ]
  },
  {
   "cell_type": "code",
   "execution_count": 112,
   "id": "e4ebf483",
   "metadata": {
    "colab": {
     "base_uri": "https://localhost:8080/"
    },
    "id": "e4ebf483",
    "outputId": "0858d905-e756-4a81-f034-fa87a49e9b0b",
    "scrolled": true
   },
   "outputs": [
    {
     "name": "stdout",
     "output_type": "stream",
     "text": [
      "Revenue            2.627103e+09\n",
      "Revenue Growth     1.716000e-01\n",
      "Cost of Revenue    1.441256e+09\n",
      "Gross Profit       9.494335e+08\n",
      "SG&A Expense       4.061052e+08\n",
      "                       ...     \n",
      "Industrials        0.000000e+00\n",
      "Real Estate        0.000000e+00\n",
      "Technology         0.000000e+00\n",
      "Utilities          0.000000e+00\n",
      "Class              1.000000e+00\n",
      "Length: 182, dtype: float64\n"
     ]
    }
   ],
   "source": [
    "Q1 = df.quantile(0.25)\n",
    "Q3 = df.quantile(0.75)\n",
    "IQR = Q3 - Q1\n",
    "print(IQR)"
   ]
  },
  {
   "cell_type": "code",
   "execution_count": 113,
   "id": "3b73281c",
   "metadata": {
    "colab": {
     "base_uri": "https://localhost:8080/"
    },
    "id": "3b73281c",
    "outputId": "9a82770f-5f79-43d7-c863-15988ecc23ec",
    "scrolled": false
   },
   "outputs": [
    {
     "name": "stdout",
     "output_type": "stream",
     "text": [
      "Non-outlier observations: 9\n"
     ]
    }
   ],
   "source": [
    "outliers_removed_IQR = df[~((df < (Q1 - 1.5 * IQR)) |(df > (Q3 + 1.5 * IQR))).any(axis=1)]\n",
    "print('Non-outlier observations: %d' % len(outliers_removed_IQR))"
   ]
  },
  {
   "cell_type": "markdown",
   "id": "ef55c728",
   "metadata": {
    "id": "ef55c728"
   },
   "source": [
    "## Method 3:  99-1 percentile method"
   ]
  },
  {
   "cell_type": "code",
   "execution_count": 114,
   "id": "f0607a84",
   "metadata": {
    "colab": {
     "base_uri": "https://localhost:8080/"
    },
    "id": "f0607a84",
    "outputId": "1a9ac30b-6c5d-4176-f2a0-326d53c84c40",
    "scrolled": true
   },
   "outputs": [
    {
     "name": "stdout",
     "output_type": "stream",
     "text": [
      "Revenue            9.375149e+10\n",
      "Revenue Growth     3.946508e+00\n",
      "Cost of Revenue    6.364879e+10\n",
      "Gross Profit       3.045446e+10\n",
      "SG&A Expense       1.440467e+10\n",
      "                       ...     \n",
      "Industrials        1.000000e+00\n",
      "Real Estate        1.000000e+00\n",
      "Technology         1.000000e+00\n",
      "Utilities          1.000000e+00\n",
      "Class              1.000000e+00\n",
      "Length: 182, dtype: float64\n"
     ]
    }
   ],
   "source": [
    "Q1 = df.quantile(0.01)\n",
    "Q3 = df.quantile(0.99)\n",
    "IQR = Q3 - Q1\n",
    "print(IQR)"
   ]
  },
  {
   "cell_type": "code",
   "execution_count": 115,
   "id": "ae87154a",
   "metadata": {
    "colab": {
     "base_uri": "https://localhost:8080/"
    },
    "id": "ae87154a",
    "outputId": "a417638f-32f8-4508-e247-139c2be933c5",
    "scrolled": false
   },
   "outputs": [
    {
     "name": "stdout",
     "output_type": "stream",
     "text": [
      "Non-outlier observations: 7869\n"
     ]
    }
   ],
   "source": [
    "outliers_removed_IQR = df[~((df < (Q1 - 1.5 * IQR)) |(df > (Q3 + 1.5 * IQR))).any(axis=1)]\n",
    "print('Non-outlier observations: %d' % len(outliers_removed_IQR))"
   ]
  },
  {
   "cell_type": "code",
   "execution_count": 116,
   "id": "0a74c7c7",
   "metadata": {
    "id": "0a74c7c7"
   },
   "outputs": [],
   "source": [
    "### We choose 99-1 percentile method for outlier treatment\n",
    "df_99_1 = df[~((df < (Q1 - 1.5 * IQR)) |(df > (Q3 + 1.5 * IQR))).any(axis=1)]"
   ]
  },
  {
   "cell_type": "code",
   "execution_count": 117,
   "id": "f4ab541b",
   "metadata": {
    "colab": {
     "base_uri": "https://localhost:8080/"
    },
    "id": "f4ab541b",
    "outputId": "1d968f95-d88e-4d11-feba-dffe44f9e1b0"
   },
   "outputs": [
    {
     "data": {
      "text/plain": [
       "(7869, 182)"
      ]
     },
     "execution_count": 117,
     "metadata": {},
     "output_type": "execute_result"
    }
   ],
   "source": [
    "df_99_1.shape"
   ]
  },
  {
   "cell_type": "markdown",
   "id": "16206772",
   "metadata": {
    "id": "16206772"
   },
   "source": [
    "## Method 4:  95-5 percentile method"
   ]
  },
  {
   "cell_type": "code",
   "execution_count": 118,
   "id": "79e007dd",
   "metadata": {
    "id": "79e007dd",
    "scrolled": true
   },
   "outputs": [],
   "source": [
    "Q1 = df.quantile(0.05)\n",
    "Q3 = df.quantile(0.95)\n",
    "IQR = Q3 - Q1"
   ]
  },
  {
   "cell_type": "code",
   "execution_count": 119,
   "id": "ef4d3d2a",
   "metadata": {
    "colab": {
     "base_uri": "https://localhost:8080/"
    },
    "id": "ef4d3d2a",
    "outputId": "a290a68b-37be-4689-e51a-45a59334e862",
    "scrolled": false
   },
   "outputs": [
    {
     "name": "stdout",
     "output_type": "stream",
     "text": [
      "Non-outlier observations: 3933\n"
     ]
    }
   ],
   "source": [
    "outliers_removed_IQR = df[~((df < (Q1 - 1.5 * IQR)) |(df > (Q3 + 1.5 * IQR))).any(axis=1)]\n",
    "print('Non-outlier observations: %d' % len(outliers_removed_IQR))"
   ]
  },
  {
   "cell_type": "code",
   "execution_count": 120,
   "id": "6440380a",
   "metadata": {
    "id": "6440380a"
   },
   "outputs": [],
   "source": [
    "df_95_5 = df[~((df < (Q1 - 1.5 * IQR)) |(df > (Q3 + 1.5 * IQR))).any(axis=1)]"
   ]
  },
  {
   "cell_type": "code",
   "execution_count": 121,
   "id": "0f52da45",
   "metadata": {
    "colab": {
     "base_uri": "https://localhost:8080/"
    },
    "id": "0f52da45",
    "outputId": "e6e34557-32f2-443e-a903-0b750a29129b"
   },
   "outputs": [
    {
     "data": {
      "text/plain": [
       "(3933, 182)"
      ]
     },
     "execution_count": 121,
     "metadata": {},
     "output_type": "execute_result"
    }
   ],
   "source": [
    "df_95_5.shape"
   ]
  },
  {
   "cell_type": "markdown",
   "id": "be5980be",
   "metadata": {
    "id": "be5980be"
   },
   "source": [
    "# Observation\n",
    "\n",
    "- Percentile method leads to poor performance later.\n",
    "\n",
    "- Forced to go with 2.5 times the STD method after trial and error even though we are losing out on a lot of data"
   ]
  },
  {
   "cell_type": "code",
   "execution_count": 122,
   "id": "8b99cdaf",
   "metadata": {
    "id": "8b99cdaf"
   },
   "outputs": [],
   "source": [
    "df = outliers_removed"
   ]
  },
  {
   "cell_type": "code",
   "execution_count": 123,
   "id": "52b5176e",
   "metadata": {
    "id": "52b5176e"
   },
   "outputs": [],
   "source": [
    "df.reset_index(inplace=True)\n"
   ]
  },
  {
   "cell_type": "code",
   "execution_count": 124,
   "id": "c29055b9",
   "metadata": {
    "id": "c29055b9"
   },
   "outputs": [],
   "source": [
    "df.drop(['index'], axis=1, inplace=True)"
   ]
  },
  {
   "cell_type": "code",
   "execution_count": 125,
   "id": "86be67f3",
   "metadata": {
    "id": "86be67f3"
   },
   "outputs": [],
   "source": [
    "from sklearn.ensemble import IsolationForest\n",
    "\n",
    "\n",
    "clf = IsolationForest()\n",
    "preds = clf.fit_predict(df)"
   ]
  },
  {
   "cell_type": "code",
   "execution_count": 126,
   "id": "1012eaca",
   "metadata": {
    "colab": {
     "base_uri": "https://localhost:8080/"
    },
    "id": "1012eaca",
    "outputId": "09bc7635-7bcf-4028-b7df-a8b05a4d75e8"
   },
   "outputs": [
    {
     "data": {
      "text/plain": [
       "4579"
      ]
     },
     "execution_count": 126,
     "metadata": {},
     "output_type": "execute_result"
    }
   ],
   "source": [
    "len(preds)"
   ]
  },
  {
   "cell_type": "code",
   "execution_count": 127,
   "id": "172164f8",
   "metadata": {
    "colab": {
     "base_uri": "https://localhost:8080/"
    },
    "id": "172164f8",
    "outputId": "9573ab23-5ecb-4d8c-f3c4-55b0e651483f"
   },
   "outputs": [
    {
     "data": {
      "text/plain": [
       "4579"
      ]
     },
     "execution_count": 127,
     "metadata": {},
     "output_type": "execute_result"
    }
   ],
   "source": [
    "len(df)"
   ]
  },
  {
   "cell_type": "code",
   "execution_count": 128,
   "id": "3d8a7fab",
   "metadata": {
    "id": "3d8a7fab"
   },
   "outputs": [],
   "source": [
    "for i in range(0,len(preds)):\n",
    "    if preds[i]==-1:\n",
    "        df.drop(i, axis=0, inplace=True)"
   ]
  },
  {
   "cell_type": "code",
   "execution_count": 129,
   "id": "a352917a",
   "metadata": {
    "colab": {
     "base_uri": "https://localhost:8080/"
    },
    "id": "a352917a",
    "outputId": "0e07f9ec-89db-4844-e392-2ab0a8db2ebe"
   },
   "outputs": [
    {
     "data": {
      "text/plain": [
       "4512"
      ]
     },
     "execution_count": 129,
     "metadata": {},
     "output_type": "execute_result"
    }
   ],
   "source": [
    "len(df)"
   ]
  },
  {
   "cell_type": "markdown",
   "id": "e0043f69",
   "metadata": {
    "id": "e0043f69"
   },
   "source": [
    "### Observation\n",
    "\n",
    "- Isolation Forest Outlier Detection method further removed 4 data points"
   ]
  },
  {
   "cell_type": "code",
   "execution_count": 130,
   "id": "ecfff2f0",
   "metadata": {
    "id": "ecfff2f0"
   },
   "outputs": [],
   "source": [
    "df.drop('Class', axis = 1, inplace=True)"
   ]
  },
  {
   "cell_type": "code",
   "execution_count": null,
   "id": "81261768",
   "metadata": {},
   "outputs": [],
   "source": []
  },
  {
   "cell_type": "code",
   "execution_count": 132,
   "id": "b47741fd",
   "metadata": {},
   "outputs": [
    {
     "data": {
      "text/plain": [
       "0         9.432384\n",
       "1       -20.057542\n",
       "2         2.173745\n",
       "3       -50.954339\n",
       "4       -37.531885\n",
       "           ...    \n",
       "4574    -45.514225\n",
       "4575     69.733219\n",
       "4576     16.804819\n",
       "4577     -2.415457\n",
       "4578    478.821387\n",
       "Name: Next_Year_Price_Var[%], Length: 4512, dtype: float64"
      ]
     },
     "execution_count": 132,
     "metadata": {},
     "output_type": "execute_result"
    }
   ],
   "source": [
    "df['Next_Year_Price_Var[%]']"
   ]
  },
  {
   "cell_type": "markdown",
   "id": "2ef4b693",
   "metadata": {},
   "source": [
    "# Train-Test Split"
   ]
  },
  {
   "cell_type": "code",
   "execution_count": 133,
   "id": "8324562d",
   "metadata": {},
   "outputs": [
    {
     "data": {
      "text/html": [
       "<div>\n",
       "<style scoped>\n",
       "    .dataframe tbody tr th:only-of-type {\n",
       "        vertical-align: middle;\n",
       "    }\n",
       "\n",
       "    .dataframe tbody tr th {\n",
       "        vertical-align: top;\n",
       "    }\n",
       "\n",
       "    .dataframe thead th {\n",
       "        text-align: right;\n",
       "    }\n",
       "</style>\n",
       "<table border=\"1\" class=\"dataframe\">\n",
       "  <thead>\n",
       "    <tr style=\"text-align: right;\">\n",
       "      <th></th>\n",
       "      <th>Revenue</th>\n",
       "      <th>Revenue Growth</th>\n",
       "      <th>Cost of Revenue</th>\n",
       "      <th>Gross Profit</th>\n",
       "      <th>SG&amp;A Expense</th>\n",
       "      <th>Operating Expenses</th>\n",
       "      <th>Operating Income</th>\n",
       "      <th>Interest Expense</th>\n",
       "      <th>Earnings before Tax</th>\n",
       "      <th>Income Tax Expense</th>\n",
       "      <th>...</th>\n",
       "      <th>Communication Services</th>\n",
       "      <th>Consumer Cyclical</th>\n",
       "      <th>Consumer Defensive</th>\n",
       "      <th>Energy</th>\n",
       "      <th>Financial Services</th>\n",
       "      <th>Healthcare</th>\n",
       "      <th>Industrials</th>\n",
       "      <th>Real Estate</th>\n",
       "      <th>Technology</th>\n",
       "      <th>Utilities</th>\n",
       "    </tr>\n",
       "  </thead>\n",
       "  <tbody>\n",
       "    <tr>\n",
       "      <th>0</th>\n",
       "      <td>1.620812e+10</td>\n",
       "      <td>-0.0141</td>\n",
       "      <td>1.418222e+10</td>\n",
       "      <td>2.025907e+09</td>\n",
       "      <td>596761000.0</td>\n",
       "      <td>596761000.0</td>\n",
       "      <td>1.429146e+09</td>\n",
       "      <td>169244000.0</td>\n",
       "      <td>1.194514e+09</td>\n",
       "      <td>398243000.0</td>\n",
       "      <td>...</td>\n",
       "      <td>0</td>\n",
       "      <td>0</td>\n",
       "      <td>0</td>\n",
       "      <td>0</td>\n",
       "      <td>0</td>\n",
       "      <td>0</td>\n",
       "      <td>0</td>\n",
       "      <td>0</td>\n",
       "      <td>0</td>\n",
       "      <td>0</td>\n",
       "    </tr>\n",
       "    <tr>\n",
       "      <th>1</th>\n",
       "      <td>2.025239e+10</td>\n",
       "      <td>0.2495</td>\n",
       "      <td>1.768299e+10</td>\n",
       "      <td>2.569407e+09</td>\n",
       "      <td>687531000.0</td>\n",
       "      <td>687531000.0</td>\n",
       "      <td>1.881876e+09</td>\n",
       "      <td>173580000.0</td>\n",
       "      <td>1.688074e+09</td>\n",
       "      <td>369386000.0</td>\n",
       "      <td>...</td>\n",
       "      <td>0</td>\n",
       "      <td>0</td>\n",
       "      <td>0</td>\n",
       "      <td>0</td>\n",
       "      <td>0</td>\n",
       "      <td>0</td>\n",
       "      <td>0</td>\n",
       "      <td>0</td>\n",
       "      <td>0</td>\n",
       "      <td>0</td>\n",
       "    </tr>\n",
       "    <tr>\n",
       "      <th>2</th>\n",
       "      <td>1.026100e+10</td>\n",
       "      <td>-0.1134</td>\n",
       "      <td>9.608000e+09</td>\n",
       "      <td>6.530000e+08</td>\n",
       "      <td>306000000.0</td>\n",
       "      <td>952000000.0</td>\n",
       "      <td>-2.990000e+08</td>\n",
       "      <td>215000000.0</td>\n",
       "      <td>-4.160000e+08</td>\n",
       "      <td>24000000.0</td>\n",
       "      <td>...</td>\n",
       "      <td>0</td>\n",
       "      <td>0</td>\n",
       "      <td>0</td>\n",
       "      <td>0</td>\n",
       "      <td>0</td>\n",
       "      <td>0</td>\n",
       "      <td>0</td>\n",
       "      <td>0</td>\n",
       "      <td>0</td>\n",
       "      <td>0</td>\n",
       "    </tr>\n",
       "    <tr>\n",
       "      <th>3</th>\n",
       "      <td>1.225000e+10</td>\n",
       "      <td>0.1938</td>\n",
       "      <td>1.085800e+10</td>\n",
       "      <td>1.392000e+09</td>\n",
       "      <td>320000000.0</td>\n",
       "      <td>769000000.0</td>\n",
       "      <td>6.230000e+08</td>\n",
       "      <td>368000000.0</td>\n",
       "      <td>3.010000e+08</td>\n",
       "      <td>-86000000.0</td>\n",
       "      <td>...</td>\n",
       "      <td>0</td>\n",
       "      <td>0</td>\n",
       "      <td>0</td>\n",
       "      <td>0</td>\n",
       "      <td>0</td>\n",
       "      <td>0</td>\n",
       "      <td>0</td>\n",
       "      <td>0</td>\n",
       "      <td>0</td>\n",
       "      <td>0</td>\n",
       "    </tr>\n",
       "    <tr>\n",
       "      <th>4</th>\n",
       "      <td>1.417800e+10</td>\n",
       "      <td>0.1574</td>\n",
       "      <td>1.230500e+10</td>\n",
       "      <td>1.873000e+09</td>\n",
       "      <td>336000000.0</td>\n",
       "      <td>848000000.0</td>\n",
       "      <td>1.025000e+09</td>\n",
       "      <td>312000000.0</td>\n",
       "      <td>8.120000e+08</td>\n",
       "      <td>-303000000.0</td>\n",
       "      <td>...</td>\n",
       "      <td>0</td>\n",
       "      <td>0</td>\n",
       "      <td>0</td>\n",
       "      <td>0</td>\n",
       "      <td>0</td>\n",
       "      <td>0</td>\n",
       "      <td>0</td>\n",
       "      <td>0</td>\n",
       "      <td>0</td>\n",
       "      <td>0</td>\n",
       "    </tr>\n",
       "  </tbody>\n",
       "</table>\n",
       "<p>5 rows × 180 columns</p>\n",
       "</div>"
      ],
      "text/plain": [
       "        Revenue  Revenue Growth  Cost of Revenue  Gross Profit  SG&A Expense  \\\n",
       "0  1.620812e+10         -0.0141     1.418222e+10  2.025907e+09   596761000.0   \n",
       "1  2.025239e+10          0.2495     1.768299e+10  2.569407e+09   687531000.0   \n",
       "2  1.026100e+10         -0.1134     9.608000e+09  6.530000e+08   306000000.0   \n",
       "3  1.225000e+10          0.1938     1.085800e+10  1.392000e+09   320000000.0   \n",
       "4  1.417800e+10          0.1574     1.230500e+10  1.873000e+09   336000000.0   \n",
       "\n",
       "   Operating Expenses  Operating Income  Interest Expense  \\\n",
       "0         596761000.0      1.429146e+09       169244000.0   \n",
       "1         687531000.0      1.881876e+09       173580000.0   \n",
       "2         952000000.0     -2.990000e+08       215000000.0   \n",
       "3         769000000.0      6.230000e+08       368000000.0   \n",
       "4         848000000.0      1.025000e+09       312000000.0   \n",
       "\n",
       "   Earnings before Tax  Income Tax Expense  ...  Communication Services  \\\n",
       "0         1.194514e+09         398243000.0  ...                       0   \n",
       "1         1.688074e+09         369386000.0  ...                       0   \n",
       "2        -4.160000e+08          24000000.0  ...                       0   \n",
       "3         3.010000e+08         -86000000.0  ...                       0   \n",
       "4         8.120000e+08        -303000000.0  ...                       0   \n",
       "\n",
       "   Consumer Cyclical  Consumer Defensive  Energy  Financial Services  \\\n",
       "0                  0                   0       0                   0   \n",
       "1                  0                   0       0                   0   \n",
       "2                  0                   0       0                   0   \n",
       "3                  0                   0       0                   0   \n",
       "4                  0                   0       0                   0   \n",
       "\n",
       "   Healthcare  Industrials  Real Estate  Technology  Utilities  \n",
       "0           0            0            0           0          0  \n",
       "1           0            0            0           0          0  \n",
       "2           0            0            0           0          0  \n",
       "3           0            0            0           0          0  \n",
       "4           0            0            0           0          0  \n",
       "\n",
       "[5 rows x 180 columns]"
      ]
     },
     "execution_count": 133,
     "metadata": {},
     "output_type": "execute_result"
    }
   ],
   "source": [
    "X = df.drop(['Next_Year_Price_Var[%]'], axis=1)\n",
    "X.head()"
   ]
  },
  {
   "cell_type": "code",
   "execution_count": 135,
   "id": "b0c71046",
   "metadata": {},
   "outputs": [
    {
     "data": {
      "text/plain": [
       "0     9.432384\n",
       "1   -20.057542\n",
       "2     2.173745\n",
       "3   -50.954339\n",
       "4   -37.531885\n",
       "Name: Next_Year_Price_Var[%], dtype: float64"
      ]
     },
     "execution_count": 135,
     "metadata": {},
     "output_type": "execute_result"
    }
   ],
   "source": [
    "y = df['Next_Year_Price_Var[%]']\n",
    "y.head()"
   ]
  },
  {
   "cell_type": "code",
   "execution_count": 136,
   "id": "ae17dcc3",
   "metadata": {},
   "outputs": [],
   "source": [
    "# split into train and test\n",
    "df_train, df_test = train_test_split(df, train_size=0.7, test_size = 0.3, random_state=747)"
   ]
  },
  {
   "cell_type": "markdown",
   "id": "3e1ea4dd",
   "metadata": {},
   "source": [
    "## Dividing training dataset to X and Y for the model building\n",
    "## Feature Scaling\n"
   ]
  },
  {
   "cell_type": "code",
   "execution_count": 137,
   "id": "46d963ba",
   "metadata": {},
   "outputs": [],
   "source": [
    "# scaling the features\n",
    "\n",
    "scaler = StandardScaler()\n",
    "var = list(df_train.columns)\n",
    "df_train[var] = scaler.fit_transform(df_train[var])\n",
    "\n",
    "df_test[var] = scaler.transform(df_test[var])"
   ]
  },
  {
   "cell_type": "code",
   "execution_count": 138,
   "id": "3cb28b91",
   "metadata": {},
   "outputs": [],
   "source": [
    "#pop will remove the column and return it to y_train\n",
    "y_train = df_train.pop(\"Next_Year_Price_Var[%]\")\n",
    "X_train = df_train\n",
    "\n",
    "y_test = df_test.pop(\"Next_Year_Price_Var[%]\")\n",
    "X_test = df_test"
   ]
  },
  {
   "cell_type": "code",
   "execution_count": 139,
   "id": "6275faa0",
   "metadata": {},
   "outputs": [
    {
     "data": {
      "text/html": [
       "<div>\n",
       "<style scoped>\n",
       "    .dataframe tbody tr th:only-of-type {\n",
       "        vertical-align: middle;\n",
       "    }\n",
       "\n",
       "    .dataframe tbody tr th {\n",
       "        vertical-align: top;\n",
       "    }\n",
       "\n",
       "    .dataframe thead th {\n",
       "        text-align: right;\n",
       "    }\n",
       "</style>\n",
       "<table border=\"1\" class=\"dataframe\">\n",
       "  <thead>\n",
       "    <tr style=\"text-align: right;\">\n",
       "      <th></th>\n",
       "      <th>Revenue</th>\n",
       "      <th>Revenue Growth</th>\n",
       "      <th>Cost of Revenue</th>\n",
       "      <th>Gross Profit</th>\n",
       "      <th>SG&amp;A Expense</th>\n",
       "      <th>Operating Expenses</th>\n",
       "      <th>Operating Income</th>\n",
       "      <th>Interest Expense</th>\n",
       "      <th>Earnings before Tax</th>\n",
       "      <th>Income Tax Expense</th>\n",
       "      <th>...</th>\n",
       "      <th>Communication Services</th>\n",
       "      <th>Consumer Cyclical</th>\n",
       "      <th>Consumer Defensive</th>\n",
       "      <th>Energy</th>\n",
       "      <th>Financial Services</th>\n",
       "      <th>Healthcare</th>\n",
       "      <th>Industrials</th>\n",
       "      <th>Real Estate</th>\n",
       "      <th>Technology</th>\n",
       "      <th>Utilities</th>\n",
       "    </tr>\n",
       "  </thead>\n",
       "  <tbody>\n",
       "    <tr>\n",
       "      <th>4051</th>\n",
       "      <td>0.236991</td>\n",
       "      <td>-0.049598</td>\n",
       "      <td>0.214216</td>\n",
       "      <td>0.193972</td>\n",
       "      <td>0.152137</td>\n",
       "      <td>0.055676</td>\n",
       "      <td>0.432012</td>\n",
       "      <td>0.393045</td>\n",
       "      <td>0.426589</td>\n",
       "      <td>0.391033</td>\n",
       "      <td>...</td>\n",
       "      <td>0.0</td>\n",
       "      <td>0.0</td>\n",
       "      <td>0.0</td>\n",
       "      <td>0.0</td>\n",
       "      <td>-0.527771</td>\n",
       "      <td>-0.472818</td>\n",
       "      <td>-0.568331</td>\n",
       "      <td>0.0</td>\n",
       "      <td>1.669302</td>\n",
       "      <td>0.0</td>\n",
       "    </tr>\n",
       "    <tr>\n",
       "      <th>1729</th>\n",
       "      <td>0.768950</td>\n",
       "      <td>-0.046670</td>\n",
       "      <td>0.472885</td>\n",
       "      <td>1.115732</td>\n",
       "      <td>0.811533</td>\n",
       "      <td>1.540338</td>\n",
       "      <td>-0.200843</td>\n",
       "      <td>3.369157</td>\n",
       "      <td>-0.793816</td>\n",
       "      <td>-0.260090</td>\n",
       "      <td>...</td>\n",
       "      <td>0.0</td>\n",
       "      <td>0.0</td>\n",
       "      <td>0.0</td>\n",
       "      <td>0.0</td>\n",
       "      <td>-0.527771</td>\n",
       "      <td>-0.472818</td>\n",
       "      <td>1.759539</td>\n",
       "      <td>0.0</td>\n",
       "      <td>-0.599053</td>\n",
       "      <td>0.0</td>\n",
       "    </tr>\n",
       "    <tr>\n",
       "      <th>2477</th>\n",
       "      <td>0.117494</td>\n",
       "      <td>0.036506</td>\n",
       "      <td>-0.037109</td>\n",
       "      <td>0.410177</td>\n",
       "      <td>0.676314</td>\n",
       "      <td>0.453039</td>\n",
       "      <td>0.174882</td>\n",
       "      <td>0.055469</td>\n",
       "      <td>0.137344</td>\n",
       "      <td>-0.071707</td>\n",
       "      <td>...</td>\n",
       "      <td>0.0</td>\n",
       "      <td>0.0</td>\n",
       "      <td>0.0</td>\n",
       "      <td>0.0</td>\n",
       "      <td>1.894760</td>\n",
       "      <td>-0.472818</td>\n",
       "      <td>-0.568331</td>\n",
       "      <td>0.0</td>\n",
       "      <td>-0.599053</td>\n",
       "      <td>0.0</td>\n",
       "    </tr>\n",
       "    <tr>\n",
       "      <th>3334</th>\n",
       "      <td>0.117467</td>\n",
       "      <td>-0.011211</td>\n",
       "      <td>0.051304</td>\n",
       "      <td>0.216422</td>\n",
       "      <td>0.361360</td>\n",
       "      <td>0.355973</td>\n",
       "      <td>-0.167800</td>\n",
       "      <td>-0.108190</td>\n",
       "      <td>-0.157311</td>\n",
       "      <td>-0.244757</td>\n",
       "      <td>...</td>\n",
       "      <td>0.0</td>\n",
       "      <td>0.0</td>\n",
       "      <td>0.0</td>\n",
       "      <td>0.0</td>\n",
       "      <td>-0.527771</td>\n",
       "      <td>-0.472818</td>\n",
       "      <td>-0.568331</td>\n",
       "      <td>0.0</td>\n",
       "      <td>1.669302</td>\n",
       "      <td>0.0</td>\n",
       "    </tr>\n",
       "    <tr>\n",
       "      <th>1384</th>\n",
       "      <td>1.294602</td>\n",
       "      <td>-0.054720</td>\n",
       "      <td>1.455369</td>\n",
       "      <td>0.434248</td>\n",
       "      <td>0.628196</td>\n",
       "      <td>0.332214</td>\n",
       "      <td>0.511458</td>\n",
       "      <td>1.704125</td>\n",
       "      <td>0.264321</td>\n",
       "      <td>0.288824</td>\n",
       "      <td>...</td>\n",
       "      <td>0.0</td>\n",
       "      <td>0.0</td>\n",
       "      <td>0.0</td>\n",
       "      <td>0.0</td>\n",
       "      <td>-0.527771</td>\n",
       "      <td>-0.472818</td>\n",
       "      <td>1.759539</td>\n",
       "      <td>0.0</td>\n",
       "      <td>-0.599053</td>\n",
       "      <td>0.0</td>\n",
       "    </tr>\n",
       "  </tbody>\n",
       "</table>\n",
       "<p>5 rows × 180 columns</p>\n",
       "</div>"
      ],
      "text/plain": [
       "       Revenue  Revenue Growth  Cost of Revenue  Gross Profit  SG&A Expense  \\\n",
       "4051  0.236991       -0.049598         0.214216      0.193972      0.152137   \n",
       "1729  0.768950       -0.046670         0.472885      1.115732      0.811533   \n",
       "2477  0.117494        0.036506        -0.037109      0.410177      0.676314   \n",
       "3334  0.117467       -0.011211         0.051304      0.216422      0.361360   \n",
       "1384  1.294602       -0.054720         1.455369      0.434248      0.628196   \n",
       "\n",
       "      Operating Expenses  Operating Income  Interest Expense  \\\n",
       "4051            0.055676          0.432012          0.393045   \n",
       "1729            1.540338         -0.200843          3.369157   \n",
       "2477            0.453039          0.174882          0.055469   \n",
       "3334            0.355973         -0.167800         -0.108190   \n",
       "1384            0.332214          0.511458          1.704125   \n",
       "\n",
       "      Earnings before Tax  Income Tax Expense  ...  Communication Services  \\\n",
       "4051             0.426589            0.391033  ...                     0.0   \n",
       "1729            -0.793816           -0.260090  ...                     0.0   \n",
       "2477             0.137344           -0.071707  ...                     0.0   \n",
       "3334            -0.157311           -0.244757  ...                     0.0   \n",
       "1384             0.264321            0.288824  ...                     0.0   \n",
       "\n",
       "      Consumer Cyclical  Consumer Defensive  Energy  Financial Services  \\\n",
       "4051                0.0                 0.0     0.0           -0.527771   \n",
       "1729                0.0                 0.0     0.0           -0.527771   \n",
       "2477                0.0                 0.0     0.0            1.894760   \n",
       "3334                0.0                 0.0     0.0           -0.527771   \n",
       "1384                0.0                 0.0     0.0           -0.527771   \n",
       "\n",
       "      Healthcare  Industrials  Real Estate  Technology  Utilities  \n",
       "4051   -0.472818    -0.568331          0.0    1.669302        0.0  \n",
       "1729   -0.472818     1.759539          0.0   -0.599053        0.0  \n",
       "2477   -0.472818    -0.568331          0.0   -0.599053        0.0  \n",
       "3334   -0.472818    -0.568331          0.0    1.669302        0.0  \n",
       "1384   -0.472818     1.759539          0.0   -0.599053        0.0  \n",
       "\n",
       "[5 rows x 180 columns]"
      ]
     },
     "execution_count": 139,
     "metadata": {},
     "output_type": "execute_result"
    }
   ],
   "source": [
    "X_train.head()"
   ]
  },
  {
   "cell_type": "markdown",
   "id": "fb7dcb75",
   "metadata": {},
   "source": [
    "# Data Modelling\n",
    "\n",
    "## Recursive Feature Elimination\n",
    "\n",
    "- We will use RFE to remove 40% of columns\n",
    "- 125 * 0.60 = 108\n",
    "- We will keep 100 columns\n",
    "\n",
    "\n",
    "## Note: \n",
    "\n",
    "Tried with 100 cols but many of their VIF value is INF and p-value is also high"
   ]
  },
  {
   "cell_type": "code",
   "execution_count": 170,
   "id": "7ddba37a",
   "metadata": {},
   "outputs": [],
   "source": [
    "from sklearn.linear_model import LinearRegression"
   ]
  },
  {
   "cell_type": "code",
   "execution_count": 171,
   "id": "81698635",
   "metadata": {},
   "outputs": [],
   "source": [
    "# Creating the Linear Regression Model and running RFE to get top 20 columns\n",
    "\n",
    "lm = LinearRegression()\n",
    "lm.fit(X_train, y_train)\n",
    "\n",
    "rfe = RFE(lm, 20)\n",
    "rfe = rfe.fit(X_train, y_train)"
   ]
  },
  {
   "cell_type": "code",
   "execution_count": 172,
   "id": "bc5d391e",
   "metadata": {},
   "outputs": [
    {
     "data": {
      "text/plain": [
       "Index(['Net Income', 'Net Income Com', 'EPS', 'EPS Diluted', 'EBIT Margin',\n",
       "       'EBITDA', 'EBIT', 'Net Profit Margin', 'Payables', 'Short-term debt',\n",
       "       'Total current liabilities', 'Other Liabilities', 'Operating Cash Flow',\n",
       "       'Capital Expenditure', 'Free Cash Flow', 'ebitperRevenue',\n",
       "       'netProfitMargin', 'eBITperRevenue', 'Book Value per Share',\n",
       "       'Shareholders Equity per Share'],\n",
       "      dtype='object')"
      ]
     },
     "execution_count": 172,
     "metadata": {},
     "output_type": "execute_result"
    }
   ],
   "source": [
    "# Checking out the selected columns\n",
    "\n",
    "top = X_train.columns[rfe.support_]\n",
    "top"
   ]
  },
  {
   "cell_type": "code",
   "execution_count": 173,
   "id": "66522e15",
   "metadata": {},
   "outputs": [],
   "source": [
    "# Assign the features to X_train_rfe\n",
    "\n",
    "X_train_rfe = X_train[top]"
   ]
  },
  {
   "cell_type": "code",
   "execution_count": 174,
   "id": "76c32fdb",
   "metadata": {},
   "outputs": [
    {
     "data": {
      "text/html": [
       "<div>\n",
       "<style scoped>\n",
       "    .dataframe tbody tr th:only-of-type {\n",
       "        vertical-align: middle;\n",
       "    }\n",
       "\n",
       "    .dataframe tbody tr th {\n",
       "        vertical-align: top;\n",
       "    }\n",
       "\n",
       "    .dataframe thead th {\n",
       "        text-align: right;\n",
       "    }\n",
       "</style>\n",
       "<table border=\"1\" class=\"dataframe\">\n",
       "  <thead>\n",
       "    <tr style=\"text-align: right;\">\n",
       "      <th></th>\n",
       "      <th>Net Income</th>\n",
       "      <th>Net Income Com</th>\n",
       "      <th>EPS</th>\n",
       "      <th>EPS Diluted</th>\n",
       "      <th>EBIT Margin</th>\n",
       "      <th>EBITDA</th>\n",
       "      <th>EBIT</th>\n",
       "      <th>Net Profit Margin</th>\n",
       "      <th>Payables</th>\n",
       "      <th>Short-term debt</th>\n",
       "      <th>Total current liabilities</th>\n",
       "      <th>Other Liabilities</th>\n",
       "      <th>Operating Cash Flow</th>\n",
       "      <th>Capital Expenditure</th>\n",
       "      <th>Free Cash Flow</th>\n",
       "      <th>ebitperRevenue</th>\n",
       "      <th>netProfitMargin</th>\n",
       "      <th>eBITperRevenue</th>\n",
       "      <th>Book Value per Share</th>\n",
       "      <th>Shareholders Equity per Share</th>\n",
       "    </tr>\n",
       "  </thead>\n",
       "  <tbody>\n",
       "    <tr>\n",
       "      <th>4051</th>\n",
       "      <td>0.384168</td>\n",
       "      <td>0.384843</td>\n",
       "      <td>0.088720</td>\n",
       "      <td>0.088098</td>\n",
       "      <td>0.167854</td>\n",
       "      <td>0.434931</td>\n",
       "      <td>0.458748</td>\n",
       "      <td>0.164428</td>\n",
       "      <td>0.101874</td>\n",
       "      <td>0.492457</td>\n",
       "      <td>-0.173390</td>\n",
       "      <td>-0.226040</td>\n",
       "      <td>0.691867</td>\n",
       "      <td>0.128206</td>\n",
       "      <td>0.995741</td>\n",
       "      <td>0.167909</td>\n",
       "      <td>0.164436</td>\n",
       "      <td>0.167909</td>\n",
       "      <td>0.177264</td>\n",
       "      <td>0.177261</td>\n",
       "    </tr>\n",
       "    <tr>\n",
       "      <th>1729</th>\n",
       "      <td>-0.914691</td>\n",
       "      <td>-0.913414</td>\n",
       "      <td>-0.025937</td>\n",
       "      <td>-0.025394</td>\n",
       "      <td>0.133086</td>\n",
       "      <td>0.354673</td>\n",
       "      <td>-0.243710</td>\n",
       "      <td>0.129429</td>\n",
       "      <td>0.713187</td>\n",
       "      <td>-0.266063</td>\n",
       "      <td>-0.081430</td>\n",
       "      <td>-0.160511</td>\n",
       "      <td>0.569922</td>\n",
       "      <td>-0.075387</td>\n",
       "      <td>0.708427</td>\n",
       "      <td>0.133131</td>\n",
       "      <td>0.129421</td>\n",
       "      <td>0.133131</td>\n",
       "      <td>-0.021769</td>\n",
       "      <td>-0.021768</td>\n",
       "    </tr>\n",
       "    <tr>\n",
       "      <th>2477</th>\n",
       "      <td>0.210213</td>\n",
       "      <td>0.210969</td>\n",
       "      <td>0.068525</td>\n",
       "      <td>0.068905</td>\n",
       "      <td>0.158243</td>\n",
       "      <td>0.088958</td>\n",
       "      <td>0.138630</td>\n",
       "      <td>0.162225</td>\n",
       "      <td>-0.141466</td>\n",
       "      <td>-0.266063</td>\n",
       "      <td>-0.359736</td>\n",
       "      <td>-0.333495</td>\n",
       "      <td>0.119251</td>\n",
       "      <td>0.164044</td>\n",
       "      <td>0.262044</td>\n",
       "      <td>0.158291</td>\n",
       "      <td>0.162239</td>\n",
       "      <td>0.158291</td>\n",
       "      <td>0.208830</td>\n",
       "      <td>0.208823</td>\n",
       "    </tr>\n",
       "    <tr>\n",
       "      <th>3334</th>\n",
       "      <td>-0.096507</td>\n",
       "      <td>-0.095609</td>\n",
       "      <td>0.030473</td>\n",
       "      <td>0.030851</td>\n",
       "      <td>0.142398</td>\n",
       "      <td>-0.203685</td>\n",
       "      <td>-0.160928</td>\n",
       "      <td>0.150384</td>\n",
       "      <td>-0.277826</td>\n",
       "      <td>-0.266063</td>\n",
       "      <td>0.166126</td>\n",
       "      <td>0.226464</td>\n",
       "      <td>0.648692</td>\n",
       "      <td>0.259949</td>\n",
       "      <td>1.020490</td>\n",
       "      <td>0.142430</td>\n",
       "      <td>0.150390</td>\n",
       "      <td>0.142430</td>\n",
       "      <td>-0.100858</td>\n",
       "      <td>-0.100860</td>\n",
       "    </tr>\n",
       "    <tr>\n",
       "      <th>1384</th>\n",
       "      <td>0.218255</td>\n",
       "      <td>0.219007</td>\n",
       "      <td>0.040988</td>\n",
       "      <td>0.041032</td>\n",
       "      <td>0.145637</td>\n",
       "      <td>0.550730</td>\n",
       "      <td>0.500187</td>\n",
       "      <td>0.147989</td>\n",
       "      <td>1.097258</td>\n",
       "      <td>0.068220</td>\n",
       "      <td>0.089768</td>\n",
       "      <td>-0.058229</td>\n",
       "      <td>0.139416</td>\n",
       "      <td>-0.236348</td>\n",
       "      <td>0.040220</td>\n",
       "      <td>0.145687</td>\n",
       "      <td>0.147977</td>\n",
       "      <td>0.145687</td>\n",
       "      <td>0.009028</td>\n",
       "      <td>0.009034</td>\n",
       "    </tr>\n",
       "    <tr>\n",
       "      <th>...</th>\n",
       "      <td>...</td>\n",
       "      <td>...</td>\n",
       "      <td>...</td>\n",
       "      <td>...</td>\n",
       "      <td>...</td>\n",
       "      <td>...</td>\n",
       "      <td>...</td>\n",
       "      <td>...</td>\n",
       "      <td>...</td>\n",
       "      <td>...</td>\n",
       "      <td>...</td>\n",
       "      <td>...</td>\n",
       "      <td>...</td>\n",
       "      <td>...</td>\n",
       "      <td>...</td>\n",
       "      <td>...</td>\n",
       "      <td>...</td>\n",
       "      <td>...</td>\n",
       "      <td>...</td>\n",
       "      <td>...</td>\n",
       "    </tr>\n",
       "    <tr>\n",
       "      <th>4054</th>\n",
       "      <td>-0.249204</td>\n",
       "      <td>-0.248236</td>\n",
       "      <td>0.050167</td>\n",
       "      <td>0.050212</td>\n",
       "      <td>0.144439</td>\n",
       "      <td>-0.356598</td>\n",
       "      <td>-0.324852</td>\n",
       "      <td>0.153303</td>\n",
       "      <td>-0.116732</td>\n",
       "      <td>-0.014344</td>\n",
       "      <td>-0.327971</td>\n",
       "      <td>-0.321366</td>\n",
       "      <td>-0.429151</td>\n",
       "      <td>0.188945</td>\n",
       "      <td>-0.446475</td>\n",
       "      <td>0.144476</td>\n",
       "      <td>0.153303</td>\n",
       "      <td>0.144476</td>\n",
       "      <td>0.000550</td>\n",
       "      <td>0.000544</td>\n",
       "    </tr>\n",
       "    <tr>\n",
       "      <th>2119</th>\n",
       "      <td>-0.390740</td>\n",
       "      <td>-0.389706</td>\n",
       "      <td>0.011281</td>\n",
       "      <td>0.011825</td>\n",
       "      <td>0.121297</td>\n",
       "      <td>-0.473376</td>\n",
       "      <td>-0.445195</td>\n",
       "      <td>0.132458</td>\n",
       "      <td>-0.315128</td>\n",
       "      <td>-0.261608</td>\n",
       "      <td>-0.382884</td>\n",
       "      <td>-0.334534</td>\n",
       "      <td>-0.495752</td>\n",
       "      <td>0.355318</td>\n",
       "      <td>-0.431162</td>\n",
       "      <td>0.121331</td>\n",
       "      <td>0.132455</td>\n",
       "      <td>0.121331</td>\n",
       "      <td>-0.157265</td>\n",
       "      <td>-0.157260</td>\n",
       "    </tr>\n",
       "    <tr>\n",
       "      <th>3729</th>\n",
       "      <td>-0.258139</td>\n",
       "      <td>-0.257166</td>\n",
       "      <td>0.021294</td>\n",
       "      <td>0.021839</td>\n",
       "      <td>0.156092</td>\n",
       "      <td>-0.300173</td>\n",
       "      <td>-0.302058</td>\n",
       "      <td>0.157324</td>\n",
       "      <td>-0.317918</td>\n",
       "      <td>-0.114453</td>\n",
       "      <td>-0.371977</td>\n",
       "      <td>-0.333043</td>\n",
       "      <td>-0.240756</td>\n",
       "      <td>0.152675</td>\n",
       "      <td>-0.220272</td>\n",
       "      <td>0.156147</td>\n",
       "      <td>0.157328</td>\n",
       "      <td>0.156147</td>\n",
       "      <td>-0.178280</td>\n",
       "      <td>-0.178280</td>\n",
       "    </tr>\n",
       "    <tr>\n",
       "      <th>3876</th>\n",
       "      <td>-0.463210</td>\n",
       "      <td>-0.462143</td>\n",
       "      <td>0.012282</td>\n",
       "      <td>0.012826</td>\n",
       "      <td>-0.019297</td>\n",
       "      <td>-0.529014</td>\n",
       "      <td>-0.491531</td>\n",
       "      <td>-0.026209</td>\n",
       "      <td>-0.330106</td>\n",
       "      <td>-0.266063</td>\n",
       "      <td>-0.389903</td>\n",
       "      <td>-0.339466</td>\n",
       "      <td>-0.521627</td>\n",
       "      <td>0.378562</td>\n",
       "      <td>-0.450899</td>\n",
       "      <td>-0.019247</td>\n",
       "      <td>-0.026202</td>\n",
       "      <td>-0.019247</td>\n",
       "      <td>-0.230788</td>\n",
       "      <td>-0.230785</td>\n",
       "    </tr>\n",
       "    <tr>\n",
       "      <th>1413</th>\n",
       "      <td>-0.005943</td>\n",
       "      <td>-0.005088</td>\n",
       "      <td>0.043491</td>\n",
       "      <td>0.043703</td>\n",
       "      <td>0.141744</td>\n",
       "      <td>0.211282</td>\n",
       "      <td>0.163581</td>\n",
       "      <td>0.145979</td>\n",
       "      <td>0.577748</td>\n",
       "      <td>-0.191499</td>\n",
       "      <td>-0.219893</td>\n",
       "      <td>-0.290272</td>\n",
       "      <td>-0.162226</td>\n",
       "      <td>0.229029</td>\n",
       "      <td>-0.069223</td>\n",
       "      <td>0.141779</td>\n",
       "      <td>0.145976</td>\n",
       "      <td>0.141779</td>\n",
       "      <td>0.078566</td>\n",
       "      <td>0.078557</td>\n",
       "    </tr>\n",
       "  </tbody>\n",
       "</table>\n",
       "<p>3158 rows × 20 columns</p>\n",
       "</div>"
      ],
      "text/plain": [
       "      Net Income  Net Income Com       EPS  EPS Diluted  EBIT Margin  \\\n",
       "4051    0.384168        0.384843  0.088720     0.088098     0.167854   \n",
       "1729   -0.914691       -0.913414 -0.025937    -0.025394     0.133086   \n",
       "2477    0.210213        0.210969  0.068525     0.068905     0.158243   \n",
       "3334   -0.096507       -0.095609  0.030473     0.030851     0.142398   \n",
       "1384    0.218255        0.219007  0.040988     0.041032     0.145637   \n",
       "...          ...             ...       ...          ...          ...   \n",
       "4054   -0.249204       -0.248236  0.050167     0.050212     0.144439   \n",
       "2119   -0.390740       -0.389706  0.011281     0.011825     0.121297   \n",
       "3729   -0.258139       -0.257166  0.021294     0.021839     0.156092   \n",
       "3876   -0.463210       -0.462143  0.012282     0.012826    -0.019297   \n",
       "1413   -0.005943       -0.005088  0.043491     0.043703     0.141744   \n",
       "\n",
       "        EBITDA      EBIT  Net Profit Margin  Payables  Short-term debt  \\\n",
       "4051  0.434931  0.458748           0.164428  0.101874         0.492457   \n",
       "1729  0.354673 -0.243710           0.129429  0.713187        -0.266063   \n",
       "2477  0.088958  0.138630           0.162225 -0.141466        -0.266063   \n",
       "3334 -0.203685 -0.160928           0.150384 -0.277826        -0.266063   \n",
       "1384  0.550730  0.500187           0.147989  1.097258         0.068220   \n",
       "...        ...       ...                ...       ...              ...   \n",
       "4054 -0.356598 -0.324852           0.153303 -0.116732        -0.014344   \n",
       "2119 -0.473376 -0.445195           0.132458 -0.315128        -0.261608   \n",
       "3729 -0.300173 -0.302058           0.157324 -0.317918        -0.114453   \n",
       "3876 -0.529014 -0.491531          -0.026209 -0.330106        -0.266063   \n",
       "1413  0.211282  0.163581           0.145979  0.577748        -0.191499   \n",
       "\n",
       "      Total current liabilities  Other Liabilities  Operating Cash Flow  \\\n",
       "4051                  -0.173390          -0.226040             0.691867   \n",
       "1729                  -0.081430          -0.160511             0.569922   \n",
       "2477                  -0.359736          -0.333495             0.119251   \n",
       "3334                   0.166126           0.226464             0.648692   \n",
       "1384                   0.089768          -0.058229             0.139416   \n",
       "...                         ...                ...                  ...   \n",
       "4054                  -0.327971          -0.321366            -0.429151   \n",
       "2119                  -0.382884          -0.334534            -0.495752   \n",
       "3729                  -0.371977          -0.333043            -0.240756   \n",
       "3876                  -0.389903          -0.339466            -0.521627   \n",
       "1413                  -0.219893          -0.290272            -0.162226   \n",
       "\n",
       "      Capital Expenditure  Free Cash Flow  ebitperRevenue  netProfitMargin  \\\n",
       "4051             0.128206        0.995741        0.167909         0.164436   \n",
       "1729            -0.075387        0.708427        0.133131         0.129421   \n",
       "2477             0.164044        0.262044        0.158291         0.162239   \n",
       "3334             0.259949        1.020490        0.142430         0.150390   \n",
       "1384            -0.236348        0.040220        0.145687         0.147977   \n",
       "...                   ...             ...             ...              ...   \n",
       "4054             0.188945       -0.446475        0.144476         0.153303   \n",
       "2119             0.355318       -0.431162        0.121331         0.132455   \n",
       "3729             0.152675       -0.220272        0.156147         0.157328   \n",
       "3876             0.378562       -0.450899       -0.019247        -0.026202   \n",
       "1413             0.229029       -0.069223        0.141779         0.145976   \n",
       "\n",
       "      eBITperRevenue  Book Value per Share  Shareholders Equity per Share  \n",
       "4051        0.167909              0.177264                       0.177261  \n",
       "1729        0.133131             -0.021769                      -0.021768  \n",
       "2477        0.158291              0.208830                       0.208823  \n",
       "3334        0.142430             -0.100858                      -0.100860  \n",
       "1384        0.145687              0.009028                       0.009034  \n",
       "...              ...                   ...                            ...  \n",
       "4054        0.144476              0.000550                       0.000544  \n",
       "2119        0.121331             -0.157265                      -0.157260  \n",
       "3729        0.156147             -0.178280                      -0.178280  \n",
       "3876       -0.019247             -0.230788                      -0.230785  \n",
       "1413        0.141779              0.078566                       0.078557  \n",
       "\n",
       "[3158 rows x 20 columns]"
      ]
     },
     "execution_count": 174,
     "metadata": {},
     "output_type": "execute_result"
    }
   ],
   "source": [
    "X_train_rfe"
   ]
  },
  {
   "cell_type": "code",
   "execution_count": 175,
   "id": "2c0a4803",
   "metadata": {},
   "outputs": [],
   "source": [
    "# Associate the new  features to X_train and X_test for further analysis\n",
    "\n",
    "X_train = X_train_rfe[X_train_rfe.columns]\n",
    "X_test =  X_test[X_train.columns]"
   ]
  },
  {
   "cell_type": "markdown",
   "id": "ddbb973c",
   "metadata": {},
   "source": [
    "# Building StatsModel"
   ]
  },
  {
   "cell_type": "code",
   "execution_count": 176,
   "id": "70e095b4",
   "metadata": {},
   "outputs": [],
   "source": [
    "# creating X_train dataframe with RFE selected top100 variables\n",
    "\n",
    "X_train_rfe = X_train[top]"
   ]
  },
  {
   "cell_type": "code",
   "execution_count": 177,
   "id": "a8f2314c",
   "metadata": {},
   "outputs": [],
   "source": [
    "import statsmodels.api as sm\n",
    "\n",
    "#Adding constant\n",
    "X_train_rfe = sm.add_constant(X_train_rfe)"
   ]
  },
  {
   "cell_type": "code",
   "execution_count": 178,
   "id": "9ed314f7",
   "metadata": {},
   "outputs": [],
   "source": [
    "#Running the model\n",
    "lm = sm.OLS(y_train, X_train_rfe).fit()"
   ]
  },
  {
   "cell_type": "code",
   "execution_count": 179,
   "id": "40d87ab8",
   "metadata": {},
   "outputs": [
    {
     "data": {
      "text/html": [
       "<table class=\"simpletable\">\n",
       "<caption>OLS Regression Results</caption>\n",
       "<tr>\n",
       "  <th>Dep. Variable:</th>    <td>Next_Year_Price_Var[%]</td> <th>  R-squared:         </th> <td>   0.018</td>\n",
       "</tr>\n",
       "<tr>\n",
       "  <th>Model:</th>                      <td>OLS</td>          <th>  Adj. R-squared:    </th> <td>   0.013</td>\n",
       "</tr>\n",
       "<tr>\n",
       "  <th>Method:</th>                <td>Least Squares</td>     <th>  F-statistic:       </th> <td>   3.110</td>\n",
       "</tr>\n",
       "<tr>\n",
       "  <th>Date:</th>                <td>Mon, 22 Nov 2021</td>    <th>  Prob (F-statistic):</th> <td>6.22e-06</td>\n",
       "</tr>\n",
       "<tr>\n",
       "  <th>Time:</th>                    <td>22:45:37</td>        <th>  Log-Likelihood:    </th> <td> -4451.6</td>\n",
       "</tr>\n",
       "<tr>\n",
       "  <th>No. Observations:</th>         <td>  3158</td>         <th>  AIC:               </th> <td>   8943.</td>\n",
       "</tr>\n",
       "<tr>\n",
       "  <th>Df Residuals:</th>             <td>  3138</td>         <th>  BIC:               </th> <td>   9064.</td>\n",
       "</tr>\n",
       "<tr>\n",
       "  <th>Df Model:</th>                 <td>    19</td>         <th>                     </th>     <td> </td>   \n",
       "</tr>\n",
       "<tr>\n",
       "  <th>Covariance Type:</th>         <td>nonrobust</td>       <th>                     </th>     <td> </td>   \n",
       "</tr>\n",
       "</table>\n",
       "<table class=\"simpletable\">\n",
       "<tr>\n",
       "                <td></td>                   <th>coef</th>     <th>std err</th>      <th>t</th>      <th>P>|t|</th>  <th>[0.025</th>    <th>0.975]</th>  \n",
       "</tr>\n",
       "<tr>\n",
       "  <th>const</th>                         <td> 1.735e-18</td> <td>    0.018</td> <td> 9.81e-17</td> <td> 1.000</td> <td>   -0.035</td> <td>    0.035</td>\n",
       "</tr>\n",
       "<tr>\n",
       "  <th>Net Income</th>                    <td>    0.6836</td> <td>    0.750</td> <td>    0.911</td> <td> 0.362</td> <td>   -0.787</td> <td>    2.154</td>\n",
       "</tr>\n",
       "<tr>\n",
       "  <th>Net Income Com</th>                <td>   -0.7140</td> <td>    0.751</td> <td>   -0.951</td> <td> 0.342</td> <td>   -2.186</td> <td>    0.758</td>\n",
       "</tr>\n",
       "<tr>\n",
       "  <th>EPS</th>                           <td>  -14.2837</td> <td>    6.714</td> <td>   -2.128</td> <td> 0.033</td> <td>  -27.448</td> <td>   -1.120</td>\n",
       "</tr>\n",
       "<tr>\n",
       "  <th>EPS Diluted</th>                   <td>   14.4848</td> <td>    6.717</td> <td>    2.156</td> <td> 0.031</td> <td>    1.314</td> <td>   27.656</td>\n",
       "</tr>\n",
       "<tr>\n",
       "  <th>EBIT Margin</th>                   <td>  -16.0599</td> <td>    9.825</td> <td>   -1.635</td> <td> 0.102</td> <td>  -35.324</td> <td>    3.204</td>\n",
       "</tr>\n",
       "<tr>\n",
       "  <th>EBITDA</th>                        <td>   -0.0430</td> <td>    0.121</td> <td>   -0.355</td> <td> 0.723</td> <td>   -0.281</td> <td>    0.195</td>\n",
       "</tr>\n",
       "<tr>\n",
       "  <th>EBIT</th>                          <td>    0.0205</td> <td>    0.117</td> <td>    0.175</td> <td> 0.861</td> <td>   -0.209</td> <td>    0.250</td>\n",
       "</tr>\n",
       "<tr>\n",
       "  <th>Net Profit Margin</th>             <td>  -13.0062</td> <td>   40.376</td> <td>   -0.322</td> <td> 0.747</td> <td>  -92.171</td> <td>   66.159</td>\n",
       "</tr>\n",
       "<tr>\n",
       "  <th>Payables</th>                      <td>   -0.9951</td> <td>    0.722</td> <td>   -1.378</td> <td> 0.168</td> <td>   -2.411</td> <td>    0.420</td>\n",
       "</tr>\n",
       "<tr>\n",
       "  <th>Short-term debt</th>               <td>   -0.5078</td> <td>    0.374</td> <td>   -1.359</td> <td> 0.174</td> <td>   -1.240</td> <td>    0.225</td>\n",
       "</tr>\n",
       "<tr>\n",
       "  <th>Total current liabilities</th>     <td>    7.6514</td> <td>    5.588</td> <td>    1.369</td> <td> 0.171</td> <td>   -3.304</td> <td>   18.607</td>\n",
       "</tr>\n",
       "<tr>\n",
       "  <th>Other Liabilities</th>             <td>   -7.4742</td> <td>    5.424</td> <td>   -1.378</td> <td> 0.168</td> <td>  -18.109</td> <td>    3.161</td>\n",
       "</tr>\n",
       "<tr>\n",
       "  <th>Operating Cash Flow</th>           <td>    0.3803</td> <td>    0.267</td> <td>    1.426</td> <td> 0.154</td> <td>   -0.142</td> <td>    0.903</td>\n",
       "</tr>\n",
       "<tr>\n",
       "  <th>Capital Expenditure</th>           <td>    0.1850</td> <td>    0.123</td> <td>    1.501</td> <td> 0.133</td> <td>   -0.057</td> <td>    0.427</td>\n",
       "</tr>\n",
       "<tr>\n",
       "  <th>Free Cash Flow</th>                <td>   -0.2107</td> <td>    0.203</td> <td>   -1.037</td> <td> 0.300</td> <td>   -0.609</td> <td>    0.188</td>\n",
       "</tr>\n",
       "<tr>\n",
       "  <th>ebitperRevenue</th>                <td>    7.9275</td> <td>    4.912</td> <td>    1.614</td> <td> 0.107</td> <td>   -1.703</td> <td>   17.558</td>\n",
       "</tr>\n",
       "<tr>\n",
       "  <th>netProfitMargin</th>               <td>   13.2806</td> <td>   40.376</td> <td>    0.329</td> <td> 0.742</td> <td>  -65.885</td> <td>   92.446</td>\n",
       "</tr>\n",
       "<tr>\n",
       "  <th>eBITperRevenue</th>                <td>    7.9275</td> <td>    4.912</td> <td>    1.614</td> <td> 0.107</td> <td>   -1.703</td> <td>   17.558</td>\n",
       "</tr>\n",
       "<tr>\n",
       "  <th>Book Value per Share</th>          <td> -173.9175</td> <td> 1159.328</td> <td>   -0.150</td> <td> 0.881</td> <td>-2447.035</td> <td> 2099.200</td>\n",
       "</tr>\n",
       "<tr>\n",
       "  <th>Shareholders Equity per Share</th> <td>  174.0670</td> <td> 1159.348</td> <td>    0.150</td> <td> 0.881</td> <td>-2099.090</td> <td> 2447.224</td>\n",
       "</tr>\n",
       "</table>\n",
       "<table class=\"simpletable\">\n",
       "<tr>\n",
       "  <th>Omnibus:</th>       <td>1869.681</td> <th>  Durbin-Watson:     </th> <td>   1.998</td> \n",
       "</tr>\n",
       "<tr>\n",
       "  <th>Prob(Omnibus):</th>  <td> 0.000</td>  <th>  Jarque-Bera (JB):  </th> <td>35493.863</td>\n",
       "</tr>\n",
       "<tr>\n",
       "  <th>Skew:</th>           <td> 2.438</td>  <th>  Prob(JB):          </th> <td>    0.00</td> \n",
       "</tr>\n",
       "<tr>\n",
       "  <th>Kurtosis:</th>       <td>18.683</td>  <th>  Cond. No.          </th> <td>5.63e+15</td> \n",
       "</tr>\n",
       "</table><br/><br/>Notes:<br/>[1] Standard Errors assume that the covariance matrix of the errors is correctly specified.<br/>[2] The smallest eigenvalue is 6.38e-28. This might indicate that there are<br/>strong multicollinearity problems or that the design matrix is singular."
      ],
      "text/plain": [
       "<class 'statsmodels.iolib.summary.Summary'>\n",
       "\"\"\"\n",
       "                              OLS Regression Results                              \n",
       "==================================================================================\n",
       "Dep. Variable:     Next_Year_Price_Var[%]   R-squared:                       0.018\n",
       "Model:                                OLS   Adj. R-squared:                  0.013\n",
       "Method:                     Least Squares   F-statistic:                     3.110\n",
       "Date:                    Mon, 22 Nov 2021   Prob (F-statistic):           6.22e-06\n",
       "Time:                            22:45:37   Log-Likelihood:                -4451.6\n",
       "No. Observations:                    3158   AIC:                             8943.\n",
       "Df Residuals:                        3138   BIC:                             9064.\n",
       "Df Model:                              19                                         \n",
       "Covariance Type:                nonrobust                                         \n",
       "=================================================================================================\n",
       "                                    coef    std err          t      P>|t|      [0.025      0.975]\n",
       "-------------------------------------------------------------------------------------------------\n",
       "const                          1.735e-18      0.018   9.81e-17      1.000      -0.035       0.035\n",
       "Net Income                        0.6836      0.750      0.911      0.362      -0.787       2.154\n",
       "Net Income Com                   -0.7140      0.751     -0.951      0.342      -2.186       0.758\n",
       "EPS                             -14.2837      6.714     -2.128      0.033     -27.448      -1.120\n",
       "EPS Diluted                      14.4848      6.717      2.156      0.031       1.314      27.656\n",
       "EBIT Margin                     -16.0599      9.825     -1.635      0.102     -35.324       3.204\n",
       "EBITDA                           -0.0430      0.121     -0.355      0.723      -0.281       0.195\n",
       "EBIT                              0.0205      0.117      0.175      0.861      -0.209       0.250\n",
       "Net Profit Margin               -13.0062     40.376     -0.322      0.747     -92.171      66.159\n",
       "Payables                         -0.9951      0.722     -1.378      0.168      -2.411       0.420\n",
       "Short-term debt                  -0.5078      0.374     -1.359      0.174      -1.240       0.225\n",
       "Total current liabilities         7.6514      5.588      1.369      0.171      -3.304      18.607\n",
       "Other Liabilities                -7.4742      5.424     -1.378      0.168     -18.109       3.161\n",
       "Operating Cash Flow               0.3803      0.267      1.426      0.154      -0.142       0.903\n",
       "Capital Expenditure               0.1850      0.123      1.501      0.133      -0.057       0.427\n",
       "Free Cash Flow                   -0.2107      0.203     -1.037      0.300      -0.609       0.188\n",
       "ebitperRevenue                    7.9275      4.912      1.614      0.107      -1.703      17.558\n",
       "netProfitMargin                  13.2806     40.376      0.329      0.742     -65.885      92.446\n",
       "eBITperRevenue                    7.9275      4.912      1.614      0.107      -1.703      17.558\n",
       "Book Value per Share           -173.9175   1159.328     -0.150      0.881   -2447.035    2099.200\n",
       "Shareholders Equity per Share   174.0670   1159.348      0.150      0.881   -2099.090    2447.224\n",
       "==============================================================================\n",
       "Omnibus:                     1869.681   Durbin-Watson:                   1.998\n",
       "Prob(Omnibus):                  0.000   Jarque-Bera (JB):            35493.863\n",
       "Skew:                           2.438   Prob(JB):                         0.00\n",
       "Kurtosis:                      18.683   Cond. No.                     5.63e+15\n",
       "==============================================================================\n",
       "\n",
       "Notes:\n",
       "[1] Standard Errors assume that the covariance matrix of the errors is correctly specified.\n",
       "[2] The smallest eigenvalue is 6.38e-28. This might indicate that there are\n",
       "strong multicollinearity problems or that the design matrix is singular.\n",
       "\"\"\""
      ]
     },
     "execution_count": 179,
     "metadata": {},
     "output_type": "execute_result"
    }
   ],
   "source": [
    "lm.summary()"
   ]
  },
  {
   "cell_type": "code",
   "execution_count": 180,
   "id": "7da6e02c",
   "metadata": {},
   "outputs": [],
   "source": [
    "# Calculating VIF\n",
    "from statsmodels.stats.outliers_influence import variance_inflation_factor\n",
    "\n",
    "\n",
    "# Defining a function to give VIF value\n",
    "def vif_cal(X):\n",
    "    vif = pd.DataFrame()\n",
    "    vif['Features'] = X.columns\n",
    "    vif['VIF'] = [variance_inflation_factor(X.values, i) for i in range(X.shape[1])]\n",
    "    vif['VIF'] = round(vif['VIF'], 2)\n",
    "\n",
    "    vif = vif.sort_values(by=\"VIF\", ascending=False)\n",
    "\n",
    "    return vif"
   ]
  },
  {
   "cell_type": "code",
   "execution_count": 181,
   "id": "78127cad",
   "metadata": {},
   "outputs": [
    {
     "data": {
      "text/html": [
       "<div>\n",
       "<style scoped>\n",
       "    .dataframe tbody tr th:only-of-type {\n",
       "        vertical-align: middle;\n",
       "    }\n",
       "\n",
       "    .dataframe tbody tr th {\n",
       "        vertical-align: top;\n",
       "    }\n",
       "\n",
       "    .dataframe thead th {\n",
       "        text-align: right;\n",
       "    }\n",
       "</style>\n",
       "<table border=\"1\" class=\"dataframe\">\n",
       "  <thead>\n",
       "    <tr style=\"text-align: right;\">\n",
       "      <th></th>\n",
       "      <th>Features</th>\n",
       "      <th>VIF</th>\n",
       "    </tr>\n",
       "  </thead>\n",
       "  <tbody>\n",
       "    <tr>\n",
       "      <th>16</th>\n",
       "      <td>ebitperRevenue</td>\n",
       "      <td>inf</td>\n",
       "    </tr>\n",
       "    <tr>\n",
       "      <th>18</th>\n",
       "      <td>eBITperRevenue</td>\n",
       "      <td>inf</td>\n",
       "    </tr>\n",
       "    <tr>\n",
       "      <th>20</th>\n",
       "      <td>Shareholders Equity per Share</td>\n",
       "      <td>4.297164e+09</td>\n",
       "    </tr>\n",
       "    <tr>\n",
       "      <th>19</th>\n",
       "      <td>Book Value per Share</td>\n",
       "      <td>4.297014e+09</td>\n",
       "    </tr>\n",
       "    <tr>\n",
       "      <th>17</th>\n",
       "      <td>netProfitMargin</td>\n",
       "      <td>5.211906e+06</td>\n",
       "    </tr>\n",
       "    <tr>\n",
       "      <th>8</th>\n",
       "      <td>Net Profit Margin</td>\n",
       "      <td>5.211863e+06</td>\n",
       "    </tr>\n",
       "    <tr>\n",
       "      <th>5</th>\n",
       "      <td>EBIT Margin</td>\n",
       "      <td>3.086100e+05</td>\n",
       "    </tr>\n",
       "    <tr>\n",
       "      <th>4</th>\n",
       "      <td>EPS Diluted</td>\n",
       "      <td>1.442661e+05</td>\n",
       "    </tr>\n",
       "    <tr>\n",
       "      <th>3</th>\n",
       "      <td>EPS</td>\n",
       "      <td>1.441084e+05</td>\n",
       "    </tr>\n",
       "    <tr>\n",
       "      <th>11</th>\n",
       "      <td>Total current liabilities</td>\n",
       "      <td>9.981622e+04</td>\n",
       "    </tr>\n",
       "    <tr>\n",
       "      <th>12</th>\n",
       "      <td>Other Liabilities</td>\n",
       "      <td>9.405734e+04</td>\n",
       "    </tr>\n",
       "    <tr>\n",
       "      <th>2</th>\n",
       "      <td>Net Income Com</td>\n",
       "      <td>1.801780e+03</td>\n",
       "    </tr>\n",
       "    <tr>\n",
       "      <th>1</th>\n",
       "      <td>Net Income</td>\n",
       "      <td>1.799150e+03</td>\n",
       "    </tr>\n",
       "    <tr>\n",
       "      <th>9</th>\n",
       "      <td>Payables</td>\n",
       "      <td>1.666330e+03</td>\n",
       "    </tr>\n",
       "    <tr>\n",
       "      <th>10</th>\n",
       "      <td>Short-term debt</td>\n",
       "      <td>4.463800e+02</td>\n",
       "    </tr>\n",
       "    <tr>\n",
       "      <th>13</th>\n",
       "      <td>Operating Cash Flow</td>\n",
       "      <td>2.272300e+02</td>\n",
       "    </tr>\n",
       "    <tr>\n",
       "      <th>15</th>\n",
       "      <td>Free Cash Flow</td>\n",
       "      <td>1.319300e+02</td>\n",
       "    </tr>\n",
       "    <tr>\n",
       "      <th>14</th>\n",
       "      <td>Capital Expenditure</td>\n",
       "      <td>4.854000e+01</td>\n",
       "    </tr>\n",
       "    <tr>\n",
       "      <th>6</th>\n",
       "      <td>EBITDA</td>\n",
       "      <td>4.697000e+01</td>\n",
       "    </tr>\n",
       "    <tr>\n",
       "      <th>7</th>\n",
       "      <td>EBIT</td>\n",
       "      <td>4.381000e+01</td>\n",
       "    </tr>\n",
       "    <tr>\n",
       "      <th>0</th>\n",
       "      <td>const</td>\n",
       "      <td>1.000000e+00</td>\n",
       "    </tr>\n",
       "  </tbody>\n",
       "</table>\n",
       "</div>"
      ],
      "text/plain": [
       "                         Features           VIF\n",
       "16                 ebitperRevenue           inf\n",
       "18                 eBITperRevenue           inf\n",
       "20  Shareholders Equity per Share  4.297164e+09\n",
       "19           Book Value per Share  4.297014e+09\n",
       "17                netProfitMargin  5.211906e+06\n",
       "8               Net Profit Margin  5.211863e+06\n",
       "5                     EBIT Margin  3.086100e+05\n",
       "4                     EPS Diluted  1.442661e+05\n",
       "3                             EPS  1.441084e+05\n",
       "11      Total current liabilities  9.981622e+04\n",
       "12              Other Liabilities  9.405734e+04\n",
       "2                  Net Income Com  1.801780e+03\n",
       "1                      Net Income  1.799150e+03\n",
       "9                        Payables  1.666330e+03\n",
       "10                Short-term debt  4.463800e+02\n",
       "13            Operating Cash Flow  2.272300e+02\n",
       "15                 Free Cash Flow  1.319300e+02\n",
       "14            Capital Expenditure  4.854000e+01\n",
       "6                          EBITDA  4.697000e+01\n",
       "7                            EBIT  4.381000e+01\n",
       "0                           const  1.000000e+00"
      ]
     },
     "execution_count": 181,
     "metadata": {},
     "output_type": "execute_result"
    }
   ],
   "source": [
    "vif = vif_cal(X_train_rfe)\n",
    "vif"
   ]
  },
  {
   "cell_type": "code",
   "execution_count": 182,
   "id": "97bb1289",
   "metadata": {},
   "outputs": [
    {
     "name": "stdout",
     "output_type": "stream",
     "text": [
      "                              OLS Regression Results                              \n",
      "==================================================================================\n",
      "Dep. Variable:     Next_Year_Price_Var[%]   R-squared:                       0.018\n",
      "Model:                                OLS   Adj. R-squared:                  0.013\n",
      "Method:                     Least Squares   F-statistic:                     3.282\n",
      "Date:                    Mon, 22 Nov 2021   Prob (F-statistic):           3.34e-06\n",
      "Time:                            22:46:41   Log-Likelihood:                -4451.6\n",
      "No. Observations:                    3158   AIC:                             8941.\n",
      "Df Residuals:                        3139   BIC:                             9056.\n",
      "Df Model:                              18                                         \n",
      "Covariance Type:                nonrobust                                         \n",
      "=============================================================================================\n",
      "                                coef    std err          t      P>|t|      [0.025      0.975]\n",
      "---------------------------------------------------------------------------------------------\n",
      "const                      1.735e-18      0.018   9.81e-17      1.000      -0.035       0.035\n",
      "Net Income                    0.6825      0.750      0.910      0.363      -0.788       2.153\n",
      "Net Income Com               -0.7128      0.751     -0.950      0.342      -2.184       0.759\n",
      "EPS                         -14.2861      6.713     -2.128      0.033     -27.448      -1.124\n",
      "EPS Diluted                  14.4839      6.716      2.156      0.031       1.315      27.653\n",
      "EBIT Margin                 -16.0524      9.823     -1.634      0.102     -35.313       3.208\n",
      "EBITDA                       -0.0430      0.121     -0.355      0.723      -0.281       0.195\n",
      "EBIT                          0.0205      0.117      0.175      0.861      -0.209       0.250\n",
      "Net Profit Margin           -13.0286     40.369     -0.323      0.747     -92.181      66.124\n",
      "Payables                     -0.9960      0.722     -1.380      0.168      -2.411       0.419\n",
      "Short-term debt              -0.5083      0.374     -1.361      0.174      -1.241       0.224\n",
      "Total current liabilities     7.6586      5.587      1.371      0.170      -3.295      18.612\n",
      "Other Liabilities            -7.4811      5.423     -1.380      0.168     -18.114       3.152\n",
      "Operating Cash Flow           0.3800      0.267      1.426      0.154      -0.143       0.903\n",
      "Capital Expenditure           0.1849      0.123      1.501      0.133      -0.057       0.426\n",
      "Free Cash Flow               -0.2105      0.203     -1.037      0.300      -0.609       0.188\n",
      "ebitperRevenue                7.9238      4.911      1.614      0.107      -1.705      17.553\n",
      "netProfitMargin              13.3032     40.369      0.330      0.742     -65.850      92.456\n",
      "eBITperRevenue                7.9238      4.911      1.614      0.107      -1.705      17.553\n",
      "Book Value per Share          0.1464      0.056      2.637      0.008       0.038       0.255\n",
      "==============================================================================\n",
      "Omnibus:                     1868.283   Durbin-Watson:                   1.998\n",
      "Prob(Omnibus):                  0.000   Jarque-Bera (JB):            35414.860\n",
      "Skew:                           2.436   Prob(JB):                         0.00\n",
      "Kurtosis:                      18.665   Cond. No.                     5.60e+15\n",
      "==============================================================================\n",
      "\n",
      "Notes:\n",
      "[1] Standard Errors assume that the covariance matrix of the errors is correctly specified.\n",
      "[2] The smallest eigenvalue is 6.46e-28. This might indicate that there are\n",
      "strong multicollinearity problems or that the design matrix is singular.\n"
     ]
    }
   ],
   "source": [
    "# Dropping Shareholders Equity per Share (p-value = 0.881)\n",
    "dropCol = 'Shareholders Equity per Share'\n",
    "X_train_rfe.drop(dropCol, axis=1, inplace=True)\n",
    "\n",
    "lm = sm.OLS(y_train, X_train_rfe ).fit()\n",
    "\n",
    "print(lm.summary())"
   ]
  },
  {
   "cell_type": "code",
   "execution_count": 183,
   "id": "5ab5dcee",
   "metadata": {},
   "outputs": [
    {
     "name": "stdout",
     "output_type": "stream",
     "text": [
      "                              OLS Regression Results                              \n",
      "==================================================================================\n",
      "Dep. Variable:     Next_Year_Price_Var[%]   R-squared:                       0.018\n",
      "Model:                                OLS   Adj. R-squared:                  0.013\n",
      "Method:                     Least Squares   F-statistic:                     3.475\n",
      "Date:                    Mon, 22 Nov 2021   Prob (F-statistic):           1.75e-06\n",
      "Time:                            22:47:13   Log-Likelihood:                -4451.6\n",
      "No. Observations:                    3158   AIC:                             8939.\n",
      "Df Residuals:                        3140   BIC:                             9048.\n",
      "Df Model:                              17                                         \n",
      "Covariance Type:                nonrobust                                         \n",
      "=============================================================================================\n",
      "                                coef    std err          t      P>|t|      [0.025      0.975]\n",
      "---------------------------------------------------------------------------------------------\n",
      "const                      1.735e-18      0.018   9.81e-17      1.000      -0.035       0.035\n",
      "Net Income                    0.6747      0.749      0.901      0.368      -0.793       2.142\n",
      "Net Income Com               -0.6985      0.746     -0.936      0.349      -2.161       0.764\n",
      "EPS                         -14.2703      6.711     -2.126      0.034     -27.429      -1.112\n",
      "EPS Diluted                  14.4682      6.715      2.155      0.031       1.302      27.634\n",
      "EBIT Margin                 -16.0704      9.821     -1.636      0.102     -35.327       3.186\n",
      "EBITDA                       -0.0259      0.072     -0.360      0.719      -0.167       0.115\n",
      "Net Profit Margin           -12.8164     40.345     -0.318      0.751     -91.921      66.288\n",
      "Payables                     -0.9923      0.721     -1.376      0.169      -2.407       0.422\n",
      "Short-term debt              -0.5067      0.373     -1.357      0.175      -1.239       0.225\n",
      "Total current liabilities     7.6279      5.583      1.366      0.172      -3.319      18.574\n",
      "Other Liabilities            -7.4509      5.419     -1.375      0.169     -18.077       3.175\n",
      "Operating Cash Flow           0.3572      0.232      1.537      0.124      -0.098       0.813\n",
      "Capital Expenditure           0.1767      0.114      1.550      0.121      -0.047       0.400\n",
      "Free Cash Flow               -0.1946      0.182     -1.072      0.284      -0.551       0.161\n",
      "ebitperRevenue                7.9333      4.910      1.616      0.106      -1.693      17.560\n",
      "netProfitMargin              13.0898     40.345      0.324      0.746     -66.015      92.194\n",
      "eBITperRevenue                7.9333      4.910      1.616      0.106      -1.693      17.560\n",
      "Book Value per Share          0.1464      0.056      2.638      0.008       0.038       0.255\n",
      "==============================================================================\n",
      "Omnibus:                     1868.225   Durbin-Watson:                   1.998\n",
      "Prob(Omnibus):                  0.000   Jarque-Bera (JB):            35417.921\n",
      "Skew:                           2.436   Prob(JB):                         0.00\n",
      "Kurtosis:                      18.666   Cond. No.                     9.65e+16\n",
      "==============================================================================\n",
      "\n",
      "Notes:\n",
      "[1] Standard Errors assume that the covariance matrix of the errors is correctly specified.\n",
      "[2] The smallest eigenvalue is 1.94e-30. This might indicate that there are\n",
      "strong multicollinearity problems or that the design matrix is singular.\n"
     ]
    }
   ],
   "source": [
    "# Dropping EBIT (p-value = 0.861)\n",
    "dropCol = 'EBIT'\n",
    "X_train_rfe.drop(dropCol, axis=1, inplace=True)\n",
    "\n",
    "lm = sm.OLS(y_train, X_train_rfe ).fit()\n",
    "\n",
    "print(lm.summary())"
   ]
  },
  {
   "cell_type": "code",
   "execution_count": 184,
   "id": "bb211e77",
   "metadata": {},
   "outputs": [
    {
     "name": "stdout",
     "output_type": "stream",
     "text": [
      "                              OLS Regression Results                              \n",
      "==================================================================================\n",
      "Dep. Variable:     Next_Year_Price_Var[%]   R-squared:                       0.018\n",
      "Model:                                OLS   Adj. R-squared:                  0.013\n",
      "Method:                     Least Squares   F-statistic:                     3.687\n",
      "Date:                    Mon, 22 Nov 2021   Prob (F-statistic):           9.11e-07\n",
      "Time:                            22:47:38   Log-Likelihood:                -4451.6\n",
      "No. Observations:                    3158   AIC:                             8937.\n",
      "Df Residuals:                        3141   BIC:                             9040.\n",
      "Df Model:                              16                                         \n",
      "Covariance Type:                nonrobust                                         \n",
      "=============================================================================================\n",
      "                                coef    std err          t      P>|t|      [0.025      0.975]\n",
      "---------------------------------------------------------------------------------------------\n",
      "const                      1.735e-18      0.018   9.81e-17      1.000      -0.035       0.035\n",
      "Net Income                    0.7031      0.743      0.946      0.344      -0.754       2.160\n",
      "Net Income Com               -0.7270      0.740     -0.982      0.326      -2.179       0.725\n",
      "EPS                         -14.2951      6.710     -2.131      0.033     -27.451      -1.139\n",
      "EPS Diluted                  14.4928      6.713      2.159      0.031       1.330      27.656\n",
      "EBIT Margin                 -16.6724      9.635     -1.730      0.084     -35.564       2.220\n",
      "EBITDA                       -0.0257      0.072     -0.358      0.721      -0.167       0.115\n",
      "Payables                     -0.9292      0.693     -1.340      0.180      -2.289       0.430\n",
      "Short-term debt              -0.4740      0.359     -1.321      0.187      -1.178       0.230\n",
      "Total current liabilities     7.1383      5.365      1.330      0.183      -3.381      17.658\n",
      "Other Liabilities            -6.9758      5.208     -1.339      0.181     -17.188       3.236\n",
      "Operating Cash Flow           0.3650      0.231      1.580      0.114      -0.088       0.818\n",
      "Capital Expenditure           0.1805      0.113      1.592      0.111      -0.042       0.403\n",
      "Free Cash Flow               -0.2008      0.180     -1.113      0.266      -0.555       0.153\n",
      "ebitperRevenue                8.2343      4.817      1.710      0.087      -1.210      17.679\n",
      "netProfitMargin               0.2735      0.146      1.876      0.061      -0.012       0.559\n",
      "eBITperRevenue                8.2343      4.817      1.710      0.087      -1.210      17.679\n",
      "Book Value per Share          0.1463      0.055      2.636      0.008       0.037       0.255\n",
      "==============================================================================\n",
      "Omnibus:                     1867.953   Durbin-Watson:                   1.998\n",
      "Prob(Omnibus):                  0.000   Jarque-Bera (JB):            35406.752\n",
      "Skew:                           2.436   Prob(JB):                         0.00\n",
      "Kurtosis:                      18.664   Cond. No.                     1.11e+17\n",
      "==============================================================================\n",
      "\n",
      "Notes:\n",
      "[1] Standard Errors assume that the covariance matrix of the errors is correctly specified.\n",
      "[2] The smallest eigenvalue is 1.39e-30. This might indicate that there are\n",
      "strong multicollinearity problems or that the design matrix is singular.\n"
     ]
    }
   ],
   "source": [
    "# Dropping Net Profit Margin (p-value = 0.861)\n",
    "dropCol = 'Net Profit Margin'\n",
    "X_train_rfe.drop(dropCol, axis=1, inplace=True)\n",
    "\n",
    "lm = sm.OLS(y_train, X_train_rfe ).fit()\n",
    "\n",
    "print(lm.summary())"
   ]
  },
  {
   "cell_type": "code",
   "execution_count": 185,
   "id": "90e83883",
   "metadata": {},
   "outputs": [
    {
     "name": "stdout",
     "output_type": "stream",
     "text": [
      "                              OLS Regression Results                              \n",
      "==================================================================================\n",
      "Dep. Variable:     Next_Year_Price_Var[%]   R-squared:                       0.018\n",
      "Model:                                OLS   Adj. R-squared:                  0.014\n",
      "Method:                     Least Squares   F-statistic:                     3.925\n",
      "Date:                    Mon, 22 Nov 2021   Prob (F-statistic):           4.65e-07\n",
      "Time:                            22:48:10   Log-Likelihood:                -4451.7\n",
      "No. Observations:                    3158   AIC:                             8935.\n",
      "Df Residuals:                        3142   BIC:                             9032.\n",
      "Df Model:                              15                                         \n",
      "Covariance Type:                nonrobust                                         \n",
      "=============================================================================================\n",
      "                                coef    std err          t      P>|t|      [0.025      0.975]\n",
      "---------------------------------------------------------------------------------------------\n",
      "const                      1.735e-18      0.018   9.81e-17      1.000      -0.035       0.035\n",
      "Net Income                    0.6820      0.741      0.921      0.357      -0.770       2.134\n",
      "Net Income Com               -0.7200      0.740     -0.973      0.331      -2.171       0.731\n",
      "EPS                         -14.1377      6.694     -2.112      0.035     -27.263      -1.012\n",
      "EPS Diluted                  14.3359      6.698      2.140      0.032       1.203      27.469\n",
      "EBIT Margin                 -16.6383      9.633     -1.727      0.084     -35.527       2.250\n",
      "Payables                     -0.9185      0.693     -1.326      0.185      -2.276       0.440\n",
      "Short-term debt              -0.4685      0.359     -1.307      0.191      -1.171       0.234\n",
      "Total current liabilities     7.0445      5.358      1.315      0.189      -3.461      17.550\n",
      "Other Liabilities            -6.8841      5.201     -1.324      0.186     -17.082       3.314\n",
      "Operating Cash Flow           0.3662      0.231      1.586      0.113      -0.087       0.819\n",
      "Capital Expenditure           0.1892      0.111      1.709      0.088      -0.028       0.406\n",
      "Free Cash Flow               -0.2086      0.179     -1.165      0.244      -0.560       0.143\n",
      "ebitperRevenue                8.2162      4.816      1.706      0.088      -1.226      17.659\n",
      "netProfitMargin               0.2757      0.146      1.893      0.058      -0.010       0.561\n",
      "eBITperRevenue                8.2162      4.816      1.706      0.088      -1.226      17.659\n",
      "Book Value per Share          0.1468      0.055      2.646      0.008       0.038       0.256\n",
      "==============================================================================\n",
      "Omnibus:                     1867.683   Durbin-Watson:                   1.998\n",
      "Prob(Omnibus):                  0.000   Jarque-Bera (JB):            35391.452\n",
      "Skew:                           2.435   Prob(JB):                         0.00\n",
      "Kurtosis:                      18.660   Cond. No.                     4.82e+15\n",
      "==============================================================================\n",
      "\n",
      "Notes:\n",
      "[1] Standard Errors assume that the covariance matrix of the errors is correctly specified.\n",
      "[2] The smallest eigenvalue is 6.38e-28. This might indicate that there are\n",
      "strong multicollinearity problems or that the design matrix is singular.\n"
     ]
    }
   ],
   "source": [
    "# Dropping EBITDA (p-value = 0.721)\n",
    "dropCol = 'EBITDA'\n",
    "X_train_rfe.drop(dropCol, axis=1, inplace=True)\n",
    "\n",
    "lm = sm.OLS(y_train, X_train_rfe ).fit()\n",
    "\n",
    "print(lm.summary())"
   ]
  },
  {
   "cell_type": "code",
   "execution_count": null,
   "id": "940292a9",
   "metadata": {},
   "outputs": [],
   "source": []
  },
  {
   "cell_type": "code",
   "execution_count": 186,
   "id": "6d75cc2e",
   "metadata": {},
   "outputs": [
    {
     "data": {
      "text/html": [
       "<div>\n",
       "<style scoped>\n",
       "    .dataframe tbody tr th:only-of-type {\n",
       "        vertical-align: middle;\n",
       "    }\n",
       "\n",
       "    .dataframe tbody tr th {\n",
       "        vertical-align: top;\n",
       "    }\n",
       "\n",
       "    .dataframe thead th {\n",
       "        text-align: right;\n",
       "    }\n",
       "</style>\n",
       "<table border=\"1\" class=\"dataframe\">\n",
       "  <thead>\n",
       "    <tr style=\"text-align: right;\">\n",
       "      <th></th>\n",
       "      <th>Features</th>\n",
       "      <th>VIF</th>\n",
       "    </tr>\n",
       "  </thead>\n",
       "  <tbody>\n",
       "    <tr>\n",
       "      <th>15</th>\n",
       "      <td>eBITperRevenue</td>\n",
       "      <td>inf</td>\n",
       "    </tr>\n",
       "    <tr>\n",
       "      <th>13</th>\n",
       "      <td>ebitperRevenue</td>\n",
       "      <td>inf</td>\n",
       "    </tr>\n",
       "    <tr>\n",
       "      <th>5</th>\n",
       "      <td>EBIT Margin</td>\n",
       "      <td>297049.38</td>\n",
       "    </tr>\n",
       "    <tr>\n",
       "      <th>4</th>\n",
       "      <td>EPS Diluted</td>\n",
       "      <td>143604.56</td>\n",
       "    </tr>\n",
       "    <tr>\n",
       "      <th>3</th>\n",
       "      <td>EPS</td>\n",
       "      <td>143442.42</td>\n",
       "    </tr>\n",
       "    <tr>\n",
       "      <th>8</th>\n",
       "      <td>Total current liabilities</td>\n",
       "      <td>91892.75</td>\n",
       "    </tr>\n",
       "    <tr>\n",
       "      <th>9</th>\n",
       "      <td>Other Liabilities</td>\n",
       "      <td>86589.24</td>\n",
       "    </tr>\n",
       "    <tr>\n",
       "      <th>1</th>\n",
       "      <td>Net Income</td>\n",
       "      <td>1755.80</td>\n",
       "    </tr>\n",
       "    <tr>\n",
       "      <th>2</th>\n",
       "      <td>Net Income Com</td>\n",
       "      <td>1753.44</td>\n",
       "    </tr>\n",
       "    <tr>\n",
       "      <th>6</th>\n",
       "      <td>Payables</td>\n",
       "      <td>1535.41</td>\n",
       "    </tr>\n",
       "    <tr>\n",
       "      <th>7</th>\n",
       "      <td>Short-term debt</td>\n",
       "      <td>411.39</td>\n",
       "    </tr>\n",
       "    <tr>\n",
       "      <th>10</th>\n",
       "      <td>Operating Cash Flow</td>\n",
       "      <td>170.76</td>\n",
       "    </tr>\n",
       "    <tr>\n",
       "      <th>12</th>\n",
       "      <td>Free Cash Flow</td>\n",
       "      <td>102.68</td>\n",
       "    </tr>\n",
       "    <tr>\n",
       "      <th>14</th>\n",
       "      <td>netProfitMargin</td>\n",
       "      <td>67.93</td>\n",
       "    </tr>\n",
       "    <tr>\n",
       "      <th>11</th>\n",
       "      <td>Capital Expenditure</td>\n",
       "      <td>39.23</td>\n",
       "    </tr>\n",
       "    <tr>\n",
       "      <th>16</th>\n",
       "      <td>Book Value per Share</td>\n",
       "      <td>9.85</td>\n",
       "    </tr>\n",
       "    <tr>\n",
       "      <th>0</th>\n",
       "      <td>const</td>\n",
       "      <td>1.00</td>\n",
       "    </tr>\n",
       "  </tbody>\n",
       "</table>\n",
       "</div>"
      ],
      "text/plain": [
       "                     Features        VIF\n",
       "15             eBITperRevenue        inf\n",
       "13             ebitperRevenue        inf\n",
       "5                 EBIT Margin  297049.38\n",
       "4                 EPS Diluted  143604.56\n",
       "3                         EPS  143442.42\n",
       "8   Total current liabilities   91892.75\n",
       "9           Other Liabilities   86589.24\n",
       "1                  Net Income    1755.80\n",
       "2              Net Income Com    1753.44\n",
       "6                    Payables    1535.41\n",
       "7             Short-term debt     411.39\n",
       "10        Operating Cash Flow     170.76\n",
       "12             Free Cash Flow     102.68\n",
       "14            netProfitMargin      67.93\n",
       "11        Capital Expenditure      39.23\n",
       "16       Book Value per Share       9.85\n",
       "0                       const       1.00"
      ]
     },
     "execution_count": 186,
     "metadata": {},
     "output_type": "execute_result"
    }
   ],
   "source": [
    "vif = vif_cal(X_train_rfe)\n",
    "vif"
   ]
  },
  {
   "cell_type": "code",
   "execution_count": 187,
   "id": "c62c5234",
   "metadata": {},
   "outputs": [
    {
     "name": "stdout",
     "output_type": "stream",
     "text": [
      "                              OLS Regression Results                              \n",
      "==================================================================================\n",
      "Dep. Variable:     Next_Year_Price_Var[%]   R-squared:                       0.018\n",
      "Model:                                OLS   Adj. R-squared:                  0.014\n",
      "Method:                     Least Squares   F-statistic:                     3.925\n",
      "Date:                    Mon, 22 Nov 2021   Prob (F-statistic):           4.65e-07\n",
      "Time:                            22:49:05   Log-Likelihood:                -4451.7\n",
      "No. Observations:                    3158   AIC:                             8935.\n",
      "Df Residuals:                        3142   BIC:                             9032.\n",
      "Df Model:                              15                                         \n",
      "Covariance Type:                nonrobust                                         \n",
      "=============================================================================================\n",
      "                                coef    std err          t      P>|t|      [0.025      0.975]\n",
      "---------------------------------------------------------------------------------------------\n",
      "const                      1.735e-18      0.018   9.81e-17      1.000      -0.035       0.035\n",
      "Net Income                    0.6820      0.741      0.921      0.357      -0.770       2.134\n",
      "Net Income Com               -0.7200      0.740     -0.973      0.331      -2.171       0.731\n",
      "EPS                         -14.1377      6.694     -2.112      0.035     -27.263      -1.012\n",
      "EPS Diluted                  14.3359      6.698      2.140      0.032       1.203      27.469\n",
      "EBIT Margin                 -16.6383      9.633     -1.727      0.084     -35.527       2.250\n",
      "Payables                     -0.9185      0.693     -1.326      0.185      -2.276       0.440\n",
      "Short-term debt              -0.4685      0.359     -1.307      0.191      -1.171       0.234\n",
      "Total current liabilities     7.0445      5.358      1.315      0.189      -3.461      17.550\n",
      "Other Liabilities            -6.8841      5.201     -1.324      0.186     -17.082       3.314\n",
      "Operating Cash Flow           0.3662      0.231      1.586      0.113      -0.087       0.819\n",
      "Capital Expenditure           0.1892      0.111      1.709      0.088      -0.028       0.406\n",
      "Free Cash Flow               -0.2086      0.179     -1.165      0.244      -0.560       0.143\n",
      "ebitperRevenue               16.4323      9.632      1.706      0.088      -2.453      35.317\n",
      "netProfitMargin               0.2757      0.146      1.893      0.058      -0.010       0.561\n",
      "Book Value per Share          0.1468      0.055      2.646      0.008       0.038       0.256\n",
      "==============================================================================\n",
      "Omnibus:                     1867.683   Durbin-Watson:                   1.998\n",
      "Prob(Omnibus):                  0.000   Jarque-Bera (JB):            35391.452\n",
      "Skew:                           2.435   Prob(JB):                         0.00\n",
      "Kurtosis:                      18.660   Cond. No.                     1.63e+03\n",
      "==============================================================================\n",
      "\n",
      "Notes:\n",
      "[1] Standard Errors assume that the covariance matrix of the errors is correctly specified.\n",
      "[2] The condition number is large, 1.63e+03. This might indicate that there are\n",
      "strong multicollinearity or other numerical problems.\n"
     ]
    }
   ],
   "source": [
    "\n",
    "# Dropping EBITDA (VIF = INF)\n",
    "dropCol = 'eBITperRevenue'\n",
    "X_train_rfe.drop(dropCol, axis=1, inplace=True)\n",
    "\n",
    "lm = sm.OLS(y_train, X_train_rfe ).fit()\n",
    "\n",
    "print(lm.summary())"
   ]
  },
  {
   "cell_type": "code",
   "execution_count": null,
   "id": "fa0fa2e1",
   "metadata": {},
   "outputs": [],
   "source": []
  },
  {
   "cell_type": "code",
   "execution_count": 188,
   "id": "9b3a265d",
   "metadata": {},
   "outputs": [],
   "source": [
    "X_train_rfe.drop(\"const\", axis=1, inplace=True)"
   ]
  },
  {
   "cell_type": "code",
   "execution_count": 189,
   "id": "93fe6d8f",
   "metadata": {},
   "outputs": [],
   "source": [
    "\n",
    "# Associate the new features to X_train and X_test for further analysis\n",
    "\n",
    "X_train = X_train_rfe[X_train_rfe.columns]\n",
    "X_test =  X_test[X_train.columns]"
   ]
  },
  {
   "cell_type": "markdown",
   "id": "773e4ba3",
   "metadata": {},
   "source": [
    "# Residual Analysis"
   ]
  },
  {
   "cell_type": "code",
   "execution_count": 190,
   "id": "a49499b7",
   "metadata": {},
   "outputs": [
    {
     "data": {
      "text/plain": [
       "LinearRegression()"
      ]
     },
     "execution_count": 190,
     "metadata": {},
     "output_type": "execute_result"
    }
   ],
   "source": [
    "lm = LinearRegression()\n",
    "lm.fit(X_train, y_train)"
   ]
  },
  {
   "cell_type": "code",
   "execution_count": 191,
   "id": "67fb3233",
   "metadata": {},
   "outputs": [],
   "source": [
    "y_train_pred = lm.predict(X_train)\n"
   ]
  },
  {
   "cell_type": "code",
   "execution_count": 192,
   "id": "1050bafa",
   "metadata": {},
   "outputs": [],
   "source": [
    "residual = y_train - y_train_pred"
   ]
  },
  {
   "cell_type": "code",
   "execution_count": 193,
   "id": "fdb7f029",
   "metadata": {},
   "outputs": [
    {
     "data": {
      "image/png": "[encoded data removed]",
      "text/plain": [
       "<Figure size 576x288 with 1 Axes>"
      ]
     },
     "metadata": {
      "needs_background": "light"
     },
     "output_type": "display_data"
    }
   ],
   "source": [
    "plt.figure(figsize=(8,4))\n",
    "ax = sns.distplot(residual)\n",
    "\n",
    "\n",
    "plt.ylabel('Residual')\n",
    "plt.xlabel('Errors')\n",
    "plt.yticks([])\n",
    "sns.despine(left=True)\n",
    "\n",
    "plt.show()"
   ]
  },
  {
   "cell_type": "code",
   "execution_count": 194,
   "id": "c0c187a3",
   "metadata": {},
   "outputs": [
    {
     "data": {
      "image/png": "[encoded data removed]",
      "text/plain": [
       "<Figure size 576x288 with 1 Axes>"
      ]
     },
     "metadata": {
      "needs_background": "light"
     },
     "output_type": "display_data"
    }
   ],
   "source": [
    "plt.figure(figsize=(8,4))\n",
    "ax = sns.scatterplot(x=y_train_pred, y=residual)\n",
    "\n",
    "\n",
    "plt.axhline(y=2.15, color='#FFBF00', linestyle='-')\n",
    "plt.axhline(y=-1.65, color='#FFBF00', linestyle='-')\n",
    "\n",
    "plt.ylabel('Residual')\n",
    "plt.xlabel('Predictions')\n",
    "plt.yticks([])\n",
    "# plt.xticks([])\n",
    "sns.despine(left=True)\n",
    "\n",
    "plt.show()"
   ]
  },
  {
   "cell_type": "markdown",
   "id": "0f8a9fc0",
   "metadata": {},
   "source": [
    "# Observation:\n",
    "- Residuals form a normal distribution with average around zero\n",
    "- Residuals are **NOT** independent of each other\n",
    "- Residuals have constant variance"
   ]
  },
  {
   "cell_type": "markdown",
   "id": "b3c86201",
   "metadata": {},
   "source": [
    "# Conclusion\n",
    "\n",
    "Since not all assumptions made my LinearRegression stand, we cannot apply LinearRegression or trust its result."
   ]
  },
  {
   "cell_type": "code",
   "execution_count": null,
   "id": "84714580",
   "metadata": {},
   "outputs": [],
   "source": []
  }
 ],
 "metadata": {
  "colab": {
   "name": "Final.ipynb",
   "provenance": []
  },
  "kernelspec": {
   "display_name": "Python 3 (ipykernel)",
   "language": "python",
   "name": "python3"
  },
  "language_info": {
   "codemirror_mode": {
    "name": "ipython",
    "version": 3
   },
   "file_extension": ".py",
   "mimetype": "text/x-python",
   "name": "python",
   "nbconvert_exporter": "python",
   "pygments_lexer": "ipython3",
   "version": "3.8.12"
  }
 },
 "nbformat": 4,
 "nbformat_minor": 5
}
