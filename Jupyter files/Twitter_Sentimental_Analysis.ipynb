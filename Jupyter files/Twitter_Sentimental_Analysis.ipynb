{
 "cells": [
  {
   "cell_type": "code",
   "execution_count": null,
   "metadata": {
    "id": "wfd93B2PNEvV"
   },
   "outputs": [],
   "source": [
    "import numpy as np\n",
    "import pandas as pd\n",
    "import scipy\n",
    "import seaborn as sns\n",
    "\n",
    "import missingno as msno\n",
    "\n",
    "\n",
    "import matplotlib.pyplot as plt\n",
    "%matplotlib inline\n",
    "\n",
    "import warnings\n",
    "\n",
    "warnings.filterwarnings(\"ignore\")\n",
    "\n",
    "import sklearn.preprocessing\n",
    "from sklearn import metrics\n",
    "from sklearn.metrics import classification_report, confusion_matrix\n",
    "from sklearn.model_selection import KFold\n",
    "from sklearn.model_selection import cross_val_score\n",
    "from sklearn.model_selection import GridSearchCV\n",
    "from sklearn.naive_bayes import GaussianNB\n",
    "from sklearn.tree import DecisionTreeClassifier\n",
    "from sklearn.ensemble import RandomForestClassifier\n",
    "from sklearn.svm import SVC\n",
    "\n",
    "from sklearn.preprocessing import RobustScaler\n",
    "from sklearn.model_selection import train_test_split, GridSearchCV\n",
    "from sklearn.metrics import recall_score, accuracy_score, confusion_matrix, f1_score\n",
    "from sklearn.metrics import precision_score, auc, roc_auc_score, roc_curve, precision_recall_curve\n",
    "\n",
    "from sklearn.decomposition import PCA, IncrementalPCA\n",
    "from sklearn.svm import SVC\n",
    "from sklearn.tree import DecisionTreeClassifier\n",
    "from sklearn.ensemble import RandomForestClassifier, AdaBoostClassifier\n",
    "\n",
    "from sklearn.linear_model import Ridge, Lasso\n",
    "from sklearn.feature_selection import RFE\n",
    "from xgboost import XGBClassifier\n",
    "\n",
    "from sklearn.linear_model import LogisticRegression\n",
    "import statsmodels.api as sm\n",
    "from sklearn import metrics\n",
    "\n",
    "from sklearn.metrics import mean_squared_error\n",
    "\n",
    "from sklearn.ensemble import GradientBoostingClassifier  #GBM algorithm\n",
    "# Training the model on the train data\n",
    "from sklearn.linear_model import LogisticRegression\n",
    "import statsmodels.api as sm\n",
    "from sklearn import metrics\n",
    "\n",
    "\n",
    "\n",
    "from scipy.stats.mstats import winsorize\n",
    "\n",
    "from sklearn.preprocessing import MinMaxScaler\n",
    "from sklearn.preprocessing import StandardScaler \n",
    "\n",
    "from sklearn.decomposition import PCA"
   ]
  },
  {
   "cell_type": "code",
   "execution_count": null,
   "metadata": {
    "colab": {
     "base_uri": "https://localhost:8080/"
    },
    "id": "01tt8xH1NHnK",
    "outputId": "3c74c09f-1fce-4f3b-f131-550541a7d1ba"
   },
   "outputs": [
    {
     "name": "stdout",
     "output_type": "stream",
     "text": [
      "Found existing installation: scikit-learn 0.23.1\n",
      "Uninstalling scikit-learn-0.23.1:\n",
      "  Successfully uninstalled scikit-learn-0.23.1\n"
     ]
    }
   ],
   "source": [
    "!pip uninstall scikit-learn -y\n",
    "# # "
   ]
  },
  {
   "cell_type": "code",
   "execution_count": null,
   "metadata": {
    "colab": {
     "base_uri": "https://localhost:8080/",
     "height": 283
    },
    "id": "6jy0iMWvNKyq",
    "outputId": "6f55c518-16f8-4fce-cf3b-bac4b5697cb5"
   },
   "outputs": [
    {
     "name": "stdout",
     "output_type": "stream",
     "text": [
      "Collecting scikit-learn==0.23.1\n",
      "  Using cached scikit_learn-0.23.1-cp37-cp37m-manylinux1_x86_64.whl (6.8 MB)\n",
      "Requirement already satisfied: numpy>=1.13.3 in /usr/local/lib/python3.7/dist-packages (from scikit-learn==0.23.1) (1.19.1)\n",
      "Requirement already satisfied: threadpoolctl>=2.0.0 in /usr/local/lib/python3.7/dist-packages (from scikit-learn==0.23.1) (3.0.0)\n",
      "Requirement already satisfied: scipy>=0.19.1 in /usr/local/lib/python3.7/dist-packages (from scikit-learn==0.23.1) (1.5.4)\n",
      "Requirement already satisfied: joblib>=0.11 in /usr/local/lib/python3.7/dist-packages (from scikit-learn==0.23.1) (1.0.0)\n",
      "Installing collected packages: scikit-learn\n",
      "\u001b[31mERROR: pip's dependency resolver does not currently take into account all the packages that are installed. This behaviour is the source of the following dependency conflicts.\n",
      "lazypredict 0.2.9 requires pandas==1.0.5, but you have pandas 1.3.4 which is incompatible.\u001b[0m\n",
      "Successfully installed scikit-learn-0.23.1\n"
     ]
    },
    {
     "data": {
      "application/vnd.colab-display-data+json": {
       "pip_warning": {
        "packages": [
         "sklearn"
        ]
       }
      }
     },
     "metadata": {},
     "output_type": "display_data"
    }
   ],
   "source": [
    "!pip install scikit-learn==0.23.1"
   ]
  },
  {
   "cell_type": "markdown",
   "metadata": {
    "id": "1tBhZUmiwYhq"
   },
   "source": [
    "\n",
    "\n",
    "```\n",
    "\n",
    "```\n",
    "\n",
    "# Sentimental Analysis"
   ]
  },
  {
   "cell_type": "code",
   "execution_count": null,
   "metadata": {
    "id": "1ZG1x2hzOZUH"
   },
   "outputs": [],
   "source": [
    "import pandas as pd\n",
    "import datetime\n",
    "dfAllTweets = pd.read_csv('drive/MyDrive/ALDA data/Tweet.csv')\n",
    "dfAllCompanies= pd.read_csv('drive/MyDrive/ALDA data/Company_Tweet.csv')"
   ]
  },
  {
   "cell_type": "code",
   "execution_count": null,
   "metadata": {
    "id": "VQlDr3IXPOhE"
   },
   "outputs": [],
   "source": [
    "df_merged= pd.merge(dfAllTweets, dfAllCompanies, on=\"tweet_id\")"
   ]
  },
  {
   "cell_type": "code",
   "execution_count": null,
   "metadata": {
    "colab": {
     "base_uri": "https://localhost:8080/"
    },
    "id": "uaIOLIrVQf5l",
    "outputId": "3bd73c4e-53ce-4ccf-cf46-55ec190cc131"
   },
   "outputs": [
    {
     "data": {
      "text/plain": [
       "<bound method NDFrame.head of                     tweet_id           writer  ...  like_num ticker_symbol\n",
       "0         550441509175443456  VisualStockRSRC  ...         1          AAPL\n",
       "1         550441672312512512      KeralaGuy77  ...         0          AAPL\n",
       "2         550441732014223360      DozenStocks  ...         0          AMZN\n",
       "3         550442977802207232     ShowDreamCar  ...         1          TSLA\n",
       "4         550443807834402816     i_Know_First  ...         1          AAPL\n",
       "...                      ...              ...  ...       ...           ...\n",
       "4336440  1212159838882533376    ShortingIsFun  ...         1          TSLA\n",
       "4336441  1212160015332728833      Commuternyc  ...         5          TSLA\n",
       "4336442  1212160410692046849      MoriaCrypto  ...         1          AAPL\n",
       "4336443  1212160410692046849      MoriaCrypto  ...         1          MSFT\n",
       "4336444  1212160477159206912         treabase  ...         0          AAPL\n",
       "\n",
       "[4336445 rows x 8 columns]>"
      ]
     },
     "execution_count": 187,
     "metadata": {},
     "output_type": "execute_result"
    }
   ],
   "source": [
    "df_merged.head"
   ]
  },
  {
   "cell_type": "code",
   "execution_count": null,
   "metadata": {
    "id": "KVa_RweCeuDT"
   },
   "outputs": [],
   "source": [
    "df_merged['post_date'] = pd.to_datetime(df_merged['post_date'], unit='s')\n",
    "df_merged['year'] = pd.DatetimeIndex(df_merged['post_date']).year"
   ]
  },
  {
   "cell_type": "code",
   "execution_count": null,
   "metadata": {
    "colab": {
     "base_uri": "https://localhost:8080/"
    },
    "id": "SqHmnl3pipak",
    "outputId": "802a23f2-e5cc-4697-8aac-19bd553bc23e"
   },
   "outputs": [
    {
     "name": "stdout",
     "output_type": "stream",
     "text": [
      "Requirement already satisfied: textblob in /usr/local/lib/python3.7/dist-packages (0.15.3)\n",
      "Requirement already satisfied: nltk>=3.1 in /usr/local/lib/python3.7/dist-packages (from textblob) (3.2.5)\n",
      "Requirement already satisfied: six in /usr/local/lib/python3.7/dist-packages (from nltk>=3.1->textblob) (1.15.0)\n"
     ]
    }
   ],
   "source": [
    "pip install textblob"
   ]
  },
  {
   "cell_type": "markdown",
   "metadata": {
    "id": "jEA8dVWRvyVU"
   },
   "source": [
    "APPLE 2015"
   ]
  },
  {
   "cell_type": "code",
   "execution_count": null,
   "metadata": {
    "colab": {
     "base_uri": "https://localhost:8080/"
    },
    "id": "QYgQzjvflpcX",
    "outputId": "5d00b294-dd46-4216-dc11-8c6d6b2241f2"
   },
   "outputs": [
    {
     "name": "stdout",
     "output_type": "stream",
     "text": [
      "positive tweets  7559\n",
      "negative tweets  2462\n",
      "neutral tweets  7051\n",
      "overall sentiment: positive\n"
     ]
    }
   ],
   "source": [
    "df_2015_apple = df_merged[df_merged['ticker_symbol']=='AAPL']\n",
    "df_2015_apple = df_2015_apple.loc[df_merged['year']==2015]\n",
    "df_2015_apple= df_2015_apple[:5000]\n",
    "\n",
    "from textblob import TextBlob\n",
    "\n",
    "analysis_list= []\n",
    "count_pos= 0\n",
    "count_neg= 0\n",
    "count_nt= 0\n",
    "for i in range(len(df_2015_apple)):\n",
    "  # print(i)\n",
    "  analysis = TextBlob(df_2015_apple.iloc[i]['body'])\n",
    "  likes= df_2015_apple.iloc[i]['like_num']+1\n",
    "  retweets=df_2015_apple.iloc[i]['retweet_num']+1\n",
    "  res=''\n",
    "  if analysis.sentiment.polarity > 0:\n",
    "      count_pos+=likes+retweets\n",
    "      res= 'positive'\n",
    "  elif analysis.sentiment.polarity == 0:\n",
    "      count_nt+=likes+retweets\n",
    "      res= 'neutral'\n",
    "  else:\n",
    "      count_neg+=likes+retweets\n",
    "      res= 'negative'\n",
    "  analysis_list.append(res)\n",
    "\n",
    "print('positive tweets ', count_pos)\n",
    "print('negative tweets ', count_neg)\n",
    "print('neutral tweets ', count_nt)\n",
    "if count_pos> count_neg:\n",
    "   print(\"overall sentiment: positive\")\n",
    "else:\n",
    "  print(\"overall sentiment: negative\")\n",
    "\n",
    "df_2015_apple['sentiment']= analysis_list\n",
    "df_2015_apple.to_csv('drive/MyDrive/ALDA data/2015_apple.csv', encoding='utf-8', index=False)"
   ]
  },
  {
   "cell_type": "markdown",
   "metadata": {
    "id": "5S-Ug-m5v2B0"
   },
   "source": [
    "APPLE 2016"
   ]
  },
  {
   "cell_type": "code",
   "execution_count": null,
   "metadata": {
    "colab": {
     "base_uri": "https://localhost:8080/"
    },
    "id": "tNfKJWUEdFD3",
    "outputId": "3c5bfe08-0523-47ef-ab7c-039fa2053b84"
   },
   "outputs": [
    {
     "name": "stdout",
     "output_type": "stream",
     "text": [
      "positive tweets  6249\n",
      "negative tweets  2667\n",
      "neutral tweets  8026\n",
      "overall sentiment: positive\n"
     ]
    }
   ],
   "source": [
    "df_2016_apple = df_merged[df_merged['ticker_symbol']=='AAPL']\n",
    "df_2016_apple = df_2016_apple.loc[df_merged['year']==2016]\n",
    "df_2016_apple= df_2016_apple[:5000]\n",
    "\n",
    "from textblob import TextBlob\n",
    "\n",
    "analysis_list= []\n",
    "count_pos= 0\n",
    "count_neg= 0\n",
    "count_nt= 0\n",
    "for i in range(len(df_2016_apple)):\n",
    "  # print(i)\n",
    "  analysis = TextBlob(df_2016_apple.iloc[i]['body'])\n",
    "  likes= df_2016_apple.iloc[i]['like_num']+1\n",
    "  retweets=df_2016_apple.iloc[i]['retweet_num']+1\n",
    "  res=''\n",
    "  if analysis.sentiment.polarity > 0:\n",
    "      count_pos+=likes+retweets\n",
    "      res= 'positive'\n",
    "  elif analysis.sentiment.polarity == 0:\n",
    "      count_nt+=likes+retweets\n",
    "      res= 'neutral'\n",
    "  else:\n",
    "      count_neg+=likes+retweets\n",
    "      res= 'negative'\n",
    "  analysis_list.append(res)\n",
    "\n",
    "print('positive tweets ', count_pos)\n",
    "print('negative tweets ', count_neg)\n",
    "print('neutral tweets ', count_nt)\n",
    "if count_pos> count_neg:\n",
    "   print(\"overall sentiment: positive\")\n",
    "else:\n",
    "  print(\"overall sentiment: negative\")\n",
    "\n",
    "df_2016_apple['sentiment']= analysis_list\n",
    "df_2016_apple.to_csv('drive/MyDrive/ALDA data/2016_apple.csv', encoding='utf-8', index=False)"
   ]
  },
  {
   "cell_type": "markdown",
   "metadata": {
    "id": "vVL0Za7Zv4Tt"
   },
   "source": [
    "APPLE 2017"
   ]
  },
  {
   "cell_type": "code",
   "execution_count": null,
   "metadata": {
    "colab": {
     "base_uri": "https://localhost:8080/"
    },
    "id": "ewlrbRFck8-J",
    "outputId": "8a8c3452-f7eb-47e1-c236-af84e949a25c"
   },
   "outputs": [
    {
     "name": "stdout",
     "output_type": "stream",
     "text": [
      "positive tweets  7837\n",
      "negative tweets  1203\n",
      "neutral tweets  5954\n",
      "overall sentiment: positive\n"
     ]
    }
   ],
   "source": [
    "df_2017_apple = df_merged[df_merged['ticker_symbol']=='AAPL']\n",
    "df_2017_apple = df_2017_apple.loc[df_merged['year']==2017]\n",
    "df_2017_apple= df_2017_apple[:5000]\n",
    "\n",
    "from textblob import TextBlob\n",
    "\n",
    "analysis_list= []\n",
    "count_pos= 0\n",
    "count_neg= 0\n",
    "count_nt= 0\n",
    "for i in range(len(df_2017_apple)):\n",
    "  # print(i)\n",
    "  analysis = TextBlob(df_2017_apple.iloc[i]['body'])\n",
    "  likes= df_2017_apple.iloc[i]['like_num']+1\n",
    "  retweets=df_2017_apple.iloc[i]['retweet_num']+1\n",
    "  res=''\n",
    "  if analysis.sentiment.polarity > 0:\n",
    "      count_pos+=likes+retweets\n",
    "      res= 'positive'\n",
    "  elif analysis.sentiment.polarity == 0:\n",
    "      count_nt+=likes+retweets\n",
    "      res= 'neutral'\n",
    "  else:\n",
    "      count_neg+=likes+retweets\n",
    "      res= 'negative'\n",
    "  analysis_list.append(res)\n",
    "\n",
    "print('positive tweets ', count_pos)\n",
    "print('negative tweets ', count_neg)\n",
    "print('neutral tweets ', count_nt)\n",
    "if count_pos> count_neg:\n",
    "   print(\"overall sentiment: positive\")\n",
    "else:\n",
    "  print(\"overall sentiment: negative\")\n",
    "\n",
    "df_2017_apple['sentiment']= analysis_list\n",
    "df_2017_apple.to_csv('drive/MyDrive/ALDA data/2017_apple.csv', encoding='utf-8', index=False)"
   ]
  },
  {
   "cell_type": "markdown",
   "metadata": {
    "id": "7o23rWxNv6bN"
   },
   "source": [
    "APPLE 2018"
   ]
  },
  {
   "cell_type": "code",
   "execution_count": null,
   "metadata": {
    "colab": {
     "base_uri": "https://localhost:8080/"
    },
    "id": "F_af5cd6lO1W",
    "outputId": "97443929-7631-48ca-e97e-a1f370805ee7"
   },
   "outputs": [
    {
     "name": "stdout",
     "output_type": "stream",
     "text": [
      "positive tweets  10730\n",
      "negative tweets  2163\n",
      "neutral tweets  7839\n",
      "overall sentiment: positive\n"
     ]
    }
   ],
   "source": [
    "df_2018_apple = df_merged[df_merged['ticker_symbol']=='AAPL']\n",
    "df_2018_apple = df_2018_apple.loc[df_merged['year']==2018]\n",
    "df_2018_apple= df_2018_apple[:5000]\n",
    "\n",
    "from textblob import TextBlob\n",
    "\n",
    "analysis_list= []\n",
    "count_pos= 0\n",
    "count_neg= 0\n",
    "count_nt= 0\n",
    "for i in range(len(df_2018_apple)):\n",
    "  # print(i)\n",
    "  analysis = TextBlob(df_2018_apple.iloc[i]['body'])\n",
    "  likes= df_2018_apple.iloc[i]['like_num']+1\n",
    "  retweets=df_2018_apple.iloc[i]['retweet_num']+1\n",
    "  res=''\n",
    "  if analysis.sentiment.polarity > 0:\n",
    "      count_pos+=likes+retweets\n",
    "      res= 'positive'\n",
    "  elif analysis.sentiment.polarity == 0:\n",
    "      count_nt+=likes+retweets\n",
    "      res= 'neutral'\n",
    "  else:\n",
    "      count_neg+=likes+retweets\n",
    "      res= 'negative'\n",
    "  analysis_list.append(res)\n",
    "\n",
    "print('positive tweets ', count_pos)\n",
    "print('negative tweets ', count_neg)\n",
    "print('neutral tweets ', count_nt)\n",
    "if count_pos> count_neg:\n",
    "   print(\"overall sentiment: positive\")\n",
    "else:\n",
    "  print(\"overall sentiment: negative\")\n",
    "\n",
    "df_2018_apple['sentiment']= analysis_list\n",
    "df_2018_apple.to_csv('drive/MyDrive/ALDA data/2018_apple.csv', encoding='utf-8', index=False)"
   ]
  },
  {
   "cell_type": "markdown",
   "metadata": {
    "id": "sNXpUX63v8g0"
   },
   "source": [
    "AMAZON 2015"
   ]
  },
  {
   "cell_type": "code",
   "execution_count": null,
   "metadata": {
    "colab": {
     "base_uri": "https://localhost:8080/"
    },
    "id": "M7jY5ZuRm5Yr",
    "outputId": "c3dc4da8-1fdd-4370-9866-a6561d0aecef"
   },
   "outputs": [
    {
     "name": "stdout",
     "output_type": "stream",
     "text": [
      "positive tweets  5350\n",
      "negative tweets  2010\n",
      "neutral tweets  7599\n",
      "overall sentiment: positive\n"
     ]
    }
   ],
   "source": [
    "df_2015_amazon = df_merged[df_merged['ticker_symbol']=='AMZN']\n",
    "df_2015_amazon = df_2015_amazon.loc[df_merged['year']==2015]\n",
    "df_2015_amazon= df_2015_amazon[:5000]\n",
    "\n",
    "from textblob import TextBlob\n",
    "\n",
    "analysis_list= []\n",
    "count_pos= 0\n",
    "count_neg= 0\n",
    "count_nt= 0\n",
    "for i in range(len(df_2015_amazon)):\n",
    "  # print(i)\n",
    "  analysis = TextBlob(df_2015_amazon.iloc[i]['body'])\n",
    "  likes= df_2015_amazon.iloc[i]['like_num']+1\n",
    "  retweets=df_2015_amazon.iloc[i]['retweet_num']+1\n",
    "  res=''\n",
    "  if analysis.sentiment.polarity > 0:\n",
    "      count_pos+=likes+retweets\n",
    "      res= 'positive'\n",
    "  elif analysis.sentiment.polarity == 0:\n",
    "      count_nt+=likes+retweets\n",
    "      res= 'neutral'\n",
    "  else:\n",
    "      count_neg+=likes+retweets\n",
    "      res= 'negative'\n",
    "  analysis_list.append(res)\n",
    "\n",
    "print('positive tweets ', count_pos)\n",
    "print('negative tweets ', count_neg)\n",
    "print('neutral tweets ', count_nt)\n",
    "if count_pos> count_neg:\n",
    "   print(\"overall sentiment: positive\")\n",
    "else:\n",
    "  print(\"overall sentiment: negative\")\n",
    "\n",
    "df_2015_amazon['sentiment']= analysis_list\n",
    "df_2015_amazon.to_csv('drive/MyDrive/ALDA data/2015_amazon.csv', encoding='utf-8', index=False)"
   ]
  },
  {
   "cell_type": "markdown",
   "metadata": {
    "id": "mRKBHP-cwBv0"
   },
   "source": [
    "AMAZON 2016"
   ]
  },
  {
   "cell_type": "code",
   "execution_count": null,
   "metadata": {
    "colab": {
     "base_uri": "https://localhost:8080/"
    },
    "id": "Exi-dHgfpOAZ",
    "outputId": "5471e1ba-37c2-40d1-edf2-3c972ecee6de"
   },
   "outputs": [
    {
     "name": "stdout",
     "output_type": "stream",
     "text": [
      "positive tweets  4942\n",
      "negative tweets  2299\n",
      "neutral tweets  8258\n",
      "overall sentiment: positive\n"
     ]
    }
   ],
   "source": [
    "df_2016_amazon = df_merged[df_merged['ticker_symbol']=='AMZN']\n",
    "df_2016_amazon = df_2016_amazon.loc[df_merged['year']==2016]\n",
    "df_2016_amazon= df_2016_amazon[:5000]\n",
    "\n",
    "from textblob import TextBlob\n",
    "\n",
    "analysis_list= []\n",
    "count_pos= 0\n",
    "count_neg= 0\n",
    "count_nt= 0\n",
    "for i in range(len(df_2016_amazon)):\n",
    "  # print(i)\n",
    "  analysis = TextBlob(df_2016_amazon.iloc[i]['body'])\n",
    "  likes= df_2016_amazon.iloc[i]['like_num']+1\n",
    "  retweets=df_2016_amazon.iloc[i]['retweet_num']+1\n",
    "  res=''\n",
    "  if analysis.sentiment.polarity > 0:\n",
    "      count_pos+=likes+retweets\n",
    "      res= 'positive'\n",
    "  elif analysis.sentiment.polarity == 0:\n",
    "      count_nt+=likes+retweets\n",
    "      res= 'neutral'\n",
    "  else:\n",
    "      count_neg+=likes+retweets\n",
    "      res= 'negative'\n",
    "  analysis_list.append(res)\n",
    "\n",
    "print('positive tweets ', count_pos)\n",
    "print('negative tweets ', count_neg)\n",
    "print('neutral tweets ', count_nt)\n",
    "if count_pos> count_neg:\n",
    "   print(\"overall sentiment: positive\")\n",
    "else:\n",
    "  print(\"overall sentiment: negative\")\n",
    "\n",
    "df_2016_amazon['sentiment']= analysis_list\n",
    "df_2016_amazon.to_csv('drive/MyDrive/ALDA data/2016_amazon.csv', encoding='utf-8', index=False)"
   ]
  },
  {
   "cell_type": "markdown",
   "metadata": {
    "id": "qEgmf2xNwJrW"
   },
   "source": [
    "AMAZON 2017"
   ]
  },
  {
   "cell_type": "code",
   "execution_count": null,
   "metadata": {
    "colab": {
     "base_uri": "https://localhost:8080/"
    },
    "id": "BH47xblQpTQu",
    "outputId": "c78b0817-7372-4879-9eb0-8b49a7fe5929"
   },
   "outputs": [
    {
     "name": "stdout",
     "output_type": "stream",
     "text": [
      "positive tweets  7328\n",
      "negative tweets  3040\n",
      "neutral tweets  6561\n",
      "overall sentiment: positive\n"
     ]
    }
   ],
   "source": [
    "df_2017_amazon = df_merged[df_merged['ticker_symbol']=='AMZN']\n",
    "df_2017_amazon = df_2017_amazon.loc[df_merged['year']==2017]\n",
    "df_2017_amazon= df_2017_amazon[:5000]\n",
    "\n",
    "from textblob import TextBlob\n",
    "\n",
    "analysis_list= []\n",
    "count_pos= 0\n",
    "count_neg= 0\n",
    "count_nt= 0\n",
    "for i in range(len(df_2017_amazon)):\n",
    "  # print(i)\n",
    "  analysis = TextBlob(df_2017_amazon.iloc[i]['body'])\n",
    "  likes= df_2017_amazon.iloc[i]['like_num']+1\n",
    "  retweets=df_2017_amazon.iloc[i]['retweet_num']+1\n",
    "  res=''\n",
    "  if analysis.sentiment.polarity > 0:\n",
    "      count_pos+=likes+retweets\n",
    "      res= 'positive'\n",
    "  elif analysis.sentiment.polarity == 0:\n",
    "      count_nt+=likes+retweets\n",
    "      res= 'neutral'\n",
    "  else:\n",
    "      count_neg+=likes+retweets\n",
    "      res= 'negative'\n",
    "  analysis_list.append(res)\n",
    "\n",
    "print('positive tweets ', count_pos)\n",
    "print('negative tweets ', count_neg)\n",
    "print('neutral tweets ', count_nt)\n",
    "if count_pos> count_neg:\n",
    "   print(\"overall sentiment: positive\")\n",
    "else:\n",
    "  print(\"overall sentiment: negative\")\n",
    "\n",
    "df_2017_amazon['sentiment']= analysis_list\n",
    "df_2017_amazon.to_csv('drive/MyDrive/ALDA data/2017_amazon.csv', encoding='utf-8', index=False)"
   ]
  },
  {
   "cell_type": "markdown",
   "metadata": {
    "id": "cXv_jkrvwLtb"
   },
   "source": [
    "AMAZON 2018"
   ]
  },
  {
   "cell_type": "code",
   "execution_count": null,
   "metadata": {
    "colab": {
     "base_uri": "https://localhost:8080/"
    },
    "id": "MMah2vjApZ4L",
    "outputId": "192b5dff-fea8-4fbd-859a-0e1b23488fb1"
   },
   "outputs": [
    {
     "name": "stdout",
     "output_type": "stream",
     "text": [
      "positive tweets  11627\n",
      "negative tweets  2102\n",
      "neutral tweets  9162\n",
      "overall sentiment: positive\n"
     ]
    }
   ],
   "source": [
    "df_2018_amazon = df_merged[df_merged['ticker_symbol']=='AMZN']\n",
    "df_2018_amazon = df_2018_amazon.loc[df_merged['year']==2018]\n",
    "df_2018_amazon= df_2018_amazon[:5000]\n",
    "\n",
    "from textblob import TextBlob\n",
    "\n",
    "analysis_list= []\n",
    "count_pos= 0\n",
    "count_neg= 0\n",
    "count_nt= 0\n",
    "for i in range(len(df_2018_amazon)):\n",
    "  # print(i)\n",
    "  analysis = TextBlob(df_2018_amazon.iloc[i]['body'])\n",
    "  likes= df_2018_amazon.iloc[i]['like_num']+1\n",
    "  retweets=df_2018_amazon.iloc[i]['retweet_num']+1\n",
    "  res=''\n",
    "  if analysis.sentiment.polarity > 0:\n",
    "      count_pos+=likes+retweets\n",
    "      res= 'positive'\n",
    "  elif analysis.sentiment.polarity == 0:\n",
    "      count_nt+=likes+retweets\n",
    "      res= 'neutral'\n",
    "  else:\n",
    "      count_neg+=likes+retweets\n",
    "      res= 'negative'\n",
    "  analysis_list.append(res)\n",
    "\n",
    "print('positive tweets ', count_pos)\n",
    "print('negative tweets ', count_neg)\n",
    "print('neutral tweets ', count_nt)\n",
    "if count_pos> count_neg:\n",
    "   print(\"overall sentiment: positive\")\n",
    "else:\n",
    "  print(\"overall sentiment: negative\")\n",
    "\n",
    "df_2018_amazon['sentiment']= analysis_list\n",
    "df_2018_amazon.to_csv('drive/MyDrive/ALDA data/2018_amazon.csv', encoding='utf-8', index=False)"
   ]
  },
  {
   "cell_type": "markdown",
   "metadata": {
    "id": "GNI1lhanwNBy"
   },
   "source": [
    " MICROSOFT 2015"
   ]
  },
  {
   "cell_type": "code",
   "execution_count": null,
   "metadata": {
    "colab": {
     "base_uri": "https://localhost:8080/"
    },
    "id": "bFJt0-awpcJw",
    "outputId": "3a6825d2-8175-4851-e39e-b0e306479ec9"
   },
   "outputs": [
    {
     "name": "stdout",
     "output_type": "stream",
     "text": [
      "positive tweets  5196\n",
      "negative tweets  2012\n",
      "neutral tweets  7361\n",
      "overall sentiment: positive\n"
     ]
    }
   ],
   "source": [
    "df_2015_microsoft = df_merged[df_merged['ticker_symbol']=='MSFT']\n",
    "df_2015_microsoft = df_2015_microsoft.loc[df_merged['year']==2015]\n",
    "df_2015_microsoft= df_2015_microsoft[:5000]\n",
    "\n",
    "from textblob import TextBlob\n",
    "\n",
    "analysis_list= []\n",
    "count_pos= 0\n",
    "count_neg= 0\n",
    "count_nt= 0\n",
    "for i in range(len(df_2015_microsoft)):\n",
    "  # print(i)\n",
    "  analysis = TextBlob(df_2015_microsoft.iloc[i]['body'])\n",
    "  likes= df_2015_microsoft.iloc[i]['like_num']+1\n",
    "  retweets=df_2015_microsoft.iloc[i]['retweet_num']+1\n",
    "  res=''\n",
    "  if analysis.sentiment.polarity > 0:\n",
    "      count_pos+=likes+retweets\n",
    "      res= 'positive'\n",
    "  elif analysis.sentiment.polarity == 0:\n",
    "      count_nt+=likes+retweets\n",
    "      res= 'neutral'\n",
    "  else:\n",
    "      count_neg+=likes+retweets\n",
    "      res= 'negative'\n",
    "  analysis_list.append(res)\n",
    "\n",
    "print('positive tweets ', count_pos)\n",
    "print('negative tweets ', count_neg)\n",
    "print('neutral tweets ', count_nt)\n",
    "if count_pos> count_neg:\n",
    "   print(\"overall sentiment: positive\")\n",
    "else:\n",
    "  print(\"overall sentiment: negative\")\n",
    "\n",
    "df_2015_microsoft['sentiment']= analysis_list\n",
    "df_2015_microsoft.to_csv('drive/MyDrive/ALDA data/2015_microsoft.csv', encoding='utf-8', index=False)"
   ]
  },
  {
   "cell_type": "markdown",
   "metadata": {
    "id": "buDa2KEewRQM"
   },
   "source": [
    " MICROSOFT 2016"
   ]
  },
  {
   "cell_type": "code",
   "execution_count": null,
   "metadata": {
    "colab": {
     "base_uri": "https://localhost:8080/"
    },
    "id": "6npyztiru3Lk",
    "outputId": "0bad0303-426a-430e-ed49-0d45ac4c358d"
   },
   "outputs": [
    {
     "name": "stdout",
     "output_type": "stream",
     "text": [
      "positive tweets  4086\n",
      "negative tweets  2027\n",
      "neutral tweets  9534\n",
      "overall sentiment: positive\n"
     ]
    }
   ],
   "source": [
    "df_2016_microsoft = df_merged[df_merged['ticker_symbol']=='MSFT']\n",
    "df_2016_microsoft = df_2016_microsoft.loc[df_merged['year']==2016]\n",
    "df_2016_microsoft= df_2016_microsoft[:5000]\n",
    "\n",
    "from textblob import TextBlob\n",
    "\n",
    "analysis_list= []\n",
    "count_pos= 0\n",
    "count_neg= 0\n",
    "count_nt= 0\n",
    "for i in range(len(df_2016_microsoft)):\n",
    "  # print(i)\n",
    "  analysis = TextBlob(df_2016_microsoft.iloc[i]['body'])\n",
    "  likes= df_2016_microsoft.iloc[i]['like_num']+1\n",
    "  retweets=df_2016_microsoft.iloc[i]['retweet_num']+1\n",
    "  res=''\n",
    "  if analysis.sentiment.polarity > 0:\n",
    "      count_pos+=likes+retweets\n",
    "      res= 'positive'\n",
    "  elif analysis.sentiment.polarity == 0:\n",
    "      count_nt+=likes+retweets\n",
    "      res= 'neutral'\n",
    "  else:\n",
    "      count_neg+=likes+retweets\n",
    "      res= 'negative'\n",
    "  analysis_list.append(res)\n",
    "\n",
    "print('positive tweets ', count_pos)\n",
    "print('negative tweets ', count_neg)\n",
    "print('neutral tweets ', count_nt)\n",
    "if count_pos> count_neg:\n",
    "   print(\"overall sentiment: positive\")\n",
    "else:\n",
    "  print(\"overall sentiment: negative\")\n",
    "\n",
    "df_2016_microsoft['sentiment']= analysis_list\n",
    "df_2016_microsoft.to_csv('drive/MyDrive/ALDA data/2016_microsoft.csv', encoding='utf-8', index=False)"
   ]
  },
  {
   "cell_type": "markdown",
   "metadata": {
    "id": "x_Q3cxNGwSoA"
   },
   "source": [
    " MICROSOFT 2017"
   ]
  },
  {
   "cell_type": "code",
   "execution_count": null,
   "metadata": {
    "colab": {
     "base_uri": "https://localhost:8080/"
    },
    "id": "NLMCx9o4u7Fm",
    "outputId": "20fc29fa-3efe-4fa1-f862-4309cca142db"
   },
   "outputs": [
    {
     "name": "stdout",
     "output_type": "stream",
     "text": [
      "positive tweets  8239\n",
      "negative tweets  785\n",
      "neutral tweets  4184\n",
      "overall sentiment: positive\n"
     ]
    }
   ],
   "source": [
    "df_2017_microsoft = df_merged[df_merged['ticker_symbol']=='MSFT']\n",
    "df_2017_microsoft = df_2017_microsoft.loc[df_merged['year']==2017]\n",
    "df_2017_microsoft= df_2017_microsoft[:5000]\n",
    "\n",
    "from textblob import TextBlob\n",
    "\n",
    "analysis_list= []\n",
    "count_pos= 0\n",
    "count_neg= 0\n",
    "count_nt= 0\n",
    "for i in range(len(df_2017_microsoft)):\n",
    "  # print(i)\n",
    "  analysis = TextBlob(df_2017_microsoft.iloc[i]['body'])\n",
    "  likes= df_2017_microsoft.iloc[i]['like_num']+1\n",
    "  retweets=df_2017_microsoft.iloc[i]['retweet_num']+1\n",
    "  res=''\n",
    "  if analysis.sentiment.polarity > 0:\n",
    "      count_pos+=likes+retweets\n",
    "      res= 'positive'\n",
    "  elif analysis.sentiment.polarity == 0:\n",
    "      count_nt+=likes+retweets\n",
    "      res= 'neutral'\n",
    "  else:\n",
    "      count_neg+=likes+retweets\n",
    "      res= 'negative'\n",
    "  analysis_list.append(res)\n",
    "\n",
    "print('positive tweets ', count_pos)\n",
    "print('negative tweets ', count_neg)\n",
    "print('neutral tweets ', count_nt)\n",
    "if count_pos> count_neg:\n",
    "   print(\"overall sentiment: positive\")\n",
    "else:\n",
    "  print(\"overall sentiment: negative\")\n",
    "\n",
    "df_2017_microsoft['sentiment']= analysis_list\n",
    "df_2017_microsoft.to_csv('drive/MyDrive/ALDA data/2017_microsoft.csv', encoding='utf-8', index=False)"
   ]
  },
  {
   "cell_type": "markdown",
   "metadata": {
    "id": "q5-mxEXOwUAf"
   },
   "source": [
    " MICROSOFT 2018"
   ]
  },
  {
   "cell_type": "code",
   "execution_count": null,
   "metadata": {
    "colab": {
     "base_uri": "https://localhost:8080/"
    },
    "id": "mlCHLSuDvBhJ",
    "outputId": "dcf3cd9a-29a9-40a8-ac5f-444b1578c215"
   },
   "outputs": [
    {
     "name": "stdout",
     "output_type": "stream",
     "text": [
      "positive tweets  9385\n",
      "negative tweets  2808\n",
      "neutral tweets  10559\n",
      "overall sentiment: positive\n"
     ]
    }
   ],
   "source": [
    "df_2018_microsoft = df_merged[df_merged['ticker_symbol']=='MSFT']\n",
    "df_2018_microsoft = df_2018_microsoft.loc[df_merged['year']==2018]\n",
    "df_2018_microsoft= df_2018_microsoft[:5000]\n",
    "\n",
    "from textblob import TextBlob\n",
    "\n",
    "analysis_list= []\n",
    "count_pos= 0\n",
    "count_neg= 0\n",
    "count_nt= 0\n",
    "for i in range(len(df_2018_microsoft)):\n",
    "  # print(i)\n",
    "  analysis = TextBlob(df_2018_microsoft.iloc[i]['body'])\n",
    "  likes= df_2018_microsoft.iloc[i]['like_num']+1\n",
    "  retweets=df_2018_microsoft.iloc[i]['retweet_num']+1\n",
    "  res=''\n",
    "  if analysis.sentiment.polarity > 0:\n",
    "      count_pos+=likes+retweets\n",
    "      res= 'positive'\n",
    "  elif analysis.sentiment.polarity == 0:\n",
    "      count_nt+=likes+retweets\n",
    "      res= 'neutral'\n",
    "  else:\n",
    "      count_neg+=likes+retweets\n",
    "      res= 'negative'\n",
    "  analysis_list.append(res)\n",
    "\n",
    "print('positive tweets ', count_pos)\n",
    "print('negative tweets ', count_neg)\n",
    "print('neutral tweets ', count_nt)\n",
    "if count_pos> count_neg:\n",
    "   print(\"overall sentiment: positive\")\n",
    "else:\n",
    "  print(\"overall sentiment: negative\")\n",
    "\n",
    "df_2018_microsoft['sentiment']= analysis_list\n",
    "df_2018_microsoft.to_csv('drive/MyDrive/ALDA data/2018_microsoft.csv', encoding='utf-8', index=False)"
   ]
  },
  {
   "cell_type": "markdown",
   "metadata": {
    "id": "DL3yRiBLwVWk"
   },
   "source": [
    " TESLA 2015"
   ]
  },
  {
   "cell_type": "code",
   "execution_count": null,
   "metadata": {
    "colab": {
     "base_uri": "https://localhost:8080/"
    },
    "id": "76DF01pIvDWv",
    "outputId": "2e337b25-9819-4f79-ca40-ecf61d4f20b0"
   },
   "outputs": [
    {
     "name": "stdout",
     "output_type": "stream",
     "text": [
      "positive tweets  5528\n",
      "negative tweets  2033\n",
      "neutral tweets  7789\n",
      "overall sentiment: positive\n"
     ]
    }
   ],
   "source": [
    "df_2015_tesla = df_merged[df_merged['ticker_symbol']=='TSLA']\n",
    "df_2015_tesla = df_2015_tesla.loc[df_merged['year']==2015]\n",
    "df_2015_tesla= df_2015_tesla[:5000]\n",
    "\n",
    "from textblob import TextBlob\n",
    "\n",
    "analysis_list= []\n",
    "count_pos= 0\n",
    "count_neg= 0\n",
    "count_nt= 0\n",
    "for i in range(len(df_2015_tesla)):\n",
    "  # print(i)\n",
    "  analysis = TextBlob(df_2015_tesla.iloc[i]['body'])\n",
    "  likes= df_2015_tesla.iloc[i]['like_num']+1\n",
    "  retweets=df_2015_tesla.iloc[i]['retweet_num']+1\n",
    "  res=''\n",
    "  if analysis.sentiment.polarity > 0:\n",
    "      count_pos+=likes+retweets\n",
    "      res= 'positive'\n",
    "  elif analysis.sentiment.polarity == 0:\n",
    "      count_nt+=likes+retweets\n",
    "      res= 'neutral'\n",
    "  else:\n",
    "      count_neg+=likes+retweets\n",
    "      res= 'negative'\n",
    "  analysis_list.append(res)\n",
    "\n",
    "print('positive tweets ', count_pos)\n",
    "print('negative tweets ', count_neg)\n",
    "print('neutral tweets ', count_nt)\n",
    "if count_pos> count_neg:\n",
    "   print(\"overall sentiment: positive\")\n",
    "else:\n",
    "  print(\"overall sentiment: negative\")\n",
    "\n",
    "df_2015_tesla['sentiment']= analysis_list\n",
    "df_2015_tesla.to_csv('drive/MyDrive/ALDA data/2015_tesla.csv', encoding='utf-8', index=False)"
   ]
  },
  {
   "cell_type": "markdown",
   "metadata": {
    "id": "QFXQphLnwXkF"
   },
   "source": [
    " TESLA 2016"
   ]
  },
  {
   "cell_type": "code",
   "execution_count": null,
   "metadata": {
    "colab": {
     "base_uri": "https://localhost:8080/"
    },
    "id": "2vwaTMp3vQGT",
    "outputId": "1ac17fc1-3e50-4356-8961-1b67be948e56"
   },
   "outputs": [
    {
     "name": "stdout",
     "output_type": "stream",
     "text": [
      "positive tweets  5441\n",
      "negative tweets  1959\n",
      "neutral tweets  7331\n",
      "overall sentiment: positive\n"
     ]
    }
   ],
   "source": [
    "df_2016_tesla = df_merged[df_merged['ticker_symbol']=='TSLA']\n",
    "df_2016_tesla = df_2016_tesla.loc[df_merged['year']==2016]\n",
    "df_2016_tesla= df_2016_tesla[:5000]\n",
    "\n",
    "from textblob import TextBlob\n",
    "\n",
    "analysis_list= []\n",
    "count_pos= 0\n",
    "count_neg= 0\n",
    "count_nt= 0\n",
    "for i in range(len(df_2016_tesla)):\n",
    "  # print(i)\n",
    "  analysis = TextBlob(df_2016_tesla.iloc[i]['body'])\n",
    "  likes= df_2016_tesla.iloc[i]['like_num']+1\n",
    "  retweets=df_2016_tesla.iloc[i]['retweet_num']+1\n",
    "  res=''\n",
    "  if analysis.sentiment.polarity > 0:\n",
    "      count_pos+=likes+retweets\n",
    "      res= 'positive'\n",
    "  elif analysis.sentiment.polarity == 0:\n",
    "      count_nt+=likes+retweets\n",
    "      res= 'neutral'\n",
    "  else:\n",
    "      count_neg+=likes+retweets\n",
    "      res= 'negative'\n",
    "  analysis_list.append(res)\n",
    "\n",
    "print('positive tweets ', count_pos)\n",
    "print('negative tweets ', count_neg)\n",
    "print('neutral tweets ', count_nt)\n",
    "if count_pos> count_neg:\n",
    "   print(\"overall sentiment: positive\")\n",
    "else:\n",
    "  print(\"overall sentiment: negative\")\n",
    "\n",
    "df_2016_tesla['sentiment']= analysis_list\n",
    "df_2016_tesla.to_csv('drive/MyDrive/ALDA data/2016_tesla.csv', encoding='utf-8', index=False)"
   ]
  },
  {
   "cell_type": "markdown",
   "metadata": {
    "id": "wRAvTB7HwZZ_"
   },
   "source": [
    " TESLA 2017"
   ]
  },
  {
   "cell_type": "code",
   "execution_count": null,
   "metadata": {
    "colab": {
     "base_uri": "https://localhost:8080/"
    },
    "id": "Ju8iWzVEvTur",
    "outputId": "84f4f750-b74c-4255-dd36-19f81d55039a"
   },
   "outputs": [
    {
     "name": "stdout",
     "output_type": "stream",
     "text": [
      "positive tweets  8678\n",
      "negative tweets  2679\n",
      "neutral tweets  8827\n",
      "overall sentiment: positive\n"
     ]
    }
   ],
   "source": [
    "df_2017_tesla = df_merged[df_merged['ticker_symbol']=='TSLA']\n",
    "df_2017_tesla = df_2017_tesla.loc[df_merged['year']==2017]\n",
    "df_2017_tesla= df_2017_tesla[:5000]\n",
    "\n",
    "from textblob import TextBlob\n",
    "\n",
    "analysis_list= []\n",
    "count_pos= 0\n",
    "count_neg= 0\n",
    "count_nt= 0\n",
    "for i in range(len(df_2017_tesla)):\n",
    "  # print(i)\n",
    "  analysis = TextBlob(df_2017_tesla.iloc[i]['body'])\n",
    "  likes= df_2017_tesla.iloc[i]['like_num']+1\n",
    "  retweets=df_2017_tesla.iloc[i]['retweet_num']+1\n",
    "  res=''\n",
    "  if analysis.sentiment.polarity > 0:\n",
    "      count_pos+=likes+retweets\n",
    "      res= 'positive'\n",
    "  elif analysis.sentiment.polarity == 0:\n",
    "      count_nt+=likes+retweets\n",
    "      res= 'neutral'\n",
    "  else:\n",
    "      count_neg+=likes+retweets\n",
    "      res= 'negative'\n",
    "  analysis_list.append(res)\n",
    "\n",
    "print('positive tweets ', count_pos)\n",
    "print('negative tweets ', count_neg)\n",
    "print('neutral tweets ', count_nt)\n",
    "if count_pos> count_neg:\n",
    "   print(\"overall sentiment: positive\")\n",
    "else:\n",
    "  print(\"overall sentiment: negative\")\n",
    "\n",
    "df_2017_tesla['sentiment']= analysis_list\n",
    "df_2017_tesla.to_csv('drive/MyDrive/ALDA data/2017_tesla.csv', encoding='utf-8', index=False)"
   ]
  },
  {
   "cell_type": "markdown",
   "metadata": {
    "id": "BgfYHwYNwal8"
   },
   "source": [
    " TESLA 2018"
   ]
  },
  {
   "cell_type": "code",
   "execution_count": null,
   "metadata": {
    "colab": {
     "base_uri": "https://localhost:8080/"
    },
    "id": "R__hKjm2vWJ_",
    "outputId": "7d4b8c64-4295-46f2-d13e-ccbdea1d20d6"
   },
   "outputs": [
    {
     "name": "stdout",
     "output_type": "stream",
     "text": [
      "positive tweets  15298\n",
      "negative tweets  3976\n",
      "neutral tweets  8925\n",
      "overall sentiment: positive\n"
     ]
    }
   ],
   "source": [
    "df_2018_tesla = df_merged[df_merged['ticker_symbol']=='TSLA']\n",
    "df_2018_tesla = df_2018_tesla.loc[df_merged['year']==2018]\n",
    "df_2018_tesla= df_2018_tesla[:5000]\n",
    "\n",
    "from textblob import TextBlob\n",
    "\n",
    "analysis_list= []\n",
    "count_pos= 0\n",
    "count_neg= 0\n",
    "count_nt= 0\n",
    "for i in range(len(df_2018_tesla)):\n",
    "  # print(i)\n",
    "  analysis = TextBlob(df_2018_tesla.iloc[i]['body'])\n",
    "  likes= df_2018_tesla.iloc[i]['like_num']+1\n",
    "  retweets=df_2018_tesla.iloc[i]['retweet_num']+1\n",
    "  res=''\n",
    "  if analysis.sentiment.polarity > 0:\n",
    "      count_pos+=likes+retweets\n",
    "      res= 'positive'\n",
    "  elif analysis.sentiment.polarity == 0:\n",
    "      count_nt+=likes+retweets\n",
    "      res= 'neutral'\n",
    "  else:\n",
    "      count_neg+=likes+retweets\n",
    "      res= 'negative'\n",
    "  analysis_list.append(res)\n",
    "\n",
    "print('positive tweets ', count_pos)\n",
    "print('negative tweets ', count_neg)\n",
    "print('neutral tweets ', count_nt)\n",
    "if count_pos> count_neg:\n",
    "   print(\"overall sentiment: positive\")\n",
    "else:\n",
    "  print(\"overall sentiment: negative\")\n",
    "\n",
    "df_2018_tesla['sentiment']= analysis_list\n",
    "df_2018_tesla.to_csv('drive/MyDrive/ALDA data/2018_tesla.csv', encoding='utf-8', index=False)"
   ]
  },
  {
   "cell_type": "markdown",
   "metadata": {
    "id": "i_j4Tsc1wb26"
   },
   "source": [
    " ALPHABET-A 2015"
   ]
  },
  {
   "cell_type": "code",
   "execution_count": null,
   "metadata": {
    "colab": {
     "base_uri": "https://localhost:8080/"
    },
    "id": "cywIJA33vYW8",
    "outputId": "3d2e3930-96e0-49ed-f241-204c7ea9474c"
   },
   "outputs": [
    {
     "name": "stdout",
     "output_type": "stream",
     "text": [
      "positive tweets  6405\n",
      "negative tweets  977\n",
      "neutral tweets  5747\n",
      "overall sentiment: positive\n"
     ]
    }
   ],
   "source": [
    "df_2015_google1 = df_merged[df_merged['ticker_symbol']=='GOOG']\n",
    "df_2015_google1 = df_2015_google1.loc[df_merged['year']==2015]\n",
    "df_2015_google1= df_2015_google1[:5000]\n",
    "\n",
    "from textblob import TextBlob\n",
    "\n",
    "analysis_list= []\n",
    "count_pos= 0\n",
    "count_neg= 0\n",
    "count_nt= 0\n",
    "for i in range(len(df_2015_google1)):\n",
    "  # print(i)\n",
    "  analysis = TextBlob(df_2015_google1.iloc[i]['body'])\n",
    "  likes= df_2015_google1.iloc[i]['like_num']+1\n",
    "  retweets=df_2015_google1.iloc[i]['retweet_num']+1\n",
    "  res=''\n",
    "  if analysis.sentiment.polarity > 0:\n",
    "      count_pos+=likes+retweets\n",
    "      res= 'positive'\n",
    "  elif analysis.sentiment.polarity == 0:\n",
    "      count_nt+=likes+retweets\n",
    "      res= 'neutral'\n",
    "  else:\n",
    "      count_neg+=likes+retweets\n",
    "      res= 'negative'\n",
    "  analysis_list.append(res)\n",
    "\n",
    "print('positive tweets ', count_pos)\n",
    "print('negative tweets ', count_neg)\n",
    "print('neutral tweets ', count_nt)\n",
    "if count_pos> count_neg:\n",
    "   print(\"overall sentiment: positive\")\n",
    "else:\n",
    "  print(\"overall sentiment: negative\")\n",
    "\n",
    "df_2015_google1['sentiment']= analysis_list\n",
    "df_2015_google1.to_csv('drive/MyDrive/ALDA data/2015_google1.csv', encoding='utf-8', index=False)"
   ]
  },
  {
   "cell_type": "markdown",
   "metadata": {
    "id": "J_Eyi48Gwgc9"
   },
   "source": [
    " ALPHABET-A 2016"
   ]
  },
  {
   "cell_type": "code",
   "execution_count": null,
   "metadata": {
    "colab": {
     "base_uri": "https://localhost:8080/"
    },
    "id": "V6SbwACGvv9p",
    "outputId": "fb71d1cf-f974-45d9-dbc5-f478fc183483"
   },
   "outputs": [
    {
     "name": "stdout",
     "output_type": "stream",
     "text": [
      "positive tweets  3496\n",
      "negative tweets  1236\n",
      "neutral tweets  8508\n",
      "overall sentiment: positive\n"
     ]
    }
   ],
   "source": [
    "df_2016_google1 = df_merged[df_merged['ticker_symbol']=='GOOG']\n",
    "df_2016_google1 = df_2016_google1.loc[df_merged['year']==2016]\n",
    "df_2016_google1= df_2016_google1[:5000]\n",
    "\n",
    "from textblob import TextBlob\n",
    "\n",
    "analysis_list= []\n",
    "count_pos= 0\n",
    "count_neg= 0\n",
    "count_nt= 0\n",
    "for i in range(len(df_2016_google1)):\n",
    "  # print(i)\n",
    "  analysis = TextBlob(df_2016_google1.iloc[i]['body'])\n",
    "  likes= df_2016_google1.iloc[i]['like_num']+1\n",
    "  retweets=df_2016_google1.iloc[i]['retweet_num']+1\n",
    "  res=''\n",
    "  if analysis.sentiment.polarity > 0:\n",
    "      count_pos+=likes+retweets\n",
    "      res= 'positive'\n",
    "  elif analysis.sentiment.polarity == 0:\n",
    "      count_nt+=likes+retweets\n",
    "      res= 'neutral'\n",
    "  else:\n",
    "      count_neg+=likes+retweets\n",
    "      res= 'negative'\n",
    "  analysis_list.append(res)\n",
    "\n",
    "print('positive tweets ', count_pos)\n",
    "print('negative tweets ', count_neg)\n",
    "print('neutral tweets ', count_nt)\n",
    "if count_pos> count_neg:\n",
    "   print(\"overall sentiment: positive\")\n",
    "else:\n",
    "  print(\"overall sentiment: negative\")\n",
    "\n",
    "df_2016_google1['sentiment']= analysis_list\n",
    "df_2016_google1.to_csv('drive/MyDrive/ALDA data/2016_google1.csv', encoding='utf-8', index=False)"
   ]
  },
  {
   "cell_type": "markdown",
   "metadata": {
    "id": "u_DrKnl5wiLd"
   },
   "source": [
    " ALPHABET-A 2017"
   ]
  },
  {
   "cell_type": "code",
   "execution_count": null,
   "metadata": {
    "colab": {
     "base_uri": "https://localhost:8080/"
    },
    "id": "DG84Abwfvyz6",
    "outputId": "33c1a1f1-9312-4e9c-a62a-8453be2e7ed0"
   },
   "outputs": [
    {
     "name": "stdout",
     "output_type": "stream",
     "text": [
      "positive tweets  8320\n",
      "negative tweets  881\n",
      "neutral tweets  3626\n",
      "overall sentiment: positive\n"
     ]
    }
   ],
   "source": [
    "df_2017_google1 = df_merged[df_merged['ticker_symbol']=='GOOG']\n",
    "df_2017_google1 = df_2017_google1.loc[df_merged['year']==2017]\n",
    "df_2017_google1= df_2017_google1[:5000]\n",
    "\n",
    "from textblob import TextBlob\n",
    "\n",
    "analysis_list= []\n",
    "count_pos= 0\n",
    "count_neg= 0\n",
    "count_nt= 0\n",
    "for i in range(len(df_2017_google1)):\n",
    "  # print(i)\n",
    "  analysis = TextBlob(df_2017_google1.iloc[i]['body'])\n",
    "  likes= df_2017_google1.iloc[i]['like_num']+1\n",
    "  retweets=df_2017_google1.iloc[i]['retweet_num']+1\n",
    "  res=''\n",
    "  if analysis.sentiment.polarity > 0:\n",
    "      count_pos+=likes+retweets\n",
    "      res= 'positive'\n",
    "  elif analysis.sentiment.polarity == 0:\n",
    "      count_nt+=likes+retweets\n",
    "      res= 'neutral'\n",
    "  else:\n",
    "      count_neg+=likes+retweets\n",
    "      res= 'negative'\n",
    "  analysis_list.append(res)\n",
    "\n",
    "print('positive tweets ', count_pos)\n",
    "print('negative tweets ', count_neg)\n",
    "print('neutral tweets ', count_nt)\n",
    "if count_pos> count_neg:\n",
    "   print(\"overall sentiment: positive\")\n",
    "else:\n",
    "  print(\"overall sentiment: negative\")\n",
    "\n",
    "df_2017_google1['sentiment']= analysis_list\n",
    "df_2017_google1.to_csv('drive/MyDrive/ALDA data/2017_google1.csv', encoding='utf-8', index=False)"
   ]
  },
  {
   "cell_type": "markdown",
   "metadata": {
    "id": "8D8FeiiRwjCR"
   },
   "source": [
    " ALPHABET-A 2018"
   ]
  },
  {
   "cell_type": "code",
   "execution_count": null,
   "metadata": {
    "colab": {
     "base_uri": "https://localhost:8080/"
    },
    "id": "eweEhLMUv0hr",
    "outputId": "027b86bc-7ec4-4de2-d79c-303876c768f8"
   },
   "outputs": [
    {
     "name": "stdout",
     "output_type": "stream",
     "text": [
      "positive tweets  5775\n",
      "negative tweets  1977\n",
      "neutral tweets  10799\n",
      "overall sentiment: positive\n"
     ]
    }
   ],
   "source": [
    "df_2018_google1 = df_merged[df_merged['ticker_symbol']=='GOOG']\n",
    "df_2018_google1 = df_2018_google1.loc[df_merged['year']==2018]\n",
    "df_2018_google1= df_2018_google1[:5000]\n",
    "\n",
    "from textblob import TextBlob\n",
    "\n",
    "analysis_list= []\n",
    "count_pos= 0\n",
    "count_neg= 0\n",
    "count_nt= 0\n",
    "for i in range(len(df_2018_google1)):\n",
    "  # print(i)\n",
    "  analysis = TextBlob(df_2018_google1.iloc[i]['body'])\n",
    "  likes= df_2018_google1.iloc[i]['like_num']+1\n",
    "  retweets=df_2018_google1.iloc[i]['retweet_num']+1\n",
    "  res=''\n",
    "  if analysis.sentiment.polarity > 0:\n",
    "      count_pos+=likes+retweets\n",
    "      res= 'positive'\n",
    "  elif analysis.sentiment.polarity == 0:\n",
    "      count_nt+=likes+retweets\n",
    "      res= 'neutral'\n",
    "  else:\n",
    "      count_neg+=likes+retweets\n",
    "      res= 'negative'\n",
    "  analysis_list.append(res)\n",
    "\n",
    "print('positive tweets ', count_pos)\n",
    "print('negative tweets ', count_neg)\n",
    "print('neutral tweets ', count_nt)\n",
    "if count_pos> count_neg:\n",
    "   print(\"overall sentiment: positive\")\n",
    "else:\n",
    "  print(\"overall sentiment: negative\")\n",
    "\n",
    "df_2018_google1['sentiment']= analysis_list\n",
    "df_2018_google1.to_csv('drive/MyDrive/ALDA data/2018_google1.csv', encoding='utf-8', index=False)"
   ]
  },
  {
   "cell_type": "markdown",
   "metadata": {
    "id": "pZXuHzTzwkFZ"
   },
   "source": [
    " ALPHABET-C 2015"
   ]
  },
  {
   "cell_type": "code",
   "execution_count": null,
   "metadata": {
    "colab": {
     "base_uri": "https://localhost:8080/"
    },
    "id": "d0oCEp7gv2xq",
    "outputId": "5f3fd21d-fa71-4146-cad0-fe3fd49c395a"
   },
   "outputs": [
    {
     "name": "stdout",
     "output_type": "stream",
     "text": [
      "positive tweets  7385\n",
      "negative tweets  1111\n",
      "neutral tweets  4632\n",
      "overall sentiment: positive\n"
     ]
    }
   ],
   "source": [
    "df_2015_google2 = df_merged[df_merged['ticker_symbol']=='GOOGL']\n",
    "df_2015_google2 = df_2015_google2.loc[df_merged['year']==2015]\n",
    "df_2015_google2= df_2015_google2[:5000]\n",
    "\n",
    "from textblob import TextBlob\n",
    "\n",
    "analysis_list= []\n",
    "count_pos= 0\n",
    "count_neg= 0\n",
    "count_nt= 0\n",
    "for i in range(len(df_2015_google2)):\n",
    "  # print(i)\n",
    "  analysis = TextBlob(df_2015_google2.iloc[i]['body'])\n",
    "  likes= df_2015_google2.iloc[i]['like_num']+1\n",
    "  retweets=df_2015_google2.iloc[i]['retweet_num']+1\n",
    "  res=''\n",
    "  if analysis.sentiment.polarity > 0:\n",
    "      count_pos+=likes+retweets\n",
    "      res= 'positive'\n",
    "  elif analysis.sentiment.polarity == 0:\n",
    "      count_nt+=likes+retweets\n",
    "      res= 'neutral'\n",
    "  else:\n",
    "      count_neg+=likes+retweets\n",
    "      res= 'negative'\n",
    "  analysis_list.append(res)\n",
    "\n",
    "print('positive tweets ', count_pos)\n",
    "print('negative tweets ', count_neg)\n",
    "print('neutral tweets ', count_nt)\n",
    "if count_pos> count_neg:\n",
    "   print(\"overall sentiment: positive\")\n",
    "else:\n",
    "  print(\"overall sentiment: negative\")\n",
    "\n",
    "df_2015_google2['sentiment']= analysis_list\n",
    "df_2015_google2.to_csv('drive/MyDrive/ALDA data/2015_google2.csv', encoding='utf-8', index=False)"
   ]
  },
  {
   "cell_type": "markdown",
   "metadata": {
    "id": "h3q3hk93wl-w"
   },
   "source": [
    " ALPHABET-C 2016"
   ]
  },
  {
   "cell_type": "code",
   "execution_count": null,
   "metadata": {
    "colab": {
     "base_uri": "https://localhost:8080/"
    },
    "id": "LGNpLsV1v8gQ",
    "outputId": "7baa1213-052a-40da-cf12-5905e5c3a580"
   },
   "outputs": [
    {
     "name": "stdout",
     "output_type": "stream",
     "text": [
      "positive tweets  5232\n",
      "negative tweets  1607\n",
      "neutral tweets  9354\n",
      "overall sentiment: positive\n"
     ]
    }
   ],
   "source": [
    "df_2016_google2 = df_merged[df_merged['ticker_symbol']=='GOOGL']\n",
    "df_2016_google2 = df_2016_google2.loc[df_merged['year']==2016]\n",
    "df_2016_google2= df_2016_google2[:5000]\n",
    "\n",
    "from textblob import TextBlob\n",
    "\n",
    "analysis_list= []\n",
    "count_pos= 0\n",
    "count_neg= 0\n",
    "count_nt= 0\n",
    "for i in range(len(df_2016_google2)):\n",
    "  # print(i)\n",
    "  analysis = TextBlob(df_2016_google2.iloc[i]['body'])\n",
    "  likes= df_2016_google2.iloc[i]['like_num']+1\n",
    "  retweets=df_2016_google2.iloc[i]['retweet_num']+1\n",
    "  res=''\n",
    "  if analysis.sentiment.polarity > 0:\n",
    "      count_pos+=likes+retweets\n",
    "      res= 'positive'\n",
    "  elif analysis.sentiment.polarity == 0:\n",
    "      count_nt+=likes+retweets\n",
    "      res= 'neutral'\n",
    "  else:\n",
    "      count_neg+=likes+retweets\n",
    "      res= 'negative'\n",
    "  analysis_list.append(res)\n",
    "\n",
    "print('positive tweets ', count_pos)\n",
    "print('negative tweets ', count_neg)\n",
    "print('neutral tweets ', count_nt)\n",
    "if count_pos> count_neg:\n",
    "   print(\"overall sentiment: positive\")\n",
    "else:\n",
    "  print(\"overall sentiment: negative\")\n",
    "\n",
    "df_2016_google2['sentiment']= analysis_list\n",
    "df_2016_google2.to_csv('drive/MyDrive/ALDA data/2016_google2.csv', encoding='utf-8', index=False)"
   ]
  },
  {
   "cell_type": "markdown",
   "metadata": {
    "id": "gY3BBov7wnp4"
   },
   "source": [
    " ALPHABET-C 2017"
   ]
  },
  {
   "cell_type": "code",
   "execution_count": null,
   "metadata": {
    "colab": {
     "base_uri": "https://localhost:8080/"
    },
    "id": "Su98cORhv_g8",
    "outputId": "353466d4-bc8f-4083-bf60-0fbae9b2b84a"
   },
   "outputs": [
    {
     "name": "stdout",
     "output_type": "stream",
     "text": [
      "positive tweets  7385\n",
      "negative tweets  1111\n",
      "neutral tweets  4632\n",
      "overall sentiment: positive\n"
     ]
    }
   ],
   "source": [
    "df_2017_google2 = df_merged[df_merged['ticker_symbol']=='GOOGL']\n",
    "df_2017_google2 = df_2017_google2.loc[df_merged['year']==2015]\n",
    "df_2017_google2= df_2017_google2[:5000]\n",
    "\n",
    "from textblob import TextBlob\n",
    "\n",
    "analysis_list= []\n",
    "count_pos= 0\n",
    "count_neg= 0\n",
    "count_nt= 0\n",
    "for i in range(len(df_2017_google2)):\n",
    "  # print(i)\n",
    "  analysis = TextBlob(df_2017_google2.iloc[i]['body'])\n",
    "  likes= df_2017_google2.iloc[i]['like_num']+1\n",
    "  retweets=df_2017_google2.iloc[i]['retweet_num']+1\n",
    "  res=''\n",
    "  if analysis.sentiment.polarity > 0:\n",
    "      count_pos+=likes+retweets\n",
    "      res= 'positive'\n",
    "  elif analysis.sentiment.polarity == 0:\n",
    "      count_nt+=likes+retweets\n",
    "      res= 'neutral'\n",
    "  else:\n",
    "      count_neg+=likes+retweets\n",
    "      res= 'negative'\n",
    "  analysis_list.append(res)\n",
    "\n",
    "print('positive tweets ', count_pos)\n",
    "print('negative tweets ', count_neg)\n",
    "print('neutral tweets ', count_nt)\n",
    "if count_pos> count_neg:\n",
    "   print(\"overall sentiment: positive\")\n",
    "else:\n",
    "  print(\"overall sentiment: negative\")\n",
    "\n",
    "df_2017_google2['sentiment']= analysis_list\n",
    "df_2017_google2.to_csv('drive/MyDrive/ALDA data/2017_google2.csv', encoding='utf-8', index=False)"
   ]
  },
  {
   "cell_type": "markdown",
   "metadata": {
    "id": "E_ViUtSUwofg"
   },
   "source": [
    " ALPHABET-C 2018"
   ]
  },
  {
   "cell_type": "code",
   "execution_count": null,
   "metadata": {
    "colab": {
     "base_uri": "https://localhost:8080/"
    },
    "id": "BfWOR0wkwCD2",
    "outputId": "db3e7a27-8464-4897-fb93-11b81e6c252f"
   },
   "outputs": [
    {
     "name": "stdout",
     "output_type": "stream",
     "text": [
      "positive tweets  12369\n",
      "negative tweets  2018\n",
      "neutral tweets  9978\n",
      "overall sentiment: positive\n"
     ]
    }
   ],
   "source": [
    "df_2018_google2 = df_merged[df_merged['ticker_symbol']=='GOOGL']\n",
    "df_2018_google2 = df_2018_google2.loc[df_merged['year']==2018]\n",
    "df_2018_google2= df_2018_google2[:5000]\n",
    "\n",
    "from textblob import TextBlob\n",
    "\n",
    "analysis_list= []\n",
    "count_pos= 0\n",
    "count_neg= 0\n",
    "count_nt= 0\n",
    "for i in range(len(df_2018_google2)):\n",
    "  # print(i)\n",
    "  analysis = TextBlob(df_2018_google2.iloc[i]['body'])\n",
    "  likes= df_2018_google2.iloc[i]['like_num']+1\n",
    "  retweets=df_2018_google2.iloc[i]['retweet_num']+1\n",
    "  res=''\n",
    "  if analysis.sentiment.polarity > 0:\n",
    "      count_pos+=likes+retweets\n",
    "      res= 'positive'\n",
    "  elif analysis.sentiment.polarity == 0:\n",
    "      count_nt+=likes+retweets\n",
    "      res= 'neutral'\n",
    "  else:\n",
    "      count_neg+=likes+retweets\n",
    "      res= 'negative'\n",
    "  analysis_list.append(res)\n",
    "\n",
    "print('positive tweets ', count_pos)\n",
    "print('negative tweets ', count_neg)\n",
    "print('neutral tweets ', count_nt)\n",
    "if count_pos> count_neg:\n",
    "   print(\"overall sentiment: positive\")\n",
    "else:\n",
    "  print(\"overall sentiment: negative\")\n",
    "\n",
    "df_2018_google2['sentiment']= analysis_list\n",
    "df_2018_google2.to_csv('drive/MyDrive/ALDA data/2018_google2.csv', encoding='utf-8', index=False)"
   ]
  },
  {
   "cell_type": "code",
   "execution_count": null,
   "metadata": {
    "id": "wNt-zeJPwGyK"
   },
   "outputs": [],
   "source": []
  }
 ],
 "metadata": {
  "colab": {
   "name": "Twitter Sentimental Analysis.ipynb",
   "provenance": [],
   "toc_visible": true
  },
  "kernelspec": {
   "display_name": "Python 3 (ipykernel)",
   "language": "python",
   "name": "python3"
  },
  "language_info": {
   "codemirror_mode": {
    "name": "ipython",
    "version": 3
   },
   "file_extension": ".py",
   "mimetype": "text/x-python",
   "name": "python",
   "nbconvert_exporter": "python",
   "pygments_lexer": "ipython3",
   "version": "3.8.12"
  }
 },
 "nbformat": 4,
 "nbformat_minor": 1
}
